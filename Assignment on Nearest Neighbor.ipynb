{
 "cells": [
  {
   "cell_type": "code",
   "execution_count": 1,
   "id": "7297d453",
   "metadata": {},
   "outputs": [],
   "source": [
    "# Nearest neighbor assignment\n",
    "import numpy as np\n",
    "import pandas as pd\n",
    "import matplotlib.pyplot as plt\n",
    "import scipy\n",
    "%matplotlib inline"
   ]
  },
  {
   "cell_type": "code",
   "execution_count": 8,
   "id": "cf0cbec3",
   "metadata": {},
   "outputs": [
    {
     "data": {
      "image/png": "[encoded data removed]",
      "text/plain": [
       "<Figure size 432x288 with 1 Axes>"
      ]
     },
     "metadata": {
      "needs_background": "light"
     },
     "output_type": "display_data"
    }
   ],
   "source": [
    "cpc= pd.DataFrame()\n",
    "cpc['balance'] = [70000,100000,120000,80000,10000,1000,90000,500,3000,2000,120000,3000,4000,300,200]\n",
    "cpc['accounts_elsewhere']= [2,3,4,3,1,0,3,1,1,0,3,1,0,1,1]\n",
    "cpc['eligible'] = [1,1,1,1,0,0,1,0,0,0,1,0,0,0,0]\n",
    "# Look at the data\n",
    "plt.scatter(cpc[cpc['eligible']==1].balance,\n",
    "           cpc[cpc['eligible']==1].accounts_elsewhere,\n",
    "           color = 'red'\n",
    ")\n",
    "plt.scatter(cpc[cpc['eligible']==0].balance,\n",
    "           cpc[cpc['eligible']==0].accounts_elsewhere,\n",
    "           color= 'blue')\n",
    "plt.legend(['cpc_eligible','cpc_ineligible'])\n",
    "plt.title('cpc eligible & ineligible characteristics')\n",
    "plt.xlabel('balance')\n",
    "plt.ylabel('accounts_elsewhere')\n",
    "plt.show()"
   ]
  },
  {
   "cell_type": "code",
   "execution_count": 12,
   "id": "54e89e0a",
   "metadata": {},
   "outputs": [
    {
     "name": "stderr",
     "output_type": "stream",
     "text": [
      "C:\\Anaconda\\chowd\\anaconda3\\lib\\site-packages\\sklearn\\base.py:450: UserWarning: X does not have valid feature names, but KNeighborsClassifier was fitted with feature names\n",
      "  warnings.warn(\n"
     ]
    },
    {
     "data": {
      "text/plain": [
       "array([1], dtype=int64)"
      ]
     },
     "execution_count": 12,
     "metadata": {},
     "output_type": "execute_result"
    }
   ],
   "source": [
    "from sklearn.neighbors import KNeighborsClassifier\n",
    "neighbors = KNeighborsClassifier(n_neighbors =1)\n",
    "X = cpc[['balance','accounts_elsewhere']]\n",
    "Y = cpc.eligible\n",
    "neighbors.fit(X,Y)\n",
    "\n",
    "## Predict for a customer with balance 80000 and accounts elsewhere 3\n",
    "neighbors.predict([[80000,3]])"
   ]
  },
  {
   "cell_type": "code",
   "execution_count": null,
   "id": "ab2f6d2b",
   "metadata": {},
   "outputs": [],
   "source": []
  }
 ],
 "metadata": {
  "kernelspec": {
   "display_name": "Python 3 (ipykernel)",
   "language": "python",
   "name": "python3"
  },
  "language_info": {
   "codemirror_mode": {
    "name": "ipython",
    "version": 3
   },
   "file_extension": ".py",
   "mimetype": "text/x-python",
   "name": "python",
   "nbconvert_exporter": "python",
   "pygments_lexer": "ipython3",
   "version": "3.9.12"
  }
 },
 "nbformat": 4,
 "nbformat_minor": 5
}
