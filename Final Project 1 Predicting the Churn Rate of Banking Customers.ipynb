{
 "cells": [
  {
   "cell_type": "code",
   "execution_count": 1,
   "id": "849118fb",
   "metadata": {},
   "outputs": [],
   "source": [
    "import pandas as pd\n",
    "import numpy as np\n",
    "import matplotlib.pyplot as plt\n",
    "from scipy import stats\n",
    "import seaborn as sns\n",
    "df= pd.read_csv(\"C:/Users/chowd/OneDrive/Desktop/Bank Customer Churn Prediction.csv\")"
   ]
  },
  {
   "cell_type": "code",
   "execution_count": 2,
   "id": "78d80283",
   "metadata": {},
   "outputs": [
    {
     "data": {
      "text/html": [
       "<div>\n",
       "<style scoped>\n",
       "    .dataframe tbody tr th:only-of-type {\n",
       "        vertical-align: middle;\n",
       "    }\n",
       "\n",
       "    .dataframe tbody tr th {\n",
       "        vertical-align: top;\n",
       "    }\n",
       "\n",
       "    .dataframe thead th {\n",
       "        text-align: right;\n",
       "    }\n",
       "</style>\n",
       "<table border=\"1\" class=\"dataframe\">\n",
       "  <thead>\n",
       "    <tr style=\"text-align: right;\">\n",
       "      <th></th>\n",
       "      <th>customer_id</th>\n",
       "      <th>credit_score</th>\n",
       "      <th>country</th>\n",
       "      <th>gender</th>\n",
       "      <th>age</th>\n",
       "      <th>tenure</th>\n",
       "      <th>balance</th>\n",
       "      <th>products_number</th>\n",
       "      <th>credit_card</th>\n",
       "      <th>active_member</th>\n",
       "      <th>estimated_salary</th>\n",
       "      <th>churn</th>\n",
       "    </tr>\n",
       "  </thead>\n",
       "  <tbody>\n",
       "    <tr>\n",
       "      <th>0</th>\n",
       "      <td>15634602</td>\n",
       "      <td>619</td>\n",
       "      <td>France</td>\n",
       "      <td>Female</td>\n",
       "      <td>42</td>\n",
       "      <td>2</td>\n",
       "      <td>0.00</td>\n",
       "      <td>1</td>\n",
       "      <td>1</td>\n",
       "      <td>1</td>\n",
       "      <td>101348.88</td>\n",
       "      <td>1</td>\n",
       "    </tr>\n",
       "    <tr>\n",
       "      <th>1</th>\n",
       "      <td>15647311</td>\n",
       "      <td>608</td>\n",
       "      <td>Spain</td>\n",
       "      <td>Female</td>\n",
       "      <td>41</td>\n",
       "      <td>1</td>\n",
       "      <td>83807.86</td>\n",
       "      <td>1</td>\n",
       "      <td>0</td>\n",
       "      <td>1</td>\n",
       "      <td>112542.58</td>\n",
       "      <td>0</td>\n",
       "    </tr>\n",
       "    <tr>\n",
       "      <th>2</th>\n",
       "      <td>15619304</td>\n",
       "      <td>502</td>\n",
       "      <td>France</td>\n",
       "      <td>Female</td>\n",
       "      <td>42</td>\n",
       "      <td>8</td>\n",
       "      <td>159660.80</td>\n",
       "      <td>3</td>\n",
       "      <td>1</td>\n",
       "      <td>0</td>\n",
       "      <td>113931.57</td>\n",
       "      <td>1</td>\n",
       "    </tr>\n",
       "    <tr>\n",
       "      <th>3</th>\n",
       "      <td>15701354</td>\n",
       "      <td>699</td>\n",
       "      <td>France</td>\n",
       "      <td>Female</td>\n",
       "      <td>39</td>\n",
       "      <td>1</td>\n",
       "      <td>0.00</td>\n",
       "      <td>2</td>\n",
       "      <td>0</td>\n",
       "      <td>0</td>\n",
       "      <td>93826.63</td>\n",
       "      <td>0</td>\n",
       "    </tr>\n",
       "    <tr>\n",
       "      <th>4</th>\n",
       "      <td>15737888</td>\n",
       "      <td>850</td>\n",
       "      <td>Spain</td>\n",
       "      <td>Female</td>\n",
       "      <td>43</td>\n",
       "      <td>2</td>\n",
       "      <td>125510.82</td>\n",
       "      <td>1</td>\n",
       "      <td>1</td>\n",
       "      <td>1</td>\n",
       "      <td>79084.10</td>\n",
       "      <td>0</td>\n",
       "    </tr>\n",
       "  </tbody>\n",
       "</table>\n",
       "</div>"
      ],
      "text/plain": [
       "   customer_id  credit_score country  gender  age  tenure    balance  \\\n",
       "0     15634602           619  France  Female   42       2       0.00   \n",
       "1     15647311           608   Spain  Female   41       1   83807.86   \n",
       "2     15619304           502  France  Female   42       8  159660.80   \n",
       "3     15701354           699  France  Female   39       1       0.00   \n",
       "4     15737888           850   Spain  Female   43       2  125510.82   \n",
       "\n",
       "   products_number  credit_card  active_member  estimated_salary  churn  \n",
       "0                1            1              1         101348.88      1  \n",
       "1                1            0              1         112542.58      0  \n",
       "2                3            1              0         113931.57      1  \n",
       "3                2            0              0          93826.63      0  \n",
       "4                1            1              1          79084.10      0  "
      ]
     },
     "execution_count": 2,
     "metadata": {},
     "output_type": "execute_result"
    }
   ],
   "source": [
    "df.head()"
   ]
  },
  {
   "cell_type": "code",
   "execution_count": 161,
   "id": "bae546ad",
   "metadata": {},
   "outputs": [
    {
     "data": {
      "text/html": [
       "<div>\n",
       "<style scoped>\n",
       "    .dataframe tbody tr th:only-of-type {\n",
       "        vertical-align: middle;\n",
       "    }\n",
       "\n",
       "    .dataframe tbody tr th {\n",
       "        vertical-align: top;\n",
       "    }\n",
       "\n",
       "    .dataframe thead th {\n",
       "        text-align: right;\n",
       "    }\n",
       "</style>\n",
       "<table border=\"1\" class=\"dataframe\">\n",
       "  <thead>\n",
       "    <tr style=\"text-align: right;\">\n",
       "      <th></th>\n",
       "      <th>Column Names</th>\n",
       "    </tr>\n",
       "  </thead>\n",
       "  <tbody>\n",
       "    <tr>\n",
       "      <th>0</th>\n",
       "      <td>customer_id</td>\n",
       "    </tr>\n",
       "    <tr>\n",
       "      <th>1</th>\n",
       "      <td>credit_score</td>\n",
       "    </tr>\n",
       "    <tr>\n",
       "      <th>2</th>\n",
       "      <td>country</td>\n",
       "    </tr>\n",
       "    <tr>\n",
       "      <th>3</th>\n",
       "      <td>gender</td>\n",
       "    </tr>\n",
       "    <tr>\n",
       "      <th>4</th>\n",
       "      <td>age</td>\n",
       "    </tr>\n",
       "    <tr>\n",
       "      <th>5</th>\n",
       "      <td>tenure</td>\n",
       "    </tr>\n",
       "    <tr>\n",
       "      <th>6</th>\n",
       "      <td>balance</td>\n",
       "    </tr>\n",
       "    <tr>\n",
       "      <th>7</th>\n",
       "      <td>products_number</td>\n",
       "    </tr>\n",
       "    <tr>\n",
       "      <th>8</th>\n",
       "      <td>credit_card</td>\n",
       "    </tr>\n",
       "    <tr>\n",
       "      <th>9</th>\n",
       "      <td>active_member</td>\n",
       "    </tr>\n",
       "    <tr>\n",
       "      <th>10</th>\n",
       "      <td>estimated_salary</td>\n",
       "    </tr>\n",
       "    <tr>\n",
       "      <th>11</th>\n",
       "      <td>churn</td>\n",
       "    </tr>\n",
       "    <tr>\n",
       "      <th>12</th>\n",
       "      <td>AgeGroup</td>\n",
       "    </tr>\n",
       "  </tbody>\n",
       "</table>\n",
       "</div>"
      ],
      "text/plain": [
       "        Column Names\n",
       "0        customer_id\n",
       "1       credit_score\n",
       "2            country\n",
       "3             gender\n",
       "4                age\n",
       "5             tenure\n",
       "6            balance\n",
       "7    products_number\n",
       "8        credit_card\n",
       "9      active_member\n",
       "10  estimated_salary\n",
       "11             churn\n",
       "12          AgeGroup"
      ]
     },
     "execution_count": 161,
     "metadata": {},
     "output_type": "execute_result"
    }
   ],
   "source": [
    "pd.DataFrame(df.columns,columns=['Column Names'])"
   ]
  },
  {
   "cell_type": "code",
   "execution_count": 5,
   "id": "e74e4183",
   "metadata": {},
   "outputs": [
    {
     "data": {
      "text/plain": [
       "(10000, 12)"
      ]
     },
     "execution_count": 5,
     "metadata": {},
     "output_type": "execute_result"
    }
   ],
   "source": [
    "df.shape  # Rows and columns in the dataset"
   ]
  },
  {
   "cell_type": "code",
   "execution_count": 162,
   "id": "4b44885a",
   "metadata": {},
   "outputs": [
    {
     "name": "stdout",
     "output_type": "stream",
     "text": [
      "<class 'pandas.core.frame.DataFrame'>\n",
      "RangeIndex: 10000 entries, 0 to 9999\n",
      "Data columns (total 13 columns):\n",
      " #   Column            Non-Null Count  Dtype  \n",
      "---  ------            --------------  -----  \n",
      " 0   customer_id       10000 non-null  int64  \n",
      " 1   credit_score      10000 non-null  int64  \n",
      " 2   country           10000 non-null  object \n",
      " 3   gender            10000 non-null  object \n",
      " 4   age               10000 non-null  int64  \n",
      " 5   tenure            10000 non-null  int64  \n",
      " 6   balance           10000 non-null  float64\n",
      " 7   products_number   10000 non-null  int64  \n",
      " 8   credit_card       10000 non-null  int64  \n",
      " 9   active_member     10000 non-null  int64  \n",
      " 10  estimated_salary  10000 non-null  float64\n",
      " 11  churn             10000 non-null  int64  \n",
      " 12  AgeGroup          10000 non-null  object \n",
      "dtypes: float64(2), int64(8), object(3)\n",
      "memory usage: 1015.8+ KB\n"
     ]
    }
   ],
   "source": [
    "df.info()"
   ]
  },
  {
   "cell_type": "code",
   "execution_count": 7,
   "id": "34dc9fbe",
   "metadata": {},
   "outputs": [
    {
     "data": {
      "text/html": [
       "<div>\n",
       "<style scoped>\n",
       "    .dataframe tbody tr th:only-of-type {\n",
       "        vertical-align: middle;\n",
       "    }\n",
       "\n",
       "    .dataframe tbody tr th {\n",
       "        vertical-align: top;\n",
       "    }\n",
       "\n",
       "    .dataframe thead th {\n",
       "        text-align: right;\n",
       "    }\n",
       "</style>\n",
       "<table border=\"1\" class=\"dataframe\">\n",
       "  <thead>\n",
       "    <tr style=\"text-align: right;\">\n",
       "      <th></th>\n",
       "      <th>count</th>\n",
       "      <th>mean</th>\n",
       "      <th>std</th>\n",
       "      <th>min</th>\n",
       "      <th>25%</th>\n",
       "      <th>50%</th>\n",
       "      <th>75%</th>\n",
       "      <th>max</th>\n",
       "    </tr>\n",
       "  </thead>\n",
       "  <tbody>\n",
       "    <tr>\n",
       "      <th>customer_id</th>\n",
       "      <td>10000.0</td>\n",
       "      <td>1.569094e+07</td>\n",
       "      <td>71936.186123</td>\n",
       "      <td>15565701.00</td>\n",
       "      <td>15628528.25</td>\n",
       "      <td>1.569074e+07</td>\n",
       "      <td>1.575323e+07</td>\n",
       "      <td>15815690.00</td>\n",
       "    </tr>\n",
       "    <tr>\n",
       "      <th>credit_score</th>\n",
       "      <td>10000.0</td>\n",
       "      <td>6.505288e+02</td>\n",
       "      <td>96.653299</td>\n",
       "      <td>350.00</td>\n",
       "      <td>584.00</td>\n",
       "      <td>6.520000e+02</td>\n",
       "      <td>7.180000e+02</td>\n",
       "      <td>850.00</td>\n",
       "    </tr>\n",
       "    <tr>\n",
       "      <th>age</th>\n",
       "      <td>10000.0</td>\n",
       "      <td>3.892180e+01</td>\n",
       "      <td>10.487806</td>\n",
       "      <td>18.00</td>\n",
       "      <td>32.00</td>\n",
       "      <td>3.700000e+01</td>\n",
       "      <td>4.400000e+01</td>\n",
       "      <td>92.00</td>\n",
       "    </tr>\n",
       "    <tr>\n",
       "      <th>tenure</th>\n",
       "      <td>10000.0</td>\n",
       "      <td>5.012800e+00</td>\n",
       "      <td>2.892174</td>\n",
       "      <td>0.00</td>\n",
       "      <td>3.00</td>\n",
       "      <td>5.000000e+00</td>\n",
       "      <td>7.000000e+00</td>\n",
       "      <td>10.00</td>\n",
       "    </tr>\n",
       "    <tr>\n",
       "      <th>balance</th>\n",
       "      <td>10000.0</td>\n",
       "      <td>7.648589e+04</td>\n",
       "      <td>62397.405202</td>\n",
       "      <td>0.00</td>\n",
       "      <td>0.00</td>\n",
       "      <td>9.719854e+04</td>\n",
       "      <td>1.276442e+05</td>\n",
       "      <td>250898.09</td>\n",
       "    </tr>\n",
       "    <tr>\n",
       "      <th>products_number</th>\n",
       "      <td>10000.0</td>\n",
       "      <td>1.530200e+00</td>\n",
       "      <td>0.581654</td>\n",
       "      <td>1.00</td>\n",
       "      <td>1.00</td>\n",
       "      <td>1.000000e+00</td>\n",
       "      <td>2.000000e+00</td>\n",
       "      <td>4.00</td>\n",
       "    </tr>\n",
       "    <tr>\n",
       "      <th>credit_card</th>\n",
       "      <td>10000.0</td>\n",
       "      <td>7.055000e-01</td>\n",
       "      <td>0.455840</td>\n",
       "      <td>0.00</td>\n",
       "      <td>0.00</td>\n",
       "      <td>1.000000e+00</td>\n",
       "      <td>1.000000e+00</td>\n",
       "      <td>1.00</td>\n",
       "    </tr>\n",
       "    <tr>\n",
       "      <th>active_member</th>\n",
       "      <td>10000.0</td>\n",
       "      <td>5.151000e-01</td>\n",
       "      <td>0.499797</td>\n",
       "      <td>0.00</td>\n",
       "      <td>0.00</td>\n",
       "      <td>1.000000e+00</td>\n",
       "      <td>1.000000e+00</td>\n",
       "      <td>1.00</td>\n",
       "    </tr>\n",
       "    <tr>\n",
       "      <th>estimated_salary</th>\n",
       "      <td>10000.0</td>\n",
       "      <td>1.000902e+05</td>\n",
       "      <td>57510.492818</td>\n",
       "      <td>11.58</td>\n",
       "      <td>51002.11</td>\n",
       "      <td>1.001939e+05</td>\n",
       "      <td>1.493882e+05</td>\n",
       "      <td>199992.48</td>\n",
       "    </tr>\n",
       "    <tr>\n",
       "      <th>churn</th>\n",
       "      <td>10000.0</td>\n",
       "      <td>2.037000e-01</td>\n",
       "      <td>0.402769</td>\n",
       "      <td>0.00</td>\n",
       "      <td>0.00</td>\n",
       "      <td>0.000000e+00</td>\n",
       "      <td>0.000000e+00</td>\n",
       "      <td>1.00</td>\n",
       "    </tr>\n",
       "  </tbody>\n",
       "</table>\n",
       "</div>"
      ],
      "text/plain": [
       "                    count          mean           std          min  \\\n",
       "customer_id       10000.0  1.569094e+07  71936.186123  15565701.00   \n",
       "credit_score      10000.0  6.505288e+02     96.653299       350.00   \n",
       "age               10000.0  3.892180e+01     10.487806        18.00   \n",
       "tenure            10000.0  5.012800e+00      2.892174         0.00   \n",
       "balance           10000.0  7.648589e+04  62397.405202         0.00   \n",
       "products_number   10000.0  1.530200e+00      0.581654         1.00   \n",
       "credit_card       10000.0  7.055000e-01      0.455840         0.00   \n",
       "active_member     10000.0  5.151000e-01      0.499797         0.00   \n",
       "estimated_salary  10000.0  1.000902e+05  57510.492818        11.58   \n",
       "churn             10000.0  2.037000e-01      0.402769         0.00   \n",
       "\n",
       "                          25%           50%           75%          max  \n",
       "customer_id       15628528.25  1.569074e+07  1.575323e+07  15815690.00  \n",
       "credit_score           584.00  6.520000e+02  7.180000e+02       850.00  \n",
       "age                     32.00  3.700000e+01  4.400000e+01        92.00  \n",
       "tenure                   3.00  5.000000e+00  7.000000e+00        10.00  \n",
       "balance                  0.00  9.719854e+04  1.276442e+05    250898.09  \n",
       "products_number          1.00  1.000000e+00  2.000000e+00         4.00  \n",
       "credit_card              0.00  1.000000e+00  1.000000e+00         1.00  \n",
       "active_member            0.00  1.000000e+00  1.000000e+00         1.00  \n",
       "estimated_salary     51002.11  1.001939e+05  1.493882e+05    199992.48  \n",
       "churn                    0.00  0.000000e+00  0.000000e+00         1.00  "
      ]
     },
     "execution_count": 7,
     "metadata": {},
     "output_type": "execute_result"
    }
   ],
   "source": [
    "df.describe().T  # Statistical features of the dataset"
   ]
  },
  {
   "cell_type": "code",
   "execution_count": 10,
   "id": "8c7fde9f",
   "metadata": {},
   "outputs": [
    {
     "data": {
      "text/html": [
       "<div>\n",
       "<style scoped>\n",
       "    .dataframe tbody tr th:only-of-type {\n",
       "        vertical-align: middle;\n",
       "    }\n",
       "\n",
       "    .dataframe tbody tr th {\n",
       "        vertical-align: top;\n",
       "    }\n",
       "\n",
       "    .dataframe thead th {\n",
       "        text-align: right;\n",
       "    }\n",
       "</style>\n",
       "<table border=\"1\" class=\"dataframe\">\n",
       "  <thead>\n",
       "    <tr style=\"text-align: right;\">\n",
       "      <th></th>\n",
       "      <th>Count of missing values</th>\n",
       "    </tr>\n",
       "  </thead>\n",
       "  <tbody>\n",
       "    <tr>\n",
       "      <th>customer_id</th>\n",
       "      <td>0</td>\n",
       "    </tr>\n",
       "    <tr>\n",
       "      <th>credit_score</th>\n",
       "      <td>0</td>\n",
       "    </tr>\n",
       "    <tr>\n",
       "      <th>country</th>\n",
       "      <td>0</td>\n",
       "    </tr>\n",
       "    <tr>\n",
       "      <th>gender</th>\n",
       "      <td>0</td>\n",
       "    </tr>\n",
       "    <tr>\n",
       "      <th>age</th>\n",
       "      <td>0</td>\n",
       "    </tr>\n",
       "    <tr>\n",
       "      <th>tenure</th>\n",
       "      <td>0</td>\n",
       "    </tr>\n",
       "    <tr>\n",
       "      <th>balance</th>\n",
       "      <td>0</td>\n",
       "    </tr>\n",
       "    <tr>\n",
       "      <th>products_number</th>\n",
       "      <td>0</td>\n",
       "    </tr>\n",
       "    <tr>\n",
       "      <th>credit_card</th>\n",
       "      <td>0</td>\n",
       "    </tr>\n",
       "    <tr>\n",
       "      <th>active_member</th>\n",
       "      <td>0</td>\n",
       "    </tr>\n",
       "    <tr>\n",
       "      <th>estimated_salary</th>\n",
       "      <td>0</td>\n",
       "    </tr>\n",
       "    <tr>\n",
       "      <th>churn</th>\n",
       "      <td>0</td>\n",
       "    </tr>\n",
       "  </tbody>\n",
       "</table>\n",
       "</div>"
      ],
      "text/plain": [
       "                  Count of missing values\n",
       "customer_id                             0\n",
       "credit_score                            0\n",
       "country                                 0\n",
       "gender                                  0\n",
       "age                                     0\n",
       "tenure                                  0\n",
       "balance                                 0\n",
       "products_number                         0\n",
       "credit_card                             0\n",
       "active_member                           0\n",
       "estimated_salary                        0\n",
       "churn                                   0"
      ]
     },
     "execution_count": 10,
     "metadata": {},
     "output_type": "execute_result"
    }
   ],
   "source": [
    "# Checking for missing values\n",
    "pd.DataFrame(df.isnull().sum(),columns = ['Count of missing values'])"
   ]
  },
  {
   "cell_type": "code",
   "execution_count": 164,
   "id": "57d751cb",
   "metadata": {},
   "outputs": [
    {
     "data": {
      "text/html": [
       "<div>\n",
       "<style scoped>\n",
       "    .dataframe tbody tr th:only-of-type {\n",
       "        vertical-align: middle;\n",
       "    }\n",
       "\n",
       "    .dataframe tbody tr th {\n",
       "        vertical-align: top;\n",
       "    }\n",
       "\n",
       "    .dataframe thead th {\n",
       "        text-align: right;\n",
       "    }\n",
       "</style>\n",
       "<table border=\"1\" class=\"dataframe\">\n",
       "  <thead>\n",
       "    <tr style=\"text-align: right;\">\n",
       "      <th></th>\n",
       "      <th>customer_id</th>\n",
       "      <th>credit_score</th>\n",
       "      <th>country</th>\n",
       "      <th>gender</th>\n",
       "      <th>age</th>\n",
       "      <th>tenure</th>\n",
       "      <th>balance</th>\n",
       "      <th>products_number</th>\n",
       "      <th>credit_card</th>\n",
       "      <th>active_member</th>\n",
       "      <th>estimated_salary</th>\n",
       "      <th>churn</th>\n",
       "      <th>AgeGroup</th>\n",
       "    </tr>\n",
       "  </thead>\n",
       "  <tbody>\n",
       "  </tbody>\n",
       "</table>\n",
       "</div>"
      ],
      "text/plain": [
       "Empty DataFrame\n",
       "Columns: [customer_id, credit_score, country, gender, age, tenure, balance, products_number, credit_card, active_member, estimated_salary, churn, AgeGroup]\n",
       "Index: []"
      ]
     },
     "execution_count": 164,
     "metadata": {},
     "output_type": "execute_result"
    }
   ],
   "source": [
    "# Checking for duplicate values\n",
    "df[df.duplicated()]"
   ]
  },
  {
   "cell_type": "code",
   "execution_count": 13,
   "id": "ef3aae97",
   "metadata": {},
   "outputs": [
    {
     "data": {
      "text/html": [
       "<div>\n",
       "<style scoped>\n",
       "    .dataframe tbody tr th:only-of-type {\n",
       "        vertical-align: middle;\n",
       "    }\n",
       "\n",
       "    .dataframe tbody tr th {\n",
       "        vertical-align: top;\n",
       "    }\n",
       "\n",
       "    .dataframe thead th {\n",
       "        text-align: right;\n",
       "    }\n",
       "</style>\n",
       "<table border=\"1\" class=\"dataframe\">\n",
       "  <thead>\n",
       "    <tr style=\"text-align: right;\">\n",
       "      <th></th>\n",
       "      <th>country</th>\n",
       "      <th>gender</th>\n",
       "    </tr>\n",
       "  </thead>\n",
       "  <tbody>\n",
       "    <tr>\n",
       "      <th>count</th>\n",
       "      <td>10000</td>\n",
       "      <td>10000</td>\n",
       "    </tr>\n",
       "    <tr>\n",
       "      <th>unique</th>\n",
       "      <td>3</td>\n",
       "      <td>2</td>\n",
       "    </tr>\n",
       "    <tr>\n",
       "      <th>top</th>\n",
       "      <td>France</td>\n",
       "      <td>Male</td>\n",
       "    </tr>\n",
       "    <tr>\n",
       "      <th>freq</th>\n",
       "      <td>5014</td>\n",
       "      <td>5457</td>\n",
       "    </tr>\n",
       "  </tbody>\n",
       "</table>\n",
       "</div>"
      ],
      "text/plain": [
       "       country gender\n",
       "count    10000  10000\n",
       "unique       3      2\n",
       "top     France   Male\n",
       "freq      5014   5457"
      ]
     },
     "execution_count": 13,
     "metadata": {},
     "output_type": "execute_result"
    }
   ],
   "source": [
    "# Statistical features for the categorical columns\n",
    "df.describe(include=[object])"
   ]
  },
  {
   "cell_type": "code",
   "execution_count": 20,
   "id": "3f420617",
   "metadata": {},
   "outputs": [
    {
     "data": {
      "text/html": [
       "<div>\n",
       "<style scoped>\n",
       "    .dataframe tbody tr th:only-of-type {\n",
       "        vertical-align: middle;\n",
       "    }\n",
       "\n",
       "    .dataframe tbody tr th {\n",
       "        vertical-align: top;\n",
       "    }\n",
       "\n",
       "    .dataframe thead th {\n",
       "        text-align: right;\n",
       "    }\n",
       "</style>\n",
       "<table border=\"1\" class=\"dataframe\">\n",
       "  <thead>\n",
       "    <tr style=\"text-align: right;\">\n",
       "      <th></th>\n",
       "      <th>Churn Status</th>\n",
       "      <th>Churn Rate(%)</th>\n",
       "    </tr>\n",
       "  </thead>\n",
       "  <tbody>\n",
       "    <tr>\n",
       "      <th>0</th>\n",
       "      <td>Churned</td>\n",
       "      <td>2037</td>\n",
       "    </tr>\n",
       "    <tr>\n",
       "      <th>1</th>\n",
       "      <td>Not Churned</td>\n",
       "      <td>7963</td>\n",
       "    </tr>\n",
       "  </tbody>\n",
       "</table>\n",
       "</div>"
      ],
      "text/plain": [
       "  Churn Status  Churn Rate(%)\n",
       "0      Churned           2037\n",
       "1  Not Churned           7963"
      ]
     },
     "execution_count": 20,
     "metadata": {},
     "output_type": "execute_result"
    }
   ],
   "source": [
    "churned_no = df.query('churn==1').count()['churn']\n",
    "not_churned_no = df.query('churn==0').count()['churn']\n",
    "churn_data = [['Churned',churned_no],['Not Churned',not_churned_no]]\n",
    "churn_df= pd.DataFrame(churn_data, columns =['Churn Status','Churn Rate(%)'])\n",
    "churn_df"
   ]
  },
  {
   "cell_type": "code",
   "execution_count": 85,
   "id": "18d014e8",
   "metadata": {},
   "outputs": [
    {
     "data": {
      "image/png": "[encoded data removed]",
      "text/plain": [
       "<Figure size 432x432 with 1 Axes>"
      ]
     },
     "metadata": {},
     "output_type": "display_data"
    }
   ],
   "source": [
    "plt.style.use('seaborn')\n",
    "churned= pd.DataFrame(df['churn'].value_counts())\n",
    "explode = (0.0,0.1)\n",
    "colors = ['red','blue']\n",
    "labels = 'Not Churned','Churned'\n",
    "churned.plot.pie(y='churn',figsize=(6,6),colors = colors, autopct='%1.1f%%',explode=explode,startangle=90,shadow=True,labels=labels)\n",
    "plt.show()"
   ]
  },
  {
   "cell_type": "code",
   "execution_count": 31,
   "id": "0f1ee29f",
   "metadata": {},
   "outputs": [
    {
     "data": {
      "text/plain": [
       "<AxesSubplot:xlabel='churn', ylabel='count'>"
      ]
     },
     "execution_count": 31,
     "metadata": {},
     "output_type": "execute_result"
    },
    {
     "data": {
      "image/png": "[encoded data removed]",
      "text/plain": [
       "<Figure size 576x396 with 1 Axes>"
      ]
     },
     "metadata": {},
     "output_type": "display_data"
    }
   ],
   "source": [
    "# Creating a countplot\n",
    "sns.countplot(x='churn',data = df)"
   ]
  },
  {
   "cell_type": "code",
   "execution_count": 32,
   "id": "8dc89532",
   "metadata": {},
   "outputs": [],
   "source": [
    "# We see that the bank retained about 79.6% of the total 10000 customers while those who churned was around 20.4%."
   ]
  },
  {
   "cell_type": "code",
   "execution_count": 33,
   "id": "7c312008",
   "metadata": {},
   "outputs": [],
   "source": [
    "# Now we'll be analyzing the impact of various factors on the churn rate\n",
    "# Analyzing the effect of the two categorical variables country & gender on the churn rate"
   ]
  },
  {
   "cell_type": "code",
   "execution_count": 45,
   "id": "5584516d",
   "metadata": {},
   "outputs": [
    {
     "data": {
      "text/plain": [
       "Text(0, 0.5, 'Number of customers in each country')"
      ]
     },
     "execution_count": 45,
     "metadata": {},
     "output_type": "execute_result"
    },
    {
     "data": {
      "image/png": "[encoded data removed]",
      "text/plain": [
       "<Figure size 576x396 with 1 Axes>"
      ]
     },
     "metadata": {},
     "output_type": "display_data"
    }
   ],
   "source": [
    "# Analyzing the impact of country on the churn status of customers\n",
    "customers = pd.DataFrame(df['country'].value_counts())\n",
    "plt.suptitle('Countrywise distribution of customers',size=10, fontname ='Ariel',color='k')\n",
    "sns.countplot(x='country',data = df,palette= 'flare')\n",
    "plt.xlabel('countries',size=9,fontname='Ariel',color='k')\n",
    "plt.ylabel('Number of customers in each country',size=9,fontname='Ariel',color='k')"
   ]
  },
  {
   "cell_type": "code",
   "execution_count": 40,
   "id": "e6a128bc",
   "metadata": {},
   "outputs": [
    {
     "data": {
      "text/plain": [
       "<AxesSubplot:xlabel='country', ylabel='count'>"
      ]
     },
     "execution_count": 40,
     "metadata": {},
     "output_type": "execute_result"
    },
    {
     "data": {
      "image/png": "[encoded data removed]",
      "text/plain": [
       "<Figure size 864x576 with 2 Axes>"
      ]
     },
     "metadata": {},
     "output_type": "display_data"
    }
   ],
   "source": [
    "plt.figure(figsize=(12,8))\n",
    "plt.suptitle('Country and Churn Analysis',size=12,fontname='Ariel',color='m')\n",
    "plt.subplot(2,2,1)\n",
    "sns.countplot(x='churn',hue='country',data=df,palette='husl')\n",
    "\n",
    "plt.subplot(2,2,2)\n",
    "sns.countplot(x='country',hue='churn',data=df,palette='Paired')"
   ]
  },
  {
   "cell_type": "code",
   "execution_count": 52,
   "id": "6d262f13",
   "metadata": {},
   "outputs": [
    {
     "data": {
      "text/html": [
       "<div>\n",
       "<style scoped>\n",
       "    .dataframe tbody tr th:only-of-type {\n",
       "        vertical-align: middle;\n",
       "    }\n",
       "\n",
       "    .dataframe tbody tr th {\n",
       "        vertical-align: top;\n",
       "    }\n",
       "\n",
       "    .dataframe thead th {\n",
       "        text-align: right;\n",
       "    }\n",
       "</style>\n",
       "<table border=\"1\" class=\"dataframe\">\n",
       "  <thead>\n",
       "    <tr style=\"text-align: right;\">\n",
       "      <th></th>\n",
       "      <th>country</th>\n",
       "      <th>churn rate(%)</th>\n",
       "    </tr>\n",
       "  </thead>\n",
       "  <tbody>\n",
       "    <tr>\n",
       "      <th>0</th>\n",
       "      <td>France</td>\n",
       "      <td>39.76</td>\n",
       "    </tr>\n",
       "    <tr>\n",
       "      <th>1</th>\n",
       "      <td>Germany</td>\n",
       "      <td>39.96</td>\n",
       "    </tr>\n",
       "    <tr>\n",
       "      <th>2</th>\n",
       "      <td>Spain</td>\n",
       "      <td>20.27</td>\n",
       "    </tr>\n",
       "  </tbody>\n",
       "</table>\n",
       "</div>"
      ],
      "text/plain": [
       "   country  churn rate(%)\n",
       "0   France          39.76\n",
       "1  Germany          39.96\n",
       "2    Spain          20.27"
      ]
     },
     "execution_count": 52,
     "metadata": {},
     "output_type": "execute_result"
    }
   ],
   "source": [
    "total_churn = df.query('churn==1').count()['churn']\n",
    "france_churn_number=df.query('country==\"France\" & churn==1').count()['churn']\n",
    "france_churn_rate = round((france_churn_number/total_churn)*100,2)\n",
    "germany_churn_number=df.query('country==\"Germany\" & churn ==1').count()['churn']\n",
    "germany_churn_rate = round((germany_churn_number/total_churn)*100,2)\n",
    "spain_churn_number= df.query('country==\"Spain\" & churn==1').count()['churn']\n",
    "spain_churn_rate = round((spain_churn_number/total_churn)*100,2)\n",
    "country_churn_data = [['France',france_churn_rate],['Germany',germany_churn_rate],['Spain',spain_churn_rate]]\n",
    "country_churn_df=pd.DataFrame(country_churn_data,columns=[\"country\",\"churn rate(%)\"])\n",
    "country_churn_df"
   ]
  },
  {
   "cell_type": "code",
   "execution_count": 59,
   "id": "661a32bc",
   "metadata": {},
   "outputs": [
    {
     "data": {
      "text/plain": [
       "<matplotlib.legend.Legend at 0x277602db880>"
      ]
     },
     "execution_count": 59,
     "metadata": {},
     "output_type": "execute_result"
    },
    {
     "data": {
      "image/png": "[encoded data removed]",
      "text/plain": [
       "<Figure size 864x360 with 1 Axes>"
      ]
     },
     "metadata": {},
     "output_type": "display_data"
    }
   ],
   "source": [
    "# Plotting a histogram to check normality of the data\n",
    "plt.style.use('seaborn')\n",
    "plt.figure(figsize=(12,5))\n",
    "plt.suptitle('Countrywise churn status',fontname='Ariel',size=13,color='m')\n",
    "\n",
    "plt.subplot(2,2,1)\n",
    "plt.hist(df[df['churn']==1]['country'],bins=25,alpha=0.5,color='red',label='Churned')\n",
    "plt.hist(df[df['churn']==0]['country'],bins=25,alpha=0.5,color='blue',label='Not Churned')\n",
    "\n",
    "plt.xlabel('country',size=15,color='purple')\n",
    "plt.ylabel('Count of Customers',size= 15,color='purple')\n",
    "plt.title('Country vs. Churn Status',color='red',fontname='Ariel',size=10)\n",
    "plt.legend()"
   ]
  },
  {
   "cell_type": "code",
   "execution_count": 61,
   "id": "a1877b70",
   "metadata": {},
   "outputs": [
    {
     "name": "stdout",
     "output_type": "stream",
     "text": [
      "DescribeResult(nobs=5014, minmax=(0, 1), mean=0.16154766653370561, variance=0.13547703772345868, skewness=1.8392381849392303, kurtosis=1.3827971009385536)\n",
      "DescribeResult(nobs=2509, minmax=(0, 1), mean=0.32443204463929853, variance=0.21926328375742063, skewness=0.7500303797248297, kurtosis=-1.4374544294898277)\n",
      "DescribeResult(nobs=2477, minmax=(0, 1), mean=0.1667339523617279, variance=0.13898985366502678, skewness=1.788204572111019, kurtosis=1.1976755917187534)\n"
     ]
    }
   ],
   "source": [
    "# The data is not normally distributed as visible from the above histogram.\n",
    "france_bank= df[df['country']=='France']\n",
    "germany_bank= df[df['country']=='Germany']\n",
    "spain_bank= df[df['country']=='Spain']\n",
    "print(stats.describe(france_bank['churn']))\n",
    "print(stats.describe(germany_bank['churn']))\n",
    "print(stats.describe(spain_bank['churn']))"
   ]
  },
  {
   "cell_type": "code",
   "execution_count": 62,
   "id": "2eacf3c1",
   "metadata": {},
   "outputs": [
    {
     "data": {
      "text/plain": [
       "KruskalResult(statistic=301.22521129066496, pvalue=3.888449500851512e-66)"
      ]
     },
     "execution_count": 62,
     "metadata": {},
     "output_type": "execute_result"
    }
   ],
   "source": [
    "stats.kruskal(france_bank['churn'],germany_bank['churn'],spain_bank['churn'])"
   ]
  },
  {
   "cell_type": "code",
   "execution_count": 63,
   "id": "8982a966",
   "metadata": {},
   "outputs": [],
   "source": [
    "# Since the p-value < 0.05 we can reject the null and conclude that country has an impact on the churn rate"
   ]
  },
  {
   "cell_type": "code",
   "execution_count": 65,
   "id": "94952757",
   "metadata": {},
   "outputs": [
    {
     "data": {
      "text/plain": [
       "<AxesSubplot:xlabel='gender', ylabel='count'>"
      ]
     },
     "execution_count": 65,
     "metadata": {},
     "output_type": "execute_result"
    },
    {
     "data": {
      "image/png": "[encoded data removed]",
      "text/plain": [
       "<Figure size 864x576 with 2 Axes>"
      ]
     },
     "metadata": {},
     "output_type": "display_data"
    }
   ],
   "source": [
    "# Next analyzing the impact of gender on the churn rate\n",
    "plt.figure(figsize=(12,8))\n",
    "plt.suptitle('Gender and Churn Status',size=12,fontname='Ariel',color='m')\n",
    "plt.subplot(2,2,1)\n",
    "sns.countplot(x='churn',hue='gender',data=df,palette='mako')\n",
    "\n",
    "plt.subplot(2,2,2)\n",
    "sns.countplot(x='gender',hue='churn',data=df,palette='magma')"
   ]
  },
  {
   "cell_type": "code",
   "execution_count": 90,
   "id": "6ef0a7ad",
   "metadata": {},
   "outputs": [
    {
     "data": {
      "image/png": "[encoded data removed]",
      "text/plain": [
       "<Figure size 432x432 with 1 Axes>"
      ]
     },
     "metadata": {},
     "output_type": "display_data"
    }
   ],
   "source": [
    "# Total gender percentage\n",
    "plt.style.use('seaborn')\n",
    "diff_gender = pd.DataFrame(df['gender'].value_counts())\n",
    "explode = (0.0,0.1)\n",
    "colors =['green','yellow']\n",
    "labels ='Male','Female'\n",
    "diff_gender.plot.pie(y='gender',figsize=(6,6),colors = colors, autopct='%1.1f%%',explode=explode,startangle=90,shadow=True,labels=labels)\n",
    "plt.show()"
   ]
  },
  {
   "cell_type": "code",
   "execution_count": 87,
   "id": "c11794ef",
   "metadata": {},
   "outputs": [
    {
     "data": {
      "text/html": [
       "<div>\n",
       "<style scoped>\n",
       "    .dataframe tbody tr th:only-of-type {\n",
       "        vertical-align: middle;\n",
       "    }\n",
       "\n",
       "    .dataframe tbody tr th {\n",
       "        vertical-align: top;\n",
       "    }\n",
       "\n",
       "    .dataframe thead th {\n",
       "        text-align: right;\n",
       "    }\n",
       "</style>\n",
       "<table border=\"1\" class=\"dataframe\">\n",
       "  <thead>\n",
       "    <tr style=\"text-align: right;\">\n",
       "      <th></th>\n",
       "      <th>gender</th>\n",
       "      <th>churn rate(%)</th>\n",
       "    </tr>\n",
       "  </thead>\n",
       "  <tbody>\n",
       "    <tr>\n",
       "      <th>0</th>\n",
       "      <td>Male</td>\n",
       "      <td>44.08</td>\n",
       "    </tr>\n",
       "    <tr>\n",
       "      <th>1</th>\n",
       "      <td>Female</td>\n",
       "      <td>55.92</td>\n",
       "    </tr>\n",
       "  </tbody>\n",
       "</table>\n",
       "</div>"
      ],
      "text/plain": [
       "   gender  churn rate(%)\n",
       "0    Male          44.08\n",
       "1  Female          55.92"
      ]
     },
     "execution_count": 87,
     "metadata": {},
     "output_type": "execute_result"
    }
   ],
   "source": [
    "male_churn =df.query('gender==\"Male\" & churn==1').count()['churn']\n",
    "female_churn =df.query('gender == \"Female\" & churn ==1').count()['churn']\n",
    "male_churn_rate= round((male_churn/total_churn)*100,2)\n",
    "female_churn_rate = round((female_churn/total_churn)*100,2)\n",
    "gender_churn_data = [['Male',male_churn_rate],['Female',female_churn_rate]]\n",
    "gender_churn_df=pd.DataFrame(gender_churn_data,columns=[\"gender\",\"churn rate(%)\"])\n",
    "gender_churn_df"
   ]
  },
  {
   "cell_type": "code",
   "execution_count": 119,
   "id": "bca0153c",
   "metadata": {},
   "outputs": [
    {
     "data": {
      "text/plain": [
       "<matplotlib.legend.Legend at 0x277643fefd0>"
      ]
     },
     "execution_count": 119,
     "metadata": {},
     "output_type": "execute_result"
    },
    {
     "data": {
      "image/png": "[encoded data removed]",
      "text/plain": [
       "<Figure size 1080x720 with 1 Axes>"
      ]
     },
     "metadata": {},
     "output_type": "display_data"
    }
   ],
   "source": [
    "# Plotting a histogram to check for normality of the data\n",
    "plt.style.use('seaborn')\n",
    "plt.figure(figsize=(15,10))\n",
    "plt.subplot(2,2,1)\n",
    "plt.hist(df[df['churn']==1]['gender'],bins=25,alpha=0.9,color='red',label='Churned')\n",
    "plt.hist(df[df['churn']==0]['gender'],bins=25,alpha=0.5,color='blue',label='Not Churned')\n",
    "\n",
    "plt.xlabel('gender',size=15,color='purple')\n",
    "plt.ylabel('Count of Customers',size= 15,color='purple')\n",
    "plt.title('Gender vs. Churn Status',color='red',fontname='Ariel',size=15)\n",
    "plt.legend()\n"
   ]
  },
  {
   "cell_type": "code",
   "execution_count": 78,
   "id": "699e8bca",
   "metadata": {},
   "outputs": [
    {
     "data": {
      "text/plain": [
       "KruskalResult(statistic=113.43775539389111, pvalue=1.7302867496277846e-26)"
      ]
     },
     "execution_count": 78,
     "metadata": {},
     "output_type": "execute_result"
    }
   ],
   "source": [
    "# Data doesn't look normal\n",
    "male_df = df[df['gender']=='Male']\n",
    "female_df = df[df['gender']=='Female']\n",
    "stats.kruskal(male_df['churn'],female_df['churn'])"
   ]
  },
  {
   "cell_type": "code",
   "execution_count": 79,
   "id": "e53fbfb1",
   "metadata": {},
   "outputs": [],
   "source": [
    "# p-value<0.05 hence we reject the null and can conclude that gender has an impact on the churn rate"
   ]
  },
  {
   "cell_type": "code",
   "execution_count": 91,
   "id": "3c360103",
   "metadata": {},
   "outputs": [
    {
     "data": {
      "text/html": [
       "<div>\n",
       "<style scoped>\n",
       "    .dataframe tbody tr th:only-of-type {\n",
       "        vertical-align: middle;\n",
       "    }\n",
       "\n",
       "    .dataframe tbody tr th {\n",
       "        vertical-align: top;\n",
       "    }\n",
       "\n",
       "    .dataframe thead th {\n",
       "        text-align: right;\n",
       "    }\n",
       "</style>\n",
       "<table border=\"1\" class=\"dataframe\">\n",
       "  <thead>\n",
       "    <tr style=\"text-align: right;\">\n",
       "      <th></th>\n",
       "      <th>age_groups</th>\n",
       "      <th>age_group_range</th>\n",
       "    </tr>\n",
       "  </thead>\n",
       "  <tbody>\n",
       "    <tr>\n",
       "      <th>0</th>\n",
       "      <td>Young</td>\n",
       "      <td>18-24</td>\n",
       "    </tr>\n",
       "    <tr>\n",
       "      <th>1</th>\n",
       "      <td>Adults</td>\n",
       "      <td>25-64</td>\n",
       "    </tr>\n",
       "    <tr>\n",
       "      <th>2</th>\n",
       "      <td>Seniors</td>\n",
       "      <td>65 &amp; Above</td>\n",
       "    </tr>\n",
       "  </tbody>\n",
       "</table>\n",
       "</div>"
      ],
      "text/plain": [
       "  age_groups age_group_range\n",
       "0      Young           18-24\n",
       "1     Adults           25-64\n",
       "2    Seniors      65 & Above"
      ]
     },
     "execution_count": 91,
     "metadata": {},
     "output_type": "execute_result"
    }
   ],
   "source": [
    "# Now testing for the impact of the other numerical variables on the churn rate\n",
    "# Analyzing the Impact of age on churn rate\n",
    "agegroup = [['Young','18-24'],['Adults','25-64'],['Seniors','65 & Above']]\n",
    "agegroup_df=pd.DataFrame(agegroup,columns=[\"age_groups\",\"age_group_range\"])\n",
    "agegroup_df"
   ]
  },
  {
   "cell_type": "code",
   "execution_count": 92,
   "id": "f618eb16",
   "metadata": {},
   "outputs": [
    {
     "data": {
      "text/html": [
       "<div>\n",
       "<style scoped>\n",
       "    .dataframe tbody tr th:only-of-type {\n",
       "        vertical-align: middle;\n",
       "    }\n",
       "\n",
       "    .dataframe tbody tr th {\n",
       "        vertical-align: top;\n",
       "    }\n",
       "\n",
       "    .dataframe thead th {\n",
       "        text-align: right;\n",
       "    }\n",
       "</style>\n",
       "<table border=\"1\" class=\"dataframe\">\n",
       "  <thead>\n",
       "    <tr style=\"text-align: right;\">\n",
       "      <th></th>\n",
       "      <th>customer_id</th>\n",
       "      <th>credit_score</th>\n",
       "      <th>country</th>\n",
       "      <th>gender</th>\n",
       "      <th>age</th>\n",
       "      <th>tenure</th>\n",
       "      <th>balance</th>\n",
       "      <th>products_number</th>\n",
       "      <th>credit_card</th>\n",
       "      <th>active_member</th>\n",
       "      <th>estimated_salary</th>\n",
       "      <th>churn</th>\n",
       "      <th>AgeGroup</th>\n",
       "    </tr>\n",
       "  </thead>\n",
       "  <tbody>\n",
       "    <tr>\n",
       "      <th>0</th>\n",
       "      <td>15634602</td>\n",
       "      <td>619</td>\n",
       "      <td>France</td>\n",
       "      <td>Female</td>\n",
       "      <td>42</td>\n",
       "      <td>2</td>\n",
       "      <td>0.00</td>\n",
       "      <td>1</td>\n",
       "      <td>1</td>\n",
       "      <td>1</td>\n",
       "      <td>101348.88</td>\n",
       "      <td>1</td>\n",
       "      <td>adult</td>\n",
       "    </tr>\n",
       "    <tr>\n",
       "      <th>1</th>\n",
       "      <td>15647311</td>\n",
       "      <td>608</td>\n",
       "      <td>Spain</td>\n",
       "      <td>Female</td>\n",
       "      <td>41</td>\n",
       "      <td>1</td>\n",
       "      <td>83807.86</td>\n",
       "      <td>1</td>\n",
       "      <td>0</td>\n",
       "      <td>1</td>\n",
       "      <td>112542.58</td>\n",
       "      <td>0</td>\n",
       "      <td>adult</td>\n",
       "    </tr>\n",
       "    <tr>\n",
       "      <th>2</th>\n",
       "      <td>15619304</td>\n",
       "      <td>502</td>\n",
       "      <td>France</td>\n",
       "      <td>Female</td>\n",
       "      <td>42</td>\n",
       "      <td>8</td>\n",
       "      <td>159660.80</td>\n",
       "      <td>3</td>\n",
       "      <td>1</td>\n",
       "      <td>0</td>\n",
       "      <td>113931.57</td>\n",
       "      <td>1</td>\n",
       "      <td>adult</td>\n",
       "    </tr>\n",
       "    <tr>\n",
       "      <th>3</th>\n",
       "      <td>15701354</td>\n",
       "      <td>699</td>\n",
       "      <td>France</td>\n",
       "      <td>Female</td>\n",
       "      <td>39</td>\n",
       "      <td>1</td>\n",
       "      <td>0.00</td>\n",
       "      <td>2</td>\n",
       "      <td>0</td>\n",
       "      <td>0</td>\n",
       "      <td>93826.63</td>\n",
       "      <td>0</td>\n",
       "      <td>adult</td>\n",
       "    </tr>\n",
       "    <tr>\n",
       "      <th>4</th>\n",
       "      <td>15737888</td>\n",
       "      <td>850</td>\n",
       "      <td>Spain</td>\n",
       "      <td>Female</td>\n",
       "      <td>43</td>\n",
       "      <td>2</td>\n",
       "      <td>125510.82</td>\n",
       "      <td>1</td>\n",
       "      <td>1</td>\n",
       "      <td>1</td>\n",
       "      <td>79084.10</td>\n",
       "      <td>0</td>\n",
       "      <td>adult</td>\n",
       "    </tr>\n",
       "  </tbody>\n",
       "</table>\n",
       "</div>"
      ],
      "text/plain": [
       "   customer_id  credit_score country  gender  age  tenure    balance  \\\n",
       "0     15634602           619  France  Female   42       2       0.00   \n",
       "1     15647311           608   Spain  Female   41       1   83807.86   \n",
       "2     15619304           502  France  Female   42       8  159660.80   \n",
       "3     15701354           699  France  Female   39       1       0.00   \n",
       "4     15737888           850   Spain  Female   43       2  125510.82   \n",
       "\n",
       "   products_number  credit_card  active_member  estimated_salary  churn  \\\n",
       "0                1            1              1         101348.88      1   \n",
       "1                1            0              1         112542.58      0   \n",
       "2                3            1              0         113931.57      1   \n",
       "3                2            0              0          93826.63      0   \n",
       "4                1            1              1          79084.10      0   \n",
       "\n",
       "  AgeGroup  \n",
       "0    adult  \n",
       "1    adult  \n",
       "2    adult  \n",
       "3    adult  \n",
       "4    adult  "
      ]
     },
     "execution_count": 92,
     "metadata": {},
     "output_type": "execute_result"
    }
   ],
   "source": [
    "# Creating age groups\n",
    "df['AgeGroup']=pd.cut(df.age,bins=[17,24,64,120],labels =['young','adult','senior'])\n",
    "# Turning the column data type into a string\n",
    "df['AgeGroup']= df.AgeGroup.astype(str)\n",
    "df.head()"
   ]
  },
  {
   "cell_type": "code",
   "execution_count": 94,
   "id": "2a270034",
   "metadata": {},
   "outputs": [
    {
     "name": "stdout",
     "output_type": "stream",
     "text": [
      "There are 457 young customers\n",
      "There are 9261 adult customers\n",
      "There are 282 senior customers\n"
     ]
    }
   ],
   "source": [
    "young = df.query('age>=18 and age<=24 ')\n",
    "adult = df.query('age>=25 and age<=64')\n",
    "senior = df.query('age>=65')\n",
    "# printing the number of customers falling in different age groups\n",
    "print('There are', young['age'].count(), 'young customers')\n",
    "print('There are', adult['age'].count(), 'adult customers')\n",
    "print('There are', senior['age'].count(), 'senior customers')"
   ]
  },
  {
   "cell_type": "code",
   "execution_count": 100,
   "id": "ac9c8a5a",
   "metadata": {},
   "outputs": [
    {
     "data": {
      "text/plain": [
       "Text(0.5, 1.0, 'Age Groups vs. Churn Status')"
      ]
     },
     "execution_count": 100,
     "metadata": {},
     "output_type": "execute_result"
    },
    {
     "data": {
      "image/png": "[encoded data removed]",
      "text/plain": [
       "<Figure size 1080x720 with 2 Axes>"
      ]
     },
     "metadata": {},
     "output_type": "display_data"
    }
   ],
   "source": [
    "plt.style.use('seaborn')\n",
    "plt.figure(figsize=(15,10))\n",
    "plt.suptitle('Customers with different age group churn status',fontname='Ariel',size=20,color='m')\n",
    "\n",
    "plt.subplot(2,2,1)\n",
    "plt.hist(df[df['churn']==1]['age'],bins=25,alpha=0.9,color='yellow',label='Churned')\n",
    "plt.hist(df[df['churn']==0]['age'],bins=25,alpha=0.5,color='green',label='Not Churned')\n",
    "\n",
    "plt.xlabel('age',size=15,color='purple')\n",
    "plt.ylabel('Count of Customers',size= 15,color='purple')\n",
    "plt.title('Age group vs. Churn Status',color='red',fontname='Ariel',size=15)\n",
    "plt.legend()\n",
    "plt.subplot(2,2,2)\n",
    "\n",
    "# Bar plot of Differentagegroup levels Vs churn status\n",
    "sns.countplot(x = 'AgeGroup', data = df[df[\"churn\"] == 1])\n",
    "plt.xlabel(\"age group\", size = 15, color = \"purple\")\n",
    "plt.ylabel(\"Count of customers\", size = 15, color = \"purple\")\n",
    "plt.title(\"Age Groups vs. Churn Status\", color='red', fontname = \"Ariel\", size = 15)"
   ]
  },
  {
   "cell_type": "code",
   "execution_count": 170,
   "id": "00261340",
   "metadata": {},
   "outputs": [
    {
     "data": {
      "text/plain": [
       "<AxesSubplot:xlabel='churn', ylabel='age'>"
      ]
     },
     "execution_count": 170,
     "metadata": {},
     "output_type": "execute_result"
    },
    {
     "data": {
      "image/png": "[encoded data removed]",
      "text/plain": [
       "<Figure size 576x396 with 1 Axes>"
      ]
     },
     "metadata": {},
     "output_type": "display_data"
    }
   ],
   "source": [
    "sns.boxplot(y='age',x='churn',hue='churn',data=df,palette= 'mako')"
   ]
  },
  {
   "cell_type": "code",
   "execution_count": 101,
   "id": "155adf8d",
   "metadata": {},
   "outputs": [
    {
     "data": {
      "text/html": [
       "<div>\n",
       "<style scoped>\n",
       "    .dataframe tbody tr th:only-of-type {\n",
       "        vertical-align: middle;\n",
       "    }\n",
       "\n",
       "    .dataframe tbody tr th {\n",
       "        vertical-align: top;\n",
       "    }\n",
       "\n",
       "    .dataframe thead th {\n",
       "        text-align: right;\n",
       "    }\n",
       "</style>\n",
       "<table border=\"1\" class=\"dataframe\">\n",
       "  <thead>\n",
       "    <tr style=\"text-align: right;\">\n",
       "      <th></th>\n",
       "      <th>age</th>\n",
       "      <th>churn per group</th>\n",
       "      <th>churn rate(%)</th>\n",
       "    </tr>\n",
       "  </thead>\n",
       "  <tbody>\n",
       "    <tr>\n",
       "      <th>0</th>\n",
       "      <td>young</td>\n",
       "      <td>40</td>\n",
       "      <td>1.96</td>\n",
       "    </tr>\n",
       "    <tr>\n",
       "      <th>1</th>\n",
       "      <td>adult</td>\n",
       "      <td>1954</td>\n",
       "      <td>95.93</td>\n",
       "    </tr>\n",
       "    <tr>\n",
       "      <th>2</th>\n",
       "      <td>senior</td>\n",
       "      <td>43</td>\n",
       "      <td>2.11</td>\n",
       "    </tr>\n",
       "  </tbody>\n",
       "</table>\n",
       "</div>"
      ],
      "text/plain": [
       "      age  churn per group  churn rate(%)\n",
       "0   young               40           1.96\n",
       "1   adult             1954          95.93\n",
       "2  senior               43           2.11"
      ]
     },
     "execution_count": 101,
     "metadata": {},
     "output_type": "execute_result"
    }
   ],
   "source": [
    "young_churn =df.query('AgeGroup==\"young\" & churn==1').count()['churn']\n",
    "adult_churn =df.query('AgeGroup == \"adult\" & churn ==1').count()['churn']\n",
    "senior_churn = df.query('AgeGroup== \"senior\" & churn==1').count()['churn']\n",
    "young_churn_rate= round((young_churn/total_churn)*100,2)\n",
    "adult_churn_rate = round((adult_churn/total_churn)*100,2)\n",
    "senior_churn_rate = round((senior_churn/total_churn)*100,2)\n",
    "age_churn_data = [['young',young_churn,young_churn_rate],['adult',adult_churn,adult_churn_rate],['senior',senior_churn,senior_churn_rate]]\n",
    "age_churn_df=pd.DataFrame(age_churn_data,columns=[\"age\",\"churn per group\",\"churn rate(%)\"])\n",
    "age_churn_df"
   ]
  },
  {
   "cell_type": "code",
   "execution_count": 103,
   "id": "df41537e",
   "metadata": {},
   "outputs": [
    {
     "name": "stdout",
     "output_type": "stream",
     "text": [
      "DescribeResult(nobs=457, minmax=(0, 1), mean=0.087527352297593, variance=0.08004146032477256, skewness=2.9190620516513306, kurtosis=6.52092326139088)\n",
      "DescribeResult(nobs=9261, minmax=(0, 1), mean=0.21099233344131305, variance=0.16649254648549403, skewness=1.4166592772508773, kurtosis=0.006923507820978614)\n",
      "DescribeResult(nobs=282, minmax=(0, 1), mean=0.1524822695035461, variance=0.12969132530728653, skewness=1.9334052479693318, kurtosis=1.7380558528753536)\n"
     ]
    }
   ],
   "source": [
    "print(stats.describe(young['churn']))\n",
    "print(stats.describe(adult['churn']))\n",
    "print(stats.describe(senior['churn']))"
   ]
  },
  {
   "cell_type": "code",
   "execution_count": 104,
   "id": "f6d20dc0",
   "metadata": {},
   "outputs": [
    {
     "data": {
      "text/plain": [
       "KruskalResult(statistic=45.616050508513744, pvalue=1.2433702990481629e-10)"
      ]
     },
     "execution_count": 104,
     "metadata": {},
     "output_type": "execute_result"
    }
   ],
   "source": [
    "stats.kruskal(young['churn'],adult['churn'],senior['churn'])"
   ]
  },
  {
   "cell_type": "code",
   "execution_count": 105,
   "id": "c64ec3a8",
   "metadata": {},
   "outputs": [],
   "source": [
    "# p-value<0.05 hence we can reject the null and conclude that age has an impact on the churn rate."
   ]
  },
  {
   "cell_type": "code",
   "execution_count": 107,
   "id": "17c53def",
   "metadata": {},
   "outputs": [
    {
     "data": {
      "text/html": [
       "<div>\n",
       "<style scoped>\n",
       "    .dataframe tbody tr th:only-of-type {\n",
       "        vertical-align: middle;\n",
       "    }\n",
       "\n",
       "    .dataframe tbody tr th {\n",
       "        vertical-align: top;\n",
       "    }\n",
       "\n",
       "    .dataframe thead th {\n",
       "        text-align: right;\n",
       "    }\n",
       "</style>\n",
       "<table border=\"1\" class=\"dataframe\">\n",
       "  <thead>\n",
       "    <tr style=\"text-align: right;\">\n",
       "      <th></th>\n",
       "      <th>cardstatus</th>\n",
       "      <th>churn per group</th>\n",
       "      <th>churn rate(%)</th>\n",
       "    </tr>\n",
       "  </thead>\n",
       "  <tbody>\n",
       "    <tr>\n",
       "      <th>0</th>\n",
       "      <td>hascard</td>\n",
       "      <td>1424</td>\n",
       "      <td>69.91</td>\n",
       "    </tr>\n",
       "    <tr>\n",
       "      <th>1</th>\n",
       "      <td>hasnocard</td>\n",
       "      <td>613</td>\n",
       "      <td>30.09</td>\n",
       "    </tr>\n",
       "  </tbody>\n",
       "</table>\n",
       "</div>"
      ],
      "text/plain": [
       "  cardstatus  churn per group  churn rate(%)\n",
       "0    hascard             1424          69.91\n",
       "1  hasnocard              613          30.09"
      ]
     },
     "execution_count": 107,
     "metadata": {},
     "output_type": "execute_result"
    }
   ],
   "source": [
    "# Analyzing the impact of having a credit card as one of the products on the churn status\n",
    "total_churn = df.query('churn==1').count()['churn']\n",
    "has_card_churn= df.query('credit_card==1 & churn ==1').count()['churn']\n",
    "has_card_churnrate = round((has_card_churn/total_churn)*100,2)\n",
    "has_nocard_churn = df.query('credit_card==0 & churn ==1').count()['churn']\n",
    "has_nocard_churnrate= round((has_nocard_churn/total_churn)*100,2)\n",
    "creditcard_churn_data= [['hascard',has_card_churn,has_card_churnrate],['hasnocard',has_nocard_churn,has_nocard_churnrate]]\n",
    "creditcard_churn_df=pd.DataFrame(creditcard_churn_data,columns=['cardstatus','churn per group','churn rate(%)'])\n",
    "creditcard_churn_df"
   ]
  },
  {
   "cell_type": "code",
   "execution_count": 108,
   "id": "8e2a6f4e",
   "metadata": {},
   "outputs": [
    {
     "data": {
      "text/plain": [
       "Text(0.5, 1.0, 'card status vs. churn status')"
      ]
     },
     "execution_count": 108,
     "metadata": {},
     "output_type": "execute_result"
    },
    {
     "data": {
      "image/png": "[encoded data removed]",
      "text/plain": [
       "<Figure size 1080x720 with 2 Axes>"
      ]
     },
     "metadata": {},
     "output_type": "display_data"
    }
   ],
   "source": [
    "plt.style.use('seaborn')\n",
    "plt.figure(figsize=(15,10))\n",
    "plt.suptitle('Customers with card status',fontname='Ariel',size=20,color='m')\n",
    "\n",
    "plt.subplot(2,2,1)\n",
    "plt.hist(df[df['churn']==1]['credit_card'],bins=25,alpha=0.9,color='red',label='Churned')\n",
    "plt.hist(df[df['churn']==0]['credit_card'],bins=25,alpha=0.5,color='blue',label='Not Churned')\n",
    "\n",
    "plt.xlabel('creditcard',size=15,color='purple')\n",
    "plt.ylabel('Count of Customers',size= 15,color='purple')\n",
    "plt.title('Card Status vs. Churn Status',color='red',fontname='Ariel',size=15)\n",
    "plt.legend()\n",
    "plt.subplot(2,2,2)\n",
    "\n",
    "# Bar plot of Different card status Vs churn status\n",
    "sns.countplot(x = 'credit_card', data = df[df[\"churn\"] == 1])\n",
    "plt.xlabel(\"card status\", size = 15, color = \"purple\")\n",
    "plt.ylabel(\"Count of customers\", size = 15, color = \"purple\")\n",
    "plt.title(\"card status vs. churn status\", color='red', fontname = \"Ariel\", size = 15)"
   ]
  },
  {
   "cell_type": "code",
   "execution_count": 116,
   "id": "facfb3af",
   "metadata": {},
   "outputs": [
    {
     "data": {
      "text/plain": [
       "<AxesSubplot:xlabel='credit_card', ylabel='count'>"
      ]
     },
     "execution_count": 116,
     "metadata": {},
     "output_type": "execute_result"
    },
    {
     "data": {
      "image/png": "[encoded data removed]",
      "text/plain": [
       "<Figure size 864x576 with 1 Axes>"
      ]
     },
     "metadata": {},
     "output_type": "display_data"
    }
   ],
   "source": [
    "plt.figure(figsize=(12,8))\n",
    "plt.suptitle('Cardstatus Vs.Churn Status',size=15,fontname='Ariel',color='m')\n",
    "\n",
    "plt.subplot(2,1,1)\n",
    "sns.countplot(x='credit_card',hue='churn',data=df,palette='flare')"
   ]
  },
  {
   "cell_type": "code",
   "execution_count": 117,
   "id": "5a44c248",
   "metadata": {},
   "outputs": [
    {
     "data": {
      "text/plain": [
       "KruskalResult(statistic=0.5094260303474855, pvalue=0.4753874287573231)"
      ]
     },
     "execution_count": 117,
     "metadata": {},
     "output_type": "execute_result"
    }
   ],
   "source": [
    "# The data doesn't look normal\n",
    "has_crd= df[df['credit_card']==1]\n",
    "no_crd= df[df['credit_card']==0]\n",
    "stats.kruskal(has_crd['churn'],no_crd['churn'])"
   ]
  },
  {
   "cell_type": "code",
   "execution_count": 118,
   "id": "5d3e266c",
   "metadata": {},
   "outputs": [],
   "source": [
    "# pvalue>0.05 hence we accept the null that there is no significant difference between the groups of people who has a credit card and churn & those without a card who churn."
   ]
  },
  {
   "cell_type": "code",
   "execution_count": 125,
   "id": "8bfb394a",
   "metadata": {},
   "outputs": [
    {
     "data": {
      "text/plain": [
       "Text(0.5, 1.0, 'No of products vs. Churn Status')"
      ]
     },
     "execution_count": 125,
     "metadata": {},
     "output_type": "execute_result"
    },
    {
     "data": {
      "image/png": "[encoded data removed]",
      "text/plain": [
       "<Figure size 576x396 with 1 Axes>"
      ]
     },
     "metadata": {},
     "output_type": "display_data"
    }
   ],
   "source": [
    "# Analyzing the impact of number of products on the churn rate\n",
    "sns.countplot(x='products_number',hue='churn',data=df)\n",
    "plt.xlabel(\"No. of products\", size = 15, color = \"black\")\n",
    "plt.ylabel(\"Count of customers\", size = 15, color = \"black\")\n",
    "plt.title(\"No of products vs. Churn Status\", color='red', fontname = \"Ariel\", size = 15)"
   ]
  },
  {
   "cell_type": "code",
   "execution_count": 176,
   "id": "c3066ca6",
   "metadata": {},
   "outputs": [
    {
     "data": {
      "text/plain": [
       "<AxesSubplot:xlabel='churn', ylabel='products_number'>"
      ]
     },
     "execution_count": 176,
     "metadata": {},
     "output_type": "execute_result"
    },
    {
     "data": {
      "image/png": "[encoded data removed]",
      "text/plain": [
       "<Figure size 576x396 with 1 Axes>"
      ]
     },
     "metadata": {},
     "output_type": "display_data"
    }
   ],
   "source": [
    "sns.boxplot(y='products_number',x='churn',hue='churn',data=df,palette= 'flare')"
   ]
  },
  {
   "cell_type": "code",
   "execution_count": 126,
   "id": "603329f6",
   "metadata": {},
   "outputs": [
    {
     "data": {
      "text/html": [
       "<div>\n",
       "<style scoped>\n",
       "    .dataframe tbody tr th:only-of-type {\n",
       "        vertical-align: middle;\n",
       "    }\n",
       "\n",
       "    .dataframe tbody tr th {\n",
       "        vertical-align: top;\n",
       "    }\n",
       "\n",
       "    .dataframe thead th {\n",
       "        text-align: right;\n",
       "    }\n",
       "</style>\n",
       "<table border=\"1\" class=\"dataframe\">\n",
       "  <thead>\n",
       "    <tr style=\"text-align: right;\">\n",
       "      <th></th>\n",
       "      <th>no of products</th>\n",
       "      <th>churn per group</th>\n",
       "      <th>churn rate(%)</th>\n",
       "    </tr>\n",
       "  </thead>\n",
       "  <tbody>\n",
       "    <tr>\n",
       "      <th>0</th>\n",
       "      <td>oneproduct</td>\n",
       "      <td>1409</td>\n",
       "      <td>69.17</td>\n",
       "    </tr>\n",
       "    <tr>\n",
       "      <th>1</th>\n",
       "      <td>twoproduct</td>\n",
       "      <td>348</td>\n",
       "      <td>17.08</td>\n",
       "    </tr>\n",
       "    <tr>\n",
       "      <th>2</th>\n",
       "      <td>threeproduct</td>\n",
       "      <td>220</td>\n",
       "      <td>10.80</td>\n",
       "    </tr>\n",
       "    <tr>\n",
       "      <th>3</th>\n",
       "      <td>fourproduct</td>\n",
       "      <td>60</td>\n",
       "      <td>2.95</td>\n",
       "    </tr>\n",
       "  </tbody>\n",
       "</table>\n",
       "</div>"
      ],
      "text/plain": [
       "  no of products  churn per group  churn rate(%)\n",
       "0     oneproduct             1409          69.17\n",
       "1     twoproduct              348          17.08\n",
       "2   threeproduct              220          10.80\n",
       "3    fourproduct               60           2.95"
      ]
     },
     "execution_count": 126,
     "metadata": {},
     "output_type": "execute_result"
    }
   ],
   "source": [
    "oneproduct_churn =df.query('products_number== 1 & churn==1').count()['churn']\n",
    "twoproduct_churn =df.query('products_number == 2 & churn ==1').count()['churn']\n",
    "threeproduct_churn = df.query('products_number== 3 & churn==1').count()['churn']\n",
    "fourproduct_churn =df.query('products_number ==4 & churn ==1').count()['churn']\n",
    "oneproduct_churn_rate= round((oneproduct_churn/total_churn)*100,2)\n",
    "twoproduct_churn_rate = round((twoproduct_churn/total_churn)*100,2)\n",
    "threeproduct_churn_rate = round((threeproduct_churn/total_churn)*100,2)\n",
    "fourproduct_churn_rate= round((fourproduct_churn/total_churn)*100,2)\n",
    "noofproducts_churn_data = [['oneproduct',oneproduct_churn,oneproduct_churn_rate],['twoproduct',twoproduct_churn,twoproduct_churn_rate],['threeproduct',threeproduct_churn,threeproduct_churn_rate],['fourproduct',fourproduct_churn,fourproduct_churn_rate]]\n",
    "noofproducts_churn_df=pd.DataFrame(noofproducts_churn_data,columns=[\"no of products\",\"churn per group\",\"churn rate(%)\"])\n",
    "noofproducts_churn_df"
   ]
  },
  {
   "cell_type": "code",
   "execution_count": 135,
   "id": "81f4b59d",
   "metadata": {},
   "outputs": [
    {
     "data": {
      "text/plain": [
       "<matplotlib.legend.Legend at 0x27765f98130>"
      ]
     },
     "execution_count": 135,
     "metadata": {},
     "output_type": "execute_result"
    },
    {
     "data": {
      "image/png": "[encoded data removed]",
      "text/plain": [
       "<Figure size 720x360 with 1 Axes>"
      ]
     },
     "metadata": {},
     "output_type": "display_data"
    }
   ],
   "source": [
    "# Hyp. test for having products on churn rate\n",
    "plt.style.use('seaborn')\n",
    "plt.figure(figsize=(10,5))\n",
    "plt.hist(df[df['churn']==1]['products_number'],bins=25,alpha=0.9,color='red',label='Churned')\n",
    "plt.hist(df[df['churn']==0]['products_number'],bins=25,alpha=0.5,color='blue',label='Not Churned')\n",
    "plt.xlabel('No of Products',size=8,color='purple')\n",
    "plt.ylabel('Count of Customers',size= 12,color='purple')\n",
    "plt.title('No of products vs. Churn Status',color='red',fontname='Ariel',size=15)\n",
    "plt.legend()"
   ]
  },
  {
   "cell_type": "code",
   "execution_count": 136,
   "id": "63b7be30",
   "metadata": {},
   "outputs": [
    {
     "data": {
      "text/plain": [
       "KruskalResult(statistic=1503.4789985708842, pvalue=0.0)"
      ]
     },
     "execution_count": 136,
     "metadata": {},
     "output_type": "execute_result"
    }
   ],
   "source": [
    "# Data is not normal\n",
    "one_p = df[df['products_number']==1]\n",
    "two_p= df[df['products_number']==2]\n",
    "three_p= df[df['products_number']==3]\n",
    "four_p= df[df['products_number']==4]\n",
    "stats.kruskal(one_p['churn'],two_p['churn'],three_p['churn'],four_p['churn'])"
   ]
  },
  {
   "cell_type": "code",
   "execution_count": 137,
   "id": "e9e71951",
   "metadata": {},
   "outputs": [],
   "source": [
    "# p-value<0.05 hence we reject the null and can conclude that having more number of products have impact on the churn rate."
   ]
  },
  {
   "cell_type": "code",
   "execution_count": 138,
   "id": "b104f510",
   "metadata": {},
   "outputs": [
    {
     "data": {
      "text/plain": [
       "<AxesSubplot:xlabel='tenure', ylabel='count'>"
      ]
     },
     "execution_count": 138,
     "metadata": {},
     "output_type": "execute_result"
    },
    {
     "data": {
      "image/png": "[encoded data removed]",
      "text/plain": [
       "<Figure size 864x576 with 1 Axes>"
      ]
     },
     "metadata": {},
     "output_type": "display_data"
    }
   ],
   "source": [
    "# Let's now see the impact of tenure on the churn rate\n",
    "plt.figure(figsize=(12,8))\n",
    "plt.suptitle('Tenure and Churn Status',size=12,fontname='Ariel',color='m')\n",
    "plt.subplot(2,2,2)\n",
    "sns.countplot(x='tenure',hue='churn',data=df,palette='rocket')"
   ]
  },
  {
   "cell_type": "code",
   "execution_count": 139,
   "id": "0851d66b",
   "metadata": {},
   "outputs": [],
   "source": [
    "# We see that tenure doesn't have much impact on the churn status. But those customers who have been for less than a year or for about 10 years have a relatively lower churn rate."
   ]
  },
  {
   "cell_type": "code",
   "execution_count": 178,
   "id": "defbdb99",
   "metadata": {},
   "outputs": [
    {
     "data": {
      "text/plain": [
       "<AxesSubplot:xlabel='churn', ylabel='tenure'>"
      ]
     },
     "execution_count": 178,
     "metadata": {},
     "output_type": "execute_result"
    },
    {
     "data": {
      "image/png": "[encoded data removed]",
      "text/plain": [
       "<Figure size 576x396 with 1 Axes>"
      ]
     },
     "metadata": {},
     "output_type": "display_data"
    }
   ],
   "source": [
    "sns.boxplot(y='tenure',x='churn',hue = 'churn',data=df,palette= 'magma')"
   ]
  },
  {
   "cell_type": "code",
   "execution_count": 142,
   "id": "c61f03ec",
   "metadata": {},
   "outputs": [
    {
     "data": {
      "text/plain": [
       "<AxesSubplot:xlabel='active_member', ylabel='count'>"
      ]
     },
     "execution_count": 142,
     "metadata": {},
     "output_type": "execute_result"
    },
    {
     "data": {
      "image/png": "[encoded data removed]",
      "text/plain": [
       "<Figure size 864x576 with 1 Axes>"
      ]
     },
     "metadata": {},
     "output_type": "display_data"
    }
   ],
   "source": [
    "# Let's see the impact of being an active member on the churn rate\n",
    "plt.figure(figsize=(12,8))\n",
    "plt.suptitle('Activity Status and Churn Status',size=12,fontname='Ariel',color='r')\n",
    "plt.subplot(2,1,1)\n",
    "sns.countplot(x='active_member',hue='churn',data=df,palette='mako')"
   ]
  },
  {
   "cell_type": "code",
   "execution_count": 143,
   "id": "7c378517",
   "metadata": {},
   "outputs": [
    {
     "data": {
      "text/html": [
       "<div>\n",
       "<style scoped>\n",
       "    .dataframe tbody tr th:only-of-type {\n",
       "        vertical-align: middle;\n",
       "    }\n",
       "\n",
       "    .dataframe tbody tr th {\n",
       "        vertical-align: top;\n",
       "    }\n",
       "\n",
       "    .dataframe thead th {\n",
       "        text-align: right;\n",
       "    }\n",
       "</style>\n",
       "<table border=\"1\" class=\"dataframe\">\n",
       "  <thead>\n",
       "    <tr style=\"text-align: right;\">\n",
       "      <th></th>\n",
       "      <th>activemember</th>\n",
       "      <th>churn per group</th>\n",
       "      <th>churn rate(%)</th>\n",
       "    </tr>\n",
       "  </thead>\n",
       "  <tbody>\n",
       "    <tr>\n",
       "      <th>0</th>\n",
       "      <td>activemember</td>\n",
       "      <td>735</td>\n",
       "      <td>36.08</td>\n",
       "    </tr>\n",
       "    <tr>\n",
       "      <th>1</th>\n",
       "      <td>notactive member</td>\n",
       "      <td>1302</td>\n",
       "      <td>63.92</td>\n",
       "    </tr>\n",
       "  </tbody>\n",
       "</table>\n",
       "</div>"
      ],
      "text/plain": [
       "       activemember  churn per group  churn rate(%)\n",
       "0      activemember              735          36.08\n",
       "1  notactive member             1302          63.92"
      ]
     },
     "execution_count": 143,
     "metadata": {},
     "output_type": "execute_result"
    }
   ],
   "source": [
    "activemember_churn =df.query('active_member==1 & churn==1').count()['churn']\n",
    "notactivemember_churn =df.query('active_member == 0 & churn ==1').count()['churn']\n",
    "activemember_churn_rate= round((activemember_churn/total_churn)*100,2)\n",
    "notactivemember_churn_rate = round((notactivemember_churn/total_churn)*100,2)\n",
    "activemember_churn_data = [['activemember',activemember_churn,activemember_churn_rate],['notactive member',notactivemember_churn ,notactivemember_churn_rate]]\n",
    "activemember_churn_df=pd.DataFrame(activemember_churn_data,columns=[\"activemember\",\"churn per group\",\"churn rate(%)\"])\n",
    "activemember_churn_df"
   ]
  },
  {
   "cell_type": "code",
   "execution_count": 145,
   "id": "c0bb5cb3",
   "metadata": {},
   "outputs": [
    {
     "data": {
      "text/plain": [
       "<matplotlib.legend.Legend at 0x2776727e040>"
      ]
     },
     "execution_count": 145,
     "metadata": {},
     "output_type": "execute_result"
    },
    {
     "data": {
      "image/png": "[encoded data removed]",
      "text/plain": [
       "<Figure size 1080x720 with 1 Axes>"
      ]
     },
     "metadata": {},
     "output_type": "display_data"
    }
   ],
   "source": [
    "# Next testing hypothesis:\n",
    "plt.style.use('seaborn')\n",
    "plt.figure(figsize=(15,10))\n",
    "plt.suptitle('Active member',fontname='Ariel',size=20,color='m')\n",
    "plt.subplot(2,1,1)\n",
    "plt.hist(df[df['churn']==1]['active_member'],bins=25,alpha=0.9,color='red',label='Churned')\n",
    "plt.hist(df[df['churn']==0]['active_member'],bins=25,alpha=0.5,color='blue',label='Not Churned')\n",
    "plt.xlabel('Activity Status',size=15,color='purple')\n",
    "plt.ylabel('Count of Customers',size= 15,color='purple')\n",
    "plt.title('Customer activity status vs. Churn Status',color='red',fontname='Ariel',size=15)\n",
    "plt.legend()"
   ]
  },
  {
   "cell_type": "code",
   "execution_count": 146,
   "id": "621657b6",
   "metadata": {},
   "outputs": [
    {
     "data": {
      "text/plain": [
       "KruskalResult(statistic=243.73601646306605, pvalue=6.027161172100523e-55)"
      ]
     },
     "execution_count": 146,
     "metadata": {},
     "output_type": "execute_result"
    }
   ],
   "source": [
    "# The data doesn't look normal\n",
    "active_n = df[df['active_member']==1]\n",
    "nonactive_n = df[df['active_member']==0]\n",
    "stats.kruskal(active_n['churn'],nonactive_n['churn'])"
   ]
  },
  {
   "cell_type": "code",
   "execution_count": 147,
   "id": "54b0648f",
   "metadata": {},
   "outputs": [],
   "source": [
    "# p-value< 0.05 hence we reject the null and can conclude that a customer's activity status has an impact on the churn rate."
   ]
  },
  {
   "cell_type": "code",
   "execution_count": 148,
   "id": "4f4c397b",
   "metadata": {},
   "outputs": [
    {
     "data": {
      "text/html": [
       "<div>\n",
       "<style scoped>\n",
       "    .dataframe tbody tr th:only-of-type {\n",
       "        vertical-align: middle;\n",
       "    }\n",
       "\n",
       "    .dataframe tbody tr th {\n",
       "        vertical-align: top;\n",
       "    }\n",
       "\n",
       "    .dataframe thead th {\n",
       "        text-align: right;\n",
       "    }\n",
       "</style>\n",
       "<table border=\"1\" class=\"dataframe\">\n",
       "  <thead>\n",
       "    <tr style=\"text-align: right;\">\n",
       "      <th></th>\n",
       "      <th>customer_id</th>\n",
       "      <th>credit_score</th>\n",
       "      <th>country</th>\n",
       "      <th>gender</th>\n",
       "      <th>age</th>\n",
       "      <th>tenure</th>\n",
       "      <th>balance</th>\n",
       "      <th>products_number</th>\n",
       "      <th>credit_card</th>\n",
       "      <th>active_member</th>\n",
       "      <th>estimated_salary</th>\n",
       "      <th>churn</th>\n",
       "      <th>AgeGroup</th>\n",
       "    </tr>\n",
       "  </thead>\n",
       "  <tbody>\n",
       "    <tr>\n",
       "      <th>0</th>\n",
       "      <td>15634602</td>\n",
       "      <td>619</td>\n",
       "      <td>France</td>\n",
       "      <td>Female</td>\n",
       "      <td>42</td>\n",
       "      <td>2</td>\n",
       "      <td>0.0</td>\n",
       "      <td>1</td>\n",
       "      <td>1</td>\n",
       "      <td>1</td>\n",
       "      <td>101348.88</td>\n",
       "      <td>1</td>\n",
       "      <td>adult</td>\n",
       "    </tr>\n",
       "    <tr>\n",
       "      <th>3</th>\n",
       "      <td>15701354</td>\n",
       "      <td>699</td>\n",
       "      <td>France</td>\n",
       "      <td>Female</td>\n",
       "      <td>39</td>\n",
       "      <td>1</td>\n",
       "      <td>0.0</td>\n",
       "      <td>2</td>\n",
       "      <td>0</td>\n",
       "      <td>0</td>\n",
       "      <td>93826.63</td>\n",
       "      <td>0</td>\n",
       "      <td>adult</td>\n",
       "    </tr>\n",
       "    <tr>\n",
       "      <th>6</th>\n",
       "      <td>15592531</td>\n",
       "      <td>822</td>\n",
       "      <td>France</td>\n",
       "      <td>Male</td>\n",
       "      <td>50</td>\n",
       "      <td>7</td>\n",
       "      <td>0.0</td>\n",
       "      <td>2</td>\n",
       "      <td>1</td>\n",
       "      <td>1</td>\n",
       "      <td>10062.80</td>\n",
       "      <td>0</td>\n",
       "      <td>adult</td>\n",
       "    </tr>\n",
       "    <tr>\n",
       "      <th>11</th>\n",
       "      <td>15737173</td>\n",
       "      <td>497</td>\n",
       "      <td>Spain</td>\n",
       "      <td>Male</td>\n",
       "      <td>24</td>\n",
       "      <td>3</td>\n",
       "      <td>0.0</td>\n",
       "      <td>2</td>\n",
       "      <td>1</td>\n",
       "      <td>0</td>\n",
       "      <td>76390.01</td>\n",
       "      <td>0</td>\n",
       "      <td>young</td>\n",
       "    </tr>\n",
       "    <tr>\n",
       "      <th>12</th>\n",
       "      <td>15632264</td>\n",
       "      <td>476</td>\n",
       "      <td>France</td>\n",
       "      <td>Female</td>\n",
       "      <td>34</td>\n",
       "      <td>10</td>\n",
       "      <td>0.0</td>\n",
       "      <td>2</td>\n",
       "      <td>1</td>\n",
       "      <td>0</td>\n",
       "      <td>26260.98</td>\n",
       "      <td>0</td>\n",
       "      <td>adult</td>\n",
       "    </tr>\n",
       "  </tbody>\n",
       "</table>\n",
       "</div>"
      ],
      "text/plain": [
       "    customer_id  credit_score country  gender  age  tenure  balance  \\\n",
       "0      15634602           619  France  Female   42       2      0.0   \n",
       "3      15701354           699  France  Female   39       1      0.0   \n",
       "6      15592531           822  France    Male   50       7      0.0   \n",
       "11     15737173           497   Spain    Male   24       3      0.0   \n",
       "12     15632264           476  France  Female   34      10      0.0   \n",
       "\n",
       "    products_number  credit_card  active_member  estimated_salary  churn  \\\n",
       "0                 1            1              1         101348.88      1   \n",
       "3                 2            0              0          93826.63      0   \n",
       "6                 2            1              1          10062.80      0   \n",
       "11                2            1              0          76390.01      0   \n",
       "12                2            1              0          26260.98      0   \n",
       "\n",
       "   AgeGroup  \n",
       "0     adult  \n",
       "3     adult  \n",
       "6     adult  \n",
       "11    young  \n",
       "12    adult  "
      ]
     },
     "execution_count": 148,
     "metadata": {},
     "output_type": "execute_result"
    }
   ],
   "source": [
    "# We want to test whether people with a high salary and zero balance churn more.\n",
    "dff = df[df['balance']==0]\n",
    "dff.head()"
   ]
  },
  {
   "cell_type": "code",
   "execution_count": 149,
   "id": "a7ae002a",
   "metadata": {},
   "outputs": [
    {
     "name": "stderr",
     "output_type": "stream",
     "text": [
      "C:\\Users\\chowd\\AppData\\Local\\Temp\\ipykernel_31340\\4056710703.py:1: SettingWithCopyWarning: \n",
      "A value is trying to be set on a copy of a slice from a DataFrame.\n",
      "Try using .loc[row_indexer,col_indexer] = value instead\n",
      "\n",
      "See the caveats in the documentation: https://pandas.pydata.org/pandas-docs/stable/user_guide/indexing.html#returning-a-view-versus-a-copy\n",
      "  dff['Salarygroup']= pd.cut(dff.estimated_salary,bins =[11,65000,130000,200000],labels= [0,1,2]) # 0=Low,1=Medium,2=High\n",
      "C:\\Users\\chowd\\AppData\\Local\\Temp\\ipykernel_31340\\4056710703.py:2: SettingWithCopyWarning: \n",
      "A value is trying to be set on a copy of a slice from a DataFrame.\n",
      "Try using .loc[row_indexer,col_indexer] = value instead\n",
      "\n",
      "See the caveats in the documentation: https://pandas.pydata.org/pandas-docs/stable/user_guide/indexing.html#returning-a-view-versus-a-copy\n",
      "  dff['Salarygroup']= dff.Salarygroup.astype(float)\n"
     ]
    },
    {
     "data": {
      "text/html": [
       "<div>\n",
       "<style scoped>\n",
       "    .dataframe tbody tr th:only-of-type {\n",
       "        vertical-align: middle;\n",
       "    }\n",
       "\n",
       "    .dataframe tbody tr th {\n",
       "        vertical-align: top;\n",
       "    }\n",
       "\n",
       "    .dataframe thead th {\n",
       "        text-align: right;\n",
       "    }\n",
       "</style>\n",
       "<table border=\"1\" class=\"dataframe\">\n",
       "  <thead>\n",
       "    <tr style=\"text-align: right;\">\n",
       "      <th></th>\n",
       "      <th>customer_id</th>\n",
       "      <th>credit_score</th>\n",
       "      <th>country</th>\n",
       "      <th>gender</th>\n",
       "      <th>age</th>\n",
       "      <th>tenure</th>\n",
       "      <th>balance</th>\n",
       "      <th>products_number</th>\n",
       "      <th>credit_card</th>\n",
       "      <th>active_member</th>\n",
       "      <th>estimated_salary</th>\n",
       "      <th>churn</th>\n",
       "      <th>AgeGroup</th>\n",
       "      <th>Salarygroup</th>\n",
       "    </tr>\n",
       "  </thead>\n",
       "  <tbody>\n",
       "    <tr>\n",
       "      <th>0</th>\n",
       "      <td>15634602</td>\n",
       "      <td>619</td>\n",
       "      <td>France</td>\n",
       "      <td>Female</td>\n",
       "      <td>42</td>\n",
       "      <td>2</td>\n",
       "      <td>0.0</td>\n",
       "      <td>1</td>\n",
       "      <td>1</td>\n",
       "      <td>1</td>\n",
       "      <td>101348.88</td>\n",
       "      <td>1</td>\n",
       "      <td>adult</td>\n",
       "      <td>1.0</td>\n",
       "    </tr>\n",
       "    <tr>\n",
       "      <th>3</th>\n",
       "      <td>15701354</td>\n",
       "      <td>699</td>\n",
       "      <td>France</td>\n",
       "      <td>Female</td>\n",
       "      <td>39</td>\n",
       "      <td>1</td>\n",
       "      <td>0.0</td>\n",
       "      <td>2</td>\n",
       "      <td>0</td>\n",
       "      <td>0</td>\n",
       "      <td>93826.63</td>\n",
       "      <td>0</td>\n",
       "      <td>adult</td>\n",
       "      <td>1.0</td>\n",
       "    </tr>\n",
       "    <tr>\n",
       "      <th>6</th>\n",
       "      <td>15592531</td>\n",
       "      <td>822</td>\n",
       "      <td>France</td>\n",
       "      <td>Male</td>\n",
       "      <td>50</td>\n",
       "      <td>7</td>\n",
       "      <td>0.0</td>\n",
       "      <td>2</td>\n",
       "      <td>1</td>\n",
       "      <td>1</td>\n",
       "      <td>10062.80</td>\n",
       "      <td>0</td>\n",
       "      <td>adult</td>\n",
       "      <td>0.0</td>\n",
       "    </tr>\n",
       "    <tr>\n",
       "      <th>11</th>\n",
       "      <td>15737173</td>\n",
       "      <td>497</td>\n",
       "      <td>Spain</td>\n",
       "      <td>Male</td>\n",
       "      <td>24</td>\n",
       "      <td>3</td>\n",
       "      <td>0.0</td>\n",
       "      <td>2</td>\n",
       "      <td>1</td>\n",
       "      <td>0</td>\n",
       "      <td>76390.01</td>\n",
       "      <td>0</td>\n",
       "      <td>young</td>\n",
       "      <td>1.0</td>\n",
       "    </tr>\n",
       "    <tr>\n",
       "      <th>12</th>\n",
       "      <td>15632264</td>\n",
       "      <td>476</td>\n",
       "      <td>France</td>\n",
       "      <td>Female</td>\n",
       "      <td>34</td>\n",
       "      <td>10</td>\n",
       "      <td>0.0</td>\n",
       "      <td>2</td>\n",
       "      <td>1</td>\n",
       "      <td>0</td>\n",
       "      <td>26260.98</td>\n",
       "      <td>0</td>\n",
       "      <td>adult</td>\n",
       "      <td>0.0</td>\n",
       "    </tr>\n",
       "  </tbody>\n",
       "</table>\n",
       "</div>"
      ],
      "text/plain": [
       "    customer_id  credit_score country  gender  age  tenure  balance  \\\n",
       "0      15634602           619  France  Female   42       2      0.0   \n",
       "3      15701354           699  France  Female   39       1      0.0   \n",
       "6      15592531           822  France    Male   50       7      0.0   \n",
       "11     15737173           497   Spain    Male   24       3      0.0   \n",
       "12     15632264           476  France  Female   34      10      0.0   \n",
       "\n",
       "    products_number  credit_card  active_member  estimated_salary  churn  \\\n",
       "0                 1            1              1         101348.88      1   \n",
       "3                 2            0              0          93826.63      0   \n",
       "6                 2            1              1          10062.80      0   \n",
       "11                2            1              0          76390.01      0   \n",
       "12                2            1              0          26260.98      0   \n",
       "\n",
       "   AgeGroup  Salarygroup  \n",
       "0     adult          1.0  \n",
       "3     adult          1.0  \n",
       "6     adult          0.0  \n",
       "11    young          1.0  \n",
       "12    adult          0.0  "
      ]
     },
     "execution_count": 149,
     "metadata": {},
     "output_type": "execute_result"
    }
   ],
   "source": [
    "dff['Salarygroup']= pd.cut(dff.estimated_salary,bins =[11,65000,130000,200000],labels= [0,1,2]) # 0=Low,1=Medium,2=High \n",
    "dff['Salarygroup']= dff.Salarygroup.astype(float)\n",
    "dff.head()"
   ]
  },
  {
   "cell_type": "code",
   "execution_count": 150,
   "id": "e858cb68",
   "metadata": {},
   "outputs": [
    {
     "data": {
      "text/plain": [
       "2.0    1245\n",
       "1.0    1197\n",
       "0.0    1175\n",
       "Name: Salarygroup, dtype: int64"
      ]
     },
     "execution_count": 150,
     "metadata": {},
     "output_type": "execute_result"
    }
   ],
   "source": [
    "dff['Salarygroup'].value_counts()"
   ]
  },
  {
   "cell_type": "code",
   "execution_count": 151,
   "id": "aa308756",
   "metadata": {},
   "outputs": [
    {
     "name": "stdout",
     "output_type": "stream",
     "text": [
      "There are 1175 customers with low salary\n",
      "There are 1169 customers with medium salary\n",
      "There are 1221 customers with high salary\n"
     ]
    }
   ],
   "source": [
    "low= dff.query('estimated_salary>=11 and estimated_salary<=65000 ')\n",
    "medium = dff.query('estimated_salary>=66000 and estimated_salary<=130000')\n",
    "high = dff.query('estimated_salary>=131000 and estimated_salary<=200000')\n",
    "# printing the number of customers falling in different salary levels\n",
    "print('There are', low['estimated_salary'].count(), 'customers with low salary')\n",
    "print('There are', medium['estimated_salary'].count(), 'customers with medium salary')\n",
    "print('There are', high['estimated_salary'].count(), 'customers with high salary')"
   ]
  },
  {
   "cell_type": "code",
   "execution_count": 152,
   "id": "d430b227",
   "metadata": {},
   "outputs": [
    {
     "data": {
      "text/plain": [
       "Text(0.5, 1.0, 'Salary Groups with zero balance vs. Churn Status')"
      ]
     },
     "execution_count": 152,
     "metadata": {},
     "output_type": "execute_result"
    },
    {
     "data": {
      "image/png": "[encoded data removed]",
      "text/plain": [
       "<Figure size 1080x720 with 2 Axes>"
      ]
     },
     "metadata": {},
     "output_type": "display_data"
    }
   ],
   "source": [
    "plt.style.use('seaborn')\n",
    "plt.figure(figsize=(15,10))\n",
    "plt.suptitle('Customers with zero balance and different salary level churn status',fontname='Ariel',size=20,color='m')\n",
    "plt.subplot(2,2,1)\n",
    "plt.hist(dff[dff['churn']==1]['estimated_salary'],bins=25,alpha=0.9,color='red',label='Churned')\n",
    "plt.hist(dff[dff['churn']==0]['estimated_salary'],bins=25,alpha=0.5,color='blue',label='Not Churned')\n",
    "plt.xlabel('Estimated Salary',size=15,color='purple')\n",
    "plt.ylabel('Count of Customers',size= 15,color='purple')\n",
    "plt.title('Estimated Salary with zero balance vs. Churn Status',color='red',fontname='Ariel',size=15)\n",
    "plt.legend()\n",
    "plt.subplot(2,2,2)\n",
    "\n",
    "sns.countplot(x = 'Salarygroup', data = dff[dff[\"churn\"] == 1])\n",
    "plt.xlabel(\"Salary group\", size = 15, color = \"purple\")\n",
    "plt.ylabel(\"Count of customers\", size = 15, color = \"purple\")\n",
    "plt.title(\"Salary Groups with zero balance vs. Churn Status\", color='red', fontname = \"Ariel\", size = 15)"
   ]
  },
  {
   "cell_type": "code",
   "execution_count": 154,
   "id": "0734e9c7",
   "metadata": {},
   "outputs": [
    {
     "data": {
      "text/html": [
       "<div>\n",
       "<style scoped>\n",
       "    .dataframe tbody tr th:only-of-type {\n",
       "        vertical-align: middle;\n",
       "    }\n",
       "\n",
       "    .dataframe tbody tr th {\n",
       "        vertical-align: top;\n",
       "    }\n",
       "\n",
       "    .dataframe thead th {\n",
       "        text-align: right;\n",
       "    }\n",
       "</style>\n",
       "<table border=\"1\" class=\"dataframe\">\n",
       "  <thead>\n",
       "    <tr style=\"text-align: right;\">\n",
       "      <th></th>\n",
       "      <th>salary groups</th>\n",
       "      <th>churn per group</th>\n",
       "      <th>churn rate(%)</th>\n",
       "    </tr>\n",
       "  </thead>\n",
       "  <tbody>\n",
       "    <tr>\n",
       "      <th>0</th>\n",
       "      <td>low salary</td>\n",
       "      <td>153</td>\n",
       "      <td>7.51</td>\n",
       "    </tr>\n",
       "    <tr>\n",
       "      <th>1</th>\n",
       "      <td>medium salary</td>\n",
       "      <td>167</td>\n",
       "      <td>8.20</td>\n",
       "    </tr>\n",
       "    <tr>\n",
       "      <th>2</th>\n",
       "      <td>high salary</td>\n",
       "      <td>180</td>\n",
       "      <td>8.84</td>\n",
       "    </tr>\n",
       "  </tbody>\n",
       "</table>\n",
       "</div>"
      ],
      "text/plain": [
       "   salary groups  churn per group  churn rate(%)\n",
       "0     low salary              153           7.51\n",
       "1  medium salary              167           8.20\n",
       "2    high salary              180           8.84"
      ]
     },
     "execution_count": 154,
     "metadata": {},
     "output_type": "execute_result"
    }
   ],
   "source": [
    "# We observe that those customers with high salary and zero balance churn more than those with low and medium salary with zero balance.\n",
    "# The data is not normally distributed so we use kruskal test for hypothesis testing.\n",
    "total_churn = df.query('churn==1').count()['churn']\n",
    "lowsal_churn_number=dff.query('Salarygroup == 0 & churn==1').count()['churn']\n",
    "lowsal_churn_rate = round((lowsal_churn_number/total_churn)*100,2)\n",
    "mediumsal_churn_number=dff.query('Salarygroup == 1 & churn ==1').count()['churn']\n",
    "mediumsal_churn_rate = round((mediumsal_churn_number/total_churn)*100,2)\n",
    "highsal_churn_number= dff.query('Salarygroup== 2 & churn==1').count()['churn']\n",
    "highsal_churn_rate= round((highsal_churn_number/total_churn)*100,2)\n",
    "salary_churn_data = [['low salary',lowsal_churn_number,lowsal_churn_rate],['medium salary',mediumsal_churn_number,mediumsal_churn_rate],['high salary',highsal_churn_number,highsal_churn_rate]]\n",
    "salary_churn_df=pd.DataFrame(salary_churn_data,columns=[\"salary groups\",\"churn per group\",\"churn rate(%)\"])\n",
    "salary_churn_df"
   ]
  },
  {
   "cell_type": "code",
   "execution_count": 155,
   "id": "8134c44d",
   "metadata": {},
   "outputs": [
    {
     "name": "stdout",
     "output_type": "stream",
     "text": [
      "DescribeResult(nobs=1175, minmax=(0, 1), mean=0.1302127659574468, variance=0.11335387292036679, skewness=2.1975998316384033, kurtosis=2.8294450200171406)\n",
      "DescribeResult(nobs=1169, minmax=(0, 1), mean=0.1394354148845167, variance=0.12009591384745187, skewness=2.081779761191438, kurtosis=2.33380697410628)\n",
      "DescribeResult(nobs=1221, minmax=(0, 1), mean=0.14250614250614252, variance=0.12229830426551741, skewness=2.0453436119777515, kurtosis=2.1834304910581945)\n"
     ]
    }
   ],
   "source": [
    "# The data doesn't look normal\n",
    "print(stats.describe(low['churn']))\n",
    "print(stats.describe(medium['churn']))\n",
    "print(stats.describe(high['churn']))"
   ]
  },
  {
   "cell_type": "code",
   "execution_count": 156,
   "id": "573feb16",
   "metadata": {},
   "outputs": [
    {
     "name": "stdout",
     "output_type": "stream",
     "text": [
      "ShapiroResult(statistic=0.39592164754867554, pvalue=0.0)\n",
      "ShapiroResult(statistic=0.41049790382385254, pvalue=0.0)\n",
      "ShapiroResult(statistic=0.41518592834472656, pvalue=0.0)\n"
     ]
    }
   ],
   "source": [
    "# doing a normality check\n",
    "print(stats.shapiro(low['churn']))\n",
    "print(stats.shapiro(medium['churn']))\n",
    "print(stats.shapiro(high['churn']))"
   ]
  },
  {
   "cell_type": "code",
   "execution_count": 157,
   "id": "acb218c4",
   "metadata": {},
   "outputs": [
    {
     "data": {
      "text/plain": [
       "KruskalResult(statistic=0.82103820801733, pvalue=0.6633058360322271)"
      ]
     },
     "execution_count": 157,
     "metadata": {},
     "output_type": "execute_result"
    }
   ],
   "source": [
    "# Each p-value<0.05 and W is not 1 hence the data is not normally dustributed.\n",
    "stats.kruskal(low['churn'],medium['churn'],high['churn'])"
   ]
  },
  {
   "cell_type": "code",
   "execution_count": 158,
   "id": "7f08bd7f",
   "metadata": {},
   "outputs": [],
   "source": [
    "# p-value>0.05 hence we accept the null that there is no significant difference in the churn rate between people who have a high salary and zero balance & those who have a low salary & zero balance."
   ]
  },
  {
   "cell_type": "code",
   "execution_count": 191,
   "id": "7e5a0b70",
   "metadata": {},
   "outputs": [
    {
     "data": {
      "text/plain": [
       "<AxesSubplot:xlabel='churn', ylabel='credit_score'>"
      ]
     },
     "execution_count": 191,
     "metadata": {},
     "output_type": "execute_result"
    },
    {
     "data": {
      "image/png": "[encoded data removed]",
      "text/plain": [
       "<Figure size 864x576 with 1 Axes>"
      ]
     },
     "metadata": {},
     "output_type": "display_data"
    }
   ],
   "source": [
    "# Credit score and churn status\n",
    "plt.figure(figsize=(12,8))\n",
    "plt.suptitle('Credit Score  and Churn Status',size=12,fontname='Ariel',color='r')\n",
    "sns.boxplot(y='credit_score',x='churn',hue = 'churn',data=df,palette= 'magma')"
   ]
  },
  {
   "cell_type": "code",
   "execution_count": null,
   "id": "3e959a85",
   "metadata": {},
   "outputs": [],
   "source": [
    "# Implies people with a lower credit score have higher chances of churning."
   ]
  },
  {
   "cell_type": "code",
   "execution_count": 192,
   "id": "c86296ba",
   "metadata": {},
   "outputs": [
    {
     "data": {
      "text/plain": [
       "<AxesSubplot:xlabel='churn', ylabel='balance'>"
      ]
     },
     "execution_count": 192,
     "metadata": {},
     "output_type": "execute_result"
    },
    {
     "data": {
      "image/png": "[encoded data removed]",
      "text/plain": [
       "<Figure size 864x576 with 1 Axes>"
      ]
     },
     "metadata": {},
     "output_type": "display_data"
    }
   ],
   "source": [
    "# Account balance and churn status\n",
    "plt.figure(figsize=(12,8))\n",
    "plt.suptitle('Account Balance  and Churn Status',size=12,fontname='Ariel',color='r')\n",
    "sns.boxplot(y='balance',x='churn',hue = 'churn',data=df,palette= 'crest')"
   ]
  },
  {
   "cell_type": "code",
   "execution_count": 200,
   "id": "1fc69d47",
   "metadata": {},
   "outputs": [],
   "source": [
    "# Implies people with a higher account balance have a higher churn status"
   ]
  },
  {
   "cell_type": "code",
   "execution_count": null,
   "id": "0d5cfe6a",
   "metadata": {},
   "outputs": [],
   "source": []
  }
 ],
 "metadata": {
  "kernelspec": {
   "display_name": "Python 3 (ipykernel)",
   "language": "python",
   "name": "python3"
  },
  "language_info": {
   "codemirror_mode": {
    "name": "ipython",
    "version": 3
   },
   "file_extension": ".py",
   "mimetype": "text/x-python",
   "name": "python",
   "nbconvert_exporter": "python",
   "pygments_lexer": "ipython3",
   "version": "3.9.12"
  }
 },
 "nbformat": 4,
 "nbformat_minor": 5
}
