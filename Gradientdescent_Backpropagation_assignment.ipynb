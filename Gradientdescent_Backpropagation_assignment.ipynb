{
  "nbformat": 4,
  "nbformat_minor": 0,
  "metadata": {
    "colab": {
      "provenance": [],
      "authorship_tag": "ABX9TyMWBy3osOXLRTH2Xjwa+eJv",
      "include_colab_link": true
    },
    "kernelspec": {
      "name": "python3",
      "display_name": "Python 3"
    },
    "language_info": {
      "name": "python"
    }
  },
  "cells": [
    {
      "cell_type": "markdown",
      "metadata": {
        "id": "view-in-github",
        "colab_type": "text"
      },
      "source": [
        "<a href=\"https://colab.research.google.com/github/sreoshi123/Assignments/blob/main/Gradientdescent_Backpropagation_assignment.ipynb\" target=\"_parent\"><img src=\"https://colab.research.google.com/assets/colab-badge.svg\" alt=\"Open In Colab\"/></a>"
      ]
    },
    {
      "cell_type": "markdown",
      "source": [
        "In this assessment, you'll continue working on the MNIST dataset. So, train and test the models specified in the tasks below using the MNIST data. You can choose the number of epochs for training. But for the sake of comparison, it's a good idea to train for 20 epochs."
      ],
      "metadata": {
        "id": "6eIYT2Ylq13A"
      }
    },
    {
      "cell_type": "markdown",
      "source": [
        "\n",
        "\n",
        "In this task, you'll implement several ANN models with different batch sizes. Specifically, do the following:\n",
        "\n",
        "    Implement a three-layer ANN model with 128, 64, and 10 neurons in the layers. Use 8 as the mini-batch size.\n",
        "    Implement a three-layer ANN model with 128, 64, and 10 neurons in the layers. Use 128 as the mini-batch size.\n",
        "    Implement a three-layer ANN model with 128, 64, and 10 neurons in the layers. Use the full sample as the batch size.\n",
        "    Compare the results of each model. Which batch size performed best?\n",
        "\n"
      ],
      "metadata": {
        "id": "OmH-gcdzq75l"
      }
    },
    {
      "cell_type": "code",
      "source": [
        "import warnings\n",
        "warnings.filterwarnings('ignore')\n",
        "from tensorflow.keras.datasets import mnist\n",
        "from tensorflow.keras.utils import to_categorical\n",
        "from tensorflow.keras.models import Sequential\n",
        "from tensorflow.keras.layers import Dense"
      ],
      "metadata": {
        "id": "bx1uu3knq_-I"
      },
      "execution_count": 6,
      "outputs": []
    },
    {
      "cell_type": "code",
      "source": [
        "(X_train, y_train), (X_test, y_test) = mnist.load_data()\n",
        "\n",
        "input_dim = 784 # 28*28\n",
        "output_dim = nb_classes = 10\n",
        "nb_epoch = 20\n",
        "X_train = X_train.reshape(60000, input_dim)\n",
        "X_test = X_test.reshape(10000, input_dim)\n",
        "X_train = X_train.astype('float32')\n",
        "X_test = X_test.astype('float32')\n",
        "X_train /= 255\n",
        "X_test /= 255"
      ],
      "metadata": {
        "colab": {
          "base_uri": "https://localhost:8080/"
        },
        "id": "8_yakc8lreU8",
        "outputId": "66288490-e4e2-4e80-89d3-8c025d1c60e7"
      },
      "execution_count": 7,
      "outputs": [
        {
          "output_type": "stream",
          "name": "stdout",
          "text": [
            "Downloading data from https://storage.googleapis.com/tensorflow/tf-keras-datasets/mnist.npz\n",
            "11490434/11490434 [==============================] - 0s 0us/step\n"
          ]
        }
      ]
    },
    {
      "cell_type": "code",
      "source": [
        "Y_train = to_categorical(y_train, nb_classes)\n",
        "Y_test = to_categorical(y_test, nb_classes)"
      ],
      "metadata": {
        "id": "4nY9-9rRsX13"
      },
      "execution_count": 8,
      "outputs": []
    },
    {
      "cell_type": "markdown",
      "source": [
        "In this task, you'll implement several ANN models with different batch sizes. Specifically:"
      ],
      "metadata": {
        "id": "fyMjwHP2tngV"
      }
    },
    {
      "cell_type": "markdown",
      "source": [
        "Implement a three layer ANN model with 128, 64 and 10 neurons in the layers using 8 as the mini batch size."
      ],
      "metadata": {
        "id": "LutVIoq3trqs"
      }
    },
    {
      "cell_type": "code",
      "source": [
        "model = Sequential()\n",
        "# our first dense layer\n",
        "model.add(Dense(128, input_shape = (784,), activation = 'relu'))\n",
        "# our second layer\n",
        "model.add(Dense(64, activation = 'relu'))\n",
        "# last layer is the output layer\n",
        "model.add(Dense(10, activation = 'softmax'))\n",
        "model.compile(optimizer = 'sgd', loss = 'categorical_crossentropy',metrics = ['accuracy'])\n",
        "# setting verbose=1 prints out some results after each epoch\n",
        "model.fit(X_train, Y_train, batch_size=8, epochs = 20, verbose=1)"
      ],
      "metadata": {
        "colab": {
          "base_uri": "https://localhost:8080/"
        },
        "id": "U2YuxBNhtvF8",
        "outputId": "827d513d-8ec8-45b7-a52f-758b54baaf3b"
      },
      "execution_count": 4,
      "outputs": [
        {
          "output_type": "stream",
          "name": "stdout",
          "text": [
            "Epoch 1/20\n",
            "7500/7500 [==============================] - 31s 4ms/step - loss: 0.3601 - accuracy: 0.8982\n",
            "Epoch 2/20\n",
            "7500/7500 [==============================] - 28s 4ms/step - loss: 0.1745 - accuracy: 0.9480\n",
            "Epoch 3/20\n",
            "7500/7500 [==============================] - 28s 4ms/step - loss: 0.1245 - accuracy: 0.9632\n",
            "Epoch 4/20\n",
            "7500/7500 [==============================] - 25s 3ms/step - loss: 0.0974 - accuracy: 0.9714\n",
            "Epoch 5/20\n",
            "7500/7500 [==============================] - 26s 3ms/step - loss: 0.0804 - accuracy: 0.9764\n",
            "Epoch 6/20\n",
            "7500/7500 [==============================] - 26s 3ms/step - loss: 0.0666 - accuracy: 0.9801\n",
            "Epoch 7/20\n",
            "7500/7500 [==============================] - 27s 4ms/step - loss: 0.0571 - accuracy: 0.9830\n",
            "Epoch 8/20\n",
            "7500/7500 [==============================] - 26s 3ms/step - loss: 0.0493 - accuracy: 0.9851\n",
            "Epoch 9/20\n",
            "7500/7500 [==============================] - 25s 3ms/step - loss: 0.0428 - accuracy: 0.9878\n",
            "Epoch 10/20\n",
            "7500/7500 [==============================] - 27s 4ms/step - loss: 0.0372 - accuracy: 0.9888\n",
            "Epoch 11/20\n",
            "7500/7500 [==============================] - 26s 3ms/step - loss: 0.0332 - accuracy: 0.9901\n",
            "Epoch 12/20\n",
            "7500/7500 [==============================] - 26s 3ms/step - loss: 0.0286 - accuracy: 0.9922\n",
            "Epoch 13/20\n",
            "7500/7500 [==============================] - 27s 4ms/step - loss: 0.0244 - accuracy: 0.9933\n",
            "Epoch 14/20\n",
            "7500/7500 [==============================] - 23s 3ms/step - loss: 0.0212 - accuracy: 0.9944\n",
            "Epoch 15/20\n",
            "7500/7500 [==============================] - 23s 3ms/step - loss: 0.0178 - accuracy: 0.9955\n",
            "Epoch 16/20\n",
            "7500/7500 [==============================] - 24s 3ms/step - loss: 0.0163 - accuracy: 0.9961\n",
            "Epoch 17/20\n",
            "7500/7500 [==============================] - 23s 3ms/step - loss: 0.0135 - accuracy: 0.9972\n",
            "Epoch 18/20\n",
            "7500/7500 [==============================] - 24s 3ms/step - loss: 0.0118 - accuracy: 0.9977\n",
            "Epoch 19/20\n",
            "7500/7500 [==============================] - 27s 4ms/step - loss: 0.0099 - accuracy: 0.9982\n",
            "Epoch 20/20\n",
            "7500/7500 [==============================] - 24s 3ms/step - loss: 0.0082 - accuracy: 0.9989\n"
          ]
        },
        {
          "output_type": "execute_result",
          "data": {
            "text/plain": [
              "<keras.src.callbacks.History at 0x786fc66556f0>"
            ]
          },
          "metadata": {},
          "execution_count": 4
        }
      ]
    },
    {
      "cell_type": "code",
      "source": [
        "score = model.evaluate(X_test, Y_test, verbose =0)\n",
        "print('Test score:', score[0])\n",
        "print('Test accuracy:', score[1])"
      ],
      "metadata": {
        "colab": {
          "base_uri": "https://localhost:8080/"
        },
        "id": "7w8y8EWE39zo",
        "outputId": "011f1383-dfcf-45c2-f266-ca5006e16a7d"
      },
      "execution_count": 5,
      "outputs": [
        {
          "output_type": "stream",
          "name": "stdout",
          "text": [
            "Test score: 0.0744028389453888\n",
            "Test accuracy: 0.9789999723434448\n"
          ]
        }
      ]
    },
    {
      "cell_type": "markdown",
      "source": [
        "Implement a three layer ANN model with 128, 64 and 10 neurons in the layers using 128 as the mini batch size."
      ],
      "metadata": {
        "id": "gcnBmf_N-me_"
      }
    },
    {
      "cell_type": "code",
      "source": [
        "model = Sequential()\n",
        "# our first dense layer\n",
        "model.add(Dense(128, input_shape = (784,), activation = 'relu'))\n",
        "# our second dense layer\n",
        "model.add(Dense(64,activation = 'relu'))\n",
        "# last layer is the output layer\n",
        "model.add(Dense(10, activation='softmax'))\n",
        "model.compile(optimizer = 'sgd', loss= 'categorical_crossentropy', metrics = ['accuracy'])\n",
        "# setting verbose=1 prints out some results after each epoch\n",
        "model.fit(X_train, Y_train, batch_size=128, epochs=20, verbose=1)"
      ],
      "metadata": {
        "colab": {
          "base_uri": "https://localhost:8080/"
        },
        "id": "wF3tRDOy-qmF",
        "outputId": "e94ea046-4ad8-46b9-f819-b5e9743c8424"
      },
      "execution_count": 6,
      "outputs": [
        {
          "output_type": "stream",
          "name": "stdout",
          "text": [
            "Epoch 1/20\n",
            "469/469 [==============================] - 3s 6ms/step - loss: 1.2353 - accuracy: 0.7029\n",
            "Epoch 2/20\n",
            "469/469 [==============================] - 3s 6ms/step - loss: 0.4963 - accuracy: 0.8713\n",
            "Epoch 3/20\n",
            "469/469 [==============================] - 4s 9ms/step - loss: 0.3822 - accuracy: 0.8946\n",
            "Epoch 4/20\n",
            "469/469 [==============================] - 3s 6ms/step - loss: 0.3344 - accuracy: 0.9063\n",
            "Epoch 5/20\n",
            "469/469 [==============================] - 3s 6ms/step - loss: 0.3054 - accuracy: 0.9146\n",
            "Epoch 6/20\n",
            "469/469 [==============================] - 3s 6ms/step - loss: 0.2843 - accuracy: 0.9197\n",
            "Epoch 7/20\n",
            "469/469 [==============================] - 3s 6ms/step - loss: 0.2674 - accuracy: 0.9244\n",
            "Epoch 8/20\n",
            "469/469 [==============================] - 4s 9ms/step - loss: 0.2533 - accuracy: 0.9284\n",
            "Epoch 9/20\n",
            "469/469 [==============================] - 3s 7ms/step - loss: 0.2410 - accuracy: 0.9313\n",
            "Epoch 10/20\n",
            "469/469 [==============================] - 3s 7ms/step - loss: 0.2305 - accuracy: 0.9349\n",
            "Epoch 11/20\n",
            "469/469 [==============================] - 3s 6ms/step - loss: 0.2210 - accuracy: 0.9377\n",
            "Epoch 12/20\n",
            "469/469 [==============================] - 5s 11ms/step - loss: 0.2124 - accuracy: 0.9399\n",
            "Epoch 13/20\n",
            "469/469 [==============================] - 3s 7ms/step - loss: 0.2046 - accuracy: 0.9421\n",
            "Epoch 14/20\n",
            "469/469 [==============================] - 3s 6ms/step - loss: 0.1975 - accuracy: 0.9446\n",
            "Epoch 15/20\n",
            "469/469 [==============================] - 3s 6ms/step - loss: 0.1909 - accuracy: 0.9462\n",
            "Epoch 16/20\n",
            "469/469 [==============================] - 3s 7ms/step - loss: 0.1846 - accuracy: 0.9475\n",
            "Epoch 17/20\n",
            "469/469 [==============================] - 4s 9ms/step - loss: 0.1790 - accuracy: 0.9493\n",
            "Epoch 18/20\n",
            "469/469 [==============================] - 4s 8ms/step - loss: 0.1732 - accuracy: 0.9512\n",
            "Epoch 19/20\n",
            "469/469 [==============================] - 3s 6ms/step - loss: 0.1683 - accuracy: 0.9520\n",
            "Epoch 20/20\n",
            "469/469 [==============================] - 3s 6ms/step - loss: 0.1631 - accuracy: 0.9537\n"
          ]
        },
        {
          "output_type": "execute_result",
          "data": {
            "text/plain": [
              "<keras.src.callbacks.History at 0x786fc1280640>"
            ]
          },
          "metadata": {},
          "execution_count": 6
        }
      ]
    },
    {
      "cell_type": "code",
      "source": [
        "score = model.evaluate(X_test, Y_test, verbose=0)\n",
        "print('Test score:', score[0])\n",
        "print('Test accuracy:', score[1])"
      ],
      "metadata": {
        "colab": {
          "base_uri": "https://localhost:8080/"
        },
        "id": "T72HaqD_R2JR",
        "outputId": "64a234f3-3245-4c8a-90f1-508b69e1dfca"
      },
      "execution_count": 7,
      "outputs": [
        {
          "output_type": "stream",
          "name": "stdout",
          "text": [
            "Test score: 0.16345174610614777\n",
            "Test accuracy: 0.9532999992370605\n"
          ]
        }
      ]
    },
    {
      "cell_type": "markdown",
      "source": [
        "Implement a three layer ANN model with 128, 64 and 10 neurons in the layers using the full sample as the batch."
      ],
      "metadata": {
        "id": "WB4GrnpWR_Dx"
      }
    },
    {
      "cell_type": "code",
      "source": [
        "model = Sequential()\n",
        "# our first dense layer\n",
        "model.add(Dense(128, input_shape = (784,), activation = 'relu'))\n",
        "# our second dense layer\n",
        "model.add(Dense(64, activation = 'relu'))\n",
        "# last layer is the output layer\n",
        "model.add(Dense(10, activation='softmax'))\n",
        "model.compile(optimizer = 'sgd', loss = 'categorical_crossentropy', metrics = ['accuracy'])\n",
        "\n",
        "# setting verbose=1 prints out some results after each epoch\n",
        "model.fit(X_train, Y_train, batch_size= X_train.shape[0],epochs=20, verbose=1)"
      ],
      "metadata": {
        "colab": {
          "base_uri": "https://localhost:8080/"
        },
        "id": "KihsU2ISSCWs",
        "outputId": "5393673d-5be9-4799-cd23-aee697b0a2c2"
      },
      "execution_count": 8,
      "outputs": [
        {
          "output_type": "stream",
          "name": "stdout",
          "text": [
            "Epoch 1/20\n",
            "1/1 [==============================] - 2s 2s/step - loss: 2.3510 - accuracy: 0.0928\n",
            "Epoch 2/20\n",
            "1/1 [==============================] - 1s 822ms/step - loss: 2.3451 - accuracy: 0.0941\n",
            "Epoch 3/20\n",
            "1/1 [==============================] - 1s 805ms/step - loss: 2.3393 - accuracy: 0.0955\n",
            "Epoch 4/20\n",
            "1/1 [==============================] - 1s 782ms/step - loss: 2.3336 - accuracy: 0.0973\n",
            "Epoch 5/20\n",
            "1/1 [==============================] - 1s 810ms/step - loss: 2.3279 - accuracy: 0.0995\n",
            "Epoch 6/20\n",
            "1/1 [==============================] - 1s 1s/step - loss: 2.3223 - accuracy: 0.1008\n",
            "Epoch 7/20\n",
            "1/1 [==============================] - 1s 1s/step - loss: 2.3168 - accuracy: 0.1029\n",
            "Epoch 8/20\n",
            "1/1 [==============================] - 1s 1s/step - loss: 2.3113 - accuracy: 0.1053\n",
            "Epoch 9/20\n",
            "1/1 [==============================] - 1s 1s/step - loss: 2.3059 - accuracy: 0.1079\n",
            "Epoch 10/20\n",
            "1/1 [==============================] - 1s 822ms/step - loss: 2.3005 - accuracy: 0.1107\n",
            "Epoch 11/20\n",
            "1/1 [==============================] - 1s 766ms/step - loss: 2.2952 - accuracy: 0.1142\n",
            "Epoch 12/20\n",
            "1/1 [==============================] - 1s 771ms/step - loss: 2.2898 - accuracy: 0.1174\n",
            "Epoch 13/20\n",
            "1/1 [==============================] - 1s 784ms/step - loss: 2.2846 - accuracy: 0.1205\n",
            "Epoch 14/20\n",
            "1/1 [==============================] - 1s 801ms/step - loss: 2.2793 - accuracy: 0.1241\n",
            "Epoch 15/20\n",
            "1/1 [==============================] - 1s 807ms/step - loss: 2.2741 - accuracy: 0.1282\n",
            "Epoch 16/20\n",
            "1/1 [==============================] - 1s 784ms/step - loss: 2.2689 - accuracy: 0.1324\n",
            "Epoch 17/20\n",
            "1/1 [==============================] - 1s 818ms/step - loss: 2.2638 - accuracy: 0.1373\n",
            "Epoch 18/20\n",
            "1/1 [==============================] - 1s 656ms/step - loss: 2.2586 - accuracy: 0.1420\n",
            "Epoch 19/20\n",
            "1/1 [==============================] - 1s 643ms/step - loss: 2.2535 - accuracy: 0.1473\n",
            "Epoch 20/20\n",
            "1/1 [==============================] - 1s 664ms/step - loss: 2.2484 - accuracy: 0.1529\n"
          ]
        },
        {
          "output_type": "execute_result",
          "data": {
            "text/plain": [
              "<keras.src.callbacks.History at 0x786fa4e3b0d0>"
            ]
          },
          "metadata": {},
          "execution_count": 8
        }
      ]
    },
    {
      "cell_type": "code",
      "source": [
        "score = model.evaluate(X_test, Y_test, verbose=0)\n",
        "print('Test score:', score[0])\n",
        "print('Test accuracy:', score[1])"
      ],
      "metadata": {
        "colab": {
          "base_uri": "https://localhost:8080/"
        },
        "id": "u0zBscuETD8M",
        "outputId": "6ca29fc5-28f1-48e4-9443-ef836f0f4011"
      },
      "execution_count": 9,
      "outputs": [
        {
          "output_type": "stream",
          "name": "stdout",
          "text": [
            "Test score: 2.2427990436553955\n",
            "Test accuracy: 0.1607999950647354\n"
          ]
        }
      ]
    },
    {
      "cell_type": "markdown",
      "source": [
        "The best performance both in training and test sets are achieved using 8 as the mini batch size. However, the difference between the scores of the training and test sets are relatively large compared to the scores achieved when using 128 as mini batch size. Since the scores achieved when using 128 as the mini batch size are close to those that are achieed when using 8 as the mini batch size, one can go with 128 because of the overfitting concerns."
      ],
      "metadata": {
        "id": "v2yMUPnVTXW4"
      }
    },
    {
      "cell_type": "markdown",
      "source": [
        "Q2. In this task, you'll implement several ANN models with different learning rates for the stochastic gradient descent. In all of the models below, use 128 as your mini batch size."
      ],
      "metadata": {
        "id": "9a3DT4bkUDap"
      }
    },
    {
      "cell_type": "code",
      "source": [
        "from tensorflow.keras import optimizers\n",
        "sgd_001 = optimizers.SGD(learning_rate=0.01)\n",
        "sgd_100 = optimizers.SGD(learning_rate=100)\n",
        "sgd_00000001= optimizers.SGD(learning_rate=0.0000001)"
      ],
      "metadata": {
        "id": "o5KNtVbnUu8q"
      },
      "execution_count": 1,
      "outputs": []
    },
    {
      "cell_type": "markdown",
      "source": [
        "Implement a three layer ANN model with 128, 64 and 10 neurons in the layers using 0.01 as the learning rate."
      ],
      "metadata": {
        "id": "iO7ttw65fudV"
      }
    },
    {
      "cell_type": "code",
      "source": [
        "from tensorflow.keras.models import Sequential\n",
        "model = Sequential()\n",
        "# our first dense layer\n",
        "model.add(Dense(128, input_shape=(784,), activation = 'relu'))\n",
        "# our second dense layer\n",
        "model.add(Dense(64, activation = 'relu'))\n",
        "# last layer is the output layer\n",
        "model.add(Dense(10, activation='softmax'))\n",
        "model.compile(optimizer = sgd_001, loss= 'categorical_crossentropy', metrics = ['accuracy'])\n",
        "# setting verbose=1 prints out some results after each epoch\n",
        "model.fit(X_train, Y_train, batch_size = 128, epochs =20, verbose=1)"
      ],
      "metadata": {
        "colab": {
          "base_uri": "https://localhost:8080/"
        },
        "id": "RFILB-hffwqu",
        "outputId": "f2e2719d-2e77-464a-d26e-823dbc08576d"
      },
      "execution_count": 9,
      "outputs": [
        {
          "output_type": "stream",
          "name": "stdout",
          "text": [
            "Epoch 1/20\n",
            "469/469 [==============================] - 3s 4ms/step - loss: 1.2901 - accuracy: 0.6618\n",
            "Epoch 2/20\n",
            "469/469 [==============================] - 2s 5ms/step - loss: 0.5032 - accuracy: 0.8685\n",
            "Epoch 3/20\n",
            "469/469 [==============================] - 2s 5ms/step - loss: 0.3838 - accuracy: 0.8947\n",
            "Epoch 4/20\n",
            "469/469 [==============================] - 4s 8ms/step - loss: 0.3359 - accuracy: 0.9059\n",
            "Epoch 5/20\n",
            "469/469 [==============================] - 5s 10ms/step - loss: 0.3073 - accuracy: 0.9136\n",
            "Epoch 6/20\n",
            "469/469 [==============================] - 2s 4ms/step - loss: 0.2870 - accuracy: 0.9190\n",
            "Epoch 7/20\n",
            "469/469 [==============================] - 2s 4ms/step - loss: 0.2707 - accuracy: 0.9237\n",
            "Epoch 8/20\n",
            "469/469 [==============================] - 2s 4ms/step - loss: 0.2572 - accuracy: 0.9277\n",
            "Epoch 9/20\n",
            "469/469 [==============================] - 2s 4ms/step - loss: 0.2454 - accuracy: 0.9309\n",
            "Epoch 10/20\n",
            "469/469 [==============================] - 2s 4ms/step - loss: 0.2349 - accuracy: 0.9344\n",
            "Epoch 11/20\n",
            "469/469 [==============================] - 3s 7ms/step - loss: 0.2256 - accuracy: 0.9372\n",
            "Epoch 12/20\n",
            "469/469 [==============================] - 2s 4ms/step - loss: 0.2171 - accuracy: 0.9386\n",
            "Epoch 13/20\n",
            "469/469 [==============================] - 2s 4ms/step - loss: 0.2093 - accuracy: 0.9410\n",
            "Epoch 14/20\n",
            "469/469 [==============================] - 2s 4ms/step - loss: 0.2020 - accuracy: 0.9429\n",
            "Epoch 15/20\n",
            "469/469 [==============================] - 2s 4ms/step - loss: 0.1954 - accuracy: 0.9445\n",
            "Epoch 16/20\n",
            "469/469 [==============================] - 2s 4ms/step - loss: 0.1890 - accuracy: 0.9467\n",
            "Epoch 17/20\n",
            "469/469 [==============================] - 3s 6ms/step - loss: 0.1833 - accuracy: 0.9477\n",
            "Epoch 18/20\n",
            "469/469 [==============================] - 3s 6ms/step - loss: 0.1778 - accuracy: 0.9494\n",
            "Epoch 19/20\n",
            "469/469 [==============================] - 2s 4ms/step - loss: 0.1727 - accuracy: 0.9510\n",
            "Epoch 20/20\n",
            "469/469 [==============================] - 2s 4ms/step - loss: 0.1677 - accuracy: 0.9526\n"
          ]
        },
        {
          "output_type": "execute_result",
          "data": {
            "text/plain": [
              "<keras.src.callbacks.History at 0x7946283118a0>"
            ]
          },
          "metadata": {},
          "execution_count": 9
        }
      ]
    },
    {
      "cell_type": "code",
      "source": [
        "score = model.evaluate(X_test, Y_test, verbose=0)\n",
        "print('Test score:', score[0])\n",
        "print('Test accuracy:', score[1])"
      ],
      "metadata": {
        "colab": {
          "base_uri": "https://localhost:8080/"
        },
        "id": "HFJpdxfThfKF",
        "outputId": "3da4019c-4ff9-4bea-f2a2-34b0e71007e3"
      },
      "execution_count": 10,
      "outputs": [
        {
          "output_type": "stream",
          "name": "stdout",
          "text": [
            "Test score: 0.17135579884052277\n",
            "Test accuracy: 0.949999988079071\n"
          ]
        }
      ]
    },
    {
      "cell_type": "markdown",
      "source": [],
      "metadata": {
        "id": "BLnR2IcAgFDm"
      }
    },
    {
      "cell_type": "markdown",
      "source": [
        "Implement a three layer ANN model with 128, 64 and 10 neurons in the layers using 100 as the learning rate."
      ],
      "metadata": {
        "id": "uMrlI38zh9mh"
      }
    },
    {
      "cell_type": "code",
      "source": [
        "model = Sequential()\n",
        "# our first dense layer\n",
        "model.add(Dense(128, input_shape=(784,), activation=\"relu\"))\n",
        "# our second dense layer\n",
        "model.add(Dense(64, activation=\"relu\"))\n",
        "# last layer is the output layer.\n",
        "model.add(Dense(10, activation=\"softmax\"))\n",
        "\n",
        "model.compile(optimizer=sgd_100, loss='categorical_crossentropy',\n",
        "              metrics=['accuracy'])\n",
        "\n",
        "# setting verbose=1 prints out some results after each epoch\n",
        "model.fit(X_train, Y_train, batch_size=128, epochs=20, verbose=1)"
      ],
      "metadata": {
        "colab": {
          "base_uri": "https://localhost:8080/"
        },
        "id": "uHcgpBLHh-Yf",
        "outputId": "25edb400-75cc-492b-c268-833ab69a3c7f"
      },
      "execution_count": 11,
      "outputs": [
        {
          "output_type": "stream",
          "name": "stdout",
          "text": [
            "Epoch 1/20\n",
            "469/469 [==============================] - 4s 6ms/step - loss: 216810870123388169355264.0000 - accuracy: 0.1009\n",
            "Epoch 2/20\n",
            "469/469 [==============================] - 4s 8ms/step - loss: 40.2938 - accuracy: 0.1014\n",
            "Epoch 3/20\n",
            "469/469 [==============================] - 3s 5ms/step - loss: 40.3610 - accuracy: 0.1000\n",
            "Epoch 4/20\n",
            "469/469 [==============================] - 2s 4ms/step - loss: 40.6481 - accuracy: 0.1001\n",
            "Epoch 5/20\n",
            "469/469 [==============================] - 2s 4ms/step - loss: 40.5572 - accuracy: 0.0993\n",
            "Epoch 6/20\n",
            "469/469 [==============================] - 2s 4ms/step - loss: 40.0108 - accuracy: 0.1018\n",
            "Epoch 7/20\n",
            "469/469 [==============================] - 2s 4ms/step - loss: 39.9925 - accuracy: 0.1006\n",
            "Epoch 8/20\n",
            "469/469 [==============================] - 2s 4ms/step - loss: 40.3871 - accuracy: 0.0985\n",
            "Epoch 9/20\n",
            "469/469 [==============================] - 3s 6ms/step - loss: 39.1788 - accuracy: 0.0997\n",
            "Epoch 10/20\n",
            "469/469 [==============================] - 2s 4ms/step - loss: 40.6606 - accuracy: 0.1022\n",
            "Epoch 11/20\n",
            "469/469 [==============================] - 2s 4ms/step - loss: 40.3407 - accuracy: 0.1021\n",
            "Epoch 12/20\n",
            "469/469 [==============================] - 2s 4ms/step - loss: 40.1585 - accuracy: 0.0999\n",
            "Epoch 13/20\n",
            "469/469 [==============================] - 2s 4ms/step - loss: 40.4172 - accuracy: 0.1005\n",
            "Epoch 14/20\n",
            "469/469 [==============================] - 2s 4ms/step - loss: 39.9262 - accuracy: 0.0996\n",
            "Epoch 15/20\n",
            "469/469 [==============================] - 2s 4ms/step - loss: 40.4068 - accuracy: 0.0992\n",
            "Epoch 16/20\n",
            "469/469 [==============================] - 3s 6ms/step - loss: 39.6904 - accuracy: 0.0999\n",
            "Epoch 17/20\n",
            "469/469 [==============================] - 2s 4ms/step - loss: 40.1626 - accuracy: 0.0996\n",
            "Epoch 18/20\n",
            "469/469 [==============================] - 2s 4ms/step - loss: 40.1061 - accuracy: 0.1010\n",
            "Epoch 19/20\n",
            "469/469 [==============================] - 2s 4ms/step - loss: 40.6737 - accuracy: 0.1018\n",
            "Epoch 20/20\n",
            "469/469 [==============================] - 2s 4ms/step - loss: 40.4758 - accuracy: 0.0972\n"
          ]
        },
        {
          "output_type": "execute_result",
          "data": {
            "text/plain": [
              "<keras.src.callbacks.History at 0x79460b6bebf0>"
            ]
          },
          "metadata": {},
          "execution_count": 11
        }
      ]
    },
    {
      "cell_type": "code",
      "source": [
        "score = model.evaluate(X_test, Y_test, verbose=0)\n",
        "print('Test score:', score[0])\n",
        "print('Test accuracy:', score[1])"
      ],
      "metadata": {
        "colab": {
          "base_uri": "https://localhost:8080/"
        },
        "id": "8jZYZ4ujiE3R",
        "outputId": "7ada7cf8-26c6-483e-802b-a676f4b97eec"
      },
      "execution_count": 12,
      "outputs": [
        {
          "output_type": "stream",
          "name": "stdout",
          "text": [
            "Test score: 40.87935256958008\n",
            "Test accuracy: 0.08919999748468399\n"
          ]
        }
      ]
    },
    {
      "cell_type": "markdown",
      "source": [
        "Implement a three layer ANN model with 128, 64 and 10 neurons in the layers using 0.0000001 as the learning rate."
      ],
      "metadata": {
        "id": "PIN7okEaiKdH"
      }
    },
    {
      "cell_type": "code",
      "source": [
        "model = Sequential()\n",
        "# our first dense layer\n",
        "model.add(Dense(128, input_shape=(784,), activation=\"relu\"))\n",
        "# our second dense layer\n",
        "model.add(Dense(64, activation=\"relu\"))\n",
        "# last layer is the output layer.\n",
        "model.add(Dense(10, activation=\"softmax\"))\n",
        "\n",
        "model.compile(optimizer=sgd_00000001, loss='categorical_crossentropy',\n",
        "              metrics=['accuracy'])\n",
        "\n",
        "# setting verbose=1 prints out some results after each epoch\n",
        "model.fit(X_train, Y_train, batch_size=128, epochs=20, verbose=1)"
      ],
      "metadata": {
        "colab": {
          "base_uri": "https://localhost:8080/"
        },
        "id": "v1G8aATIiOPj",
        "outputId": "dc89c1f3-cb92-4339-ba44-d71f60862750"
      },
      "execution_count": 13,
      "outputs": [
        {
          "output_type": "stream",
          "name": "stdout",
          "text": [
            "Epoch 1/20\n",
            "469/469 [==============================] - 2s 4ms/step - loss: 2.3730 - accuracy: 0.1578\n",
            "Epoch 2/20\n",
            "469/469 [==============================] - 3s 5ms/step - loss: 2.3730 - accuracy: 0.1578\n",
            "Epoch 3/20\n",
            "469/469 [==============================] - 3s 6ms/step - loss: 2.3730 - accuracy: 0.1579\n",
            "Epoch 4/20\n",
            "469/469 [==============================] - 2s 4ms/step - loss: 2.3729 - accuracy: 0.1579\n",
            "Epoch 5/20\n",
            "469/469 [==============================] - 2s 4ms/step - loss: 2.3729 - accuracy: 0.1579\n",
            "Epoch 6/20\n",
            "469/469 [==============================] - 2s 4ms/step - loss: 2.3729 - accuracy: 0.1579\n",
            "Epoch 7/20\n",
            "469/469 [==============================] - 2s 4ms/step - loss: 2.3729 - accuracy: 0.1579\n",
            "Epoch 8/20\n",
            "469/469 [==============================] - 2s 4ms/step - loss: 2.3728 - accuracy: 0.1579\n",
            "Epoch 9/20\n",
            "469/469 [==============================] - 3s 6ms/step - loss: 2.3728 - accuracy: 0.1579\n",
            "Epoch 10/20\n",
            "469/469 [==============================] - 3s 5ms/step - loss: 2.3728 - accuracy: 0.1579\n",
            "Epoch 11/20\n",
            "469/469 [==============================] - 2s 4ms/step - loss: 2.3728 - accuracy: 0.1579\n",
            "Epoch 12/20\n",
            "469/469 [==============================] - 2s 4ms/step - loss: 2.3727 - accuracy: 0.1579\n",
            "Epoch 13/20\n",
            "469/469 [==============================] - 2s 4ms/step - loss: 2.3727 - accuracy: 0.1579\n",
            "Epoch 14/20\n",
            "469/469 [==============================] - 2s 4ms/step - loss: 2.3727 - accuracy: 0.1579\n",
            "Epoch 15/20\n",
            "469/469 [==============================] - 2s 4ms/step - loss: 2.3726 - accuracy: 0.1579\n",
            "Epoch 16/20\n",
            "469/469 [==============================] - 3s 6ms/step - loss: 2.3726 - accuracy: 0.1579\n",
            "Epoch 17/20\n",
            "469/469 [==============================] - 2s 5ms/step - loss: 2.3726 - accuracy: 0.1579\n",
            "Epoch 18/20\n",
            "469/469 [==============================] - 2s 4ms/step - loss: 2.3726 - accuracy: 0.1579\n",
            "Epoch 19/20\n",
            "469/469 [==============================] - 2s 4ms/step - loss: 2.3725 - accuracy: 0.1579\n",
            "Epoch 20/20\n",
            "469/469 [==============================] - 2s 4ms/step - loss: 2.3725 - accuracy: 0.1579\n"
          ]
        },
        {
          "output_type": "execute_result",
          "data": {
            "text/plain": [
              "<keras.src.callbacks.History at 0x79460c777a30>"
            ]
          },
          "metadata": {},
          "execution_count": 13
        }
      ]
    },
    {
      "cell_type": "code",
      "source": [
        "score = model.evaluate(X_test, Y_test, verbose=0)\n",
        "print('Test score:', score[0])\n",
        "print('Test accuracy:', score[1])"
      ],
      "metadata": {
        "id": "jC21UyD2WAaw"
      },
      "execution_count": null,
      "outputs": []
    },
    {
      "cell_type": "markdown",
      "source": [
        "Compare the result of each model with each other. Which learning rate did perform better?"
      ],
      "metadata": {
        "id": "44z1IdZ0WBxu"
      }
    },
    {
      "cell_type": "markdown",
      "source": [
        "The model converged when using 0.01 as the learning rate. However, it diverged when using 100, because that value deemed to be too large. Using 0.0000001 as the learning rate causes the model to improve very slowly. Hence the accuracy improved very little. So, it deemed to be too low."
      ],
      "metadata": {
        "id": "6bBP7--BWXY5"
      }
    }
  ]
}