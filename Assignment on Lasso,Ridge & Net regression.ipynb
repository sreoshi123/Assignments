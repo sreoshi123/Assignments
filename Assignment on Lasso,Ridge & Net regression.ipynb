{
 "cells": [
  {
   "cell_type": "code",
   "execution_count": 1,
   "id": "d344a7ef",
   "metadata": {},
   "outputs": [],
   "source": [
    "import numpy as np\n",
    "import pandas as pd\n",
    "import matplotlib.pyplot as plt\n",
    "from sqlalchemy import create_engine\n",
    "from sklearn.model_selection import train_test_split,cross_val_score\n",
    "from sklearn.metrics import mean_absolute_error\n",
    "from statsmodels.tools.eval_measures import mse,rmse\n",
    "from sklearn.linear_model import LinearRegression,LassoCV, RidgeCV,ElasticNetCV\n",
    "\n",
    "import warnings\n",
    "warnings.filterwarnings('ignore')\n",
    "\n",
    "postgres_user = 'dsbc_student'\n",
    "postgres_pw = '7*.8G9QH21'\n",
    "postgres_host = '142.93.121.174'\n",
    "postgres_port = '5432'\n",
    "postgres_db = 'houseprices'"
   ]
  },
  {
   "cell_type": "code",
   "execution_count": 2,
   "id": "7e465c1f",
   "metadata": {},
   "outputs": [],
   "source": [
    "engine = create_engine('postgresql://{}:{}@{}:{}/{}'.format(\n",
    "    postgres_user, postgres_pw, postgres_host, postgres_port, postgres_db))\n",
    "house_prices_df = pd.read_sql_query('select * from houseprices',con=engine)\n",
    "\n",
    "# no need for an open connection, as we're only doing a single query\n",
    "engine.dispose()"
   ]
  },
  {
   "cell_type": "code",
   "execution_count": 5,
   "id": "77226b8e",
   "metadata": {},
   "outputs": [],
   "source": [
    "house_prices_df = pd.concat([house_prices_df,pd.get_dummies(house_prices_df.mszoning,prefix = \"mszoning\",drop_first = True)],axis =1)\n",
    "house_prices_df = pd.concat([house_prices_df,pd.get_dummies(house_prices_df.street,prefix =\"street\",drop_first = True)], axis =1)\n",
    "dummy_column_names = list(pd.get_dummies(house_prices_df.mszoning,prefix = \"mszoning\", drop_first = True).columns)\n",
    "dummy_column_names = dummy_column_names + list(pd.get_dummies(house_prices_df.street,prefix=\"street\",drop_first = True).columns)\n"
   ]
  },
  {
   "cell_type": "code",
   "execution_count": 6,
   "id": "386ffffd",
   "metadata": {},
   "outputs": [],
   "source": [
    "house_prices_df['totalsf'] = house_prices_df['totalbsmtsf'] + house_prices_df['firstflrsf']+ house_prices_df['secondflrsf']\n",
    "house_prices_df['int_over_sf']= house_prices_df['totalsf']*house_prices_df['overallqual']\n",
    "# Y is the target variable\n",
    "Y = np.log1p(house_prices_df['saleprice'])\n",
    "# X is the feature\n",
    "X = house_prices_df[['overallqual','grlivarea','garagecars','garagearea','totalsf','int_over_sf'] + dummy_column_names]\n",
    "X_train,X_test,y_train,y_test = train_test_split(X,Y,test_size = 0.2,random_state = 465)\n",
    "alphas = [np.power(10.0,p) for p in np.arange(-10,40,1)]"
   ]
  },
  {
   "cell_type": "code",
   "execution_count": 7,
   "id": "a6d8039f",
   "metadata": {},
   "outputs": [
    {
     "name": "stdout",
     "output_type": "stream",
     "text": [
      "R-squared of the model in training set is: 0.8321322553132751\n",
      "-----Test set statistics----\n",
      "R-squared of the model in test set is: 0.8249302330916406\n",
      "Mean absolute error of the prediction is : 0.12570372872861713\n",
      "Mean squared error of the prediction is : 0.029192121871357397\n",
      "Root mean squared error of the prediction is: 0.17085702172096234\n",
      "Mean absolute percentage error of the prediction is: 1.0503577667823747\n"
     ]
    }
   ],
   "source": [
    "lrm = LinearRegression()\n",
    "lrm.fit(X_train,y_train)\n",
    "y_preds_train = lrm.predict(X_train)\n",
    "y_preds_test = lrm.predict(X_test)\n",
    "print(\"R-squared of the model in training set is: {}\".format(lrm.score(X_train,y_train)))\n",
    "print(\"-----Test set statistics----\")\n",
    "print(\"R-squared of the model in test set is: {}\".format(lrm.score(X_test,y_test)))\n",
    "print(\"Mean absolute error of the prediction is : {}\".format(mean_absolute_error(y_test,y_preds_test)))\n",
    "print(\"Mean squared error of the prediction is : {}\".format(mse(y_test,y_preds_test)))\n",
    "print(\"Root mean squared error of the prediction is: {}\".format(rmse(y_test,y_preds_test)))\n",
    "print(\"Mean absolute percentage error of the prediction is: {}\".format(np.mean(np.abs((y_test-y_preds_test)/y_test))*100))"
   ]
  },
  {
   "cell_type": "code",
   "execution_count": 8,
   "id": "3cb70bbf",
   "metadata": {},
   "outputs": [
    {
     "name": "stdout",
     "output_type": "stream",
     "text": [
      "Best alpha value is: 0.0001\n",
      "R-squared of the model is : 0.8319394287042421\n",
      "----Test set statistics----\n",
      "R-squared of the model in test set is : 0.8226434437869414\n",
      " Mean absolute error of the prediction is: 0.02957343403767702\n",
      "Root mean  squared error of the prediction is: 0.1719692822502816\n",
      "Mean absolute percentage error of the prediction is: 1.0552354946577736\n"
     ]
    }
   ],
   "source": [
    "lasso_cv = LassoCV(alphas= alphas, cv =5)\n",
    "lasso_cv.fit(X_train,y_train)\n",
    "# We are making predictions\n",
    "y_preds_train = lasso_cv.predict(X_train)\n",
    "y_preds_test = lasso_cv.predict(X_test)\n",
    "print(\"Best alpha value is: {}\".format(lasso_cv.alpha_))\n",
    "print(\"R-squared of the model is : {}\".format(lasso_cv.score(X_train,y_train)))\n",
    "print(\"----Test set statistics----\")\n",
    "print(\"R-squared of the model in test set is : {}\".format(lasso_cv.score(X_test,y_test)))\n",
    "print(\" Mean absolute error of the prediction is: {}\".format(mse(y_test,y_preds_test)))\n",
    "print(\"Root mean  squared error of the prediction is: {}\".format(rmse(y_test,y_preds_test)))\n",
    "print(\"Mean absolute percentage error of the prediction is: {}\".format(np.mean(np.abs((y_test-y_preds_test)/y_test))*100))"
   ]
  },
  {
   "cell_type": "code",
   "execution_count": 9,
   "id": "f4b0defb",
   "metadata": {},
   "outputs": [
    {
     "name": "stdout",
     "output_type": "stream",
     "text": [
      "Best alpha value is : 1.0\n",
      "R-squared of the model in training set is : 0.8319491710033406\n",
      "----Test set statistics----\n",
      "R-squared of the model in test set is: 0.8222603911701664\n",
      "Mean absolute error of the prediction is: 0.12630017373110553\n",
      "Mean squared error of the prediction is: 0.02963730639479218\n",
      "Root mean squared error of the prediction is: 0.17215489070831586\n",
      "Mean absolute percentage error of the prediction is: 1.05577315303204\n"
     ]
    }
   ],
   "source": [
    "ridge_cv = RidgeCV(alphas=alphas, cv=5)\n",
    "ridge_cv.fit(X_train,y_train)\n",
    "# We are making predictions\n",
    "y_preds_train = ridge_cv.predict(X_train)\n",
    "y_preds_test = ridge_cv.predict(X_test)\n",
    "print(\"Best alpha value is : {}\".format(ridge_cv.alpha_))\n",
    "print(\"R-squared of the model in training set is : {}\".format(ridge_cv.score(X_train,y_train)))\n",
    "print(\"----Test set statistics----\")\n",
    "print(\"R-squared of the model in test set is: {}\".format(ridge_cv.score(X_test,y_test)))\n",
    "print(\"Mean absolute error of the prediction is: {}\".format(mean_absolute_error(y_test,y_preds_test)))\n",
    "print(\"Mean squared error of the prediction is: {}\".format(mse(y_test,y_preds_test)))\n",
    "print(\"Root mean squared error of the prediction is: {}\".format(rmse(y_test,y_preds_test)))\n",
    "print(\"Mean absolute percentage error of the prediction is: {}\".format(np.mean(np.abs((y_test-y_preds_test)/y_test))*100))"
   ]
  },
  {
   "cell_type": "code",
   "execution_count": 11,
   "id": "c879365b",
   "metadata": {},
   "outputs": [
    {
     "name": "stdout",
     "output_type": "stream",
     "text": [
      "Best alpha value is: 0.001\n",
      "R-sqaured of the model in training set is: 0.8299843719493093\n",
      "---Test set statistics---\n",
      "R-squared of the model in test set is: 0.8149048869657498\n",
      "Mean absolute error of the prediction is: 0.12772310120124825\n",
      "Mean squared error of the prediction is: 0.030863804715733027\n",
      "Root mean squared error of the prediction is: 0.17568097425655696\n",
      "Mean absolute percentage error of the prediction is: 1.0686732547082527\n"
     ]
    }
   ],
   "source": [
    "elasticnet_cv = ElasticNetCV(alphas = alphas, cv =5)\n",
    "elasticnet_cv.fit(X_train,y_train)\n",
    "# We are making predictions here\n",
    "y_preds_train = elasticnet_cv.predict(X_train)\n",
    "y_preds_test = elasticnet_cv.predict(X_test)\n",
    "print(\"Best alpha value is: {}\".format(elasticnet_cv.alpha_))\n",
    "print(\"R-sqaured of the model in training set is: {}\".format(elasticnet_cv.score(X_train,y_train)))\n",
    "print(\"---Test set statistics---\")\n",
    "print(\"R-squared of the model in test set is: {}\".format(elasticnet_cv.score(X_test,y_test)))\n",
    "print(\"Mean absolute error of the prediction is: {}\".format(mean_absolute_error(y_test,y_preds_test)))\n",
    "print(\"Mean squared error of the prediction is: {}\".format(mse(y_test,y_preds_test)))\n",
    "print(\"Root mean squared error of the prediction is: {}\".format(rmse(y_test,y_preds_test)))\n",
    "print(\"Mean absolute percentage error of the prediction is: {}\".format(np.mean(np.abs((y_test-y_preds_test)/y_test))*100))"
   ]
  },
  {
   "cell_type": "code",
   "execution_count": 12,
   "id": "63a7048a",
   "metadata": {},
   "outputs": [],
   "source": [
    "# According to the results, the best model is the OLS regression."
   ]
  }
 ],
 "metadata": {
  "kernelspec": {
   "display_name": "Python 3 (ipykernel)",
   "language": "python",
   "name": "python3"
  },
  "language_info": {
   "codemirror_mode": {
    "name": "ipython",
    "version": 3
   },
   "file_extension": ".py",
   "mimetype": "text/x-python",
   "name": "python",
   "nbconvert_exporter": "python",
   "pygments_lexer": "ipython3",
   "version": "3.9.12"
  }
 },
 "nbformat": 4,
 "nbformat_minor": 5
}
