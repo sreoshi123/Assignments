{
  "nbformat": 4,
  "nbformat_minor": 0,
  "metadata": {
    "colab": {
      "provenance": [],
      "authorship_tag": "ABX9TyMuOq1BEhYbzRNSV6TzYSSv",
      "include_colab_link": true
    },
    "kernelspec": {
      "name": "python3",
      "display_name": "Python 3"
    },
    "language_info": {
      "name": "python"
    }
  },
  "cells": [
    {
      "cell_type": "markdown",
      "metadata": {
        "id": "view-in-github",
        "colab_type": "text"
      },
      "source": [
        "<a href=\"https://colab.research.google.com/github/sreoshi123/Assignments/blob/main/Tensorflow_Keras_Assignment.ipynb\" target=\"_parent\"><img src=\"https://colab.research.google.com/assets/colab-badge.svg\" alt=\"Open In Colab\"/></a>"
      ]
    },
    {
      "cell_type": "code",
      "execution_count": 1,
      "metadata": {
        "id": "ZPu5m-2ptFXr"
      },
      "outputs": [],
      "source": [
        "# 1. In this task, you'll build an ANN and train and test it using the MNIST data. This ANN should consist of two hidden layers and one output layer. All of the hidden layers should be dense. The first layer and the second layer should have neuron sizes of 32 and 16, respectively. Train this model for 20 epochs, and compare your training and test set performance with the example in the lesson. Is there any difference? If so, why?"
      ]
    },
    {
      "cell_type": "code",
      "source": [
        "import warnings\n",
        "warnings.filterwarnings('ignore')\n",
        "\n",
        "from tensorflow.keras.datasets import mnist"
      ],
      "metadata": {
        "id": "g4Q1OvSttTBo"
      },
      "execution_count": 3,
      "outputs": []
    },
    {
      "cell_type": "code",
      "source": [
        "# Loading the data and preprocessing\n",
        "(X_train,y_train), (X_test, y_test) = mnist.load_data()\n",
        "\n",
        "input_dim = 784 # 28*28\n",
        "output_dim = nb_classes = 10\n",
        "batch_size = 128\n",
        "nb_epoch = 20\n",
        "\n",
        "X_train = X_train.reshape(60000,input_dim)\n",
        "X_test = X_test.reshape(10000,input_dim)\n",
        "X_train = X_train.astype('float32')\n",
        "X_test = X_test.astype('float32')\n",
        "X_train /= 255\n",
        "X_test /= 255"
      ],
      "metadata": {
        "id": "gXi_1GTIt3vC"
      },
      "execution_count": 5,
      "outputs": []
    },
    {
      "cell_type": "code",
      "source": [
        "# One hot encoding the target variable\n",
        "from tensorflow.keras.utils import to_categorical\n",
        "\n",
        "Y_train = to_categorical(y_train, nb_classes)\n",
        "Y_test = to_categorical(y_test, nb_classes)"
      ],
      "metadata": {
        "id": "WPRd7xhxJ8A4"
      },
      "execution_count": 8,
      "outputs": []
    },
    {
      "cell_type": "code",
      "source": [
        "from tensorflow.keras.models import Sequential\n",
        "from tensorflow.keras.layers import Dense"
      ],
      "metadata": {
        "id": "L1rj9GldMOrt"
      },
      "execution_count": 10,
      "outputs": []
    },
    {
      "cell_type": "code",
      "source": [
        "model = Sequential()\n",
        "# our first dense layer\n",
        "model.add(Dense(32, input_shape=(784,), activation = 'relu'))\n",
        "# our second dense layer\n",
        "model.add(Dense(16, activation ='relu'))\n",
        "# last layer is the output layer\n",
        "model.add(Dense(10, activation='softmax'))\n"
      ],
      "metadata": {
        "id": "VDWavQgxMk_N"
      },
      "execution_count": 12,
      "outputs": []
    },
    {
      "cell_type": "code",
      "source": [
        "model.compile(optimizer = 'sgd', loss = 'categorical_crossentropy',metrics = ['accuracy'])"
      ],
      "metadata": {
        "id": "7pu3WbNBPccs"
      },
      "execution_count": 13,
      "outputs": []
    },
    {
      "cell_type": "code",
      "source": [
        "# setting verbose = 1 prints out some results after each epoch\n",
        "model.fit(X_train, Y_train, batch_size = batch_size, epochs = 20, verbose=1)"
      ],
      "metadata": {
        "colab": {
          "base_uri": "https://localhost:8080/"
        },
        "id": "1w3MhdXkPprV",
        "outputId": "7110139c-3f60-4bb7-9f4c-674af530f8da"
      },
      "execution_count": 14,
      "outputs": [
        {
          "output_type": "stream",
          "name": "stdout",
          "text": [
            "Epoch 1/20\n",
            "469/469 [==============================] - 2s 3ms/step - loss: 1.6643 - accuracy: 0.4801\n",
            "Epoch 2/20\n",
            "469/469 [==============================] - 2s 5ms/step - loss: 0.6799 - accuracy: 0.8157\n",
            "Epoch 3/20\n",
            "469/469 [==============================] - 2s 4ms/step - loss: 0.4624 - accuracy: 0.8721\n",
            "Epoch 4/20\n",
            "469/469 [==============================] - 1s 3ms/step - loss: 0.3863 - accuracy: 0.8914\n",
            "Epoch 5/20\n",
            "469/469 [==============================] - 1s 3ms/step - loss: 0.3478 - accuracy: 0.9018\n",
            "Epoch 6/20\n",
            "469/469 [==============================] - 2s 4ms/step - loss: 0.3234 - accuracy: 0.9084\n",
            "Epoch 7/20\n",
            "469/469 [==============================] - 1s 3ms/step - loss: 0.3054 - accuracy: 0.9135\n",
            "Epoch 8/20\n",
            "469/469 [==============================] - 1s 3ms/step - loss: 0.2909 - accuracy: 0.9172\n",
            "Epoch 9/20\n",
            "469/469 [==============================] - 1s 3ms/step - loss: 0.2783 - accuracy: 0.9215\n",
            "Epoch 10/20\n",
            "469/469 [==============================] - 2s 4ms/step - loss: 0.2675 - accuracy: 0.9241\n",
            "Epoch 11/20\n",
            "469/469 [==============================] - 2s 5ms/step - loss: 0.2580 - accuracy: 0.9268\n",
            "Epoch 12/20\n",
            "469/469 [==============================] - 2s 4ms/step - loss: 0.2494 - accuracy: 0.9286\n",
            "Epoch 13/20\n",
            "469/469 [==============================] - 1s 3ms/step - loss: 0.2416 - accuracy: 0.9315\n",
            "Epoch 14/20\n",
            "469/469 [==============================] - 1s 3ms/step - loss: 0.2346 - accuracy: 0.9329\n",
            "Epoch 15/20\n",
            "469/469 [==============================] - 1s 3ms/step - loss: 0.2282 - accuracy: 0.9350\n",
            "Epoch 16/20\n",
            "469/469 [==============================] - 1s 3ms/step - loss: 0.2219 - accuracy: 0.9367\n",
            "Epoch 17/20\n",
            "469/469 [==============================] - 1s 3ms/step - loss: 0.2166 - accuracy: 0.9384\n",
            "Epoch 18/20\n",
            "469/469 [==============================] - 1s 3ms/step - loss: 0.2110 - accuracy: 0.9397\n",
            "Epoch 19/20\n",
            "469/469 [==============================] - 1s 3ms/step - loss: 0.2060 - accuracy: 0.9411\n",
            "Epoch 20/20\n",
            "469/469 [==============================] - 2s 5ms/step - loss: 0.2012 - accuracy: 0.9424\n"
          ]
        },
        {
          "output_type": "execute_result",
          "data": {
            "text/plain": [
              "<keras.src.callbacks.History at 0x7e292dc81f90>"
            ]
          },
          "metadata": {},
          "execution_count": 14
        }
      ]
    },
    {
      "cell_type": "code",
      "source": [
        "score = model.evaluate(X_test, Y_test, verbose =0)\n",
        "print('Test score:', score[0])\n",
        "print('Test accuracy:', score[1])"
      ],
      "metadata": {
        "colab": {
          "base_uri": "https://localhost:8080/"
        },
        "id": "p1wdacIcQPLx",
        "outputId": "fbcd961b-d825-456d-c468-213d76139da3"
      },
      "execution_count": 15,
      "outputs": [
        {
          "output_type": "stream",
          "name": "stdout",
          "text": [
            "Test score: 0.19683483242988586\n",
            "Test accuracy: 0.9448000192642212\n"
          ]
        }
      ]
    },
    {
      "cell_type": "markdown",
      "source": [
        "The model achieved 94% accuracy in both training and test set. This level is lower than that of the example in the checkpoint. Since the layers include less number of neurons in this model, the model is simpler than the one of the example."
      ],
      "metadata": {
        "id": "On8cyLTBQzcH"
      }
    },
    {
      "cell_type": "markdown",
      "source": [
        "Q2.) You'll also build an ANN in this task. This time, this ANN should have 5 hidden layers and 1 output layer. All the layers should be dense. The neuron numbers for the hidden layers should be 1024, 512, 256, 128 and 64. Train this model 20 epochs and test it using the same data from the previous task and compare your results. Is there any difference? If so, why?"
      ],
      "metadata": {
        "id": "81r9_ry-Rzc5"
      }
    },
    {
      "cell_type": "code",
      "source": [
        "model = Sequential()\n",
        "# our first dense layer\n",
        "model.add(Dense(1024,input_shape = (784,), activation = 'relu'))\n",
        "# our second dense layer\n",
        "model.add(Dense(512, activation = 'relu'))\n",
        "# our third dense layer\n",
        "model.add(Dense(256,activation ='relu'))\n",
        "# our fourth dense layer\n",
        "model.add(Dense(128,activation='relu'))\n",
        "# our fifth dense layer\n",
        "model.add(Dense(64,activation='relu'))\n",
        "# last layer is the output layer\n",
        "model.add(Dense(10,activation='softmax'))"
      ],
      "metadata": {
        "id": "lMlSjb9OR6VI"
      },
      "execution_count": 16,
      "outputs": []
    },
    {
      "cell_type": "code",
      "source": [
        "model.compile(optimizer = 'sgd',loss='categorical_crossentropy',metrics = ['accuracy'])"
      ],
      "metadata": {
        "id": "-CZlPLijTTqB"
      },
      "execution_count": 17,
      "outputs": []
    },
    {
      "cell_type": "code",
      "source": [
        "# setting verbose=1 prints out some results after each epoch\n",
        "model.fit(X_train, Y_train, batch_size = batch_size, epochs =20, verbose =1)"
      ],
      "metadata": {
        "colab": {
          "base_uri": "https://localhost:8080/"
        },
        "id": "LrhzAITnTkGy",
        "outputId": "5de30b3f-d805-4a83-aacb-8abdac0d86b4"
      },
      "execution_count": 18,
      "outputs": [
        {
          "output_type": "stream",
          "name": "stdout",
          "text": [
            "Epoch 1/20\n",
            "469/469 [==============================] - 16s 32ms/step - loss: 1.1887 - accuracy: 0.7029\n",
            "Epoch 2/20\n",
            "469/469 [==============================] - 15s 33ms/step - loss: 0.3681 - accuracy: 0.8985\n",
            "Epoch 3/20\n",
            "469/469 [==============================] - 15s 31ms/step - loss: 0.2817 - accuracy: 0.9203\n",
            "Epoch 4/20\n",
            "469/469 [==============================] - 15s 32ms/step - loss: 0.2360 - accuracy: 0.9326\n",
            "Epoch 5/20\n",
            "469/469 [==============================] - 15s 31ms/step - loss: 0.2033 - accuracy: 0.9413\n",
            "Epoch 6/20\n",
            "469/469 [==============================] - 15s 31ms/step - loss: 0.1783 - accuracy: 0.9488\n",
            "Epoch 7/20\n",
            "469/469 [==============================] - 14s 31ms/step - loss: 0.1583 - accuracy: 0.9545\n",
            "Epoch 8/20\n",
            "469/469 [==============================] - 14s 31ms/step - loss: 0.1422 - accuracy: 0.9591\n",
            "Epoch 9/20\n",
            "469/469 [==============================] - 14s 30ms/step - loss: 0.1281 - accuracy: 0.9630\n",
            "Epoch 10/20\n",
            "469/469 [==============================] - 14s 30ms/step - loss: 0.1167 - accuracy: 0.9662\n",
            "Epoch 11/20\n",
            "469/469 [==============================] - 14s 30ms/step - loss: 0.1068 - accuracy: 0.9696\n",
            "Epoch 12/20\n",
            "469/469 [==============================] - 14s 31ms/step - loss: 0.0979 - accuracy: 0.9718\n",
            "Epoch 13/20\n",
            "469/469 [==============================] - 15s 31ms/step - loss: 0.0899 - accuracy: 0.9743\n",
            "Epoch 14/20\n",
            "469/469 [==============================] - 15s 31ms/step - loss: 0.0832 - accuracy: 0.9765\n",
            "Epoch 15/20\n",
            "469/469 [==============================] - 14s 31ms/step - loss: 0.0764 - accuracy: 0.9787\n",
            "Epoch 16/20\n",
            "469/469 [==============================] - 15s 31ms/step - loss: 0.0712 - accuracy: 0.9798\n",
            "Epoch 17/20\n",
            "469/469 [==============================] - 15s 31ms/step - loss: 0.0657 - accuracy: 0.9815\n",
            "Epoch 18/20\n",
            "469/469 [==============================] - 15s 31ms/step - loss: 0.0621 - accuracy: 0.9826\n",
            "Epoch 19/20\n",
            "469/469 [==============================] - 15s 31ms/step - loss: 0.0567 - accuracy: 0.9845\n",
            "Epoch 20/20\n",
            "469/469 [==============================] - 15s 31ms/step - loss: 0.0531 - accuracy: 0.9850\n"
          ]
        },
        {
          "output_type": "execute_result",
          "data": {
            "text/plain": [
              "<keras.src.callbacks.History at 0x7e292d273280>"
            ]
          },
          "metadata": {},
          "execution_count": 18
        }
      ]
    },
    {
      "cell_type": "markdown",
      "source": [],
      "metadata": {
        "id": "msD8o11Fd3xO"
      }
    },
    {
      "cell_type": "code",
      "source": [
        "score = model.evaluate(X_test, Y_test, verbose =0)\n",
        "print('Test score:', score[0])\n",
        "print('Test accuracy:', score[1])"
      ],
      "metadata": {
        "colab": {
          "base_uri": "https://localhost:8080/"
        },
        "id": "BbCkvUq-dZYt",
        "outputId": "060968dd-013e-457d-bc87-3f8ae6cbdb9a"
      },
      "execution_count": 19,
      "outputs": [
        {
          "output_type": "stream",
          "name": "stdout",
          "text": [
            "Test score: 0.09369824081659317\n",
            "Test accuracy: 0.9724000096321106\n"
          ]
        }
      ]
    },
    {
      "cell_type": "markdown",
      "source": [
        "In this case the model achieved almost 98% accuracy in the training set and 97% accuracy in the test set. The model here is more complex than the model of the previous task and the model in the exanple. Because this model is more complex than the previous two models it achieved higher performace in the traning set. However, the difference between the training and test score widened a little bit. It may be a sign that this model is too complex and it started to overfit."
      ],
      "metadata": {
        "id": "Pze9dgn_d6h4"
      }
    },
    {
      "cell_type": "code",
      "source": [],
      "metadata": {
        "id": "Gtg4aQs5eyDp"
      },
      "execution_count": null,
      "outputs": []
    }
  ]
}