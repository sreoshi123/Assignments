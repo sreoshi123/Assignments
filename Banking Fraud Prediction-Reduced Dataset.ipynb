{
 "cells": [
  {
   "cell_type": "markdown",
   "id": "55d05198",
   "metadata": {},
   "source": [
    "#### Project Title: Analyzing Bank Customer Data for Fraud Detection."
   ]
  },
  {
   "cell_type": "markdown",
   "id": "4aa4deb6",
   "metadata": {},
   "source": [
    "#### Problem Description / Objectives: The Project is aimed at identifying the key drivers that determine the likelihood of fraud and predicting the fraudulent transactions for the banking customers."
   ]
  },
  {
   "cell_type": "markdown",
   "id": "c73b40c5",
   "metadata": {},
   "source": [
    "#### Dataset Description: The dataset consists of payments made by different customers at different time period and of varying amounts. The dataset contains 9 features and a target column.\n",
    "Step: This feature represents the day from the start of simulation. It has 180 steps so simulation ran for virtually 6 months.\n",
    "Customer: Customer id,\n",
    "zipCodeOrigin:The zip code of origin/source,\n",
    "Merchant: The merchant's id,\n",
    "zipMerchant: The merchant's zip code,\n",
    "Age: Categorized age\n",
    "        0: <= 18,\n",
    "        1: 19-25,\n",
    "        2: 26-35,\n",
    "        3: 36-45,\n",
    "        4: 46:55,\n",
    "        5: 56:65,\n",
    "        6: > 65\n",
    "        U: Unknown,\n",
    "Gender: Gender for customer\n",
    "        E : Enterprise,\n",
    "        F: Female,\n",
    "        M: Male,\n",
    "        U: Unknown,\n",
    "Category: Category of the purchase,\n",
    "Amount: Amount of the purchase,\n",
    "Fraud: Target variable which shows if the transaction is fraudulent(1) or not fraudulent(0)."
   ]
  },
  {
   "cell_type": "code",
   "execution_count": 107,
   "id": "ccbe2a88",
   "metadata": {},
   "outputs": [],
   "source": [
    "# Importing libraries\n",
    "\n",
    "import pandas as pd\n",
    "import numpy as np\n",
    "import matplotlib.pyplot as plt\n",
    "import seaborn as sns\n",
    "%matplotlib inline\n",
    "\n",
    "import warnings\n",
    "warnings.filterwarnings('ignore')"
   ]
  },
  {
   "cell_type": "code",
   "execution_count": 108,
   "id": "49a6c594",
   "metadata": {},
   "outputs": [],
   "source": [
    "from sklearn.preprocessing import StandardScaler\n",
    "from sklearn.model_selection import train_test_split\n",
    "from sklearn.linear_model import LogisticRegression\n",
    "from sklearn.model_selection import GridSearchCV\n",
    "from sklearn.metrics import accuracy_score,recall_score,precision_score,f1_score,roc_auc_score,confusion_matrix,roc_curve,auc\n",
    "from sklearn.svm import SVC\n",
    "from sklearn.ensemble import RandomForestClassifier\n",
    "from sklearn.tree import DecisionTreeClassifier\n",
    "from xgboost import XGBClassifier"
   ]
  },
  {
   "cell_type": "code",
   "execution_count": 109,
   "id": "eb3d76e4",
   "metadata": {},
   "outputs": [],
   "source": [
    "df_entire = pd.read_csv('C:/Users/chowd/OneDrive/Desktop/Datasets/Banking Fraud Dataset/bs140513_032310.csv')"
   ]
  },
  {
   "cell_type": "code",
   "execution_count": 110,
   "id": "fc7606fd",
   "metadata": {},
   "outputs": [],
   "source": [
    "# Selecting the first 30000 rows (To enhance PC Performance)\n",
    "df = df_entire.head(30000)"
   ]
  },
  {
   "cell_type": "code",
   "execution_count": 111,
   "id": "0382bec5",
   "metadata": {},
   "outputs": [
    {
     "data": {
      "text/html": [
       "<div>\n",
       "<style scoped>\n",
       "    .dataframe tbody tr th:only-of-type {\n",
       "        vertical-align: middle;\n",
       "    }\n",
       "\n",
       "    .dataframe tbody tr th {\n",
       "        vertical-align: top;\n",
       "    }\n",
       "\n",
       "    .dataframe thead th {\n",
       "        text-align: right;\n",
       "    }\n",
       "</style>\n",
       "<table border=\"1\" class=\"dataframe\">\n",
       "  <thead>\n",
       "    <tr style=\"text-align: right;\">\n",
       "      <th></th>\n",
       "      <th>step</th>\n",
       "      <th>customer</th>\n",
       "      <th>age</th>\n",
       "      <th>gender</th>\n",
       "      <th>zipcodeOri</th>\n",
       "      <th>merchant</th>\n",
       "      <th>zipMerchant</th>\n",
       "      <th>category</th>\n",
       "      <th>amount</th>\n",
       "      <th>fraud</th>\n",
       "    </tr>\n",
       "  </thead>\n",
       "  <tbody>\n",
       "    <tr>\n",
       "      <th>0</th>\n",
       "      <td>0</td>\n",
       "      <td>'C1093826151'</td>\n",
       "      <td>'4'</td>\n",
       "      <td>'M'</td>\n",
       "      <td>'28007'</td>\n",
       "      <td>'M348934600'</td>\n",
       "      <td>'28007'</td>\n",
       "      <td>'es_transportation'</td>\n",
       "      <td>4.55</td>\n",
       "      <td>0</td>\n",
       "    </tr>\n",
       "    <tr>\n",
       "      <th>1</th>\n",
       "      <td>0</td>\n",
       "      <td>'C352968107'</td>\n",
       "      <td>'2'</td>\n",
       "      <td>'M'</td>\n",
       "      <td>'28007'</td>\n",
       "      <td>'M348934600'</td>\n",
       "      <td>'28007'</td>\n",
       "      <td>'es_transportation'</td>\n",
       "      <td>39.68</td>\n",
       "      <td>0</td>\n",
       "    </tr>\n",
       "    <tr>\n",
       "      <th>2</th>\n",
       "      <td>0</td>\n",
       "      <td>'C2054744914'</td>\n",
       "      <td>'4'</td>\n",
       "      <td>'F'</td>\n",
       "      <td>'28007'</td>\n",
       "      <td>'M1823072687'</td>\n",
       "      <td>'28007'</td>\n",
       "      <td>'es_transportation'</td>\n",
       "      <td>26.89</td>\n",
       "      <td>0</td>\n",
       "    </tr>\n",
       "    <tr>\n",
       "      <th>3</th>\n",
       "      <td>0</td>\n",
       "      <td>'C1760612790'</td>\n",
       "      <td>'3'</td>\n",
       "      <td>'M'</td>\n",
       "      <td>'28007'</td>\n",
       "      <td>'M348934600'</td>\n",
       "      <td>'28007'</td>\n",
       "      <td>'es_transportation'</td>\n",
       "      <td>17.25</td>\n",
       "      <td>0</td>\n",
       "    </tr>\n",
       "    <tr>\n",
       "      <th>4</th>\n",
       "      <td>0</td>\n",
       "      <td>'C757503768'</td>\n",
       "      <td>'5'</td>\n",
       "      <td>'M'</td>\n",
       "      <td>'28007'</td>\n",
       "      <td>'M348934600'</td>\n",
       "      <td>'28007'</td>\n",
       "      <td>'es_transportation'</td>\n",
       "      <td>35.72</td>\n",
       "      <td>0</td>\n",
       "    </tr>\n",
       "  </tbody>\n",
       "</table>\n",
       "</div>"
      ],
      "text/plain": [
       "   step       customer  age gender zipcodeOri       merchant zipMerchant  \\\n",
       "0     0  'C1093826151'  '4'    'M'    '28007'   'M348934600'     '28007'   \n",
       "1     0   'C352968107'  '2'    'M'    '28007'   'M348934600'     '28007'   \n",
       "2     0  'C2054744914'  '4'    'F'    '28007'  'M1823072687'     '28007'   \n",
       "3     0  'C1760612790'  '3'    'M'    '28007'   'M348934600'     '28007'   \n",
       "4     0   'C757503768'  '5'    'M'    '28007'   'M348934600'     '28007'   \n",
       "\n",
       "              category  amount  fraud  \n",
       "0  'es_transportation'    4.55      0  \n",
       "1  'es_transportation'   39.68      0  \n",
       "2  'es_transportation'   26.89      0  \n",
       "3  'es_transportation'   17.25      0  \n",
       "4  'es_transportation'   35.72      0  "
      ]
     },
     "execution_count": 111,
     "metadata": {},
     "output_type": "execute_result"
    }
   ],
   "source": [
    "df.head()"
   ]
  },
  {
   "cell_type": "code",
   "execution_count": 112,
   "id": "fe192e2c",
   "metadata": {},
   "outputs": [
    {
     "name": "stdout",
     "output_type": "stream",
     "text": [
      "<class 'pandas.core.frame.DataFrame'>\n",
      "RangeIndex: 30000 entries, 0 to 29999\n",
      "Data columns (total 10 columns):\n",
      " #   Column       Non-Null Count  Dtype  \n",
      "---  ------       --------------  -----  \n",
      " 0   step         30000 non-null  int64  \n",
      " 1   customer     30000 non-null  object \n",
      " 2   age          30000 non-null  object \n",
      " 3   gender       30000 non-null  object \n",
      " 4   zipcodeOri   30000 non-null  object \n",
      " 5   merchant     30000 non-null  object \n",
      " 6   zipMerchant  30000 non-null  object \n",
      " 7   category     30000 non-null  object \n",
      " 8   amount       30000 non-null  float64\n",
      " 9   fraud        30000 non-null  int64  \n",
      "dtypes: float64(1), int64(2), object(7)\n",
      "memory usage: 2.3+ MB\n"
     ]
    }
   ],
   "source": [
    "df.info()"
   ]
  },
  {
   "cell_type": "code",
   "execution_count": 113,
   "id": "6c5ad679",
   "metadata": {},
   "outputs": [
    {
     "data": {
      "text/html": [
       "<div>\n",
       "<style scoped>\n",
       "    .dataframe tbody tr th:only-of-type {\n",
       "        vertical-align: middle;\n",
       "    }\n",
       "\n",
       "    .dataframe tbody tr th {\n",
       "        vertical-align: top;\n",
       "    }\n",
       "\n",
       "    .dataframe thead th {\n",
       "        text-align: right;\n",
       "    }\n",
       "</style>\n",
       "<table border=\"1\" class=\"dataframe\">\n",
       "  <thead>\n",
       "    <tr style=\"text-align: right;\">\n",
       "      <th></th>\n",
       "      <th>Count of missing values</th>\n",
       "    </tr>\n",
       "  </thead>\n",
       "  <tbody>\n",
       "    <tr>\n",
       "      <th>step</th>\n",
       "      <td>0</td>\n",
       "    </tr>\n",
       "    <tr>\n",
       "      <th>customer</th>\n",
       "      <td>0</td>\n",
       "    </tr>\n",
       "    <tr>\n",
       "      <th>age</th>\n",
       "      <td>0</td>\n",
       "    </tr>\n",
       "    <tr>\n",
       "      <th>gender</th>\n",
       "      <td>0</td>\n",
       "    </tr>\n",
       "    <tr>\n",
       "      <th>zipcodeOri</th>\n",
       "      <td>0</td>\n",
       "    </tr>\n",
       "    <tr>\n",
       "      <th>merchant</th>\n",
       "      <td>0</td>\n",
       "    </tr>\n",
       "    <tr>\n",
       "      <th>zipMerchant</th>\n",
       "      <td>0</td>\n",
       "    </tr>\n",
       "    <tr>\n",
       "      <th>category</th>\n",
       "      <td>0</td>\n",
       "    </tr>\n",
       "    <tr>\n",
       "      <th>amount</th>\n",
       "      <td>0</td>\n",
       "    </tr>\n",
       "    <tr>\n",
       "      <th>fraud</th>\n",
       "      <td>0</td>\n",
       "    </tr>\n",
       "  </tbody>\n",
       "</table>\n",
       "</div>"
      ],
      "text/plain": [
       "             Count of missing values\n",
       "step                               0\n",
       "customer                           0\n",
       "age                                0\n",
       "gender                             0\n",
       "zipcodeOri                         0\n",
       "merchant                           0\n",
       "zipMerchant                        0\n",
       "category                           0\n",
       "amount                             0\n",
       "fraud                              0"
      ]
     },
     "execution_count": 113,
     "metadata": {},
     "output_type": "execute_result"
    }
   ],
   "source": [
    "# Checking for null values\n",
    "pd.DataFrame(df.isnull().sum(), columns = ['Count of missing values'])"
   ]
  },
  {
   "cell_type": "code",
   "execution_count": 114,
   "id": "a68270fa",
   "metadata": {},
   "outputs": [
    {
     "data": {
      "text/html": [
       "<div>\n",
       "<style scoped>\n",
       "    .dataframe tbody tr th:only-of-type {\n",
       "        vertical-align: middle;\n",
       "    }\n",
       "\n",
       "    .dataframe tbody tr th {\n",
       "        vertical-align: top;\n",
       "    }\n",
       "\n",
       "    .dataframe thead th {\n",
       "        text-align: right;\n",
       "    }\n",
       "</style>\n",
       "<table border=\"1\" class=\"dataframe\">\n",
       "  <thead>\n",
       "    <tr style=\"text-align: right;\">\n",
       "      <th></th>\n",
       "      <th>count</th>\n",
       "      <th>mean</th>\n",
       "      <th>std</th>\n",
       "      <th>min</th>\n",
       "      <th>25%</th>\n",
       "      <th>50%</th>\n",
       "      <th>75%</th>\n",
       "      <th>max</th>\n",
       "    </tr>\n",
       "  </thead>\n",
       "  <tbody>\n",
       "    <tr>\n",
       "      <th>step</th>\n",
       "      <td>30000.0</td>\n",
       "      <td>5.510900</td>\n",
       "      <td>3.407512</td>\n",
       "      <td>0.00</td>\n",
       "      <td>3.0000</td>\n",
       "      <td>6.00</td>\n",
       "      <td>8.00</td>\n",
       "      <td>11.00</td>\n",
       "    </tr>\n",
       "    <tr>\n",
       "      <th>amount</th>\n",
       "      <td>30000.0</td>\n",
       "      <td>40.590088</td>\n",
       "      <td>140.445935</td>\n",
       "      <td>0.01</td>\n",
       "      <td>13.8475</td>\n",
       "      <td>26.95</td>\n",
       "      <td>43.01</td>\n",
       "      <td>7432.48</td>\n",
       "    </tr>\n",
       "    <tr>\n",
       "      <th>fraud</th>\n",
       "      <td>30000.0</td>\n",
       "      <td>0.015467</td>\n",
       "      <td>0.123402</td>\n",
       "      <td>0.00</td>\n",
       "      <td>0.0000</td>\n",
       "      <td>0.00</td>\n",
       "      <td>0.00</td>\n",
       "      <td>1.00</td>\n",
       "    </tr>\n",
       "  </tbody>\n",
       "</table>\n",
       "</div>"
      ],
      "text/plain": [
       "          count       mean         std   min      25%    50%    75%      max\n",
       "step    30000.0   5.510900    3.407512  0.00   3.0000   6.00   8.00    11.00\n",
       "amount  30000.0  40.590088  140.445935  0.01  13.8475  26.95  43.01  7432.48\n",
       "fraud   30000.0   0.015467    0.123402  0.00   0.0000   0.00   0.00     1.00"
      ]
     },
     "execution_count": 114,
     "metadata": {},
     "output_type": "execute_result"
    }
   ],
   "source": [
    "df.describe().T"
   ]
  },
  {
   "cell_type": "markdown",
   "id": "6e90e35c",
   "metadata": {},
   "source": [
    "#### The average value for the amount is 37.89, standard deviation is 111.4 and the maximum value of the transaction is 8329.96."
   ]
  },
  {
   "cell_type": "code",
   "execution_count": 115,
   "id": "9e2ee015",
   "metadata": {},
   "outputs": [
    {
     "data": {
      "text/html": [
       "<div>\n",
       "<style scoped>\n",
       "    .dataframe tbody tr th:only-of-type {\n",
       "        vertical-align: middle;\n",
       "    }\n",
       "\n",
       "    .dataframe tbody tr th {\n",
       "        vertical-align: top;\n",
       "    }\n",
       "\n",
       "    .dataframe thead th {\n",
       "        text-align: right;\n",
       "    }\n",
       "</style>\n",
       "<table border=\"1\" class=\"dataframe\">\n",
       "  <thead>\n",
       "    <tr style=\"text-align: right;\">\n",
       "      <th></th>\n",
       "      <th>step</th>\n",
       "      <th>customer</th>\n",
       "      <th>age</th>\n",
       "      <th>gender</th>\n",
       "      <th>zipcodeOri</th>\n",
       "      <th>merchant</th>\n",
       "      <th>zipMerchant</th>\n",
       "      <th>category</th>\n",
       "      <th>amount</th>\n",
       "      <th>fraud</th>\n",
       "    </tr>\n",
       "  </thead>\n",
       "  <tbody>\n",
       "  </tbody>\n",
       "</table>\n",
       "</div>"
      ],
      "text/plain": [
       "Empty DataFrame\n",
       "Columns: [step, customer, age, gender, zipcodeOri, merchant, zipMerchant, category, amount, fraud]\n",
       "Index: []"
      ]
     },
     "execution_count": 115,
     "metadata": {},
     "output_type": "execute_result"
    }
   ],
   "source": [
    "# Checking for duplicate values\n",
    "df[df.duplicated()]"
   ]
  },
  {
   "cell_type": "code",
   "execution_count": 116,
   "id": "bd94565c",
   "metadata": {},
   "outputs": [
    {
     "data": {
      "text/plain": [
       "Index(['step', 'customer', 'age', 'gender', 'zipcodeOri', 'merchant',\n",
       "       'zipMerchant', 'category', 'amount', 'fraud'],\n",
       "      dtype='object')"
      ]
     },
     "execution_count": 116,
     "metadata": {},
     "output_type": "execute_result"
    }
   ],
   "source": [
    "# Getting the column names\n",
    "df.columns"
   ]
  },
  {
   "cell_type": "markdown",
   "id": "34061f86",
   "metadata": {},
   "source": [
    "#### After an initial analysis of the dataset we find there are no missing, duplicate or null values."
   ]
  },
  {
   "cell_type": "markdown",
   "id": "4463f878",
   "metadata": {},
   "source": [
    "#### Exploratory Data Analysis:"
   ]
  },
  {
   "cell_type": "markdown",
   "id": "6db0622f",
   "metadata": {},
   "source": [
    "#### Analyzing the Dependent Variable, 'Fraud'"
   ]
  },
  {
   "cell_type": "code",
   "execution_count": 117,
   "id": "2fd1fa21",
   "metadata": {},
   "outputs": [
    {
     "data": {
      "image/png": "[encoded data removed]",
      "text/plain": [
       "<Figure size 600x400 with 1 Axes>"
      ]
     },
     "metadata": {},
     "output_type": "display_data"
    }
   ],
   "source": [
    "# Visualizing the target variable 'Fraud'\n",
    "plt.figure(figsize = (6,4))\n",
    "a = sns.countplot(x ='fraud',data=df)\n",
    "for label in a.containers:\n",
    "    a.bar_label(label)\n",
    "plt.xticks([0,1], labels=['Not Fraud','Fraud'])\n",
    "plt.show()"
   ]
  },
  {
   "cell_type": "code",
   "execution_count": 118,
   "id": "73d6c135",
   "metadata": {},
   "outputs": [
    {
     "data": {
      "text/plain": [
       "0    29536\n",
       "1      464\n",
       "Name: fraud, dtype: int64"
      ]
     },
     "execution_count": 118,
     "metadata": {},
     "output_type": "execute_result"
    }
   ],
   "source": [
    "df['fraud'].value_counts()"
   ]
  },
  {
   "cell_type": "markdown",
   "id": "076abf74",
   "metadata": {},
   "source": [
    "#### We see that both the classes are disproportionate and hence we have an imbalanced dataset"
   ]
  },
  {
   "cell_type": "markdown",
   "id": "54cc56a5",
   "metadata": {},
   "source": [
    "#### Analyzing the Independent Variables/ Features & Exploratory Data Analysis:"
   ]
  },
  {
   "cell_type": "markdown",
   "id": "2e1dc786",
   "metadata": {},
   "source": [
    "#### Categorical Variables:"
   ]
  },
  {
   "cell_type": "code",
   "execution_count": 119,
   "id": "bcd511a3",
   "metadata": {},
   "outputs": [
    {
     "data": {
      "text/plain": [
       "'2'    9521\n",
       "'3'    7323\n",
       "'4'    5385\n",
       "'5'    3283\n",
       "'1'    3014\n",
       "'6'    1321\n",
       "'0'     109\n",
       "'U'      44\n",
       "Name: age, dtype: int64"
      ]
     },
     "execution_count": 119,
     "metadata": {},
     "output_type": "execute_result"
    }
   ],
   "source": [
    "df['age'].value_counts()"
   ]
  },
  {
   "cell_type": "code",
   "execution_count": 120,
   "id": "d54cbea1",
   "metadata": {},
   "outputs": [
    {
     "name": "stdout",
     "output_type": "stream",
     "text": [
      "'2'    9521\n",
      "'3'    7323\n",
      "'4'    5385\n",
      "'5'    3283\n",
      "'1'    3014\n",
      "'6'    1321\n",
      "'0'     109\n",
      "'U'      44\n",
      "Name: age, dtype: int64\n"
     ]
    }
   ],
   "source": [
    "# There is no description for 'U', hence tried to replace it with '0'.\n",
    "df['age'] = df['age'].replace({'U':'0'})\n",
    "print(df['age'].value_counts())"
   ]
  },
  {
   "cell_type": "code",
   "execution_count": 121,
   "id": "e8b51e71",
   "metadata": {},
   "outputs": [
    {
     "data": {
      "text/plain": [
       "'F'    16448\n",
       "'M'    13477\n",
       "'E'       44\n",
       "'U'       31\n",
       "Name: gender, dtype: int64"
      ]
     },
     "execution_count": 121,
     "metadata": {},
     "output_type": "execute_result"
    }
   ],
   "source": [
    "df['gender'].value_counts()"
   ]
  },
  {
   "cell_type": "code",
   "execution_count": 122,
   "id": "36d7563e",
   "metadata": {},
   "outputs": [
    {
     "name": "stdout",
     "output_type": "stream",
     "text": [
      "'F'    16448\n",
      "'M'    13477\n",
      "'E'       44\n",
      "'U'       31\n",
      "Name: gender, dtype: int64\n"
     ]
    }
   ],
   "source": [
    "# There is no description for 'U', hence tried to replace it with 'E'.\n",
    "df['gender'] = df['gender'].str.strip().replace({'U': 'E'})\n",
    "print(df['gender'].value_counts())"
   ]
  },
  {
   "cell_type": "code",
   "execution_count": 123,
   "id": "6fcbbb6b",
   "metadata": {},
   "outputs": [
    {
     "data": {
      "text/plain": [
       "'28007'    30000\n",
       "Name: zipcodeOri, dtype: int64"
      ]
     },
     "execution_count": 123,
     "metadata": {},
     "output_type": "execute_result"
    }
   ],
   "source": [
    "df['zipcodeOri'].value_counts()"
   ]
  },
  {
   "cell_type": "code",
   "execution_count": 124,
   "id": "8a23cf43",
   "metadata": {},
   "outputs": [],
   "source": [
    "# Plotting the Categorical Features 'Age' and 'Gender'\n",
    "categorical_features= ['age','gender']\n",
    "df_cat = df[categorical_features]"
   ]
  },
  {
   "cell_type": "code",
   "execution_count": 125,
   "id": "85dbbdd0",
   "metadata": {},
   "outputs": [
    {
     "name": "stdout",
     "output_type": "stream",
     "text": [
      "int64\n"
     ]
    },
    {
     "data": {
      "image/png": "[encoded data removed]",
      "text/plain": [
       "<Figure size 700x400 with 1 Axes>"
      ]
     },
     "metadata": {},
     "output_type": "display_data"
    },
    {
     "data": {
      "image/png": "[encoded data removed]",
      "text/plain": [
       "<Figure size 700x400 with 1 Axes>"
      ]
     },
     "metadata": {},
     "output_type": "display_data"
    }
   ],
   "source": [
    "# Checking the data type of 'fraud' column\n",
    "print(df['fraud'].dtype)\n",
    "# Converting the 'fraud' column to string type if needed\n",
    "df['fraud']= df['fraud'].astype(str)\n",
    "for col in categorical_features:\n",
    "    plt.figure(figsize = (7,4))\n",
    "    sns.countplot(x= col, hue= df['fraud'],data = df_cat, palette = 'dark')\n",
    "    plt.title(f'Count Plot for {col} with fraud')\n",
    "    plt.show()"
   ]
  },
  {
   "cell_type": "code",
   "execution_count": 126,
   "id": "beeaed8c",
   "metadata": {},
   "outputs": [
    {
     "data": {
      "text/html": [
       "<div>\n",
       "<style scoped>\n",
       "    .dataframe tbody tr th:only-of-type {\n",
       "        vertical-align: middle;\n",
       "    }\n",
       "\n",
       "    .dataframe tbody tr th {\n",
       "        vertical-align: top;\n",
       "    }\n",
       "\n",
       "    .dataframe thead th {\n",
       "        text-align: right;\n",
       "    }\n",
       "</style>\n",
       "<table border=\"1\" class=\"dataframe\">\n",
       "  <thead>\n",
       "    <tr style=\"text-align: right;\">\n",
       "      <th>fraud</th>\n",
       "      <th>0</th>\n",
       "      <th>1</th>\n",
       "    </tr>\n",
       "    <tr>\n",
       "      <th>age</th>\n",
       "      <th></th>\n",
       "      <th></th>\n",
       "    </tr>\n",
       "  </thead>\n",
       "  <tbody>\n",
       "    <tr>\n",
       "      <th>'0'</th>\n",
       "      <td>105</td>\n",
       "      <td>4</td>\n",
       "    </tr>\n",
       "    <tr>\n",
       "      <th>'1'</th>\n",
       "      <td>2970</td>\n",
       "      <td>44</td>\n",
       "    </tr>\n",
       "    <tr>\n",
       "      <th>'2'</th>\n",
       "      <td>9414</td>\n",
       "      <td>107</td>\n",
       "    </tr>\n",
       "    <tr>\n",
       "      <th>'3'</th>\n",
       "      <td>7172</td>\n",
       "      <td>151</td>\n",
       "    </tr>\n",
       "    <tr>\n",
       "      <th>'4'</th>\n",
       "      <td>5317</td>\n",
       "      <td>68</td>\n",
       "    </tr>\n",
       "    <tr>\n",
       "      <th>'5'</th>\n",
       "      <td>3228</td>\n",
       "      <td>55</td>\n",
       "    </tr>\n",
       "    <tr>\n",
       "      <th>'6'</th>\n",
       "      <td>1286</td>\n",
       "      <td>35</td>\n",
       "    </tr>\n",
       "    <tr>\n",
       "      <th>'U'</th>\n",
       "      <td>44</td>\n",
       "      <td>0</td>\n",
       "    </tr>\n",
       "  </tbody>\n",
       "</table>\n",
       "</div>"
      ],
      "text/plain": [
       "fraud     0    1\n",
       "age             \n",
       "'0'     105    4\n",
       "'1'    2970   44\n",
       "'2'    9414  107\n",
       "'3'    7172  151\n",
       "'4'    5317   68\n",
       "'5'    3228   55\n",
       "'6'    1286   35\n",
       "'U'      44    0"
      ]
     },
     "execution_count": 126,
     "metadata": {},
     "output_type": "execute_result"
    }
   ],
   "source": [
    "# Number of fraud and non-fraud cases per age group:\n",
    "pd.crosstab(df['age'],df['fraud'])"
   ]
  },
  {
   "cell_type": "markdown",
   "id": "3d6d23ff",
   "metadata": {},
   "source": [
    "#### We observe that the highest number of fraud cases are for age group '2' : 26-35 yrs, '3': 36-45 yrs, '4': 46-55 yrs."
   ]
  },
  {
   "cell_type": "code",
   "execution_count": 127,
   "id": "763bb56e",
   "metadata": {},
   "outputs": [
    {
     "data": {
      "text/html": [
       "<div>\n",
       "<style scoped>\n",
       "    .dataframe tbody tr th:only-of-type {\n",
       "        vertical-align: middle;\n",
       "    }\n",
       "\n",
       "    .dataframe tbody tr th {\n",
       "        vertical-align: top;\n",
       "    }\n",
       "\n",
       "    .dataframe thead th {\n",
       "        text-align: right;\n",
       "    }\n",
       "</style>\n",
       "<table border=\"1\" class=\"dataframe\">\n",
       "  <thead>\n",
       "    <tr style=\"text-align: right;\">\n",
       "      <th>fraud</th>\n",
       "      <th>0</th>\n",
       "      <th>1</th>\n",
       "    </tr>\n",
       "    <tr>\n",
       "      <th>gender</th>\n",
       "      <th></th>\n",
       "      <th></th>\n",
       "    </tr>\n",
       "  </thead>\n",
       "  <tbody>\n",
       "    <tr>\n",
       "      <th>'E'</th>\n",
       "      <td>44</td>\n",
       "      <td>0</td>\n",
       "    </tr>\n",
       "    <tr>\n",
       "      <th>'F'</th>\n",
       "      <td>16133</td>\n",
       "      <td>315</td>\n",
       "    </tr>\n",
       "    <tr>\n",
       "      <th>'M'</th>\n",
       "      <td>13328</td>\n",
       "      <td>149</td>\n",
       "    </tr>\n",
       "    <tr>\n",
       "      <th>'U'</th>\n",
       "      <td>31</td>\n",
       "      <td>0</td>\n",
       "    </tr>\n",
       "  </tbody>\n",
       "</table>\n",
       "</div>"
      ],
      "text/plain": [
       "fraud       0    1\n",
       "gender            \n",
       "'E'        44    0\n",
       "'F'     16133  315\n",
       "'M'     13328  149\n",
       "'U'        31    0"
      ]
     },
     "execution_count": 127,
     "metadata": {},
     "output_type": "execute_result"
    }
   ],
   "source": [
    "# Number of fraud and non-fraud cases per gender:\n",
    "pd.crosstab(df['gender'],df['fraud'])"
   ]
  },
  {
   "cell_type": "markdown",
   "id": "320a45c5",
   "metadata": {},
   "source": [
    "#### We observe that the highest number of fraud cases are for Female & Male for the gender categorical variable."
   ]
  },
  {
   "cell_type": "code",
   "execution_count": 128,
   "id": "ab9ab592",
   "metadata": {},
   "outputs": [
    {
     "name": "stdout",
     "output_type": "stream",
     "text": [
      "fraud              0    1\n",
      "merchant                 \n",
      "'M1053599405'    186    0\n",
      "'M117188757'       1    0\n",
      "'M1198415165'     99   20\n",
      "'M1294758098'      1   16\n",
      "'M1313686961'     16    0\n",
      "'M1352454843'     28    0\n",
      "'M1353266412'      1    2\n",
      "'M1400236507'     12    0\n",
      "'M1416436880'      1    0\n",
      "'M151143676'     633   14\n",
      "'M1535107174'    210   10\n",
      "'M1600850729'    156    0\n",
      "'M1649169323'     90    4\n",
      "'M17379832'        2   10\n",
      "'M1741626453'     53   12\n",
      "'M1748431652'      7    6\n",
      "'M1788569036'      1    0\n",
      "'M1823072687'   6201    0\n",
      "'M1842530320'     74    0\n",
      "'M1872033263'     41    0\n",
      "'M1873032707'      8    0\n",
      "'M1888755466'     86   18\n",
      "'M1913465890'     17    0\n",
      "'M1946091778'    103    0\n",
      "'M2011752106'     12    6\n",
      "'M2080407379'      1    8\n",
      "'M209847108'     318   18\n",
      "'M2122776122'     17   12\n",
      "'M348875670'      11    0\n",
      "'M348934600'   19231    0\n",
      "'M349281107'      83    0\n",
      "'M3697346'         2   32\n",
      "'M45060432'       10    0\n",
      "'M480139044'     226   88\n",
      "'M495352832'       9    6\n",
      "'M50039827'       42    2\n",
      "'M547558035'     116    6\n",
      "'M677738360'      24    0\n",
      "'M692898500'      80    2\n",
      "'M732195782'       7   22\n",
      "'M78078399'       18    0\n",
      "'M840466850'      53   10\n",
      "'M855959430'     554   14\n",
      "'M857378720'      10    8\n",
      "'M85975013'      612    0\n",
      "'M923029380'      37   10\n",
      "'M97925176'        1    0\n",
      "'M980657600'      35  108\n"
     ]
    }
   ],
   "source": [
    "# Analyzing the categorical variable 'merchant':\n",
    "crosstab_merchant = pd.crosstab(df['merchant'],df['fraud'])\n",
    "print(crosstab_merchant)"
   ]
  },
  {
   "cell_type": "code",
   "execution_count": 129,
   "id": "118f68a2",
   "metadata": {},
   "outputs": [
    {
     "data": {
      "text/plain": [
       "9.666666666666666"
      ]
     },
     "execution_count": 129,
     "metadata": {},
     "output_type": "execute_result"
    }
   ],
   "source": [
    "# Average number of frauds taking place across the different merchants:\n",
    "crosstab_merchant['1'].mean()"
   ]
  },
  {
   "cell_type": "code",
   "execution_count": 197,
   "id": "9c6966a4",
   "metadata": {},
   "outputs": [
    {
     "name": "stdout",
     "output_type": "stream",
     "text": [
      "fraud            0    1\n",
      "merchant               \n",
      "'M980657600'    35  108\n",
      "'M480139044'   226   88\n",
      "'M3697346'       2   32\n",
      "'M732195782'     7   22\n",
      "'M1198415165'   99   20\n",
      "'M1888755466'   86   18\n",
      "'M209847108'   318   18\n",
      "'M1294758098'    1   16\n",
      "'M151143676'   633   14\n",
      "'M855959430'   554   14\n",
      "'M1741626453'   53   12\n",
      "'M2122776122'   17   12\n",
      "'M1535107174'  210   10\n",
      "'M17379832'      2   10\n",
      "'M840466850'    53   10\n",
      "'M923029380'    37   10\n"
     ]
    }
   ],
   "source": [
    "# Analyzing merchants having higher number of frauds ( above average)\n",
    "conditioned_crosstab = crosstab_merchant[crosstab_merchant['1'] > 9.6666]\n",
    "sorted_df = conditioned_crosstab.sort_values(by= '1' , ascending=False)\n",
    "# Printing the sorted DataFrame\n",
    "print(sorted_df)"
   ]
  },
  {
   "cell_type": "markdown",
   "id": "eccd8661",
   "metadata": {},
   "source": [
    "#### We observe that the highest number of fraudulent transactions across all the merchants are for merchants 'M980657600' : 108 & 'M480139044': 88."
   ]
  },
  {
   "cell_type": "code",
   "execution_count": 198,
   "id": "a19c654c",
   "metadata": {},
   "outputs": [
    {
     "name": "stdout",
     "output_type": "stream",
     "text": [
      "fraud                  0          1\n",
      "merchant                           \n",
      "'M1294758098'   5.882353  94.117647\n",
      "'M3697346'      5.882353  94.117647\n",
      "'M17379832'    16.666667  83.333333\n",
      "'M732195782'   24.137931  75.862069\n",
      "'M980657600'   24.475524  75.524476\n",
      "'M2122776122'  58.620690  41.379310\n",
      "'M480139044'   71.974522  28.025478\n",
      "'M923029380'   78.723404  21.276596\n",
      "'M1741626453'  81.538462  18.461538\n",
      "'M1888755466'  82.692308  17.307692\n",
      "'M1198415165'  83.193277  16.806723\n",
      "'M840466850'   84.126984  15.873016\n",
      "'M209847108'   94.642857   5.357143\n",
      "'M1535107174'  95.454545   4.545455\n",
      "'M855959430'   97.535211   2.464789\n",
      "'M151143676'   97.836167   2.163833\n"
     ]
    }
   ],
   "source": [
    "# Calculating percentages\n",
    "percentage_result_merchant = conditioned_crosstab.apply(lambda row: row / row.sum() * 100, axis=1)\n",
    "sorted_df_merchant = percentage_result_merchant.sort_values(by= '1' , ascending=False)\n",
    "# Printing the sorted DataFrame\n",
    "print(sorted_df_merchant)"
   ]
  },
  {
   "cell_type": "markdown",
   "id": "941e8df8",
   "metadata": {},
   "source": [
    "#### We observe that out of the total number of transactions conducted at a merchant, the maximum transactions were fraudulent for merchants 'M1294758098': 94.11%  , 'M3697346' : 94.11%, 'M17379832': 83.33%."
   ]
  },
  {
   "cell_type": "code",
   "execution_count": 132,
   "id": "ce773b8e",
   "metadata": {},
   "outputs": [
    {
     "data": {
      "text/plain": [
       "'28007'    30000\n",
       "Name: zipMerchant, dtype: int64"
      ]
     },
     "execution_count": 132,
     "metadata": {},
     "output_type": "execute_result"
    }
   ],
   "source": [
    "df['zipMerchant'].value_counts()"
   ]
  },
  {
   "cell_type": "code",
   "execution_count": 133,
   "id": "8a2aaac9",
   "metadata": {},
   "outputs": [
    {
     "name": "stdout",
     "output_type": "stream",
     "text": [
      "fraud                        0    1\n",
      "category                           \n",
      "'es_sportsandtoys'         181  134\n",
      "'es_health'                551   92\n",
      "'es_wellnessandbeauty'     756   54\n",
      "'es_leisure'                 3   48\n",
      "'es_travel'                 17   36\n",
      "'es_home'                  108   22\n",
      "'es_otherservices'          86   18\n",
      "'es_hotelservices'          80   16\n",
      "'es_barsandrestaurants'    633   14\n",
      "'es_hyper'                 554   14\n",
      "'es_tech'                  128   10\n",
      "'es_fashion'               355    6\n",
      "'es_contents'               40    0\n",
      "'es_food'                  612    0\n",
      "'es_transportation'      25432    0\n"
     ]
    }
   ],
   "source": [
    "# Analyzing the categorical variable 'category':\n",
    "crosstab_category = pd.crosstab(df['category'],df['fraud'])\n",
    "sorted_df_category = crosstab_category.sort_values(by= '1' , ascending=False)\n",
    "# Printing the sorted DataFrame\n",
    "print(sorted_df_category)"
   ]
  },
  {
   "cell_type": "markdown",
   "id": "e597eddc",
   "metadata": {},
   "source": [
    "#### We observe that the highest  number of fraudent transactions across all the categories was for sportsandtoys : 134 & health:92."
   ]
  },
  {
   "cell_type": "code",
   "execution_count": 134,
   "id": "b7f1615b",
   "metadata": {},
   "outputs": [
    {
     "name": "stdout",
     "output_type": "stream",
     "text": [
      "fraud                             0          1\n",
      "category                                      \n",
      "'es_leisure'               5.882353  94.117647\n",
      "'es_travel'               32.075472  67.924528\n",
      "'es_sportsandtoys'        57.460317  42.539683\n",
      "'es_otherservices'        82.692308  17.307692\n",
      "'es_home'                 83.076923  16.923077\n",
      "'es_hotelservices'        83.333333  16.666667\n",
      "'es_health'               85.692068  14.307932\n",
      "'es_tech'                 92.753623   7.246377\n",
      "'es_wellnessandbeauty'    93.333333   6.666667\n",
      "'es_hyper'                97.535211   2.464789\n",
      "'es_barsandrestaurants'   97.836167   2.163833\n",
      "'es_fashion'              98.337950   1.662050\n",
      "'es_contents'            100.000000   0.000000\n",
      "'es_food'                100.000000   0.000000\n",
      "'es_transportation'      100.000000   0.000000\n"
     ]
    }
   ],
   "source": [
    "# Calculating percentages\n",
    "percentage_result = crosstab_category.apply(lambda row: row / row.sum() * 100, axis=1)\n",
    "sorted_df_category = percentage_result.sort_values(by= '1' , ascending=False)\n",
    "# Printing the sorted DataFrame\n",
    "print(sorted_df_category)"
   ]
  },
  {
   "cell_type": "markdown",
   "id": "fa471e1c",
   "metadata": {},
   "source": [
    "#### We observe that out of the total transactions conducted in a category,the maximum number of transactions were fraudulent for 'leisure': 94.117%,'travel':67.924% &'sportsandtoys': 42.539%."
   ]
  },
  {
   "cell_type": "code",
   "execution_count": 135,
   "id": "ca10ad56",
   "metadata": {},
   "outputs": [
    {
     "data": {
      "image/png": "[encoded data removed]",
      "text/plain": [
       "<Figure size 800x400 with 1 Axes>"
      ]
     },
     "metadata": {},
     "output_type": "display_data"
    }
   ],
   "source": [
    "# Analyzing the numerical feature 'Amount'\n",
    "\n",
    "# Visualizing the target variable 'Fraud'\n",
    "plt.figure(figsize = (8,4))\n",
    "b = sns.barplot(x = 'fraud', y = 'amount', data=df, palette = 'magma')\n",
    "for label in b.containers:\n",
    "    b.bar_label(label)\n",
    "plt.xticks([0,1],labels = ['Not Fraud','Fraud'])\n",
    "plt.show()"
   ]
  },
  {
   "cell_type": "code",
   "execution_count": 136,
   "id": "c44dff33",
   "metadata": {},
   "outputs": [
    {
     "data": {
      "text/plain": [
       "<Axes: xlabel='fraud', ylabel='amount'>"
      ]
     },
     "execution_count": 136,
     "metadata": {},
     "output_type": "execute_result"
    },
    {
     "data": {
      "image/png": "[encoded data removed]",
      "text/plain": [
       "<Figure size 640x480 with 1 Axes>"
      ]
     },
     "metadata": {},
     "output_type": "display_data"
    }
   ],
   "source": [
    "sns.boxplot(x = 'fraud', y= 'amount',data = df,palette = 'magma')"
   ]
  },
  {
   "cell_type": "markdown",
   "id": "6c7ea71e",
   "metadata": {},
   "source": [
    "#### From the above barplot & boxplot we observe that the fraudulent transactions were of a higher amount."
   ]
  },
  {
   "cell_type": "code",
   "execution_count": 137,
   "id": "e2defda1",
   "metadata": {},
   "outputs": [
    {
     "name": "stdout",
     "output_type": "stream",
     "text": [
      "3515\n"
     ]
    }
   ],
   "source": [
    "# Mapping the customer ids with unique numbers:\n",
    "print(df['customer'].nunique())\n",
    "# Creating a mapping dictionary to map each unique customer id to a number from 1 to 4112\n",
    "unique_ids = df['customer'].unique()\n",
    "id_map = {id:str(idx+1) for idx, id in enumerate(unique_ids)}\n",
    "# Replacing the big customers ids with the mapped numbers:\n",
    "df['customer_id'] = df['customer'].map(id_map)"
   ]
  },
  {
   "cell_type": "code",
   "execution_count": 138,
   "id": "65ec0bbb",
   "metadata": {},
   "outputs": [
    {
     "data": {
      "text/html": [
       "<div>\n",
       "<style scoped>\n",
       "    .dataframe tbody tr th:only-of-type {\n",
       "        vertical-align: middle;\n",
       "    }\n",
       "\n",
       "    .dataframe tbody tr th {\n",
       "        vertical-align: top;\n",
       "    }\n",
       "\n",
       "    .dataframe thead th {\n",
       "        text-align: right;\n",
       "    }\n",
       "</style>\n",
       "<table border=\"1\" class=\"dataframe\">\n",
       "  <thead>\n",
       "    <tr style=\"text-align: right;\">\n",
       "      <th></th>\n",
       "      <th>step</th>\n",
       "      <th>customer</th>\n",
       "      <th>age</th>\n",
       "      <th>gender</th>\n",
       "      <th>zipcodeOri</th>\n",
       "      <th>merchant</th>\n",
       "      <th>zipMerchant</th>\n",
       "      <th>category</th>\n",
       "      <th>amount</th>\n",
       "      <th>fraud</th>\n",
       "      <th>customer_id</th>\n",
       "    </tr>\n",
       "  </thead>\n",
       "  <tbody>\n",
       "    <tr>\n",
       "      <th>0</th>\n",
       "      <td>0</td>\n",
       "      <td>'C1093826151'</td>\n",
       "      <td>'4'</td>\n",
       "      <td>'M'</td>\n",
       "      <td>'28007'</td>\n",
       "      <td>'M348934600'</td>\n",
       "      <td>'28007'</td>\n",
       "      <td>'es_transportation'</td>\n",
       "      <td>4.55</td>\n",
       "      <td>0</td>\n",
       "      <td>1</td>\n",
       "    </tr>\n",
       "    <tr>\n",
       "      <th>1</th>\n",
       "      <td>0</td>\n",
       "      <td>'C352968107'</td>\n",
       "      <td>'2'</td>\n",
       "      <td>'M'</td>\n",
       "      <td>'28007'</td>\n",
       "      <td>'M348934600'</td>\n",
       "      <td>'28007'</td>\n",
       "      <td>'es_transportation'</td>\n",
       "      <td>39.68</td>\n",
       "      <td>0</td>\n",
       "      <td>2</td>\n",
       "    </tr>\n",
       "    <tr>\n",
       "      <th>2</th>\n",
       "      <td>0</td>\n",
       "      <td>'C2054744914'</td>\n",
       "      <td>'4'</td>\n",
       "      <td>'F'</td>\n",
       "      <td>'28007'</td>\n",
       "      <td>'M1823072687'</td>\n",
       "      <td>'28007'</td>\n",
       "      <td>'es_transportation'</td>\n",
       "      <td>26.89</td>\n",
       "      <td>0</td>\n",
       "      <td>3</td>\n",
       "    </tr>\n",
       "  </tbody>\n",
       "</table>\n",
       "</div>"
      ],
      "text/plain": [
       "   step       customer  age gender zipcodeOri       merchant zipMerchant  \\\n",
       "0     0  'C1093826151'  '4'    'M'    '28007'   'M348934600'     '28007'   \n",
       "1     0   'C352968107'  '2'    'M'    '28007'   'M348934600'     '28007'   \n",
       "2     0  'C2054744914'  '4'    'F'    '28007'  'M1823072687'     '28007'   \n",
       "\n",
       "              category  amount fraud customer_id  \n",
       "0  'es_transportation'    4.55     0           1  \n",
       "1  'es_transportation'   39.68     0           2  \n",
       "2  'es_transportation'   26.89     0           3  "
      ]
     },
     "execution_count": 138,
     "metadata": {},
     "output_type": "execute_result"
    }
   ],
   "source": [
    "df.head(3)"
   ]
  },
  {
   "cell_type": "code",
   "execution_count": 139,
   "id": "8ad9a176",
   "metadata": {},
   "outputs": [],
   "source": [
    "df = df.drop('customer',axis=1)"
   ]
  },
  {
   "cell_type": "code",
   "execution_count": 140,
   "id": "1dcf6e1a",
   "metadata": {},
   "outputs": [
    {
     "data": {
      "text/html": [
       "<div>\n",
       "<style scoped>\n",
       "    .dataframe tbody tr th:only-of-type {\n",
       "        vertical-align: middle;\n",
       "    }\n",
       "\n",
       "    .dataframe tbody tr th {\n",
       "        vertical-align: top;\n",
       "    }\n",
       "\n",
       "    .dataframe thead th {\n",
       "        text-align: right;\n",
       "    }\n",
       "</style>\n",
       "<table border=\"1\" class=\"dataframe\">\n",
       "  <thead>\n",
       "    <tr style=\"text-align: right;\">\n",
       "      <th></th>\n",
       "      <th>step</th>\n",
       "      <th>age</th>\n",
       "      <th>gender</th>\n",
       "      <th>zipcodeOri</th>\n",
       "      <th>merchant</th>\n",
       "      <th>zipMerchant</th>\n",
       "      <th>category</th>\n",
       "      <th>amount</th>\n",
       "      <th>fraud</th>\n",
       "      <th>customer_id</th>\n",
       "    </tr>\n",
       "  </thead>\n",
       "  <tbody>\n",
       "    <tr>\n",
       "      <th>0</th>\n",
       "      <td>0</td>\n",
       "      <td>'4'</td>\n",
       "      <td>'M'</td>\n",
       "      <td>'28007'</td>\n",
       "      <td>'M348934600'</td>\n",
       "      <td>'28007'</td>\n",
       "      <td>'es_transportation'</td>\n",
       "      <td>4.55</td>\n",
       "      <td>0</td>\n",
       "      <td>1</td>\n",
       "    </tr>\n",
       "    <tr>\n",
       "      <th>1</th>\n",
       "      <td>0</td>\n",
       "      <td>'2'</td>\n",
       "      <td>'M'</td>\n",
       "      <td>'28007'</td>\n",
       "      <td>'M348934600'</td>\n",
       "      <td>'28007'</td>\n",
       "      <td>'es_transportation'</td>\n",
       "      <td>39.68</td>\n",
       "      <td>0</td>\n",
       "      <td>2</td>\n",
       "    </tr>\n",
       "    <tr>\n",
       "      <th>2</th>\n",
       "      <td>0</td>\n",
       "      <td>'4'</td>\n",
       "      <td>'F'</td>\n",
       "      <td>'28007'</td>\n",
       "      <td>'M1823072687'</td>\n",
       "      <td>'28007'</td>\n",
       "      <td>'es_transportation'</td>\n",
       "      <td>26.89</td>\n",
       "      <td>0</td>\n",
       "      <td>3</td>\n",
       "    </tr>\n",
       "  </tbody>\n",
       "</table>\n",
       "</div>"
      ],
      "text/plain": [
       "   step  age gender zipcodeOri       merchant zipMerchant  \\\n",
       "0     0  '4'    'M'    '28007'   'M348934600'     '28007'   \n",
       "1     0  '2'    'M'    '28007'   'M348934600'     '28007'   \n",
       "2     0  '4'    'F'    '28007'  'M1823072687'     '28007'   \n",
       "\n",
       "              category  amount fraud customer_id  \n",
       "0  'es_transportation'    4.55     0           1  \n",
       "1  'es_transportation'   39.68     0           2  \n",
       "2  'es_transportation'   26.89     0           3  "
      ]
     },
     "execution_count": 140,
     "metadata": {},
     "output_type": "execute_result"
    }
   ],
   "source": [
    "df.head(3)"
   ]
  },
  {
   "cell_type": "code",
   "execution_count": 141,
   "id": "afeea30a",
   "metadata": {},
   "outputs": [
    {
     "data": {
      "text/plain": [
       "48"
      ]
     },
     "execution_count": 141,
     "metadata": {},
     "output_type": "execute_result"
    }
   ],
   "source": [
    "df['merchant'].nunique()"
   ]
  },
  {
   "cell_type": "code",
   "execution_count": 142,
   "id": "b8ef31c5",
   "metadata": {},
   "outputs": [
    {
     "name": "stdout",
     "output_type": "stream",
     "text": [
      "48\n"
     ]
    }
   ],
   "source": [
    "# Mapping the merchant ids with unique numbers:\n",
    "print(df['merchant'].nunique())\n",
    "# Creating a mapping dictionary to map each unique merchant id to a number from 1 to 50\n",
    "unique_ids = df['merchant'].unique()\n",
    "id_map = {id:str(idx+1) for idx, id in enumerate(unique_ids)}\n",
    "# Replacing the big merchant ids with the mapped numbers:\n",
    "df['merchant_id'] = df['merchant'].map(id_map)\n",
    "df = df.drop('merchant',axis=1)"
   ]
  },
  {
   "cell_type": "code",
   "execution_count": 143,
   "id": "4cf3b583",
   "metadata": {},
   "outputs": [
    {
     "data": {
      "text/html": [
       "<div>\n",
       "<style scoped>\n",
       "    .dataframe tbody tr th:only-of-type {\n",
       "        vertical-align: middle;\n",
       "    }\n",
       "\n",
       "    .dataframe tbody tr th {\n",
       "        vertical-align: top;\n",
       "    }\n",
       "\n",
       "    .dataframe thead th {\n",
       "        text-align: right;\n",
       "    }\n",
       "</style>\n",
       "<table border=\"1\" class=\"dataframe\">\n",
       "  <thead>\n",
       "    <tr style=\"text-align: right;\">\n",
       "      <th></th>\n",
       "      <th>step</th>\n",
       "      <th>age</th>\n",
       "      <th>gender</th>\n",
       "      <th>zipcodeOri</th>\n",
       "      <th>zipMerchant</th>\n",
       "      <th>category</th>\n",
       "      <th>amount</th>\n",
       "      <th>fraud</th>\n",
       "      <th>customer_id</th>\n",
       "      <th>merchant_id</th>\n",
       "    </tr>\n",
       "  </thead>\n",
       "  <tbody>\n",
       "    <tr>\n",
       "      <th>0</th>\n",
       "      <td>0</td>\n",
       "      <td>'4'</td>\n",
       "      <td>'M'</td>\n",
       "      <td>'28007'</td>\n",
       "      <td>'28007'</td>\n",
       "      <td>'es_transportation'</td>\n",
       "      <td>4.55</td>\n",
       "      <td>0</td>\n",
       "      <td>1</td>\n",
       "      <td>1</td>\n",
       "    </tr>\n",
       "    <tr>\n",
       "      <th>1</th>\n",
       "      <td>0</td>\n",
       "      <td>'2'</td>\n",
       "      <td>'M'</td>\n",
       "      <td>'28007'</td>\n",
       "      <td>'28007'</td>\n",
       "      <td>'es_transportation'</td>\n",
       "      <td>39.68</td>\n",
       "      <td>0</td>\n",
       "      <td>2</td>\n",
       "      <td>1</td>\n",
       "    </tr>\n",
       "    <tr>\n",
       "      <th>2</th>\n",
       "      <td>0</td>\n",
       "      <td>'4'</td>\n",
       "      <td>'F'</td>\n",
       "      <td>'28007'</td>\n",
       "      <td>'28007'</td>\n",
       "      <td>'es_transportation'</td>\n",
       "      <td>26.89</td>\n",
       "      <td>0</td>\n",
       "      <td>3</td>\n",
       "      <td>2</td>\n",
       "    </tr>\n",
       "  </tbody>\n",
       "</table>\n",
       "</div>"
      ],
      "text/plain": [
       "   step  age gender zipcodeOri zipMerchant             category  amount fraud  \\\n",
       "0     0  '4'    'M'    '28007'     '28007'  'es_transportation'    4.55     0   \n",
       "1     0  '2'    'M'    '28007'     '28007'  'es_transportation'   39.68     0   \n",
       "2     0  '4'    'F'    '28007'     '28007'  'es_transportation'   26.89     0   \n",
       "\n",
       "  customer_id merchant_id  \n",
       "0           1           1  \n",
       "1           2           1  \n",
       "2           3           2  "
      ]
     },
     "execution_count": 143,
     "metadata": {},
     "output_type": "execute_result"
    }
   ],
   "source": [
    "df.head(3)"
   ]
  },
  {
   "cell_type": "code",
   "execution_count": 144,
   "id": "628e7b2c",
   "metadata": {},
   "outputs": [
    {
     "data": {
      "text/plain": [
       "15"
      ]
     },
     "execution_count": 144,
     "metadata": {},
     "output_type": "execute_result"
    }
   ],
   "source": [
    "df['category'].nunique()"
   ]
  },
  {
   "cell_type": "markdown",
   "id": "2031686d",
   "metadata": {},
   "source": [
    "#### Feature Engineering:\n",
    "##### One Hot Encoding"
   ]
  },
  {
   "cell_type": "code",
   "execution_count": 145,
   "id": "21c83d23",
   "metadata": {},
   "outputs": [
    {
     "data": {
      "text/html": [
       "<div>\n",
       "<style scoped>\n",
       "    .dataframe tbody tr th:only-of-type {\n",
       "        vertical-align: middle;\n",
       "    }\n",
       "\n",
       "    .dataframe tbody tr th {\n",
       "        vertical-align: top;\n",
       "    }\n",
       "\n",
       "    .dataframe thead th {\n",
       "        text-align: right;\n",
       "    }\n",
       "</style>\n",
       "<table border=\"1\" class=\"dataframe\">\n",
       "  <thead>\n",
       "    <tr style=\"text-align: right;\">\n",
       "      <th></th>\n",
       "      <th>step</th>\n",
       "      <th>zipcodeOri</th>\n",
       "      <th>zipMerchant</th>\n",
       "      <th>amount</th>\n",
       "      <th>fraud</th>\n",
       "      <th>customer_id</th>\n",
       "      <th>merchant_id</th>\n",
       "      <th>age_'0'</th>\n",
       "      <th>age_'1'</th>\n",
       "      <th>age_'2'</th>\n",
       "      <th>...</th>\n",
       "      <th>category_'es_home'</th>\n",
       "      <th>category_'es_hotelservices'</th>\n",
       "      <th>category_'es_hyper'</th>\n",
       "      <th>category_'es_leisure'</th>\n",
       "      <th>category_'es_otherservices'</th>\n",
       "      <th>category_'es_sportsandtoys'</th>\n",
       "      <th>category_'es_tech'</th>\n",
       "      <th>category_'es_transportation'</th>\n",
       "      <th>category_'es_travel'</th>\n",
       "      <th>category_'es_wellnessandbeauty'</th>\n",
       "    </tr>\n",
       "  </thead>\n",
       "  <tbody>\n",
       "    <tr>\n",
       "      <th>0</th>\n",
       "      <td>0</td>\n",
       "      <td>'28007'</td>\n",
       "      <td>'28007'</td>\n",
       "      <td>4.55</td>\n",
       "      <td>0</td>\n",
       "      <td>1</td>\n",
       "      <td>1</td>\n",
       "      <td>0</td>\n",
       "      <td>0</td>\n",
       "      <td>0</td>\n",
       "      <td>...</td>\n",
       "      <td>0</td>\n",
       "      <td>0</td>\n",
       "      <td>0</td>\n",
       "      <td>0</td>\n",
       "      <td>0</td>\n",
       "      <td>0</td>\n",
       "      <td>0</td>\n",
       "      <td>1</td>\n",
       "      <td>0</td>\n",
       "      <td>0</td>\n",
       "    </tr>\n",
       "    <tr>\n",
       "      <th>1</th>\n",
       "      <td>0</td>\n",
       "      <td>'28007'</td>\n",
       "      <td>'28007'</td>\n",
       "      <td>39.68</td>\n",
       "      <td>0</td>\n",
       "      <td>2</td>\n",
       "      <td>1</td>\n",
       "      <td>0</td>\n",
       "      <td>0</td>\n",
       "      <td>1</td>\n",
       "      <td>...</td>\n",
       "      <td>0</td>\n",
       "      <td>0</td>\n",
       "      <td>0</td>\n",
       "      <td>0</td>\n",
       "      <td>0</td>\n",
       "      <td>0</td>\n",
       "      <td>0</td>\n",
       "      <td>1</td>\n",
       "      <td>0</td>\n",
       "      <td>0</td>\n",
       "    </tr>\n",
       "    <tr>\n",
       "      <th>2</th>\n",
       "      <td>0</td>\n",
       "      <td>'28007'</td>\n",
       "      <td>'28007'</td>\n",
       "      <td>26.89</td>\n",
       "      <td>0</td>\n",
       "      <td>3</td>\n",
       "      <td>2</td>\n",
       "      <td>0</td>\n",
       "      <td>0</td>\n",
       "      <td>0</td>\n",
       "      <td>...</td>\n",
       "      <td>0</td>\n",
       "      <td>0</td>\n",
       "      <td>0</td>\n",
       "      <td>0</td>\n",
       "      <td>0</td>\n",
       "      <td>0</td>\n",
       "      <td>0</td>\n",
       "      <td>1</td>\n",
       "      <td>0</td>\n",
       "      <td>0</td>\n",
       "    </tr>\n",
       "    <tr>\n",
       "      <th>3</th>\n",
       "      <td>0</td>\n",
       "      <td>'28007'</td>\n",
       "      <td>'28007'</td>\n",
       "      <td>17.25</td>\n",
       "      <td>0</td>\n",
       "      <td>4</td>\n",
       "      <td>1</td>\n",
       "      <td>0</td>\n",
       "      <td>0</td>\n",
       "      <td>0</td>\n",
       "      <td>...</td>\n",
       "      <td>0</td>\n",
       "      <td>0</td>\n",
       "      <td>0</td>\n",
       "      <td>0</td>\n",
       "      <td>0</td>\n",
       "      <td>0</td>\n",
       "      <td>0</td>\n",
       "      <td>1</td>\n",
       "      <td>0</td>\n",
       "      <td>0</td>\n",
       "    </tr>\n",
       "    <tr>\n",
       "      <th>4</th>\n",
       "      <td>0</td>\n",
       "      <td>'28007'</td>\n",
       "      <td>'28007'</td>\n",
       "      <td>35.72</td>\n",
       "      <td>0</td>\n",
       "      <td>5</td>\n",
       "      <td>1</td>\n",
       "      <td>0</td>\n",
       "      <td>0</td>\n",
       "      <td>0</td>\n",
       "      <td>...</td>\n",
       "      <td>0</td>\n",
       "      <td>0</td>\n",
       "      <td>0</td>\n",
       "      <td>0</td>\n",
       "      <td>0</td>\n",
       "      <td>0</td>\n",
       "      <td>0</td>\n",
       "      <td>1</td>\n",
       "      <td>0</td>\n",
       "      <td>0</td>\n",
       "    </tr>\n",
       "  </tbody>\n",
       "</table>\n",
       "<p>5 rows × 34 columns</p>\n",
       "</div>"
      ],
      "text/plain": [
       "   step zipcodeOri zipMerchant  amount fraud customer_id merchant_id  age_'0'  \\\n",
       "0     0    '28007'     '28007'    4.55     0           1           1        0   \n",
       "1     0    '28007'     '28007'   39.68     0           2           1        0   \n",
       "2     0    '28007'     '28007'   26.89     0           3           2        0   \n",
       "3     0    '28007'     '28007'   17.25     0           4           1        0   \n",
       "4     0    '28007'     '28007'   35.72     0           5           1        0   \n",
       "\n",
       "   age_'1'  age_'2'  ...  category_'es_home'  category_'es_hotelservices'  \\\n",
       "0        0        0  ...                   0                            0   \n",
       "1        0        1  ...                   0                            0   \n",
       "2        0        0  ...                   0                            0   \n",
       "3        0        0  ...                   0                            0   \n",
       "4        0        0  ...                   0                            0   \n",
       "\n",
       "   category_'es_hyper'  category_'es_leisure'  category_'es_otherservices'  \\\n",
       "0                    0                      0                            0   \n",
       "1                    0                      0                            0   \n",
       "2                    0                      0                            0   \n",
       "3                    0                      0                            0   \n",
       "4                    0                      0                            0   \n",
       "\n",
       "   category_'es_sportsandtoys'  category_'es_tech'  \\\n",
       "0                            0                   0   \n",
       "1                            0                   0   \n",
       "2                            0                   0   \n",
       "3                            0                   0   \n",
       "4                            0                   0   \n",
       "\n",
       "   category_'es_transportation'  category_'es_travel'  \\\n",
       "0                             1                     0   \n",
       "1                             1                     0   \n",
       "2                             1                     0   \n",
       "3                             1                     0   \n",
       "4                             1                     0   \n",
       "\n",
       "   category_'es_wellnessandbeauty'  \n",
       "0                                0  \n",
       "1                                0  \n",
       "2                                0  \n",
       "3                                0  \n",
       "4                                0  \n",
       "\n",
       "[5 rows x 34 columns]"
      ]
     },
     "execution_count": 145,
     "metadata": {},
     "output_type": "execute_result"
    }
   ],
   "source": [
    "df = pd.get_dummies(df,columns= ['age','gender','category'])\n",
    "df.head(5)"
   ]
  },
  {
   "cell_type": "code",
   "execution_count": 146,
   "id": "90143301",
   "metadata": {},
   "outputs": [
    {
     "data": {
      "text/plain": [
       "Index(['step', 'zipcodeOri', 'zipMerchant', 'amount', 'fraud', 'customer_id',\n",
       "       'merchant_id', 'age_'0'', 'age_'1'', 'age_'2'', 'age_'3'', 'age_'4'',\n",
       "       'age_'5'', 'age_'6'', 'age_'U'', 'gender_'E'', 'gender_'F'',\n",
       "       'gender_'M'', 'gender_'U'', 'category_'es_barsandrestaurants'',\n",
       "       'category_'es_contents'', 'category_'es_fashion'', 'category_'es_food'',\n",
       "       'category_'es_health'', 'category_'es_home'',\n",
       "       'category_'es_hotelservices'', 'category_'es_hyper'',\n",
       "       'category_'es_leisure'', 'category_'es_otherservices'',\n",
       "       'category_'es_sportsandtoys'', 'category_'es_tech'',\n",
       "       'category_'es_transportation'', 'category_'es_travel'',\n",
       "       'category_'es_wellnessandbeauty''],\n",
       "      dtype='object')"
      ]
     },
     "execution_count": 146,
     "metadata": {},
     "output_type": "execute_result"
    }
   ],
   "source": [
    "df.columns"
   ]
  },
  {
   "cell_type": "code",
   "execution_count": 147,
   "id": "624947a7",
   "metadata": {},
   "outputs": [
    {
     "data": {
      "text/html": [
       "<div>\n",
       "<style scoped>\n",
       "    .dataframe tbody tr th:only-of-type {\n",
       "        vertical-align: middle;\n",
       "    }\n",
       "\n",
       "    .dataframe tbody tr th {\n",
       "        vertical-align: top;\n",
       "    }\n",
       "\n",
       "    .dataframe thead th {\n",
       "        text-align: right;\n",
       "    }\n",
       "</style>\n",
       "<table border=\"1\" class=\"dataframe\">\n",
       "  <thead>\n",
       "    <tr style=\"text-align: right;\">\n",
       "      <th></th>\n",
       "      <th>step</th>\n",
       "      <th>zipcodeOri</th>\n",
       "      <th>zipMerchant</th>\n",
       "      <th>amount</th>\n",
       "      <th>fraud</th>\n",
       "      <th>customer_id</th>\n",
       "      <th>merchant_id</th>\n",
       "      <th>age_'0'</th>\n",
       "      <th>age_'1'</th>\n",
       "      <th>age_'2'</th>\n",
       "      <th>...</th>\n",
       "      <th>category_'es_home'</th>\n",
       "      <th>category_'es_hotelservices'</th>\n",
       "      <th>category_'es_hyper'</th>\n",
       "      <th>category_'es_leisure'</th>\n",
       "      <th>category_'es_otherservices'</th>\n",
       "      <th>category_'es_sportsandtoys'</th>\n",
       "      <th>category_'es_tech'</th>\n",
       "      <th>category_'es_transportation'</th>\n",
       "      <th>category_'es_travel'</th>\n",
       "      <th>category_'es_wellnessandbeauty'</th>\n",
       "    </tr>\n",
       "  </thead>\n",
       "  <tbody>\n",
       "    <tr>\n",
       "      <th>0</th>\n",
       "      <td>0</td>\n",
       "      <td>'28007'</td>\n",
       "      <td>'28007'</td>\n",
       "      <td>4.55</td>\n",
       "      <td>0</td>\n",
       "      <td>1</td>\n",
       "      <td>1</td>\n",
       "      <td>0</td>\n",
       "      <td>0</td>\n",
       "      <td>0</td>\n",
       "      <td>...</td>\n",
       "      <td>0</td>\n",
       "      <td>0</td>\n",
       "      <td>0</td>\n",
       "      <td>0</td>\n",
       "      <td>0</td>\n",
       "      <td>0</td>\n",
       "      <td>0</td>\n",
       "      <td>1</td>\n",
       "      <td>0</td>\n",
       "      <td>0</td>\n",
       "    </tr>\n",
       "    <tr>\n",
       "      <th>1</th>\n",
       "      <td>0</td>\n",
       "      <td>'28007'</td>\n",
       "      <td>'28007'</td>\n",
       "      <td>39.68</td>\n",
       "      <td>0</td>\n",
       "      <td>2</td>\n",
       "      <td>1</td>\n",
       "      <td>0</td>\n",
       "      <td>0</td>\n",
       "      <td>1</td>\n",
       "      <td>...</td>\n",
       "      <td>0</td>\n",
       "      <td>0</td>\n",
       "      <td>0</td>\n",
       "      <td>0</td>\n",
       "      <td>0</td>\n",
       "      <td>0</td>\n",
       "      <td>0</td>\n",
       "      <td>1</td>\n",
       "      <td>0</td>\n",
       "      <td>0</td>\n",
       "    </tr>\n",
       "    <tr>\n",
       "      <th>2</th>\n",
       "      <td>0</td>\n",
       "      <td>'28007'</td>\n",
       "      <td>'28007'</td>\n",
       "      <td>26.89</td>\n",
       "      <td>0</td>\n",
       "      <td>3</td>\n",
       "      <td>2</td>\n",
       "      <td>0</td>\n",
       "      <td>0</td>\n",
       "      <td>0</td>\n",
       "      <td>...</td>\n",
       "      <td>0</td>\n",
       "      <td>0</td>\n",
       "      <td>0</td>\n",
       "      <td>0</td>\n",
       "      <td>0</td>\n",
       "      <td>0</td>\n",
       "      <td>0</td>\n",
       "      <td>1</td>\n",
       "      <td>0</td>\n",
       "      <td>0</td>\n",
       "    </tr>\n",
       "    <tr>\n",
       "      <th>3</th>\n",
       "      <td>0</td>\n",
       "      <td>'28007'</td>\n",
       "      <td>'28007'</td>\n",
       "      <td>17.25</td>\n",
       "      <td>0</td>\n",
       "      <td>4</td>\n",
       "      <td>1</td>\n",
       "      <td>0</td>\n",
       "      <td>0</td>\n",
       "      <td>0</td>\n",
       "      <td>...</td>\n",
       "      <td>0</td>\n",
       "      <td>0</td>\n",
       "      <td>0</td>\n",
       "      <td>0</td>\n",
       "      <td>0</td>\n",
       "      <td>0</td>\n",
       "      <td>0</td>\n",
       "      <td>1</td>\n",
       "      <td>0</td>\n",
       "      <td>0</td>\n",
       "    </tr>\n",
       "    <tr>\n",
       "      <th>4</th>\n",
       "      <td>0</td>\n",
       "      <td>'28007'</td>\n",
       "      <td>'28007'</td>\n",
       "      <td>35.72</td>\n",
       "      <td>0</td>\n",
       "      <td>5</td>\n",
       "      <td>1</td>\n",
       "      <td>0</td>\n",
       "      <td>0</td>\n",
       "      <td>0</td>\n",
       "      <td>...</td>\n",
       "      <td>0</td>\n",
       "      <td>0</td>\n",
       "      <td>0</td>\n",
       "      <td>0</td>\n",
       "      <td>0</td>\n",
       "      <td>0</td>\n",
       "      <td>0</td>\n",
       "      <td>1</td>\n",
       "      <td>0</td>\n",
       "      <td>0</td>\n",
       "    </tr>\n",
       "    <tr>\n",
       "      <th>...</th>\n",
       "      <td>...</td>\n",
       "      <td>...</td>\n",
       "      <td>...</td>\n",
       "      <td>...</td>\n",
       "      <td>...</td>\n",
       "      <td>...</td>\n",
       "      <td>...</td>\n",
       "      <td>...</td>\n",
       "      <td>...</td>\n",
       "      <td>...</td>\n",
       "      <td>...</td>\n",
       "      <td>...</td>\n",
       "      <td>...</td>\n",
       "      <td>...</td>\n",
       "      <td>...</td>\n",
       "      <td>...</td>\n",
       "      <td>...</td>\n",
       "      <td>...</td>\n",
       "      <td>...</td>\n",
       "      <td>...</td>\n",
       "      <td>...</td>\n",
       "    </tr>\n",
       "    <tr>\n",
       "      <th>29995</th>\n",
       "      <td>11</td>\n",
       "      <td>'28007'</td>\n",
       "      <td>'28007'</td>\n",
       "      <td>3.92</td>\n",
       "      <td>0</td>\n",
       "      <td>2239</td>\n",
       "      <td>1</td>\n",
       "      <td>0</td>\n",
       "      <td>0</td>\n",
       "      <td>0</td>\n",
       "      <td>...</td>\n",
       "      <td>0</td>\n",
       "      <td>0</td>\n",
       "      <td>0</td>\n",
       "      <td>0</td>\n",
       "      <td>0</td>\n",
       "      <td>0</td>\n",
       "      <td>0</td>\n",
       "      <td>1</td>\n",
       "      <td>0</td>\n",
       "      <td>0</td>\n",
       "    </tr>\n",
       "    <tr>\n",
       "      <th>29996</th>\n",
       "      <td>11</td>\n",
       "      <td>'28007'</td>\n",
       "      <td>'28007'</td>\n",
       "      <td>52.03</td>\n",
       "      <td>0</td>\n",
       "      <td>2649</td>\n",
       "      <td>1</td>\n",
       "      <td>0</td>\n",
       "      <td>0</td>\n",
       "      <td>0</td>\n",
       "      <td>...</td>\n",
       "      <td>0</td>\n",
       "      <td>0</td>\n",
       "      <td>0</td>\n",
       "      <td>0</td>\n",
       "      <td>0</td>\n",
       "      <td>0</td>\n",
       "      <td>0</td>\n",
       "      <td>1</td>\n",
       "      <td>0</td>\n",
       "      <td>0</td>\n",
       "    </tr>\n",
       "    <tr>\n",
       "      <th>29997</th>\n",
       "      <td>11</td>\n",
       "      <td>'28007'</td>\n",
       "      <td>'28007'</td>\n",
       "      <td>32.78</td>\n",
       "      <td>0</td>\n",
       "      <td>1466</td>\n",
       "      <td>1</td>\n",
       "      <td>0</td>\n",
       "      <td>0</td>\n",
       "      <td>0</td>\n",
       "      <td>...</td>\n",
       "      <td>0</td>\n",
       "      <td>0</td>\n",
       "      <td>0</td>\n",
       "      <td>0</td>\n",
       "      <td>0</td>\n",
       "      <td>0</td>\n",
       "      <td>0</td>\n",
       "      <td>1</td>\n",
       "      <td>0</td>\n",
       "      <td>0</td>\n",
       "    </tr>\n",
       "    <tr>\n",
       "      <th>29998</th>\n",
       "      <td>11</td>\n",
       "      <td>'28007'</td>\n",
       "      <td>'28007'</td>\n",
       "      <td>22.55</td>\n",
       "      <td>0</td>\n",
       "      <td>1383</td>\n",
       "      <td>2</td>\n",
       "      <td>0</td>\n",
       "      <td>0</td>\n",
       "      <td>0</td>\n",
       "      <td>...</td>\n",
       "      <td>0</td>\n",
       "      <td>0</td>\n",
       "      <td>0</td>\n",
       "      <td>0</td>\n",
       "      <td>0</td>\n",
       "      <td>0</td>\n",
       "      <td>0</td>\n",
       "      <td>1</td>\n",
       "      <td>0</td>\n",
       "      <td>0</td>\n",
       "    </tr>\n",
       "    <tr>\n",
       "      <th>29999</th>\n",
       "      <td>11</td>\n",
       "      <td>'28007'</td>\n",
       "      <td>'28007'</td>\n",
       "      <td>17.88</td>\n",
       "      <td>0</td>\n",
       "      <td>3045</td>\n",
       "      <td>2</td>\n",
       "      <td>0</td>\n",
       "      <td>0</td>\n",
       "      <td>0</td>\n",
       "      <td>...</td>\n",
       "      <td>0</td>\n",
       "      <td>0</td>\n",
       "      <td>0</td>\n",
       "      <td>0</td>\n",
       "      <td>0</td>\n",
       "      <td>0</td>\n",
       "      <td>0</td>\n",
       "      <td>1</td>\n",
       "      <td>0</td>\n",
       "      <td>0</td>\n",
       "    </tr>\n",
       "  </tbody>\n",
       "</table>\n",
       "<p>30000 rows × 34 columns</p>\n",
       "</div>"
      ],
      "text/plain": [
       "       step zipcodeOri zipMerchant  amount fraud customer_id merchant_id  \\\n",
       "0         0    '28007'     '28007'    4.55     0           1           1   \n",
       "1         0    '28007'     '28007'   39.68     0           2           1   \n",
       "2         0    '28007'     '28007'   26.89     0           3           2   \n",
       "3         0    '28007'     '28007'   17.25     0           4           1   \n",
       "4         0    '28007'     '28007'   35.72     0           5           1   \n",
       "...     ...        ...         ...     ...   ...         ...         ...   \n",
       "29995    11    '28007'     '28007'    3.92     0        2239           1   \n",
       "29996    11    '28007'     '28007'   52.03     0        2649           1   \n",
       "29997    11    '28007'     '28007'   32.78     0        1466           1   \n",
       "29998    11    '28007'     '28007'   22.55     0        1383           2   \n",
       "29999    11    '28007'     '28007'   17.88     0        3045           2   \n",
       "\n",
       "       age_'0'  age_'1'  age_'2'  ...  category_'es_home'  \\\n",
       "0            0        0        0  ...                   0   \n",
       "1            0        0        1  ...                   0   \n",
       "2            0        0        0  ...                   0   \n",
       "3            0        0        0  ...                   0   \n",
       "4            0        0        0  ...                   0   \n",
       "...        ...      ...      ...  ...                 ...   \n",
       "29995        0        0        0  ...                   0   \n",
       "29996        0        0        0  ...                   0   \n",
       "29997        0        0        0  ...                   0   \n",
       "29998        0        0        0  ...                   0   \n",
       "29999        0        0        0  ...                   0   \n",
       "\n",
       "       category_'es_hotelservices'  category_'es_hyper'  \\\n",
       "0                                0                    0   \n",
       "1                                0                    0   \n",
       "2                                0                    0   \n",
       "3                                0                    0   \n",
       "4                                0                    0   \n",
       "...                            ...                  ...   \n",
       "29995                            0                    0   \n",
       "29996                            0                    0   \n",
       "29997                            0                    0   \n",
       "29998                            0                    0   \n",
       "29999                            0                    0   \n",
       "\n",
       "       category_'es_leisure'  category_'es_otherservices'  \\\n",
       "0                          0                            0   \n",
       "1                          0                            0   \n",
       "2                          0                            0   \n",
       "3                          0                            0   \n",
       "4                          0                            0   \n",
       "...                      ...                          ...   \n",
       "29995                      0                            0   \n",
       "29996                      0                            0   \n",
       "29997                      0                            0   \n",
       "29998                      0                            0   \n",
       "29999                      0                            0   \n",
       "\n",
       "       category_'es_sportsandtoys'  category_'es_tech'  \\\n",
       "0                                0                   0   \n",
       "1                                0                   0   \n",
       "2                                0                   0   \n",
       "3                                0                   0   \n",
       "4                                0                   0   \n",
       "...                            ...                 ...   \n",
       "29995                            0                   0   \n",
       "29996                            0                   0   \n",
       "29997                            0                   0   \n",
       "29998                            0                   0   \n",
       "29999                            0                   0   \n",
       "\n",
       "       category_'es_transportation'  category_'es_travel'  \\\n",
       "0                                 1                     0   \n",
       "1                                 1                     0   \n",
       "2                                 1                     0   \n",
       "3                                 1                     0   \n",
       "4                                 1                     0   \n",
       "...                             ...                   ...   \n",
       "29995                             1                     0   \n",
       "29996                             1                     0   \n",
       "29997                             1                     0   \n",
       "29998                             1                     0   \n",
       "29999                             1                     0   \n",
       "\n",
       "       category_'es_wellnessandbeauty'  \n",
       "0                                    0  \n",
       "1                                    0  \n",
       "2                                    0  \n",
       "3                                    0  \n",
       "4                                    0  \n",
       "...                                ...  \n",
       "29995                                0  \n",
       "29996                                0  \n",
       "29997                                0  \n",
       "29998                                0  \n",
       "29999                                0  \n",
       "\n",
       "[30000 rows x 34 columns]"
      ]
     },
     "execution_count": 147,
     "metadata": {},
     "output_type": "execute_result"
    }
   ],
   "source": [
    "df[df['zipcodeOri']==df['zipMerchant']]"
   ]
  },
  {
   "cell_type": "code",
   "execution_count": 148,
   "id": "32bcbd85",
   "metadata": {},
   "outputs": [
    {
     "data": {
      "text/html": [
       "<div>\n",
       "<style scoped>\n",
       "    .dataframe tbody tr th:only-of-type {\n",
       "        vertical-align: middle;\n",
       "    }\n",
       "\n",
       "    .dataframe tbody tr th {\n",
       "        vertical-align: top;\n",
       "    }\n",
       "\n",
       "    .dataframe thead th {\n",
       "        text-align: right;\n",
       "    }\n",
       "</style>\n",
       "<table border=\"1\" class=\"dataframe\">\n",
       "  <thead>\n",
       "    <tr style=\"text-align: right;\">\n",
       "      <th></th>\n",
       "      <th>step</th>\n",
       "      <th>amount</th>\n",
       "      <th>fraud</th>\n",
       "      <th>customer_id</th>\n",
       "      <th>merchant_id</th>\n",
       "      <th>age_'0'</th>\n",
       "      <th>age_'1'</th>\n",
       "      <th>age_'2'</th>\n",
       "      <th>age_'3'</th>\n",
       "      <th>age_'4'</th>\n",
       "      <th>...</th>\n",
       "      <th>category_'es_home'</th>\n",
       "      <th>category_'es_hotelservices'</th>\n",
       "      <th>category_'es_hyper'</th>\n",
       "      <th>category_'es_leisure'</th>\n",
       "      <th>category_'es_otherservices'</th>\n",
       "      <th>category_'es_sportsandtoys'</th>\n",
       "      <th>category_'es_tech'</th>\n",
       "      <th>category_'es_transportation'</th>\n",
       "      <th>category_'es_travel'</th>\n",
       "      <th>category_'es_wellnessandbeauty'</th>\n",
       "    </tr>\n",
       "  </thead>\n",
       "  <tbody>\n",
       "    <tr>\n",
       "      <th>0</th>\n",
       "      <td>0</td>\n",
       "      <td>4.55</td>\n",
       "      <td>0</td>\n",
       "      <td>1</td>\n",
       "      <td>1</td>\n",
       "      <td>0</td>\n",
       "      <td>0</td>\n",
       "      <td>0</td>\n",
       "      <td>0</td>\n",
       "      <td>1</td>\n",
       "      <td>...</td>\n",
       "      <td>0</td>\n",
       "      <td>0</td>\n",
       "      <td>0</td>\n",
       "      <td>0</td>\n",
       "      <td>0</td>\n",
       "      <td>0</td>\n",
       "      <td>0</td>\n",
       "      <td>1</td>\n",
       "      <td>0</td>\n",
       "      <td>0</td>\n",
       "    </tr>\n",
       "    <tr>\n",
       "      <th>1</th>\n",
       "      <td>0</td>\n",
       "      <td>39.68</td>\n",
       "      <td>0</td>\n",
       "      <td>2</td>\n",
       "      <td>1</td>\n",
       "      <td>0</td>\n",
       "      <td>0</td>\n",
       "      <td>1</td>\n",
       "      <td>0</td>\n",
       "      <td>0</td>\n",
       "      <td>...</td>\n",
       "      <td>0</td>\n",
       "      <td>0</td>\n",
       "      <td>0</td>\n",
       "      <td>0</td>\n",
       "      <td>0</td>\n",
       "      <td>0</td>\n",
       "      <td>0</td>\n",
       "      <td>1</td>\n",
       "      <td>0</td>\n",
       "      <td>0</td>\n",
       "    </tr>\n",
       "    <tr>\n",
       "      <th>2</th>\n",
       "      <td>0</td>\n",
       "      <td>26.89</td>\n",
       "      <td>0</td>\n",
       "      <td>3</td>\n",
       "      <td>2</td>\n",
       "      <td>0</td>\n",
       "      <td>0</td>\n",
       "      <td>0</td>\n",
       "      <td>0</td>\n",
       "      <td>1</td>\n",
       "      <td>...</td>\n",
       "      <td>0</td>\n",
       "      <td>0</td>\n",
       "      <td>0</td>\n",
       "      <td>0</td>\n",
       "      <td>0</td>\n",
       "      <td>0</td>\n",
       "      <td>0</td>\n",
       "      <td>1</td>\n",
       "      <td>0</td>\n",
       "      <td>0</td>\n",
       "    </tr>\n",
       "    <tr>\n",
       "      <th>3</th>\n",
       "      <td>0</td>\n",
       "      <td>17.25</td>\n",
       "      <td>0</td>\n",
       "      <td>4</td>\n",
       "      <td>1</td>\n",
       "      <td>0</td>\n",
       "      <td>0</td>\n",
       "      <td>0</td>\n",
       "      <td>1</td>\n",
       "      <td>0</td>\n",
       "      <td>...</td>\n",
       "      <td>0</td>\n",
       "      <td>0</td>\n",
       "      <td>0</td>\n",
       "      <td>0</td>\n",
       "      <td>0</td>\n",
       "      <td>0</td>\n",
       "      <td>0</td>\n",
       "      <td>1</td>\n",
       "      <td>0</td>\n",
       "      <td>0</td>\n",
       "    </tr>\n",
       "  </tbody>\n",
       "</table>\n",
       "<p>4 rows × 32 columns</p>\n",
       "</div>"
      ],
      "text/plain": [
       "   step  amount fraud customer_id merchant_id  age_'0'  age_'1'  age_'2'  \\\n",
       "0     0    4.55     0           1           1        0        0        0   \n",
       "1     0   39.68     0           2           1        0        0        1   \n",
       "2     0   26.89     0           3           2        0        0        0   \n",
       "3     0   17.25     0           4           1        0        0        0   \n",
       "\n",
       "   age_'3'  age_'4'  ...  category_'es_home'  category_'es_hotelservices'  \\\n",
       "0        0        1  ...                   0                            0   \n",
       "1        0        0  ...                   0                            0   \n",
       "2        0        1  ...                   0                            0   \n",
       "3        1        0  ...                   0                            0   \n",
       "\n",
       "   category_'es_hyper'  category_'es_leisure'  category_'es_otherservices'  \\\n",
       "0                    0                      0                            0   \n",
       "1                    0                      0                            0   \n",
       "2                    0                      0                            0   \n",
       "3                    0                      0                            0   \n",
       "\n",
       "   category_'es_sportsandtoys'  category_'es_tech'  \\\n",
       "0                            0                   0   \n",
       "1                            0                   0   \n",
       "2                            0                   0   \n",
       "3                            0                   0   \n",
       "\n",
       "   category_'es_transportation'  category_'es_travel'  \\\n",
       "0                             1                     0   \n",
       "1                             1                     0   \n",
       "2                             1                     0   \n",
       "3                             1                     0   \n",
       "\n",
       "   category_'es_wellnessandbeauty'  \n",
       "0                                0  \n",
       "1                                0  \n",
       "2                                0  \n",
       "3                                0  \n",
       "\n",
       "[4 rows x 32 columns]"
      ]
     },
     "execution_count": 148,
     "metadata": {},
     "output_type": "execute_result"
    }
   ],
   "source": [
    "# The columns 'zipcodeOri' & 'zipMerchant' are not of any importance and hence dropping the 2 columns:\n",
    "df = df.drop(['zipcodeOri','zipMerchant'],axis=1)\n",
    "df.head(4)"
   ]
  },
  {
   "cell_type": "markdown",
   "id": "568daae6",
   "metadata": {},
   "source": [
    "#### Machine Learning: Classification Models"
   ]
  },
  {
   "cell_type": "markdown",
   "id": "7ac4c722",
   "metadata": {},
   "source": [
    "#### The classification models used for this analysis are: Logistic Regression, Decision Tree, Random Forest Classifier, Support Vector Machine"
   ]
  },
  {
   "cell_type": "markdown",
   "id": "fdd6b722",
   "metadata": {},
   "source": [
    "#### To build machine learning models the original data was divided into features(X) and target (y)  and then spilt into train(80%) and test(20%) sets."
   ]
  },
  {
   "cell_type": "code",
   "execution_count": 149,
   "id": "10748088",
   "metadata": {},
   "outputs": [
    {
     "data": {
      "text/plain": [
       "Index(['step', 'amount', 'customer_id', 'merchant_id', 'age_'0'', 'age_'1'',\n",
       "       'age_'2'', 'age_'3'', 'age_'4'', 'age_'5'', 'age_'6'', 'age_'U'',\n",
       "       'gender_'E'', 'gender_'F'', 'gender_'M'', 'gender_'U'',\n",
       "       'category_'es_barsandrestaurants'', 'category_'es_contents'',\n",
       "       'category_'es_fashion'', 'category_'es_food'', 'category_'es_health'',\n",
       "       'category_'es_home'', 'category_'es_hotelservices'',\n",
       "       'category_'es_hyper'', 'category_'es_leisure'',\n",
       "       'category_'es_otherservices'', 'category_'es_sportsandtoys'',\n",
       "       'category_'es_tech'', 'category_'es_transportation'',\n",
       "       'category_'es_travel'', 'category_'es_wellnessandbeauty''],\n",
       "      dtype='object')"
      ]
     },
     "execution_count": 149,
     "metadata": {},
     "output_type": "execute_result"
    }
   ],
   "source": [
    "# Feature set\n",
    "X = df.drop('fraud',axis=1)\n",
    "# Target set\n",
    "y= df['fraud']\n",
    "c= X.columns\n",
    "c"
   ]
  },
  {
   "cell_type": "code",
   "execution_count": 150,
   "id": "f7669ae5",
   "metadata": {},
   "outputs": [],
   "source": [
    "# Dividing into train and test data:\n",
    "X_train, X_test, y_train, y_test = train_test_split(X,y,test_size=0.2,random_state=42,stratify=y)"
   ]
  },
  {
   "cell_type": "code",
   "execution_count": 151,
   "id": "0c341a89",
   "metadata": {},
   "outputs": [],
   "source": [
    "# X_train & X_test are the feature matrices\n",
    "# Initializing the StandardScaler\n",
    "scaler = StandardScaler()\n",
    "# Fitting & Transforming the data\n",
    "X_train_scaled = scaler.fit_transform(X_train)\n",
    "# Transforming the test data using the same scaler\n",
    "X_test_scaled = scaler.transform(X_test)\n",
    "# Splitting the data again after standardizing\n",
    "X_train_std, X_test_std,y_train_std,y_test_std = train_test_split(X_train_scaled,y_train,test_size=0.2,stratify=y_train,random_state=42)"
   ]
  },
  {
   "cell_type": "markdown",
   "id": "d141b51c",
   "metadata": {},
   "source": [
    "#### Logistic Regression"
   ]
  },
  {
   "cell_type": "code",
   "execution_count": 152,
   "id": "a605a184",
   "metadata": {},
   "outputs": [
    {
     "data": {
      "text/html": [
       "<style>#sk-container-id-3 {color: black;}#sk-container-id-3 pre{padding: 0;}#sk-container-id-3 div.sk-toggleable {background-color: white;}#sk-container-id-3 label.sk-toggleable__label {cursor: pointer;display: block;width: 100%;margin-bottom: 0;padding: 0.3em;box-sizing: border-box;text-align: center;}#sk-container-id-3 label.sk-toggleable__label-arrow:before {content: \"▸\";float: left;margin-right: 0.25em;color: #696969;}#sk-container-id-3 label.sk-toggleable__label-arrow:hover:before {color: black;}#sk-container-id-3 div.sk-estimator:hover label.sk-toggleable__label-arrow:before {color: black;}#sk-container-id-3 div.sk-toggleable__content {max-height: 0;max-width: 0;overflow: hidden;text-align: left;background-color: #f0f8ff;}#sk-container-id-3 div.sk-toggleable__content pre {margin: 0.2em;color: black;border-radius: 0.25em;background-color: #f0f8ff;}#sk-container-id-3 input.sk-toggleable__control:checked~div.sk-toggleable__content {max-height: 200px;max-width: 100%;overflow: auto;}#sk-container-id-3 input.sk-toggleable__control:checked~label.sk-toggleable__label-arrow:before {content: \"▾\";}#sk-container-id-3 div.sk-estimator input.sk-toggleable__control:checked~label.sk-toggleable__label {background-color: #d4ebff;}#sk-container-id-3 div.sk-label input.sk-toggleable__control:checked~label.sk-toggleable__label {background-color: #d4ebff;}#sk-container-id-3 input.sk-hidden--visually {border: 0;clip: rect(1px 1px 1px 1px);clip: rect(1px, 1px, 1px, 1px);height: 1px;margin: -1px;overflow: hidden;padding: 0;position: absolute;width: 1px;}#sk-container-id-3 div.sk-estimator {font-family: monospace;background-color: #f0f8ff;border: 1px dotted black;border-radius: 0.25em;box-sizing: border-box;margin-bottom: 0.5em;}#sk-container-id-3 div.sk-estimator:hover {background-color: #d4ebff;}#sk-container-id-3 div.sk-parallel-item::after {content: \"\";width: 100%;border-bottom: 1px solid gray;flex-grow: 1;}#sk-container-id-3 div.sk-label:hover label.sk-toggleable__label {background-color: #d4ebff;}#sk-container-id-3 div.sk-serial::before {content: \"\";position: absolute;border-left: 1px solid gray;box-sizing: border-box;top: 0;bottom: 0;left: 50%;z-index: 0;}#sk-container-id-3 div.sk-serial {display: flex;flex-direction: column;align-items: center;background-color: white;padding-right: 0.2em;padding-left: 0.2em;position: relative;}#sk-container-id-3 div.sk-item {position: relative;z-index: 1;}#sk-container-id-3 div.sk-parallel {display: flex;align-items: stretch;justify-content: center;background-color: white;position: relative;}#sk-container-id-3 div.sk-item::before, #sk-container-id-3 div.sk-parallel-item::before {content: \"\";position: absolute;border-left: 1px solid gray;box-sizing: border-box;top: 0;bottom: 0;left: 50%;z-index: -1;}#sk-container-id-3 div.sk-parallel-item {display: flex;flex-direction: column;z-index: 1;position: relative;background-color: white;}#sk-container-id-3 div.sk-parallel-item:first-child::after {align-self: flex-end;width: 50%;}#sk-container-id-3 div.sk-parallel-item:last-child::after {align-self: flex-start;width: 50%;}#sk-container-id-3 div.sk-parallel-item:only-child::after {width: 0;}#sk-container-id-3 div.sk-dashed-wrapped {border: 1px dashed gray;margin: 0 0.4em 0.5em 0.4em;box-sizing: border-box;padding-bottom: 0.4em;background-color: white;}#sk-container-id-3 div.sk-label label {font-family: monospace;font-weight: bold;display: inline-block;line-height: 1.2em;}#sk-container-id-3 div.sk-label-container {text-align: center;}#sk-container-id-3 div.sk-container {/* jupyter's `normalize.less` sets `[hidden] { display: none; }` but bootstrap.min.css set `[hidden] { display: none !important; }` so we also need the `!important` here to be able to override the default hidden behavior on the sphinx rendered scikit-learn.org. See: https://github.com/scikit-learn/scikit-learn/issues/21755 */display: inline-block !important;position: relative;}#sk-container-id-3 div.sk-text-repr-fallback {display: none;}</style><div id=\"sk-container-id-3\" class=\"sk-top-container\"><div class=\"sk-text-repr-fallback\"><pre>GridSearchCV(cv=5, estimator=LogisticRegression(),\n",
       "             param_grid={&#x27;C&#x27;: [0.001, 0.01, 0.1, 1, 10, 100],\n",
       "                         &#x27;penalty&#x27;: [&#x27;l1&#x27;, &#x27;l2&#x27;]},\n",
       "             scoring=&#x27;accuracy&#x27;)</pre><b>In a Jupyter environment, please rerun this cell to show the HTML representation or trust the notebook. <br />On GitHub, the HTML representation is unable to render, please try loading this page with nbviewer.org.</b></div><div class=\"sk-container\" hidden><div class=\"sk-item sk-dashed-wrapped\"><div class=\"sk-label-container\"><div class=\"sk-label sk-toggleable\"><input class=\"sk-toggleable__control sk-hidden--visually\" id=\"sk-estimator-id-7\" type=\"checkbox\" ><label for=\"sk-estimator-id-7\" class=\"sk-toggleable__label sk-toggleable__label-arrow\">GridSearchCV</label><div class=\"sk-toggleable__content\"><pre>GridSearchCV(cv=5, estimator=LogisticRegression(),\n",
       "             param_grid={&#x27;C&#x27;: [0.001, 0.01, 0.1, 1, 10, 100],\n",
       "                         &#x27;penalty&#x27;: [&#x27;l1&#x27;, &#x27;l2&#x27;]},\n",
       "             scoring=&#x27;accuracy&#x27;)</pre></div></div></div><div class=\"sk-parallel\"><div class=\"sk-parallel-item\"><div class=\"sk-item\"><div class=\"sk-label-container\"><div class=\"sk-label sk-toggleable\"><input class=\"sk-toggleable__control sk-hidden--visually\" id=\"sk-estimator-id-8\" type=\"checkbox\" ><label for=\"sk-estimator-id-8\" class=\"sk-toggleable__label sk-toggleable__label-arrow\">estimator: LogisticRegression</label><div class=\"sk-toggleable__content\"><pre>LogisticRegression()</pre></div></div></div><div class=\"sk-serial\"><div class=\"sk-item\"><div class=\"sk-estimator sk-toggleable\"><input class=\"sk-toggleable__control sk-hidden--visually\" id=\"sk-estimator-id-9\" type=\"checkbox\" ><label for=\"sk-estimator-id-9\" class=\"sk-toggleable__label sk-toggleable__label-arrow\">LogisticRegression</label><div class=\"sk-toggleable__content\"><pre>LogisticRegression()</pre></div></div></div></div></div></div></div></div></div></div>"
      ],
      "text/plain": [
       "GridSearchCV(cv=5, estimator=LogisticRegression(),\n",
       "             param_grid={'C': [0.001, 0.01, 0.1, 1, 10, 100],\n",
       "                         'penalty': ['l1', 'l2']},\n",
       "             scoring='accuracy')"
      ]
     },
     "execution_count": 152,
     "metadata": {},
     "output_type": "execute_result"
    }
   ],
   "source": [
    "# Setting up the hyperparameter grid\n",
    "param_grid = {'C':[0.001,0.01,0.1,1,10,100], 'penalty':['l1','l2']}\n",
    "# Performing Grid Search with Cross Validation:\n",
    "grid_search = GridSearchCV(LogisticRegression(),param_grid,cv=5,scoring='accuracy')\n",
    "grid_search.fit(X_train_std,y_train_std)"
   ]
  },
  {
   "cell_type": "code",
   "execution_count": 153,
   "id": "741a40e7",
   "metadata": {},
   "outputs": [],
   "source": [
    "# Getting the best model and evaluating on test set:\n",
    "best_model = grid_search.best_estimator_\n",
    "y_pred = best_model.predict(X_test_std)"
   ]
  },
  {
   "cell_type": "code",
   "execution_count": 154,
   "id": "4e197104",
   "metadata": {},
   "outputs": [
    {
     "name": "stdout",
     "output_type": "stream",
     "text": [
      "Average 5-Fold CV score: 0.9927 ,Standard Deviation: 0.0002\n",
      "              precision    recall  f1-score   support\n",
      "\n",
      "           0       0.99      1.00      1.00      4726\n",
      "           1       0.85      0.55      0.67        74\n",
      "\n",
      "    accuracy                           0.99      4800\n",
      "   macro avg       0.92      0.78      0.83      4800\n",
      "weighted avg       0.99      0.99      0.99      4800\n",
      "\n"
     ]
    }
   ],
   "source": [
    "# 5 fold cross-validation:\n",
    "from sklearn.model_selection import cross_val_score\n",
    "from sklearn.metrics import classification_report\n",
    "cv_scores = cross_val_score(best_model,X_train_std,y_train_std,cv=5)\n",
    "print('Average 5-Fold CV score: {}'.format(round(np.mean(cv_scores),4)),\n",
    "     ',Standard Deviation: {}'.format(round(np.std(cv_scores),4)))\n",
    "# Printing the Classification Report\n",
    "print(classification_report(y_test_std,y_pred))"
   ]
  },
  {
   "cell_type": "code",
   "execution_count": 155,
   "id": "a40db9fd",
   "metadata": {},
   "outputs": [
    {
     "name": "stdout",
     "output_type": "stream",
     "text": [
      "Best hyperparameters: {'C': 1, 'penalty': 'l2'}\n"
     ]
    }
   ],
   "source": [
    "# Printing the best hyperparameters:\n",
    "print('Best hyperparameters:',grid_search.best_params_)"
   ]
  },
  {
   "cell_type": "code",
   "execution_count": 156,
   "id": "eab64522",
   "metadata": {},
   "outputs": [
    {
     "name": "stdout",
     "output_type": "stream",
     "text": [
      "[[4719    7]\n",
      " [  33   41]]\n"
     ]
    }
   ],
   "source": [
    "y_pred_array = np.array(y_pred)\n",
    "# Calculating the Confusion Matrix\n",
    "cm = confusion_matrix(y_test_std,y_pred_array)\n",
    "print(cm)"
   ]
  },
  {
   "cell_type": "code",
   "execution_count": 157,
   "id": "d530d67b",
   "metadata": {},
   "outputs": [
    {
     "data": {
      "image/png": "[encoded data removed]",
      "text/plain": [
       "<Figure size 400x300 with 2 Axes>"
      ]
     },
     "metadata": {},
     "output_type": "display_data"
    }
   ],
   "source": [
    "# Calculating Confusion Matrix\n",
    "cm = confusion_matrix(y_test_std,y_pred_array)\n",
    "# Plotting the confusion matrix using seaborn heatmap\n",
    "plt.figure(figsize=(4,3))\n",
    "sns.heatmap(cm,annot=True, cmap=\"Blues\", fmt=\"d\", \n",
    "            xticklabels = ['No-Fraud', 'Fraud'], \n",
    "            yticklabels = ['No-Fraud', 'Fraud'])\n",
    "plt.ylabel('True label')\n",
    "plt.xlabel('Predicted label')\n",
    "plt.title(\"Confusion Matrix - Logistic Regression\");"
   ]
  },
  {
   "cell_type": "code",
   "execution_count": 158,
   "id": "b737e929",
   "metadata": {},
   "outputs": [
    {
     "data": {
      "image/png": "[encoded data removed]",
      "text/plain": [
       "<Figure size 640x480 with 1 Axes>"
      ]
     },
     "metadata": {},
     "output_type": "display_data"
    }
   ],
   "source": [
    "# Plotting ROC & AUC\n",
    "y_preds_proba_lr = best_model.predict_proba(X_test_std)[::,1]\n",
    "y_pred_proba = y_preds_proba_lr\n",
    "# Calculating the ROC:\n",
    "fpr, tpr, _ = roc_curve(y_test_std,  y_pred_proba,pos_label = '1')\n",
    "# Calculating the ROC AUC score:\n",
    "auc = roc_auc_score(y_test_std, y_pred_proba)\n",
    "plt.plot(fpr,tpr,label=\"data 1, auc=\"+str(auc))\n",
    "plt.legend(loc=4)\n",
    "plt.show()"
   ]
  },
  {
   "cell_type": "markdown",
   "id": "c9eef629",
   "metadata": {},
   "source": [
    "#### Logistic Regression (Most Important Features)"
   ]
  },
  {
   "cell_type": "code",
   "execution_count": 159,
   "id": "d0a1d176",
   "metadata": {},
   "outputs": [
    {
     "name": "stdout",
     "output_type": "stream",
     "text": [
      "Std Model Feature Rankings: [27  1 25 19  4 28  3 18  5 21 17 26 23  2 20 22 13 24 15  1 11 14 10 12\n",
      "  7  9  6 16  1  1  8]\n",
      "Standardized Model Score with selected features is: 0.991979\n"
     ]
    }
   ],
   "source": [
    "# Feature Selection:\n",
    "from sklearn.feature_selection import RFE\n",
    "# The feature matrix is X_train_std and target vetor is y_train_std\n",
    "num_features = 4\n",
    "model = LogisticRegression()\n",
    "rfe_stand = RFE(estimator = model,n_features_to_select = num_features)\n",
    "fit_stand = rfe_stand.fit(X_train_std,y_train_std)\n",
    "print('Std Model Feature Rankings:',fit_stand.ranking_)\n",
    "# Calculating score for the selected features\n",
    "score_stand = fit_stand.score(X_train_std, y_train_std)\n",
    "print(\"Standardized Model Score with selected features is: %f\" % score_stand)"
   ]
  },
  {
   "cell_type": "code",
   "execution_count": 160,
   "id": "d7a3f27c",
   "metadata": {},
   "outputs": [
    {
     "name": "stdout",
     "output_type": "stream",
     "text": [
      "Most important features (RFE): ['amount' \"category_'es_food'\" \"category_'es_transportation'\"\n",
      " \"category_'es_travel'\"]\n"
     ]
    }
   ],
   "source": [
    "X_train_std_df = pd.DataFrame(X_train_std, columns=c)\n",
    "feature_names = np.array(X_train_std_df.columns)\n",
    "print('Most important features (RFE): %s' % feature_names[rfe_stand.support_])"
   ]
  },
  {
   "cell_type": "code",
   "execution_count": 161,
   "id": "98efde01",
   "metadata": {},
   "outputs": [],
   "source": [
    "# Creating a new feature matrix with the 4 most important features:\n",
    "Ximp = X_train_std_df[[\"amount\",\"gender_'F'\",\"category_'es_food'\",\"category_'es_transportation'\"]]\n",
    "# Dividing into train & test datasets:\n",
    "X_tr,X_t,y_tr,y_t = train_test_split(Ximp,y_train_std,test_size=0.2,stratify=y_train_std,random_state=42)"
   ]
  },
  {
   "cell_type": "code",
   "execution_count": 162,
   "id": "31c977a6",
   "metadata": {},
   "outputs": [
    {
     "data": {
      "text/html": [
       "<style>#sk-container-id-4 {color: black;}#sk-container-id-4 pre{padding: 0;}#sk-container-id-4 div.sk-toggleable {background-color: white;}#sk-container-id-4 label.sk-toggleable__label {cursor: pointer;display: block;width: 100%;margin-bottom: 0;padding: 0.3em;box-sizing: border-box;text-align: center;}#sk-container-id-4 label.sk-toggleable__label-arrow:before {content: \"▸\";float: left;margin-right: 0.25em;color: #696969;}#sk-container-id-4 label.sk-toggleable__label-arrow:hover:before {color: black;}#sk-container-id-4 div.sk-estimator:hover label.sk-toggleable__label-arrow:before {color: black;}#sk-container-id-4 div.sk-toggleable__content {max-height: 0;max-width: 0;overflow: hidden;text-align: left;background-color: #f0f8ff;}#sk-container-id-4 div.sk-toggleable__content pre {margin: 0.2em;color: black;border-radius: 0.25em;background-color: #f0f8ff;}#sk-container-id-4 input.sk-toggleable__control:checked~div.sk-toggleable__content {max-height: 200px;max-width: 100%;overflow: auto;}#sk-container-id-4 input.sk-toggleable__control:checked~label.sk-toggleable__label-arrow:before {content: \"▾\";}#sk-container-id-4 div.sk-estimator input.sk-toggleable__control:checked~label.sk-toggleable__label {background-color: #d4ebff;}#sk-container-id-4 div.sk-label input.sk-toggleable__control:checked~label.sk-toggleable__label {background-color: #d4ebff;}#sk-container-id-4 input.sk-hidden--visually {border: 0;clip: rect(1px 1px 1px 1px);clip: rect(1px, 1px, 1px, 1px);height: 1px;margin: -1px;overflow: hidden;padding: 0;position: absolute;width: 1px;}#sk-container-id-4 div.sk-estimator {font-family: monospace;background-color: #f0f8ff;border: 1px dotted black;border-radius: 0.25em;box-sizing: border-box;margin-bottom: 0.5em;}#sk-container-id-4 div.sk-estimator:hover {background-color: #d4ebff;}#sk-container-id-4 div.sk-parallel-item::after {content: \"\";width: 100%;border-bottom: 1px solid gray;flex-grow: 1;}#sk-container-id-4 div.sk-label:hover label.sk-toggleable__label {background-color: #d4ebff;}#sk-container-id-4 div.sk-serial::before {content: \"\";position: absolute;border-left: 1px solid gray;box-sizing: border-box;top: 0;bottom: 0;left: 50%;z-index: 0;}#sk-container-id-4 div.sk-serial {display: flex;flex-direction: column;align-items: center;background-color: white;padding-right: 0.2em;padding-left: 0.2em;position: relative;}#sk-container-id-4 div.sk-item {position: relative;z-index: 1;}#sk-container-id-4 div.sk-parallel {display: flex;align-items: stretch;justify-content: center;background-color: white;position: relative;}#sk-container-id-4 div.sk-item::before, #sk-container-id-4 div.sk-parallel-item::before {content: \"\";position: absolute;border-left: 1px solid gray;box-sizing: border-box;top: 0;bottom: 0;left: 50%;z-index: -1;}#sk-container-id-4 div.sk-parallel-item {display: flex;flex-direction: column;z-index: 1;position: relative;background-color: white;}#sk-container-id-4 div.sk-parallel-item:first-child::after {align-self: flex-end;width: 50%;}#sk-container-id-4 div.sk-parallel-item:last-child::after {align-self: flex-start;width: 50%;}#sk-container-id-4 div.sk-parallel-item:only-child::after {width: 0;}#sk-container-id-4 div.sk-dashed-wrapped {border: 1px dashed gray;margin: 0 0.4em 0.5em 0.4em;box-sizing: border-box;padding-bottom: 0.4em;background-color: white;}#sk-container-id-4 div.sk-label label {font-family: monospace;font-weight: bold;display: inline-block;line-height: 1.2em;}#sk-container-id-4 div.sk-label-container {text-align: center;}#sk-container-id-4 div.sk-container {/* jupyter's `normalize.less` sets `[hidden] { display: none; }` but bootstrap.min.css set `[hidden] { display: none !important; }` so we also need the `!important` here to be able to override the default hidden behavior on the sphinx rendered scikit-learn.org. See: https://github.com/scikit-learn/scikit-learn/issues/21755 */display: inline-block !important;position: relative;}#sk-container-id-4 div.sk-text-repr-fallback {display: none;}</style><div id=\"sk-container-id-4\" class=\"sk-top-container\"><div class=\"sk-text-repr-fallback\"><pre>GridSearchCV(cv=5, estimator=LogisticRegression(),\n",
       "             param_grid={&#x27;C&#x27;: [0.001, 0.01, 0.1, 1, 10, 100],\n",
       "                         &#x27;penalty&#x27;: [&#x27;l1&#x27;, &#x27;l2&#x27;]},\n",
       "             scoring=&#x27;accuracy&#x27;)</pre><b>In a Jupyter environment, please rerun this cell to show the HTML representation or trust the notebook. <br />On GitHub, the HTML representation is unable to render, please try loading this page with nbviewer.org.</b></div><div class=\"sk-container\" hidden><div class=\"sk-item sk-dashed-wrapped\"><div class=\"sk-label-container\"><div class=\"sk-label sk-toggleable\"><input class=\"sk-toggleable__control sk-hidden--visually\" id=\"sk-estimator-id-10\" type=\"checkbox\" ><label for=\"sk-estimator-id-10\" class=\"sk-toggleable__label sk-toggleable__label-arrow\">GridSearchCV</label><div class=\"sk-toggleable__content\"><pre>GridSearchCV(cv=5, estimator=LogisticRegression(),\n",
       "             param_grid={&#x27;C&#x27;: [0.001, 0.01, 0.1, 1, 10, 100],\n",
       "                         &#x27;penalty&#x27;: [&#x27;l1&#x27;, &#x27;l2&#x27;]},\n",
       "             scoring=&#x27;accuracy&#x27;)</pre></div></div></div><div class=\"sk-parallel\"><div class=\"sk-parallel-item\"><div class=\"sk-item\"><div class=\"sk-label-container\"><div class=\"sk-label sk-toggleable\"><input class=\"sk-toggleable__control sk-hidden--visually\" id=\"sk-estimator-id-11\" type=\"checkbox\" ><label for=\"sk-estimator-id-11\" class=\"sk-toggleable__label sk-toggleable__label-arrow\">estimator: LogisticRegression</label><div class=\"sk-toggleable__content\"><pre>LogisticRegression()</pre></div></div></div><div class=\"sk-serial\"><div class=\"sk-item\"><div class=\"sk-estimator sk-toggleable\"><input class=\"sk-toggleable__control sk-hidden--visually\" id=\"sk-estimator-id-12\" type=\"checkbox\" ><label for=\"sk-estimator-id-12\" class=\"sk-toggleable__label sk-toggleable__label-arrow\">LogisticRegression</label><div class=\"sk-toggleable__content\"><pre>LogisticRegression()</pre></div></div></div></div></div></div></div></div></div></div>"
      ],
      "text/plain": [
       "GridSearchCV(cv=5, estimator=LogisticRegression(),\n",
       "             param_grid={'C': [0.001, 0.01, 0.1, 1, 10, 100],\n",
       "                         'penalty': ['l1', 'l2']},\n",
       "             scoring='accuracy')"
      ]
     },
     "execution_count": 162,
     "metadata": {},
     "output_type": "execute_result"
    }
   ],
   "source": [
    "# Setting up the hyperparametr grid\n",
    "param_grid = {'C':[0.001,0.01,0.1,1,10,100], 'penalty':['l1','l2']}\n",
    "# Performing Grid Search with Cross Validation\n",
    "grid_search = GridSearchCV(LogisticRegression(),param_grid,cv=5,scoring = 'accuracy')\n",
    "grid_search.fit(X_tr,y_tr)"
   ]
  },
  {
   "cell_type": "code",
   "execution_count": 163,
   "id": "7812853b",
   "metadata": {},
   "outputs": [
    {
     "name": "stdout",
     "output_type": "stream",
     "text": [
      "Average 5-Fold CV Score: 0.9911 , Standard deviation: 0.0008\n",
      "              precision    recall  f1-score   support\n",
      "\n",
      "           0       0.99      1.00      1.00      3781\n",
      "           1       0.94      0.49      0.64        59\n",
      "\n",
      "    accuracy                           0.99      3840\n",
      "   macro avg       0.96      0.75      0.82      3840\n",
      "weighted avg       0.99      0.99      0.99      3840\n",
      "\n"
     ]
    }
   ],
   "source": [
    "# Getting the best model and evaluating on test set\n",
    "best_model_imp = grid_search.best_estimator_\n",
    "y_pred_imp = best_model_imp.predict(X_t)\n",
    "# 5-fold cross-validation\n",
    "from sklearn.model_selection import cross_val_score\n",
    "from sklearn.metrics import classification_report\n",
    "cv_scores = cross_val_score(best_model_imp, X_tr, y_tr, cv=5)\n",
    "print(\"Average 5-Fold CV Score: {}\".format(round(np.mean(cv_scores),4)),\n",
    "      \", Standard deviation: {}\".format(round(np.std(cv_scores),4)))\n",
    "# Printing the Classification Report\n",
    "print(classification_report(y_t,y_pred_imp))"
   ]
  },
  {
   "cell_type": "code",
   "execution_count": 164,
   "id": "5da17d15",
   "metadata": {},
   "outputs": [
    {
     "name": "stdout",
     "output_type": "stream",
     "text": [
      "Best hyperparameters: {'C': 0.1, 'penalty': 'l2'}\n"
     ]
    }
   ],
   "source": [
    "# Printing the best hyperparameters\n",
    "print('Best hyperparameters:',grid_search.best_params_)"
   ]
  },
  {
   "cell_type": "code",
   "execution_count": 165,
   "id": "9189f03b",
   "metadata": {},
   "outputs": [
    {
     "name": "stdout",
     "output_type": "stream",
     "text": [
      "[[3779    2]\n",
      " [  30   29]]\n"
     ]
    }
   ],
   "source": [
    "y_pred_imp_array = np.array(y_pred_imp)\n",
    "# Calculate the confusion matrix\n",
    "cm = confusion_matrix(y_t, y_pred_imp_array)\n",
    "print(cm)"
   ]
  },
  {
   "cell_type": "code",
   "execution_count": 166,
   "id": "871f4aea",
   "metadata": {},
   "outputs": [
    {
     "data": {
      "image/png": "[encoded data removed]",
      "text/plain": [
       "<Figure size 400x300 with 2 Axes>"
      ]
     },
     "metadata": {},
     "output_type": "display_data"
    }
   ],
   "source": [
    "import matplotlib.pyplot as plt\n",
    "import seaborn as sns\n",
    "# Plot the confusion matrix using seaborn heatmap\n",
    "plt.figure(figsize=(4, 3))\n",
    "sns.heatmap(cm, annot=True, cmap=\"Blues\", fmt=\"d\",\n",
    "            xticklabels=['No Fraud', 'Fraud'],\n",
    "            yticklabels=['No-Fraud', 'Fraud'])\n",
    "plt.ylabel('True label')\n",
    "plt.xlabel('Predicted label')\n",
    "plt.title(\"Confusion Matrix - Logistic Regression\")\n",
    "plt.show()"
   ]
  },
  {
   "cell_type": "code",
   "execution_count": 167,
   "id": "047e53cb",
   "metadata": {},
   "outputs": [
    {
     "data": {
      "image/png": "[encoded data removed]",
      "text/plain": [
       "<Figure size 640x480 with 1 Axes>"
      ]
     },
     "metadata": {},
     "output_type": "display_data"
    }
   ],
   "source": [
    "# Plotting ROC & AUC\n",
    "y_preds_proba_lr_imp = best_model_imp.predict_proba(X_t)[::,1]\n",
    "y_pred_proba = y_preds_proba_lr_imp\n",
    "# Calculating the ROC:\n",
    "fpr, tpr, _ = roc_curve(y_t, y_pred_proba,pos_label = '1')\n",
    "# Calculating ROC AUC score:\n",
    "auc = roc_auc_score(y_t, y_pred_proba)\n",
    "plt.plot(fpr,tpr,label=\"data 1, auc=\"+str(auc))\n",
    "plt.legend(loc=4)\n",
    "plt.show()"
   ]
  },
  {
   "cell_type": "markdown",
   "id": "0b242614",
   "metadata": {},
   "source": [
    "#### Decision Tree Classifier"
   ]
  },
  {
   "cell_type": "code",
   "execution_count": 168,
   "id": "c6e6c0a4",
   "metadata": {},
   "outputs": [
    {
     "data": {
      "text/plain": [
       "Index(['step', 'amount', 'customer_id', 'merchant_id', 'age_'0'', 'age_'1'',\n",
       "       'age_'2'', 'age_'3'', 'age_'4'', 'age_'5'', 'age_'6'', 'age_'U'',\n",
       "       'gender_'E'', 'gender_'F'', 'gender_'M'', 'gender_'U'',\n",
       "       'category_'es_barsandrestaurants'', 'category_'es_contents'',\n",
       "       'category_'es_fashion'', 'category_'es_food'', 'category_'es_health'',\n",
       "       'category_'es_home'', 'category_'es_hotelservices'',\n",
       "       'category_'es_hyper'', 'category_'es_leisure'',\n",
       "       'category_'es_otherservices'', 'category_'es_sportsandtoys'',\n",
       "       'category_'es_tech'', 'category_'es_transportation'',\n",
       "       'category_'es_travel'', 'category_'es_wellnessandbeauty''],\n",
       "      dtype='object')"
      ]
     },
     "execution_count": 168,
     "metadata": {},
     "output_type": "execute_result"
    }
   ],
   "source": [
    "# Feature set\n",
    "X = df.drop('fraud',axis=1)\n",
    "# Target set\n",
    "y= df['fraud']\n",
    "c= X.columns\n",
    "c"
   ]
  },
  {
   "cell_type": "code",
   "execution_count": 169,
   "id": "bf78645d",
   "metadata": {},
   "outputs": [],
   "source": [
    "# Dividing into train & test data:\n",
    "X_train, X_test, y_train,y_test = train_test_split(X,y,test_size = 0.2, random_state=42,stratify = y)"
   ]
  },
  {
   "cell_type": "code",
   "execution_count": 170,
   "id": "aad963d1",
   "metadata": {},
   "outputs": [
    {
     "name": "stdout",
     "output_type": "stream",
     "text": [
      "Classification Report:\n",
      "              precision    recall  f1-score   support\n",
      "\n",
      "           0       0.99      1.00      0.99      5907\n",
      "           1       0.92      0.26      0.40        93\n",
      "\n",
      "    accuracy                           0.99      6000\n",
      "   macro avg       0.96      0.63      0.70      6000\n",
      "weighted avg       0.99      0.99      0.98      6000\n",
      "\n",
      "Best hyperparameters: {'criterion': 'entropy', 'max_depth': 6, 'max_features': 5, 'min_samples_leaf': 4}\n"
     ]
    }
   ],
   "source": [
    "# Creating a Decision Tree Classifier Object\n",
    "dt_classifier = DecisionTreeClassifier()\n",
    "# Defining the hyperparameter grid for grid search\n",
    "param_grid = {'criterion': ['gini','entropy'],\n",
    "              'max_depth': [1,2,3,4,5,6],\n",
    "             'max_features':[1,2,3,4,5,6],\n",
    "             'min_samples_leaf': [1,2,3,4,5,6]\n",
    "}\n",
    "# Performing grid search with cross-validation\n",
    "grid_dt = GridSearchCV(dt_classifier, param_grid, cv=5, scoring='accuracy')\n",
    "grid_dt.fit(X_train, y_train)\n",
    "# Getting the best model from grid search\n",
    "best_dt = grid_dt.best_estimator_\n",
    "# Making predictions on the test data using the best model\n",
    "y_pred = best_dt.predict(X_test)\n",
    "# Generating a classification report\n",
    "report = classification_report(y_test, y_pred)\n",
    "print(\"Classification Report:\")\n",
    "print(report)\n",
    "# Printing the best hyperparameters found by grid search\n",
    "print(\"Best hyperparameters:\", grid_dt.best_params_)"
   ]
  },
  {
   "cell_type": "code",
   "execution_count": 171,
   "id": "23c31e7d",
   "metadata": {},
   "outputs": [
    {
     "name": "stdout",
     "output_type": "stream",
     "text": [
      "Average 5-Fold CV Score: 0.9913 , Standard deviation: 0.0015\n"
     ]
    }
   ],
   "source": [
    "# 5-fold cross-validation\n",
    "from sklearn.model_selection import cross_val_score\n",
    "from sklearn.metrics import classification_report\n",
    "cv_scores = cross_val_score(best_dt, X_train, y_train, cv=5)\n",
    "print(\"Average 5-Fold CV Score: {}\".format(round(np.mean(cv_scores),4)),\n",
    "      \", Standard deviation: {}\".format(round(np.std(cv_scores),4)))"
   ]
  },
  {
   "cell_type": "code",
   "execution_count": 172,
   "id": "51216bf9",
   "metadata": {},
   "outputs": [
    {
     "data": {
      "image/png": "[encoded data removed]",
      "text/plain": [
       "<Figure size 640x480 with 1 Axes>"
      ]
     },
     "metadata": {},
     "output_type": "display_data"
    }
   ],
   "source": [
    "# Important features (Decision Tree):\n",
    "feature_importances = best_dt.feature_importances_\n",
    "features = X.columns\n",
    "plt.bar(features,feature_importances)\n",
    "plt.xlabel('Features')\n",
    "plt.ylabel('Importance Score')\n",
    "plt.title('Feature Importance')\n",
    "plt.xticks(rotation=90,ha='right')\n",
    "plt.show()"
   ]
  },
  {
   "cell_type": "markdown",
   "id": "c645b560",
   "metadata": {},
   "source": [
    "#### We observe that the most important features for the Decision Tree Classifier are: Merchant_ID, Category Sportsandtoys,Amount & Category Travel."
   ]
  },
  {
   "cell_type": "code",
   "execution_count": 173,
   "id": "a234410f",
   "metadata": {},
   "outputs": [
    {
     "name": "stdout",
     "output_type": "stream",
     "text": [
      "[[5905    2]\n",
      " [  69   24]]\n"
     ]
    }
   ],
   "source": [
    "# Convertining the pandas Series to a NumPy array\n",
    "y_pred_array = np.array(y_pred)\n",
    "\n",
    "# Calculating the confusion matrix\n",
    "cm = confusion_matrix(y_test, y_pred_array)\n",
    "print(cm)"
   ]
  },
  {
   "cell_type": "code",
   "execution_count": 174,
   "id": "a2e28e8a",
   "metadata": {},
   "outputs": [
    {
     "data": {
      "image/png": "[encoded data removed]",
      "text/plain": [
       "<Figure size 400x300 with 2 Axes>"
      ]
     },
     "metadata": {},
     "output_type": "display_data"
    }
   ],
   "source": [
    "# Calculating Confusion Matrix\n",
    "cm = confusion_matrix(y_test,y_pred_array)\n",
    "# Plotting the confusion matrix using seaborn heatmap\n",
    "plt.figure(figsize=(4,3))\n",
    "sns.heatmap(cm,annot=True, cmap=\"Blues\", fmt=\"d\", \n",
    "            xticklabels = ['No-Fraud', 'Fraud'], \n",
    "            yticklabels = ['No-Fraud', 'Fraud'])\n",
    "plt.ylabel('True label')\n",
    "plt.xlabel('Predicted label')\n",
    "plt.title(\"Confusion Matrix - Decision Tree Classifier\");"
   ]
  },
  {
   "cell_type": "code",
   "execution_count": 175,
   "id": "de72dc18",
   "metadata": {},
   "outputs": [
    {
     "data": {
      "image/png": "[encoded data removed]",
      "text/plain": [
       "<Figure size 640x480 with 1 Axes>"
      ]
     },
     "metadata": {},
     "output_type": "display_data"
    }
   ],
   "source": [
    "# Plotting ROC & AUC\n",
    "y_preds_proba_dt = best_dt.predict_proba(X_test)[::,1]\n",
    "y_pred_proba = y_preds_proba_dt\n",
    "# Calculating ROC:\n",
    "fpr, tpr, _ = roc_curve(y_test,  y_pred_proba,pos_label = '1')\n",
    "# Calculating AUC:\n",
    "auc = roc_auc_score(y_test, y_pred_proba)\n",
    "plt.plot(fpr,tpr,label=\"data 1, auc=\"+str(auc))\n",
    "plt.legend(loc=4)\n",
    "plt.show()"
   ]
  },
  {
   "cell_type": "markdown",
   "id": "36367937",
   "metadata": {},
   "source": [
    "#### Random Forest Classifier"
   ]
  },
  {
   "cell_type": "code",
   "execution_count": 176,
   "id": "0aad7192",
   "metadata": {},
   "outputs": [],
   "source": [
    "# Dividing into train & test data:\n",
    "X_train, X_test, y_train,y_test = train_test_split(X,y,test_size = 0.2, random_state=42,stratify = y)"
   ]
  },
  {
   "cell_type": "code",
   "execution_count": 177,
   "id": "0a4f6d2a",
   "metadata": {},
   "outputs": [
    {
     "name": "stdout",
     "output_type": "stream",
     "text": [
      "Classification Report:\n",
      "              precision    recall  f1-score   support\n",
      "\n",
      "           0       0.99      1.00      1.00      5907\n",
      "           1       0.92      0.62      0.74        93\n",
      "\n",
      "    accuracy                           0.99      6000\n",
      "   macro avg       0.96      0.81      0.87      6000\n",
      "weighted avg       0.99      0.99      0.99      6000\n",
      "\n",
      "Best hyperparameters: {'min_samples_leaf': 4, 'max_features': 6, 'max_depth': 5, 'criterion': 'gini'}\n"
     ]
    }
   ],
   "source": [
    "from sklearn.model_selection import RandomizedSearchCV\n",
    "# Creating a Random Forest Classifier Object\n",
    "rf_classifier = RandomForestClassifier()\n",
    "# Defining the hyperparameter grid for grid search\n",
    "param_rf = {'n_estimators': [50,100,150,200,250],\n",
    "            'max_features':[1,2,3,4,5,6,7,8,9],\n",
    "            'max_depth':[1,2,3,4,5,6,7,8,9],\n",
    "            'criterion':['gini','entropy']\n",
    "}\n",
    "# Performing grid search with cross-validation\n",
    "grid_rf = RandomizedSearchCV(rf_classifier, param_grid, cv=5, scoring='accuracy')\n",
    "grid_rf.fit(X_train, y_train)\n",
    "# Getting the best model from grid search\n",
    "best_rf = grid_rf.best_estimator_\n",
    "# Making predictions on the test data using the best model\n",
    "y_pred = best_rf.predict(X_test)\n",
    "# Generating a classification report\n",
    "report = classification_report(y_test, y_pred)\n",
    "print(\"Classification Report:\")\n",
    "print(report)\n",
    "# Printing the best hyperparameters found by grid search\n",
    "print(\"Best hyperparameters:\", grid_rf.best_params_)"
   ]
  },
  {
   "cell_type": "code",
   "execution_count": 178,
   "id": "ccdac92b",
   "metadata": {},
   "outputs": [
    {
     "name": "stdout",
     "output_type": "stream",
     "text": [
      "Average 5-Fold CV Score: 0.9927 , Standard deviation: 0.0014\n"
     ]
    }
   ],
   "source": [
    "# 5-fold cross-validation\n",
    "cv_scores = cross_val_score(best_rf, X_train, y_train, cv=5)\n",
    "print(\"Average 5-Fold CV Score: {}\".format(round(np.mean(cv_scores),4)),\n",
    "      \", Standard deviation: {}\".format(round(np.std(cv_scores),4)))"
   ]
  },
  {
   "cell_type": "code",
   "execution_count": 179,
   "id": "067acf4c",
   "metadata": {},
   "outputs": [
    {
     "name": "stdout",
     "output_type": "stream",
     "text": [
      "[[5902    5]\n",
      " [  35   58]]\n"
     ]
    }
   ],
   "source": [
    "# Convert the pandas Series to a NumPy array\n",
    "y_pred_array = np.array(y_pred)\n",
    "\n",
    "# Calculate the confusion matrix\n",
    "cm = confusion_matrix(y_test, y_pred_array)\n",
    "print(cm)"
   ]
  },
  {
   "cell_type": "code",
   "execution_count": 180,
   "id": "1e2f24da",
   "metadata": {},
   "outputs": [
    {
     "data": {
      "image/png": "[encoded data removed]",
      "text/plain": [
       "<Figure size 400x300 with 2 Axes>"
      ]
     },
     "metadata": {},
     "output_type": "display_data"
    }
   ],
   "source": [
    "# Calculating Confusion Matrix\n",
    "cm = confusion_matrix(y_test,y_pred_array)\n",
    "# Plot the confusion matrix using seaborn heatmap\n",
    "plt.figure(figsize=(4,3))\n",
    "sns.heatmap(cm,annot=True, cmap=\"Blues\", fmt=\"d\", \n",
    "            xticklabels = ['No-Fraud', 'Fraud'], \n",
    "            yticklabels = ['No-Fraud', 'Fraud'])\n",
    "plt.ylabel('True label')\n",
    "plt.xlabel('Predicted label')\n",
    "plt.title(\"Confusion Matrix - Random Forest Classifier\");"
   ]
  },
  {
   "cell_type": "code",
   "execution_count": 181,
   "id": "62a35c2a",
   "metadata": {},
   "outputs": [
    {
     "data": {
      "image/png": "[encoded data removed]",
      "text/plain": [
       "<Figure size 640x480 with 1 Axes>"
      ]
     },
     "metadata": {},
     "output_type": "display_data"
    }
   ],
   "source": [
    "# Plotting ROC & AUC\n",
    "y_preds_proba_rf = best_rf.predict_proba(X_test)[::,1]\n",
    "y_pred_proba = y_preds_proba_rf\n",
    "# Calculating ROC:\n",
    "fpr, tpr, _ = roc_curve(y_test,  y_pred_proba,pos_label = '1')\n",
    "# Calculating AUC:\n",
    "auc = roc_auc_score(y_test, y_pred_proba)\n",
    "plt.plot(fpr,tpr,label=\"data 1, auc=\"+str(auc))\n",
    "plt.legend(loc=4)\n",
    "plt.show()"
   ]
  },
  {
   "cell_type": "code",
   "execution_count": 182,
   "id": "8f9b9adc",
   "metadata": {},
   "outputs": [
    {
     "data": {
      "image/png": "[encoded data removed]",
      "text/plain": [
       "<Figure size 640x480 with 1 Axes>"
      ]
     },
     "metadata": {},
     "output_type": "display_data"
    }
   ],
   "source": [
    "# Important Features (Random Forest Classifier):\n",
    "feature_importances = best_rf.feature_importances_\n",
    "features = X.columns\n",
    "plt.bar(features,feature_importances)\n",
    "plt.xlabel('Features')\n",
    "plt.ylabel('Importance Score')\n",
    "plt.title('Feature Importance')\n",
    "plt.xticks(rotation=90,ha='right')\n",
    "plt.show()"
   ]
  },
  {
   "cell_type": "markdown",
   "id": "0ed1feb2",
   "metadata": {},
   "source": [
    "#### We observe that the most important features for the Random Forest Classifier are: Amount, Merchant_ID,Category Leisure & Category SportsSandtoys."
   ]
  },
  {
   "cell_type": "markdown",
   "id": "9b448018",
   "metadata": {},
   "source": [
    "#### Support Vector Classifier"
   ]
  },
  {
   "cell_type": "code",
   "execution_count": 192,
   "id": "c3b010ee",
   "metadata": {},
   "outputs": [
    {
     "name": "stdout",
     "output_type": "stream",
     "text": [
      "Best Hyperparameters: {'C': 1, 'gamma': 0.1, 'kernel': 'linear'}\n",
      "Classification Report:\n",
      "              precision    recall  f1-score   support\n",
      "\n",
      "           0       0.99      1.00      1.00      4726\n",
      "           1       0.93      0.58      0.72        74\n",
      "\n",
      "    accuracy                           0.99      4800\n",
      "   macro avg       0.96      0.79      0.86      4800\n",
      "weighted avg       0.99      0.99      0.99      4800\n",
      "\n"
     ]
    }
   ],
   "source": [
    "# Using the standardized train,test dataset after splitting:\n",
    "# Training the SVM classifier:\n",
    "svm_classifier = SVC(probability=True)\n",
    "# Defining the hyperparameter grid for Grid Search\n",
    "param_grid = {'kernel':['linear','rbf'],\n",
    "             'C':[0.1,1,10],\n",
    "             'gamma':[0.1,1,'scale']}\n",
    "# Performing Grid Search with cross-validation:\n",
    "grid_search = GridSearchCV(svm_classifier,param_grid,cv=5,scoring='accuracy')\n",
    "grid_search.fit(X_train_std, y_train_std)\n",
    "\n",
    "# Getting the best hyperparameters\n",
    "best_params = grid_search.best_params_\n",
    "print(\"Best Hyperparameters:\", best_params)\n",
    "\n",
    "# Using the best model for prediction\n",
    "best_svm = grid_search.best_estimator_\n",
    "y_pred = best_svm.predict(X_test_std)\n",
    "\n",
    "# Generating a classification report\n",
    "classification_rep = classification_report(y_test_std, y_pred)\n",
    "print(\"Classification Report:\")\n",
    "print(classification_rep)"
   ]
  },
  {
   "cell_type": "code",
   "execution_count": 193,
   "id": "03f4bde1",
   "metadata": {},
   "outputs": [
    {
     "name": "stdout",
     "output_type": "stream",
     "text": [
      "[[4723    3]\n",
      " [  31   43]]\n"
     ]
    }
   ],
   "source": [
    "# Convert the pandas Series to a NumPy array\n",
    "y_pred_array = np.array(y_pred)\n",
    "\n",
    "# Calculate the confusion matrix\n",
    "cm = confusion_matrix(y_test_std, y_pred_array)\n",
    "print(cm)"
   ]
  },
  {
   "cell_type": "code",
   "execution_count": 194,
   "id": "5e923278",
   "metadata": {},
   "outputs": [
    {
     "data": {
      "image/png": "[encoded data removed]",
      "text/plain": [
       "<Figure size 400x300 with 2 Axes>"
      ]
     },
     "metadata": {},
     "output_type": "display_data"
    }
   ],
   "source": [
    "# Calculating Confusion Matrix\n",
    "cm = confusion_matrix(y_test_std,y_pred_array)\n",
    "# Plot the confusion matrix using seaborn heatmap\n",
    "plt.figure(figsize=(4,3))\n",
    "sns.heatmap(cm,annot=True, cmap=\"Blues\", fmt=\"d\", \n",
    "            xticklabels = ['No-Fraud', 'Fraud'], \n",
    "            yticklabels = ['No-Fraud', 'Fraud'])\n",
    "plt.ylabel('True label')\n",
    "plt.xlabel('Predicted label')\n",
    "plt.title(\"Confusion Matrix - Support Vector Classification\");"
   ]
  },
  {
   "cell_type": "code",
   "execution_count": 195,
   "id": "32aeaf10",
   "metadata": {},
   "outputs": [
    {
     "data": {
      "image/png": "[encoded data removed]",
      "text/plain": [
       "<Figure size 640x480 with 1 Axes>"
      ]
     },
     "metadata": {},
     "output_type": "display_data"
    }
   ],
   "source": [
    "# Plotting ROC & AUC\n",
    "y_preds_proba_svc = best_svm.predict_proba(X_test_std)[::,1]\n",
    "y_pred_proba = y_preds_proba_svc\n",
    "# Calculating ROC:\n",
    "fpr, tpr, _ = roc_curve(y_test_std,  y_pred_proba,pos_label = '1')\n",
    "# Calculating AUC:\n",
    "auc = roc_auc_score(y_test_std, y_pred_proba)\n",
    "plt.plot(fpr,tpr,label=\"data 1, auc=\"+str(auc))\n",
    "plt.legend(loc=4)\n",
    "plt.show()"
   ]
  },
  {
   "cell_type": "code",
   "execution_count": 199,
   "id": "51ec27df",
   "metadata": {},
   "outputs": [
    {
     "data": {
      "image/png": "[encoded data removed]",
      "text/plain": [
       "<Figure size 1000x700 with 1 Axes>"
      ]
     },
     "metadata": {},
     "output_type": "display_data"
    }
   ],
   "source": [
    "# Comparison of Model Performance\n",
    "# The metrics used to evaluate performance of the different models: accuracy, precision, recall, f1-score, AUC (ROC), and confusion matrix were employed.\n",
    "# ROC \n",
    "from sklearn import metrics\n",
    "y_preds_proba_rf = best_rf.predict_proba(X_test)[::,1]\n",
    "fpr1, tpr1, _ = metrics.roc_curve(y_test,y_preds_proba_rf,pos_label ='1')\n",
    "auc1 = metrics.roc_auc_score(y_test, y_preds_proba_rf)\n",
    "\n",
    "y_preds_proba_dt = best_dt.predict_proba(X_test)[::,1]\n",
    "fpr2, tpr2, _ = metrics.roc_curve(y_test,y_preds_proba_dt,pos_label ='1')\n",
    "auc2 = metrics.roc_auc_score(y_test, y_preds_proba_dt)\n",
    "\n",
    "y_preds_proba_lr = best_model.predict_proba(X_test_std)[::,1]\n",
    "fpr3, tpr3, _ = metrics.roc_curve(y_test_std,y_preds_proba_lr,pos_label ='1')\n",
    "auc3 = metrics.roc_auc_score(y_test_std, y_preds_proba_lr)\n",
    "\n",
    "y_preds_proba_lr_imp = best_model_imp.predict_proba(X_t)[::,1]\n",
    "fpr4, tpr4, _ = metrics.roc_curve(y_t,  y_preds_proba_lr_imp,pos_label ='1')\n",
    "auc4 = metrics.roc_auc_score(y_t, y_preds_proba_lr_imp)\n",
    "\n",
    "y_preds_proba_svc = best_svm.predict_proba(X_test_std)[::,1]\n",
    "fpr5, tpr5, _ = metrics.roc_curve(y_test_std,  y_preds_proba_svc,pos_label ='1')\n",
    "auc5 = metrics.roc_auc_score(y_test_std, y_preds_proba_svc)\n",
    "\n",
    "\n",
    "plt.figure(figsize=(10,7))\n",
    "plt.plot([0, 1], [0, 1], 'k--')\n",
    "plt.plot(fpr1,tpr1,label=\"Random Forest, auc=\"+str(round(auc1,2)))\n",
    "plt.plot(fpr2,tpr2,label=\"Decision Tree, auc=\"+str(round(auc2,2)))\n",
    "plt.plot(fpr3,tpr3,label=\"LogReg(std), auc=\"+str(round(auc3,2)))\n",
    "plt.plot(fpr4,tpr4,label=\"LogReg(Std&Imp), auc=\"+str(round(auc4,2)))\n",
    "plt.plot(fpr5,tpr5,label=\"Support Vector Classifier, auc=\"+str(round(auc5,2)))\n",
    "plt.legend(loc=4, title='Models', facecolor='white')\n",
    "plt.xlabel('False Positive Rate')\n",
    "plt.ylabel('True Positive Rate')\n",
    "plt.title('ROC', size=15)\n",
    "plt.show()"
   ]
  },
  {
   "cell_type": "markdown",
   "id": "8bfd2a7b",
   "metadata": {},
   "source": [
    "#### The Receiver Operating Characteristic Curve (ROC) is a plot of the true positive rate against the false positive rate. If the Area Under the Curve (AUC) is high it means the model is good at distinguishing between positive and negative class.The highest AUC is attained for Random Forest Classifier which means that there is a 99.47% chance that the model will be able to distinguish between fraud and non-fraud."
   ]
  },
  {
   "cell_type": "markdown",
   "id": "3e3ec25f",
   "metadata": {},
   "source": [
    "#### Model Performance Comparison Table:"
   ]
  },
  {
   "cell_type": "code",
   "execution_count": 201,
   "id": "7144f888",
   "metadata": {},
   "outputs": [
    {
     "name": "stdout",
     "output_type": "stream",
     "text": [
      "          Model           Data Precision Recall  F1  Accuracy  AUC  \n",
      "------------------------- ---- --------- ------ ---- -------- ------\n",
      "      Logistic Regression Std.      0.99   0.99 0.99     0.99 0.9882\n",
      "      Logistic Regression Imp.      0.99   0.99 0.99     0.99 0.9881\n",
      "            Decision Tree Org.      0.99   0.99 0.98     0.99 0.9707\n",
      "            Random Forest Org.      0.99   0.99 0.99     0.99 0.9947\n",
      "Support Vector Classifier  Std      0.99   0.99 0.99     0.99 0.9254\n"
     ]
    }
   ],
   "source": [
    "from astropy.table import Table, Column\n",
    "data_row = [('Logistic Regression','Std.',0.99,0.99,0.99,0.99,0.9882),\n",
    "             ('Logistic Regression','Imp.',0.99,0.99,0.99,0.99,0.9881),\n",
    "             ('Decision Tree','Org.',0.99,0.99,0.98,0.99,0.9707),\n",
    "             ('Random Forest','Org.',0.99,0.99,0.99,0.99,0.9947),\n",
    "             ('Support Vector Classifier','Std',0.99,0.99,0.99,0.99,0.9254)]\n",
    "t = Table(rows=data_row, names=('Model', 'Data', 'Precision', 'Recall', 'F1','Accuracy','AUC'))\n",
    "print(t)"
   ]
  },
  {
   "cell_type": "markdown",
   "id": "29438470",
   "metadata": {},
   "source": [
    "#### The Metric I've used to compare model performance are: Precision, Recall,F1 Score, Accuracy,AUC(ROC) & Confusion Matrix. Since the classes are imbalanced,the metric 'accuracy' is misleading. Precision is a good metric when the costs of false positive is high. Recall of a model is it's ability to find all positive class. Recall is an useful metric to use when the cost associated with a false negative is high, i.e the cost to a bank of incorrectly predicting fraud are high.F1 score is a weighted average of precision and recall and is an useful metric when there is imbalanced class distribution.I have used cross-validation,hyper-parameter tuning & used appropriate model performace evaluation metrics to deal with imbalanced dataset. From the model comparison chart we can conclude that the Random Forest Classifier is the best model out of these in predicting fraud by analyzing the banking customer payment history since it has the highest Precision,F1-score & AUC. Predicting which transactions are fraud will help the bank in taking corrective action beforehand to prevent the fraud and prevent losses."
   ]
  }
 ],
 "metadata": {
  "kernelspec": {
   "display_name": "Python 3 (ipykernel)",
   "language": "python",
   "name": "python3"
  },
  "language_info": {
   "codemirror_mode": {
    "name": "ipython",
    "version": 3
   },
   "file_extension": ".py",
   "mimetype": "text/x-python",
   "name": "python",
   "nbconvert_exporter": "python",
   "pygments_lexer": "ipython3",
   "version": "3.9.18"
  }
 },
 "nbformat": 4,
 "nbformat_minor": 5
}
