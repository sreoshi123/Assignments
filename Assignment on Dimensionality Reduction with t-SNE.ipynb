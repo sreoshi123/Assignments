{
 "cells": [
  {
   "cell_type": "code",
   "execution_count": 1,
   "id": "84283c22",
   "metadata": {},
   "outputs": [],
   "source": [
    "import numpy as np\n",
    "import matplotlib.pyplot as plt\n",
    "from sklearn.datasets import fetch_openml\n",
    "from sklearn.manifold import TSNE"
   ]
  },
  {
   "cell_type": "raw",
   "id": "f90036ec",
   "metadata": {},
   "source": [
    "1. Load the dataset and make your preprocessing like normalizing the data."
   ]
  },
  {
   "cell_type": "code",
   "execution_count": 2,
   "id": "d09a94ee",
   "metadata": {},
   "outputs": [],
   "source": [
    "mnist = fetch_openml('Fashion-MNIST',version =1, cache=True)"
   ]
  },
  {
   "cell_type": "code",
   "execution_count": 3,
   "id": "6c1fac7d",
   "metadata": {},
   "outputs": [
    {
     "ename": "KeyError",
     "evalue": "\"None of [Int64Index([15725, 28030, 17730, 61404, 63206, 15377, 46203, 22241, 65632,\\n            55409,\\n            ...\\n            43097, 38991, 43374,  9853, 53628, 56911, 12174, 55338, 34235,\\n            58274],\\n           dtype='int64', length=10000)] are in the [columns]\"",
     "output_type": "error",
     "traceback": [
      "\u001b[1;31m---------------------------------------------------------------------------\u001b[0m",
      "\u001b[1;31mKeyError\u001b[0m                                  Traceback (most recent call last)",
      "Cell \u001b[1;32mIn[3], line 4\u001b[0m\n\u001b[0;32m      2\u001b[0m \u001b[38;5;66;03m# Select 10000 images randomly\u001b[39;00m\n\u001b[0;32m      3\u001b[0m indices \u001b[38;5;241m=\u001b[39m np\u001b[38;5;241m.\u001b[39mrandom\u001b[38;5;241m.\u001b[39mchoice(\u001b[38;5;241m70000\u001b[39m,\u001b[38;5;241m10000\u001b[39m)\n\u001b[1;32m----> 4\u001b[0m X \u001b[38;5;241m=\u001b[39m \u001b[43mmnist\u001b[49m\u001b[38;5;241;43m.\u001b[39;49m\u001b[43mdata\u001b[49m\u001b[43m[\u001b[49m\u001b[43mindices\u001b[49m\u001b[43m]\u001b[49m\u001b[38;5;241m/\u001b[39m\u001b[38;5;241m255.0\u001b[39m\n\u001b[0;32m      5\u001b[0m y\u001b[38;5;241m=\u001b[39m mnist\u001b[38;5;241m.\u001b[39mtarget[indices]\n\u001b[0;32m      6\u001b[0m \u001b[38;5;28mprint\u001b[39m(X\u001b[38;5;241m.\u001b[39mshape,y\u001b[38;5;241m.\u001b[39mshape)\n",
      "File \u001b[1;32mC:\\Anaconda\\chowd\\anaconda3\\lib\\site-packages\\pandas\\core\\frame.py:3511\u001b[0m, in \u001b[0;36mDataFrame.__getitem__\u001b[1;34m(self, key)\u001b[0m\n\u001b[0;32m   3509\u001b[0m     \u001b[38;5;28;01mif\u001b[39;00m is_iterator(key):\n\u001b[0;32m   3510\u001b[0m         key \u001b[38;5;241m=\u001b[39m \u001b[38;5;28mlist\u001b[39m(key)\n\u001b[1;32m-> 3511\u001b[0m     indexer \u001b[38;5;241m=\u001b[39m \u001b[38;5;28;43mself\u001b[39;49m\u001b[38;5;241;43m.\u001b[39;49m\u001b[43mcolumns\u001b[49m\u001b[38;5;241;43m.\u001b[39;49m\u001b[43m_get_indexer_strict\u001b[49m\u001b[43m(\u001b[49m\u001b[43mkey\u001b[49m\u001b[43m,\u001b[49m\u001b[43m \u001b[49m\u001b[38;5;124;43m\"\u001b[39;49m\u001b[38;5;124;43mcolumns\u001b[39;49m\u001b[38;5;124;43m\"\u001b[39;49m\u001b[43m)\u001b[49m[\u001b[38;5;241m1\u001b[39m]\n\u001b[0;32m   3513\u001b[0m \u001b[38;5;66;03m# take() does not accept boolean indexers\u001b[39;00m\n\u001b[0;32m   3514\u001b[0m \u001b[38;5;28;01mif\u001b[39;00m \u001b[38;5;28mgetattr\u001b[39m(indexer, \u001b[38;5;124m\"\u001b[39m\u001b[38;5;124mdtype\u001b[39m\u001b[38;5;124m\"\u001b[39m, \u001b[38;5;28;01mNone\u001b[39;00m) \u001b[38;5;241m==\u001b[39m \u001b[38;5;28mbool\u001b[39m:\n",
      "File \u001b[1;32mC:\\Anaconda\\chowd\\anaconda3\\lib\\site-packages\\pandas\\core\\indexes\\base.py:5782\u001b[0m, in \u001b[0;36mIndex._get_indexer_strict\u001b[1;34m(self, key, axis_name)\u001b[0m\n\u001b[0;32m   5779\u001b[0m \u001b[38;5;28;01melse\u001b[39;00m:\n\u001b[0;32m   5780\u001b[0m     keyarr, indexer, new_indexer \u001b[38;5;241m=\u001b[39m \u001b[38;5;28mself\u001b[39m\u001b[38;5;241m.\u001b[39m_reindex_non_unique(keyarr)\n\u001b[1;32m-> 5782\u001b[0m \u001b[38;5;28;43mself\u001b[39;49m\u001b[38;5;241;43m.\u001b[39;49m\u001b[43m_raise_if_missing\u001b[49m\u001b[43m(\u001b[49m\u001b[43mkeyarr\u001b[49m\u001b[43m,\u001b[49m\u001b[43m \u001b[49m\u001b[43mindexer\u001b[49m\u001b[43m,\u001b[49m\u001b[43m \u001b[49m\u001b[43maxis_name\u001b[49m\u001b[43m)\u001b[49m\n\u001b[0;32m   5784\u001b[0m keyarr \u001b[38;5;241m=\u001b[39m \u001b[38;5;28mself\u001b[39m\u001b[38;5;241m.\u001b[39mtake(indexer)\n\u001b[0;32m   5785\u001b[0m \u001b[38;5;28;01mif\u001b[39;00m \u001b[38;5;28misinstance\u001b[39m(key, Index):\n\u001b[0;32m   5786\u001b[0m     \u001b[38;5;66;03m# GH 42790 - Preserve name from an Index\u001b[39;00m\n",
      "File \u001b[1;32mC:\\Anaconda\\chowd\\anaconda3\\lib\\site-packages\\pandas\\core\\indexes\\base.py:5842\u001b[0m, in \u001b[0;36mIndex._raise_if_missing\u001b[1;34m(self, key, indexer, axis_name)\u001b[0m\n\u001b[0;32m   5840\u001b[0m     \u001b[38;5;28;01mif\u001b[39;00m use_interval_msg:\n\u001b[0;32m   5841\u001b[0m         key \u001b[38;5;241m=\u001b[39m \u001b[38;5;28mlist\u001b[39m(key)\n\u001b[1;32m-> 5842\u001b[0m     \u001b[38;5;28;01mraise\u001b[39;00m \u001b[38;5;167;01mKeyError\u001b[39;00m(\u001b[38;5;124mf\u001b[39m\u001b[38;5;124m\"\u001b[39m\u001b[38;5;124mNone of [\u001b[39m\u001b[38;5;132;01m{\u001b[39;00mkey\u001b[38;5;132;01m}\u001b[39;00m\u001b[38;5;124m] are in the [\u001b[39m\u001b[38;5;132;01m{\u001b[39;00maxis_name\u001b[38;5;132;01m}\u001b[39;00m\u001b[38;5;124m]\u001b[39m\u001b[38;5;124m\"\u001b[39m)\n\u001b[0;32m   5844\u001b[0m not_found \u001b[38;5;241m=\u001b[39m \u001b[38;5;28mlist\u001b[39m(ensure_index(key)[missing_mask\u001b[38;5;241m.\u001b[39mnonzero()[\u001b[38;5;241m0\u001b[39m]]\u001b[38;5;241m.\u001b[39munique())\n\u001b[0;32m   5845\u001b[0m \u001b[38;5;28;01mraise\u001b[39;00m \u001b[38;5;167;01mKeyError\u001b[39;00m(\u001b[38;5;124mf\u001b[39m\u001b[38;5;124m\"\u001b[39m\u001b[38;5;132;01m{\u001b[39;00mnot_found\u001b[38;5;132;01m}\u001b[39;00m\u001b[38;5;124m not in index\u001b[39m\u001b[38;5;124m\"\u001b[39m)\n",
      "\u001b[1;31mKeyError\u001b[0m: \"None of [Int64Index([15725, 28030, 17730, 61404, 63206, 15377, 46203, 22241, 65632,\\n            55409,\\n            ...\\n            43097, 38991, 43374,  9853, 53628, 56911, 12174, 55338, 34235,\\n            58274],\\n           dtype='int64', length=10000)] are in the [columns]\""
     ]
    }
   ],
   "source": [
    "np.random.seed(123)\n",
    "# Select 10000 images randomly\n",
    "indices = np.random.choice(70000,10000)\n",
    "X = mnist.data[indices]/255.0\n",
    "y= mnist.target[indices]\n",
    "print(X.shape,y.shape)"
   ]
  },
  {
   "cell_type": "raw",
   "id": "4e794a5d",
   "metadata": {},
   "source": [
    "2. Apply t-SNE to the data by setting n_components=2."
   ]
  },
  {
   "cell_type": "code",
   "execution_count": 4,
   "id": "bc2c01ed",
   "metadata": {},
   "outputs": [
    {
     "ename": "NameError",
     "evalue": "name 'tsne' is not defined",
     "output_type": "error",
     "traceback": [
      "\u001b[1;31m---------------------------------------------------------------------------\u001b[0m",
      "\u001b[1;31mNameError\u001b[0m                                 Traceback (most recent call last)",
      "Cell \u001b[1;32mIn[4], line 2\u001b[0m\n\u001b[0;32m      1\u001b[0m tse \u001b[38;5;241m=\u001b[39m TSNE(n_components\u001b[38;5;241m=\u001b[39m\u001b[38;5;241m2\u001b[39m,verbose\u001b[38;5;241m=\u001b[39m\u001b[38;5;241m1\u001b[39m,perplexity\u001b[38;5;241m=\u001b[39m\u001b[38;5;241m40\u001b[39m,n_iter\u001b[38;5;241m=\u001b[39m\u001b[38;5;241m300\u001b[39m)\n\u001b[1;32m----> 2\u001b[0m tsne_results \u001b[38;5;241m=\u001b[39m \u001b[43mtsne\u001b[49m\u001b[38;5;241m.\u001b[39mfit_transform(X)\n",
      "\u001b[1;31mNameError\u001b[0m: name 'tsne' is not defined"
     ]
    }
   ],
   "source": [
    "tse = TSNE(n_components=2,verbose=1,perplexity=40,n_iter=300)\n",
    "tsne_results = tsne.fit_transform(X)"
   ]
  },
  {
   "cell_type": "raw",
   "id": "1d1b743a",
   "metadata": {},
   "source": [
    "Answer:\n",
    "[t-SNE] Computing 121 nearest neighbors...\n",
    "[t-SNE] Indexed 10000 samples in 0.414s...\n",
    "[t-SNE] Computed neighbors for 10000 samples in 130.206s...\n",
    "[t-SNE] Computed conditional probabilities for sample 1000 / 10000\n",
    "[t-SNE] Computed conditional probabilities for sample 2000 / 10000\n",
    "[t-SNE] Computed conditional probabilities for sample 3000 / 10000\n",
    "[t-SNE] Computed conditional probabilities for sample 4000 / 10000\n",
    "[t-SNE] Computed conditional probabilities for sample 5000 / 10000\n",
    "[t-SNE] Computed conditional probabilities for sample 6000 / 10000\n",
    "[t-SNE] Computed conditional probabilities for sample 7000 / 10000\n",
    "[t-SNE] Computed conditional probabilities for sample 8000 / 10000\n",
    "[t-SNE] Computed conditional probabilities for sample 9000 / 10000\n",
    "[t-SNE] Computed conditional probabilities for sample 10000 / 10000\n",
    "[t-SNE] Mean sigma: 1.836341\n",
    "[t-SNE] KL divergence after 250 iterations with early exaggeration: 76.797150\n",
    "[t-SNE] KL divergence after 300 iterations: 2.532028"
   ]
  },
  {
   "cell_type": "raw",
   "id": "5d8334f1",
   "metadata": {},
   "source": [
    "3. Using the two-dimensional t-SNE representation, draw a graph of the data by coloring and labeling the data points as we did in the checkpoint."
   ]
  },
  {
   "cell_type": "code",
   "execution_count": null,
   "id": "b1379348",
   "metadata": {},
   "outputs": [],
   "source": [
    "plt.figure(figsize=(10,5))\n",
    "colours = [\"r\",\"b\",\"g\",\"c\",\"m\",\"y\",\"k\",\"r\",\"burlywood\",\"chartreuse\"]\n",
    "for i in range(tsne_results.shape[0]):\n",
    "    plt.text(tsne_results[i, 0], tsne_results[i, 1], str(y[i]),\n",
    "             color=colours[int(y[i])],\n",
    "             fontdict={'weight': 'bold', 'size': 50}\n",
    "        )\n",
    "\n",
    "plt.xticks([])\n",
    "plt.yticks([])\n",
    "plt.axis('off')\n",
    "plt.show()"
   ]
  },
  {
   "cell_type": "raw",
   "id": "13036142",
   "metadata": {},
   "source": [
    "4. Do you think t-SNE solution is satisfactory? Can you distinguish between different classes easily? Which one has done a better job: t-SNE or the PCA you applied in the assignment of the previous checkpoint?"
   ]
  },
  {
   "cell_type": "code",
   "execution_count": null,
   "id": "229b8cc6",
   "metadata": {},
   "outputs": [],
   "source": [
    "plt.figure(figsize=(10,5))\n",
    "plt.scatter(tsne_results[:, 0], tsne_results[:, 1])\n",
    "plt.xticks([])\n",
    "plt.yticks([])\n",
    "plt.axis('off')\n",
    "plt.show()"
   ]
  },
  {
   "cell_type": "raw",
   "id": "98c2df86",
   "metadata": {},
   "source": [
    "By using t-SNE, we can distinguish some classes clearly and in this respect t-SNE solution is better than that of PCA's."
   ]
  },
  {
   "cell_type": "raw",
   "id": "93555137",
   "metadata": {},
   "source": [
    "5. Now, play with the different perplexity values and apply t-SNE for each of them. Which perplexity value is the best one in terms of the two-dimensional representation clarity?"
   ]
  },
  {
   "cell_type": "code",
   "execution_count": null,
   "id": "79f48196",
   "metadata": {},
   "outputs": [],
   "source": [
    "tsne = TSNE(n_components=2, verbose=1, perplexity=10, n_iter=300)\n",
    "tsne_results = tsne.fit_transform(X)\n",
    "\n",
    "plt.figure(figsize=(10,5))\n",
    "plt.title(\"t-SNE with perplexity=10\")\n",
    "plt.scatter(tsne_results[:, 0], tsne_results[:, 1])\n",
    "plt.xticks([])\n",
    "plt.yticks([])\n",
    "plt.axis('off')\n",
    "plt.show()"
   ]
  },
  {
   "cell_type": "code",
   "execution_count": null,
   "id": "33bbaebd",
   "metadata": {},
   "outputs": [],
   "source": [
    "tsne = TSNE(n_components=2,verbose=1,perplexity=20,n_iter=300)\n",
    "tsne_results = tsne.fit_transform(X)\n",
    "\n",
    "plt.figure(figsize=(10,5))\n",
    "plt.title('t-SNE with perplexity=20')\n",
    "plt.scatter(tsne_results[:,0],tsne_results[:,1])\n",
    "plt.xticks([])\n",
    "plt.yticks([])\n",
    "plt.axis('off')\n",
    "plt.show()"
   ]
  },
  {
   "cell_type": "code",
   "execution_count": null,
   "id": "bd97377b",
   "metadata": {},
   "outputs": [],
   "source": [
    "tsne = TSNE(n_components=2,verbose=1,perplexity=30,n_iter=300)\n",
    "tsne_results = tsne.fit_transform(X)\n",
    "\n",
    "plt.figure(figsize=(10,5))\n",
    "plt.title('t-SNE with perplexity=30')\n",
    "plt.scatter(tsne_results[:,0],tsne_results[:,1])\n",
    "plt.xticks([])\n",
    "plt.yticks([])\n",
    "plt.axis('off')\n",
    "plt.show()"
   ]
  },
  {
   "cell_type": "code",
   "execution_count": null,
   "id": "fc365c05",
   "metadata": {},
   "outputs": [],
   "source": [
    "tsne = TSNE(n_components=2, verbose=1, perplexity=50, n_iter=300)\n",
    "tsne_results = tsne.fit_transform(X)\n",
    "\n",
    "plt.figure(figsize=(10,5))\n",
    "plt.title(\"t-SNE with perplexity=30\")\n",
    "plt.scatter(tsne_results[:, 0], tsne_results[:, 1])\n",
    "plt.xticks([])\n",
    "plt.yticks([])\n",
    "plt.axis('off')\n",
    "plt.show()"
   ]
  },
  {
   "cell_type": "code",
   "execution_count": null,
   "id": "2f43043a",
   "metadata": {},
   "outputs": [],
   "source": [
    "tsne = TSNE(n_components=2, verbose=1, perplexity=60, n_iter=300)\n",
    "tsne_results = tsne.fit_transform(X)\n",
    "\n",
    "plt.figure(figsize=(10,5))\n",
    "plt.title(\"t-SNE with perplexity=60\")\n",
    "plt.scatter(tsne_results[:, 0], tsne_results[:, 1])\n",
    "plt.xticks([])\n",
    "plt.yticks([])\n",
    "plt.axis('off')\n",
    "plt.show()"
   ]
  },
  {
   "cell_type": "raw",
   "id": "1aa014da",
   "metadata": {},
   "source": [
    "All the different configurations of perplexity achieves better results than PCA, however choosing one of them isn't that much easy by just looking at unlabeled and uncolored graphs."
   ]
  }
 ],
 "metadata": {
  "kernelspec": {
   "display_name": "Python 3 (ipykernel)",
   "language": "python",
   "name": "python3"
  },
  "language_info": {
   "codemirror_mode": {
    "name": "ipython",
    "version": 3
   },
   "file_extension": ".py",
   "mimetype": "text/x-python",
   "name": "python",
   "nbconvert_exporter": "python",
   "pygments_lexer": "ipython3",
   "version": "3.9.18"
  }
 },
 "nbformat": 4,
 "nbformat_minor": 5
}
