{
  "nbformat": 4,
  "nbformat_minor": 0,
  "metadata": {
    "colab": {
      "provenance": [],
      "authorship_tag": "ABX9TyPBBwQbSLkiDfNfj7cwSmi2",
      "include_colab_link": true
    },
    "kernelspec": {
      "name": "python3",
      "display_name": "Python 3"
    },
    "language_info": {
      "name": "python"
    }
  },
  "cells": [
    {
      "cell_type": "markdown",
      "metadata": {
        "id": "view-in-github",
        "colab_type": "text"
      },
      "source": [
        "<a href=\"https://colab.research.google.com/github/sreoshi123/Assignments/blob/main/Activation_Lossfunction_assignment.ipynb\" target=\"_parent\"><img src=\"https://colab.research.google.com/assets/colab-badge.svg\" alt=\"Open In Colab\"/></a>"
      ]
    },
    {
      "cell_type": "markdown",
      "source": [
        "In this assessment, you'll continue working on the MNIST dataset. Train and test the models specified in the tasks below using the MNIST data. You can choose the number of epochs for training, but for the sake of comparison, it's a good idea to start by training for 20 epochs. And remember, you almost always want to use Softmax for the output layer.\n",
        "\n",
        "To complete this assessment, create a Jupyter Notebook containing your solutions to the following tasks:"
      ],
      "metadata": {
        "id": "mnOfo7Cj9xBQ"
      }
    },
    {
      "cell_type": "markdown",
      "source": [
        "\n",
        "\n",
        "In this task, you'll implement several ANN models with different activation functions. For each, use the cross-entropy loss function as the loss function. Specifically, do the following:\n",
        "\n",
        "    Implement a three-layer ANN model with 128, 64, and 10 neurons in the layers. Use the tanh activation function for each layer.\n",
        "    Implement a three-layer ANN model with 128, 64, and 10 neurons in the layers. Use the sigmoid activation function for each layer.\n",
        "    Implement a three-layer ANN model with 128, 64, and 10 neurons in the layers. Use the ReLU activation function for each layer.\n",
        "    Compare the results of each model. Which activation function performed best?\n",
        "\n"
      ],
      "metadata": {
        "id": "mrPkhvwM90pN"
      }
    },
    {
      "cell_type": "code",
      "source": [
        "import warnings\n",
        "warnings.filterwarnings('ignore')\n",
        "from tensorflow.keras.datasets import mnist\n",
        "from tensorflow.keras.utils import to_categorical\n",
        "from tensorflow.keras.models import Sequential\n",
        "from tensorflow.keras.layers import Dense"
      ],
      "metadata": {
        "id": "uAYf5Sve9429"
      },
      "execution_count": 1,
      "outputs": []
    },
    {
      "cell_type": "code",
      "source": [
        "(X_train, y_train), (X_test, y_test) = mnist.load_data()\n",
        "input_dim = 784 # 28*28\n",
        "output_dim = nb_classes = 10\n",
        "batch_size = 128\n",
        "nb_epoch = 20\n",
        "\n",
        "X_train = X_train.reshape(60000, input_dim)\n",
        "X_test = X_test.reshape(10000, input_dim)\n",
        "X_train = X_train.astype('float32')\n",
        "X_test = X_test.astype('float32')\n",
        "X_train /= 255\n",
        "X_test /= 255"
      ],
      "metadata": {
        "colab": {
          "base_uri": "https://localhost:8080/"
        },
        "id": "NP7Bj0PL-ZBc",
        "outputId": "79fab944-f369-421e-f0fe-359ef63fd963"
      },
      "execution_count": 2,
      "outputs": [
        {
          "output_type": "stream",
          "name": "stdout",
          "text": [
            "Downloading data from https://storage.googleapis.com/tensorflow/tf-keras-datasets/mnist.npz\n",
            "11490434/11490434 [==============================] - 0s 0us/step\n"
          ]
        }
      ]
    },
    {
      "cell_type": "code",
      "source": [
        "Y_train = to_categorical(y_train, nb_classes)\n",
        "Y_test = to_categorical(y_test, nb_classes)"
      ],
      "metadata": {
        "id": "LL6hhSmq_pTU"
      },
      "execution_count": 3,
      "outputs": []
    },
    {
      "cell_type": "markdown",
      "source": [
        "Implement a three layer ANN model with 128, 64 and 10 neurons in the layers using tanh activation function for each layer."
      ],
      "metadata": {
        "id": "E8tF4S2w_4Tz"
      }
    },
    {
      "cell_type": "code",
      "source": [
        "model = Sequential()\n",
        "# our first dense layer\n",
        "model.add(Dense(128, input_shape=(784,), activation = 'tanh'))\n",
        "# Our second dense layer\n",
        "model.add(Dense(64, activation= 'tanh'))\n",
        "# last layer is the output layer\n",
        "model.add(Dense(10,activation='softmax'))\n",
        "model.compile(optimizer='sgd',loss ='categorical_crossentropy',metrics = ['accuracy'])\n",
        "# setting verbose=1 prints out some results after each epoch\n",
        "model.fit(X_train, Y_train, batch_size=batch_size, epochs=20,verbose=1)"
      ],
      "metadata": {
        "colab": {
          "base_uri": "https://localhost:8080/"
        },
        "id": "41fmaJP5_7qu",
        "outputId": "7a4a44a8-d7e2-410d-9397-ee47a6e6ebb7"
      },
      "execution_count": 4,
      "outputs": [
        {
          "output_type": "stream",
          "name": "stdout",
          "text": [
            "Epoch 1/20\n",
            "469/469 [==============================] - 3s 5ms/step - loss: 1.0148 - accuracy: 0.7534\n",
            "Epoch 2/20\n",
            "469/469 [==============================] - 3s 7ms/step - loss: 0.5143 - accuracy: 0.8709\n",
            "Epoch 3/20\n",
            "469/469 [==============================] - 4s 9ms/step - loss: 0.4169 - accuracy: 0.8888\n",
            "Epoch 4/20\n",
            "469/469 [==============================] - 3s 6ms/step - loss: 0.3710 - accuracy: 0.8981\n",
            "Epoch 5/20\n",
            "469/469 [==============================] - 2s 5ms/step - loss: 0.3425 - accuracy: 0.9039\n",
            "Epoch 6/20\n",
            "469/469 [==============================] - 2s 5ms/step - loss: 0.3225 - accuracy: 0.9086\n",
            "Epoch 7/20\n",
            "469/469 [==============================] - 2s 5ms/step - loss: 0.3070 - accuracy: 0.9128\n",
            "Epoch 8/20\n",
            "469/469 [==============================] - 2s 5ms/step - loss: 0.2942 - accuracy: 0.9158\n",
            "Epoch 9/20\n",
            "469/469 [==============================] - 3s 7ms/step - loss: 0.2833 - accuracy: 0.9195\n",
            "Epoch 10/20\n",
            "469/469 [==============================] - 2s 5ms/step - loss: 0.2737 - accuracy: 0.9220\n",
            "Epoch 11/20\n",
            "469/469 [==============================] - 3s 5ms/step - loss: 0.2650 - accuracy: 0.9245\n",
            "Epoch 12/20\n",
            "469/469 [==============================] - 2s 5ms/step - loss: 0.2570 - accuracy: 0.9264\n",
            "Epoch 13/20\n",
            "469/469 [==============================] - 2s 5ms/step - loss: 0.2496 - accuracy: 0.9286\n",
            "Epoch 14/20\n",
            "469/469 [==============================] - 3s 7ms/step - loss: 0.2429 - accuracy: 0.9306\n",
            "Epoch 15/20\n",
            "469/469 [==============================] - 3s 7ms/step - loss: 0.2364 - accuracy: 0.9316\n",
            "Epoch 16/20\n",
            "469/469 [==============================] - 2s 5ms/step - loss: 0.2302 - accuracy: 0.9340\n",
            "Epoch 17/20\n",
            "469/469 [==============================] - 2s 5ms/step - loss: 0.2245 - accuracy: 0.9356\n",
            "Epoch 18/20\n",
            "469/469 [==============================] - 2s 5ms/step - loss: 0.2188 - accuracy: 0.9373\n",
            "Epoch 19/20\n",
            "469/469 [==============================] - 3s 7ms/step - loss: 0.2137 - accuracy: 0.9389\n",
            "Epoch 20/20\n",
            "469/469 [==============================] - 4s 8ms/step - loss: 0.2086 - accuracy: 0.9405\n"
          ]
        },
        {
          "output_type": "execute_result",
          "data": {
            "text/plain": [
              "<keras.src.callbacks.History at 0x7b1238f93dc0>"
            ]
          },
          "metadata": {},
          "execution_count": 4
        }
      ]
    },
    {
      "cell_type": "code",
      "source": [
        "score = model.evaluate(X_test, Y_test, verbose =0)\n",
        "print('Test score:', score[0])\n",
        "print('Test accuracy:', score[1])"
      ],
      "metadata": {
        "colab": {
          "base_uri": "https://localhost:8080/"
        },
        "id": "MPuTxo8-Bc8w",
        "outputId": "cbecb996-1b13-4a35-ed07-b863f1a31604"
      },
      "execution_count": 5,
      "outputs": [
        {
          "output_type": "stream",
          "name": "stdout",
          "text": [
            "Test score: 0.20727913081645966\n",
            "Test accuracy: 0.9391999840736389\n"
          ]
        }
      ]
    },
    {
      "cell_type": "markdown",
      "source": [
        "Implement a three layer ANN model with 128, 64 and 10 neurons in the layers using sigmoid activation function for each layer."
      ],
      "metadata": {
        "id": "Fiyq3KezBxt2"
      }
    },
    {
      "cell_type": "code",
      "source": [
        "model = Sequential()\n",
        "# our first dense layer\n",
        "model.add(Dense(128, input_shape = (784,), activation = 'sigmoid'))\n",
        "# our second dense layer\n",
        "model.add(Dense(64, activation='sigmoid'))\n",
        "# last layer is the output layer\n",
        "model.add(Dense(10, activation = 'softmax'))\n",
        "model.compile(optimizer='sgd', loss = 'categorical_crossentropy', metrics = ['accuracy'])\n",
        "# setting verbose = 1 prints out some results after each epoch\n",
        "model.fit(X_train, Y_train, batch_size= batch_size, epochs = 20, verbose=1)"
      ],
      "metadata": {
        "colab": {
          "base_uri": "https://localhost:8080/"
        },
        "id": "7p6zNqTFByb3",
        "outputId": "ea1c9393-667b-4740-ff66-0d33637b4f92"
      },
      "execution_count": 6,
      "outputs": [
        {
          "output_type": "stream",
          "name": "stdout",
          "text": [
            "Epoch 1/20\n",
            "469/469 [==============================] - 3s 5ms/step - loss: 2.2796 - accuracy: 0.1983\n",
            "Epoch 2/20\n",
            "469/469 [==============================] - 2s 5ms/step - loss: 2.2178 - accuracy: 0.4058\n",
            "Epoch 3/20\n",
            "469/469 [==============================] - 4s 8ms/step - loss: 2.1485 - accuracy: 0.5415\n",
            "Epoch 4/20\n",
            "469/469 [==============================] - 2s 5ms/step - loss: 2.0498 - accuracy: 0.6084\n",
            "Epoch 5/20\n",
            "469/469 [==============================] - 2s 5ms/step - loss: 1.9099 - accuracy: 0.6521\n",
            "Epoch 6/20\n",
            "469/469 [==============================] - 3s 6ms/step - loss: 1.7311 - accuracy: 0.6729\n",
            "Epoch 7/20\n",
            "469/469 [==============================] - 3s 6ms/step - loss: 1.5369 - accuracy: 0.6951\n",
            "Epoch 8/20\n",
            "469/469 [==============================] - 4s 8ms/step - loss: 1.3567 - accuracy: 0.7143\n",
            "Epoch 9/20\n",
            "469/469 [==============================] - 3s 6ms/step - loss: 1.2045 - accuracy: 0.7361\n",
            "Epoch 10/20\n",
            "469/469 [==============================] - 3s 6ms/step - loss: 1.0809 - accuracy: 0.7530\n",
            "Epoch 11/20\n",
            "469/469 [==============================] - 3s 6ms/step - loss: 0.9812 - accuracy: 0.7699\n",
            "Epoch 12/20\n",
            "469/469 [==============================] - 2s 5ms/step - loss: 0.9003 - accuracy: 0.7844\n",
            "Epoch 13/20\n",
            "469/469 [==============================] - 4s 8ms/step - loss: 0.8334 - accuracy: 0.7976\n",
            "Epoch 14/20\n",
            "469/469 [==============================] - 3s 7ms/step - loss: 0.7776 - accuracy: 0.8083\n",
            "Epoch 15/20\n",
            "469/469 [==============================] - 2s 5ms/step - loss: 0.7301 - accuracy: 0.8187\n",
            "Epoch 16/20\n",
            "469/469 [==============================] - 2s 5ms/step - loss: 0.6896 - accuracy: 0.8268\n",
            "Epoch 17/20\n",
            "469/469 [==============================] - 2s 5ms/step - loss: 0.6546 - accuracy: 0.8339\n",
            "Epoch 18/20\n",
            "469/469 [==============================] - 3s 7ms/step - loss: 0.6244 - accuracy: 0.8397\n",
            "Epoch 19/20\n",
            "469/469 [==============================] - 3s 6ms/step - loss: 0.5979 - accuracy: 0.8453\n",
            "Epoch 20/20\n",
            "469/469 [==============================] - 2s 5ms/step - loss: 0.5747 - accuracy: 0.8503\n"
          ]
        },
        {
          "output_type": "execute_result",
          "data": {
            "text/plain": [
              "<keras.src.callbacks.History at 0x7b1238dd3370>"
            ]
          },
          "metadata": {},
          "execution_count": 6
        }
      ]
    },
    {
      "cell_type": "code",
      "source": [
        "score = model.evaluate(X_test, Y_test, verbose=0)\n",
        "print('Test score:', score[0])\n",
        "print('Test accuracy:', score[1])"
      ],
      "metadata": {
        "colab": {
          "base_uri": "https://localhost:8080/"
        },
        "id": "mKHFBPW7CwKX",
        "outputId": "b013e66d-4ead-4114-bfca-81e3c2adad2e"
      },
      "execution_count": 7,
      "outputs": [
        {
          "output_type": "stream",
          "name": "stdout",
          "text": [
            "Test score: 0.5517200231552124\n",
            "Test accuracy: 0.8562999963760376\n"
          ]
        }
      ]
    },
    {
      "cell_type": "markdown",
      "source": [
        "Implement a three layer ANN model with 128, 64 and 10 neurons in the layers using ReLU activation function for each layer."
      ],
      "metadata": {
        "id": "RSQIQMIhDERu"
      }
    },
    {
      "cell_type": "code",
      "source": [
        "model = Sequential()\n",
        "# our first dense layer\n",
        "model.add(Dense(128, input_shape=(784,), activation=\"relu\"))\n",
        "# our second dense layer\n",
        "model.add(Dense(64, activation=\"relu\"))\n",
        "# last layer is the output layer.\n",
        "model.add(Dense(10, activation=\"softmax\"))\n",
        "\n",
        "model.compile(optimizer='sgd', loss='categorical_crossentropy',\n",
        "              metrics=['accuracy'])\n",
        "\n",
        "# setting verbose=1 prints out some results after each epoch\n",
        "model.fit(X_train, Y_train, batch_size=batch_size, epochs=20, verbose=1)"
      ],
      "metadata": {
        "colab": {
          "base_uri": "https://localhost:8080/"
        },
        "id": "WZ-k9ekxDHsJ",
        "outputId": "3795a3ae-5fba-42f9-be84-41c007d25099"
      },
      "execution_count": 8,
      "outputs": [
        {
          "output_type": "stream",
          "name": "stdout",
          "text": [
            "Epoch 1/20\n",
            "469/469 [==============================] - 3s 6ms/step - loss: 1.2348 - accuracy: 0.6885\n",
            "Epoch 2/20\n",
            "469/469 [==============================] - 2s 5ms/step - loss: 0.5117 - accuracy: 0.8674\n",
            "Epoch 3/20\n",
            "469/469 [==============================] - 2s 5ms/step - loss: 0.3953 - accuracy: 0.8925\n",
            "Epoch 4/20\n",
            "469/469 [==============================] - 2s 5ms/step - loss: 0.3474 - accuracy: 0.9029\n",
            "Epoch 5/20\n",
            "469/469 [==============================] - 2s 5ms/step - loss: 0.3187 - accuracy: 0.9097\n",
            "Epoch 6/20\n",
            "469/469 [==============================] - 4s 8ms/step - loss: 0.2977 - accuracy: 0.9154\n",
            "Epoch 7/20\n",
            "469/469 [==============================] - 2s 5ms/step - loss: 0.2804 - accuracy: 0.9197\n",
            "Epoch 8/20\n",
            "469/469 [==============================] - 2s 5ms/step - loss: 0.2657 - accuracy: 0.9243\n",
            "Epoch 9/20\n",
            "469/469 [==============================] - 2s 5ms/step - loss: 0.2526 - accuracy: 0.9277\n",
            "Epoch 10/20\n",
            "469/469 [==============================] - 2s 5ms/step - loss: 0.2411 - accuracy: 0.9318\n",
            "Epoch 11/20\n",
            "469/469 [==============================] - 3s 6ms/step - loss: 0.2305 - accuracy: 0.9349\n",
            "Epoch 12/20\n",
            "469/469 [==============================] - 3s 7ms/step - loss: 0.2210 - accuracy: 0.9371\n",
            "Epoch 13/20\n",
            "469/469 [==============================] - 2s 4ms/step - loss: 0.2123 - accuracy: 0.9397\n",
            "Epoch 14/20\n",
            "469/469 [==============================] - 2s 5ms/step - loss: 0.2045 - accuracy: 0.9418\n",
            "Epoch 15/20\n",
            "469/469 [==============================] - 2s 4ms/step - loss: 0.1971 - accuracy: 0.9438\n",
            "Epoch 16/20\n",
            "469/469 [==============================] - 2s 5ms/step - loss: 0.1904 - accuracy: 0.9458\n",
            "Epoch 17/20\n",
            "469/469 [==============================] - 3s 7ms/step - loss: 0.1842 - accuracy: 0.9477\n",
            "Epoch 18/20\n",
            "469/469 [==============================] - 3s 6ms/step - loss: 0.1784 - accuracy: 0.9493\n",
            "Epoch 19/20\n",
            "469/469 [==============================] - 2s 5ms/step - loss: 0.1732 - accuracy: 0.9506\n",
            "Epoch 20/20\n",
            "469/469 [==============================] - 2s 5ms/step - loss: 0.1680 - accuracy: 0.9524\n"
          ]
        },
        {
          "output_type": "execute_result",
          "data": {
            "text/plain": [
              "<keras.src.callbacks.History at 0x7b123968e980>"
            ]
          },
          "metadata": {},
          "execution_count": 8
        }
      ]
    },
    {
      "cell_type": "code",
      "source": [
        "score = model.evaluate(X_test, Y_test, verbose=0)\n",
        "print('Test score:', score[0])\n",
        "print('Test accuracy:', score[1])"
      ],
      "metadata": {
        "colab": {
          "base_uri": "https://localhost:8080/"
        },
        "id": "B1APdrNoDVLB",
        "outputId": "9975e269-5015-4343-cb04-860d01510a71"
      },
      "execution_count": 9,
      "outputs": [
        {
          "output_type": "stream",
          "name": "stdout",
          "text": [
            "Test score: 0.16843865811824799\n",
            "Test accuracy: 0.9491999745368958\n"
          ]
        }
      ]
    },
    {
      "cell_type": "markdown",
      "source": [
        "Compare the result of each model with each other. Which activation function did perform better?\n",
        "\n",
        "The highest accuracies in both the training and the test sets are achieved using the ReLU function"
      ],
      "metadata": {
        "id": "59EDMADsDhlo"
      }
    },
    {
      "cell_type": "markdown",
      "source": [
        "2. In this task, you'll implement the ANN models specified below with the hinge loss function as their loss functions:"
      ],
      "metadata": {
        "id": "-_8leaOwDlZh"
      }
    },
    {
      "cell_type": "markdown",
      "source": [
        "Implement a three layer ANN model with 128, 64 and 10 neurons in the layers using tanh activation function for each layer."
      ],
      "metadata": {
        "id": "uq-0By9cDqg-"
      }
    },
    {
      "cell_type": "code",
      "source": [
        "model = Sequential()\n",
        "# our first dense layer\n",
        "model.add(Dense(128, input_shape=(784,), activation=\"tanh\"))\n",
        "# our second dense layer\n",
        "model.add(Dense(64, activation=\"tanh\"))\n",
        "# last layer is the output layer.\n",
        "model.add(Dense(10, activation=\"softmax\"))\n",
        "\n",
        "model.compile(optimizer='sgd', loss='categorical_hinge',\n",
        "              metrics=['accuracy'])\n",
        "\n",
        "# setting verbose=1 prints out some results after each epoch\n",
        "model.fit(X_train, Y_train, batch_size=batch_size, epochs=20, verbose=1)\n"
      ],
      "metadata": {
        "colab": {
          "base_uri": "https://localhost:8080/"
        },
        "id": "shfBr7ycDvyW",
        "outputId": "3e2d47cd-d2f9-46fe-92b2-bc4ff8a232bd"
      },
      "execution_count": 11,
      "outputs": [
        {
          "output_type": "stream",
          "name": "stdout",
          "text": [
            "Epoch 1/20\n",
            "469/469 [==============================] - 4s 7ms/step - loss: 0.9729 - accuracy: 0.4509\n",
            "Epoch 2/20\n",
            "469/469 [==============================] - 2s 5ms/step - loss: 0.7287 - accuracy: 0.7300\n",
            "Epoch 3/20\n",
            "469/469 [==============================] - 2s 5ms/step - loss: 0.5448 - accuracy: 0.8173\n",
            "Epoch 4/20\n",
            "469/469 [==============================] - 2s 5ms/step - loss: 0.4349 - accuracy: 0.8519\n",
            "Epoch 5/20\n",
            "469/469 [==============================] - 3s 6ms/step - loss: 0.3709 - accuracy: 0.8680\n",
            "Epoch 6/20\n",
            "469/469 [==============================] - 4s 8ms/step - loss: 0.3306 - accuracy: 0.8782\n",
            "Epoch 7/20\n",
            "469/469 [==============================] - 3s 5ms/step - loss: 0.3030 - accuracy: 0.8858\n",
            "Epoch 8/20\n",
            "469/469 [==============================] - 2s 5ms/step - loss: 0.2826 - accuracy: 0.8916\n",
            "Epoch 9/20\n",
            "469/469 [==============================] - 2s 5ms/step - loss: 0.2669 - accuracy: 0.8954\n",
            "Epoch 10/20\n",
            "469/469 [==============================] - 2s 5ms/step - loss: 0.2543 - accuracy: 0.8990\n",
            "Epoch 11/20\n",
            "469/469 [==============================] - 4s 8ms/step - loss: 0.2439 - accuracy: 0.9020\n",
            "Epoch 12/20\n",
            "469/469 [==============================] - 3s 6ms/step - loss: 0.2352 - accuracy: 0.9045\n",
            "Epoch 13/20\n",
            "469/469 [==============================] - 2s 5ms/step - loss: 0.2276 - accuracy: 0.9064\n",
            "Epoch 14/20\n",
            "469/469 [==============================] - 2s 5ms/step - loss: 0.2211 - accuracy: 0.9086\n",
            "Epoch 15/20\n",
            "469/469 [==============================] - 3s 6ms/step - loss: 0.2153 - accuracy: 0.9103\n",
            "Epoch 16/20\n",
            "469/469 [==============================] - 3s 7ms/step - loss: 0.2100 - accuracy: 0.9122\n",
            "Epoch 17/20\n",
            "469/469 [==============================] - 3s 7ms/step - loss: 0.2053 - accuracy: 0.9138\n",
            "Epoch 18/20\n",
            "469/469 [==============================] - 2s 5ms/step - loss: 0.2009 - accuracy: 0.9154\n",
            "Epoch 19/20\n",
            "469/469 [==============================] - 2s 5ms/step - loss: 0.1969 - accuracy: 0.9167\n",
            "Epoch 20/20\n",
            "469/469 [==============================] - 2s 5ms/step - loss: 0.1933 - accuracy: 0.9180\n"
          ]
        },
        {
          "output_type": "execute_result",
          "data": {
            "text/plain": [
              "<keras.src.callbacks.History at 0x7b12394f4190>"
            ]
          },
          "metadata": {},
          "execution_count": 11
        }
      ]
    },
    {
      "cell_type": "code",
      "source": [
        "score = model.evaluate(X_test, Y_test, verbose=0)\n",
        "print('Test score:', score[0])\n",
        "print('Test accuracy:', score[1])"
      ],
      "metadata": {
        "id": "siff6h4HEwGm"
      },
      "execution_count": 12,
      "outputs": []
    },
    {
      "cell_type": "markdown",
      "source": [
        "Implement a three layer ANN model with 128, 64 and 10 neurons in the layers using sigmoid activation function for each layer."
      ],
      "metadata": {
        "id": "lEyuXET_E-YI"
      }
    },
    {
      "cell_type": "code",
      "source": [
        "model = Sequential()\n",
        "# our first dense layer\n",
        "model.add(Dense(128, input_shape=(784,), activation=\"sigmoid\"))\n",
        "# our second dense layer\n",
        "model.add(Dense(64, activation=\"sigmoid\"))\n",
        "# last layer is the output layer.\n",
        "model.add(Dense(10, activation=\"softmax\"))\n",
        "\n",
        "model.compile(optimizer='sgd', loss='categorical_hinge',\n",
        "              metrics=['accuracy'])\n",
        "\n",
        "# setting verbose=1 prints out some results after each epoch\n",
        "model.fit(X_train, Y_train, batch_size=batch_size, epochs=20, verbose=1)"
      ],
      "metadata": {
        "colab": {
          "base_uri": "https://localhost:8080/"
        },
        "id": "0o6XCJqaFCSk",
        "outputId": "1ffb3230-41a1-40ea-d008-76dcfa0ebcbd"
      },
      "execution_count": 13,
      "outputs": [
        {
          "output_type": "stream",
          "name": "stdout",
          "text": [
            "Epoch 1/20\n",
            "469/469 [==============================] - 4s 7ms/step - loss: 1.0436 - accuracy: 0.0929\n",
            "Epoch 2/20\n",
            "469/469 [==============================] - 3s 6ms/step - loss: 1.0085 - accuracy: 0.1245\n",
            "Epoch 3/20\n",
            "469/469 [==============================] - 3s 6ms/step - loss: 1.0033 - accuracy: 0.1866\n",
            "Epoch 4/20\n",
            "469/469 [==============================] - 4s 8ms/step - loss: 1.0018 - accuracy: 0.2589\n",
            "Epoch 5/20\n",
            "469/469 [==============================] - 4s 8ms/step - loss: 1.0013 - accuracy: 0.3307\n",
            "Epoch 6/20\n",
            "469/469 [==============================] - 3s 7ms/step - loss: 1.0009 - accuracy: 0.3997\n",
            "Epoch 7/20\n",
            "469/469 [==============================] - 3s 6ms/step - loss: 1.0005 - accuracy: 0.4568\n",
            "Epoch 8/20\n",
            "469/469 [==============================] - 4s 9ms/step - loss: 1.0001 - accuracy: 0.5018\n",
            "Epoch 9/20\n",
            "469/469 [==============================] - 6s 12ms/step - loss: 0.9998 - accuracy: 0.5391\n",
            "Epoch 10/20\n",
            "469/469 [==============================] - 3s 7ms/step - loss: 0.9995 - accuracy: 0.5684\n",
            "Epoch 11/20\n",
            "469/469 [==============================] - 3s 6ms/step - loss: 0.9992 - accuracy: 0.5921\n",
            "Epoch 12/20\n",
            "469/469 [==============================] - 3s 6ms/step - loss: 0.9989 - accuracy: 0.6120\n",
            "Epoch 13/20\n",
            "469/469 [==============================] - 4s 9ms/step - loss: 0.9986 - accuracy: 0.6290\n",
            "Epoch 14/20\n",
            "469/469 [==============================] - 3s 7ms/step - loss: 0.9983 - accuracy: 0.6435\n",
            "Epoch 15/20\n",
            "469/469 [==============================] - 3s 6ms/step - loss: 0.9981 - accuracy: 0.6547\n",
            "Epoch 16/20\n",
            "469/469 [==============================] - 3s 6ms/step - loss: 0.9978 - accuracy: 0.6645\n",
            "Epoch 17/20\n",
            "469/469 [==============================] - 3s 7ms/step - loss: 0.9976 - accuracy: 0.6723\n",
            "Epoch 18/20\n",
            "469/469 [==============================] - 4s 9ms/step - loss: 0.9973 - accuracy: 0.6797\n",
            "Epoch 19/20\n",
            "469/469 [==============================] - 3s 6ms/step - loss: 0.9971 - accuracy: 0.6845\n",
            "Epoch 20/20\n",
            "469/469 [==============================] - 3s 6ms/step - loss: 0.9968 - accuracy: 0.6900\n"
          ]
        },
        {
          "output_type": "execute_result",
          "data": {
            "text/plain": [
              "<keras.src.callbacks.History at 0x7b12393e1d80>"
            ]
          },
          "metadata": {},
          "execution_count": 13
        }
      ]
    },
    {
      "cell_type": "code",
      "source": [
        "score = model.evaluate(X_test, Y_test, verbose=0)\n",
        "print('Test score:', score[0])\n",
        "print('Test accuracy:', score[1])"
      ],
      "metadata": {
        "colab": {
          "base_uri": "https://localhost:8080/"
        },
        "id": "mUznEsasFSuV",
        "outputId": "25770fac-41c3-4c1a-f0be-f5d38f07aac8"
      },
      "execution_count": 14,
      "outputs": [
        {
          "output_type": "stream",
          "name": "stdout",
          "text": [
            "Test score: 0.9965358376502991\n",
            "Test accuracy: 0.699999988079071\n"
          ]
        }
      ]
    },
    {
      "cell_type": "markdown",
      "source": [
        "Implement a three layer ANN model with 128, 64 and 10 neurons in the layers using ReLU activation function for each layer."
      ],
      "metadata": {
        "id": "3ask249XFcU9"
      }
    },
    {
      "cell_type": "code",
      "source": [
        "model = Sequential()\n",
        "# our first dense layer\n",
        "model.add(Dense(128, input_shape=(784,), activation=\"relu\"))\n",
        "# our second dense layer\n",
        "model.add(Dense(64, activation=\"relu\"))\n",
        "# last layer is the output layer.\n",
        "model.add(Dense(10, activation=\"softmax\"))\n",
        "\n",
        "model.compile(optimizer='sgd', loss='categorical_hinge',\n",
        "              metrics=['accuracy'])\n",
        "\n",
        "# setting verbose=1 prints out some results after each epoch\n",
        "model.fit(X_train, Y_train, batch_size=batch_size, epochs=20, verbose=1)"
      ],
      "metadata": {
        "colab": {
          "base_uri": "https://localhost:8080/"
        },
        "id": "nmR3KRi1Ff2F",
        "outputId": "8b7c1695-1447-49e8-e041-b867d4bc0008"
      },
      "execution_count": 15,
      "outputs": [
        {
          "output_type": "stream",
          "name": "stdout",
          "text": [
            "Epoch 1/20\n",
            "469/469 [==============================] - 4s 6ms/step - loss: 1.0153 - accuracy: 0.2377\n",
            "Epoch 2/20\n",
            "469/469 [==============================] - 3s 6ms/step - loss: 0.9900 - accuracy: 0.4552\n",
            "Epoch 3/20\n",
            "469/469 [==============================] - 3s 6ms/step - loss: 0.9341 - accuracy: 0.5532\n",
            "Epoch 4/20\n",
            "469/469 [==============================] - 3s 7ms/step - loss: 0.8290 - accuracy: 0.6389\n",
            "Epoch 5/20\n",
            "469/469 [==============================] - 4s 9ms/step - loss: 0.6797 - accuracy: 0.7131\n",
            "Epoch 6/20\n",
            "469/469 [==============================] - 3s 6ms/step - loss: 0.5312 - accuracy: 0.8101\n",
            "Epoch 7/20\n",
            "469/469 [==============================] - 3s 6ms/step - loss: 0.4102 - accuracy: 0.8615\n",
            "Epoch 8/20\n",
            "469/469 [==============================] - 3s 6ms/step - loss: 0.3336 - accuracy: 0.8789\n",
            "Epoch 9/20\n",
            "469/469 [==============================] - 4s 9ms/step - loss: 0.2903 - accuracy: 0.8889\n",
            "Epoch 10/20\n",
            "469/469 [==============================] - 3s 6ms/step - loss: 0.2627 - accuracy: 0.8953\n",
            "Epoch 11/20\n",
            "469/469 [==============================] - 3s 7ms/step - loss: 0.2434 - accuracy: 0.9005\n",
            "Epoch 12/20\n",
            "469/469 [==============================] - 3s 6ms/step - loss: 0.2293 - accuracy: 0.9049\n",
            "Epoch 13/20\n",
            "469/469 [==============================] - 4s 8ms/step - loss: 0.2182 - accuracy: 0.9084\n",
            "Epoch 14/20\n",
            "469/469 [==============================] - 4s 8ms/step - loss: 0.2089 - accuracy: 0.9113\n",
            "Epoch 15/20\n",
            "469/469 [==============================] - 3s 6ms/step - loss: 0.2010 - accuracy: 0.9149\n",
            "Epoch 16/20\n",
            "469/469 [==============================] - 3s 6ms/step - loss: 0.1944 - accuracy: 0.9165\n",
            "Epoch 17/20\n",
            "469/469 [==============================] - 3s 7ms/step - loss: 0.1885 - accuracy: 0.9193\n",
            "Epoch 18/20\n",
            "469/469 [==============================] - 4s 9ms/step - loss: 0.1831 - accuracy: 0.9213\n",
            "Epoch 19/20\n",
            "469/469 [==============================] - 3s 6ms/step - loss: 0.1784 - accuracy: 0.9226\n",
            "Epoch 20/20\n",
            "469/469 [==============================] - 3s 6ms/step - loss: 0.1739 - accuracy: 0.9244\n"
          ]
        },
        {
          "output_type": "execute_result",
          "data": {
            "text/plain": [
              "<keras.src.callbacks.History at 0x7b1239311120>"
            ]
          },
          "metadata": {},
          "execution_count": 15
        }
      ]
    },
    {
      "cell_type": "code",
      "source": [
        "score = model.evaluate(X_test, Y_test, verbose=0)\n",
        "print('Test score:', score[0])\n",
        "print('Test accuracy:', score[1])"
      ],
      "metadata": {
        "colab": {
          "base_uri": "https://localhost:8080/"
        },
        "id": "gdkoelt0FpeY",
        "outputId": "db7a7484-15a5-45c6-de32-421e59337fae"
      },
      "execution_count": 16,
      "outputs": [
        {
          "output_type": "stream",
          "name": "stdout",
          "text": [
            "Test score: 0.166435107588768\n",
            "Test accuracy: 0.9284999966621399\n"
          ]
        }
      ]
    },
    {
      "cell_type": "markdown",
      "source": [
        "Compare the result of each model with the result of the same model from the previous task. Which loss function did perform better?"
      ],
      "metadata": {
        "id": "Q2ZD1bEZFyqh"
      }
    },
    {
      "cell_type": "markdown",
      "source": [
        "The highest accuracies in both the training and the test sets are achieved using the ReLU function. Moreover, all accuracies for all the models are lower when we train our models using hinge loss in comparison to using cross entropy loss."
      ],
      "metadata": {
        "id": "rpMrSnGwF8wy"
      }
    }
  ]
}