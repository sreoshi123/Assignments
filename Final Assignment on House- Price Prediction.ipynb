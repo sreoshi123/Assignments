{
 "cells": [
  {
   "cell_type": "raw",
   "id": "b0d53362",
   "metadata": {},
   "source": [
    "The scenario\n",
    "\n",
    "The housing market is one of the most crucial parts of every country's economy. Purchasing a home is one of the primary ways to build wealth and savings for people. In this respect, predicting prices in the housing market is a central topic in economic and financial circles.\n",
    "Steps\n",
    "\n",
    "    Load the houseprices data from Thinkful's database.\n",
    "    Do data cleaning, exploratory data analysis, and feature engineering. You can use your previous work in this module. But, make sure that your work is satisfactory.\n",
    "    Now, split your data into train and test sets where 20% of the data resides in the test set.\n",
    "    Build several linear regression models including lasso, ridge, or elastic net, and train them in the training set. Use k-fold cross-validation to select the best hyperparameters if your models include one.\n",
    "    Evaluate your best model on the test set.\n",
    "    So far, you have only used the features in the dataset. However, house prices can be affected by many factors like economic activity and the interest rates at the time they are sold. So, try to find some useful factors that are not included in the dataset. Integrate these factors into your model and assess the prediction performance of your model. Discuss the implications of adding these external variables into your model.\n"
   ]
  },
  {
   "cell_type": "code",
   "execution_count": 11,
   "id": "ac71fcc4",
   "metadata": {},
   "outputs": [],
   "source": [
    "import numpy as np\n",
    "import pandas as pd\n",
    "import matplotlib.pyplot as plt\n",
    "from sqlalchemy import create_engine\n",
    "from sklearn.model_selection import train_test_split,cross_val_score\n",
    "from sklearn.metrics import mean_absolute_error\n",
    "from statsmodels.tools.eval_measures import mse,rmse\n",
    "from sklearn.linear_model import LinearRegression,LassoCV,RidgeCV,ElasticNetCV\n",
    "\n",
    "import warnings\n",
    "warnings.filterwarnings('ignore')\n",
    "\n",
    "postgres_user = 'dsbc_student'\n",
    "postgres_pw = '7*.8G9QH21'\n",
    "postgres_host = '142.93.121.174'\n",
    "postgres_port = '5432'\n",
    "postgres_db = 'houseprices'"
   ]
  },
  {
   "cell_type": "code",
   "execution_count": 12,
   "id": "bd164928",
   "metadata": {},
   "outputs": [
    {
     "ename": "AttributeError",
     "evalue": "'OptionEngine' object has no attribute 'execute'",
     "output_type": "error",
     "traceback": [
      "\u001b[1;31m---------------------------------------------------------------------------\u001b[0m",
      "\u001b[1;31mAttributeError\u001b[0m                            Traceback (most recent call last)",
      "Cell \u001b[1;32mIn[12], line 3\u001b[0m\n\u001b[0;32m      1\u001b[0m engine \u001b[38;5;241m=\u001b[39m create_engine(\u001b[38;5;124m'\u001b[39m\u001b[38;5;124mpostgresql://\u001b[39m\u001b[38;5;132;01m{}\u001b[39;00m\u001b[38;5;124m:\u001b[39m\u001b[38;5;132;01m{}\u001b[39;00m\u001b[38;5;124m@\u001b[39m\u001b[38;5;132;01m{}\u001b[39;00m\u001b[38;5;124m:\u001b[39m\u001b[38;5;132;01m{}\u001b[39;00m\u001b[38;5;124m/\u001b[39m\u001b[38;5;132;01m{}\u001b[39;00m\u001b[38;5;124m'\u001b[39m\u001b[38;5;241m.\u001b[39mformat(\n\u001b[0;32m      2\u001b[0m     postgres_user, postgres_pw, postgres_host, postgres_port, postgres_db))\n\u001b[1;32m----> 3\u001b[0m houseprices_df \u001b[38;5;241m=\u001b[39m \u001b[43mpd\u001b[49m\u001b[38;5;241;43m.\u001b[39;49m\u001b[43mread_sql_query\u001b[49m\u001b[43m(\u001b[49m\u001b[38;5;124;43m'\u001b[39;49m\u001b[38;5;124;43mselect * from houseprices\u001b[39;49m\u001b[38;5;124;43m'\u001b[39;49m\u001b[43m,\u001b[49m\u001b[43mcon\u001b[49m\u001b[38;5;241;43m=\u001b[39;49m\u001b[43mengine\u001b[49m\u001b[43m)\u001b[49m\n\u001b[0;32m      6\u001b[0m \u001b[38;5;66;03m# no need for an open connection, as we're only doing a single query\u001b[39;00m\n\u001b[0;32m      7\u001b[0m engine\u001b[38;5;241m.\u001b[39mdispose()\n",
      "File \u001b[1;32mC:\\Anaconda\\chowd\\anaconda3\\lib\\site-packages\\pandas\\io\\sql.py:399\u001b[0m, in \u001b[0;36mread_sql_query\u001b[1;34m(sql, con, index_col, coerce_float, params, parse_dates, chunksize, dtype)\u001b[0m\n\u001b[0;32m    341\u001b[0m \u001b[38;5;250m\u001b[39m\u001b[38;5;124;03m\"\"\"\u001b[39;00m\n\u001b[0;32m    342\u001b[0m \u001b[38;5;124;03mRead SQL query into a DataFrame.\u001b[39;00m\n\u001b[0;32m    343\u001b[0m \n\u001b[1;32m   (...)\u001b[0m\n\u001b[0;32m    396\u001b[0m \u001b[38;5;124;03mparameter will be converted to UTC.\u001b[39;00m\n\u001b[0;32m    397\u001b[0m \u001b[38;5;124;03m\"\"\"\u001b[39;00m\n\u001b[0;32m    398\u001b[0m pandas_sql \u001b[38;5;241m=\u001b[39m pandasSQL_builder(con)\n\u001b[1;32m--> 399\u001b[0m \u001b[38;5;28;01mreturn\u001b[39;00m \u001b[43mpandas_sql\u001b[49m\u001b[38;5;241;43m.\u001b[39;49m\u001b[43mread_query\u001b[49m\u001b[43m(\u001b[49m\n\u001b[0;32m    400\u001b[0m \u001b[43m    \u001b[49m\u001b[43msql\u001b[49m\u001b[43m,\u001b[49m\n\u001b[0;32m    401\u001b[0m \u001b[43m    \u001b[49m\u001b[43mindex_col\u001b[49m\u001b[38;5;241;43m=\u001b[39;49m\u001b[43mindex_col\u001b[49m\u001b[43m,\u001b[49m\n\u001b[0;32m    402\u001b[0m \u001b[43m    \u001b[49m\u001b[43mparams\u001b[49m\u001b[38;5;241;43m=\u001b[39;49m\u001b[43mparams\u001b[49m\u001b[43m,\u001b[49m\n\u001b[0;32m    403\u001b[0m \u001b[43m    \u001b[49m\u001b[43mcoerce_float\u001b[49m\u001b[38;5;241;43m=\u001b[39;49m\u001b[43mcoerce_float\u001b[49m\u001b[43m,\u001b[49m\n\u001b[0;32m    404\u001b[0m \u001b[43m    \u001b[49m\u001b[43mparse_dates\u001b[49m\u001b[38;5;241;43m=\u001b[39;49m\u001b[43mparse_dates\u001b[49m\u001b[43m,\u001b[49m\n\u001b[0;32m    405\u001b[0m \u001b[43m    \u001b[49m\u001b[43mchunksize\u001b[49m\u001b[38;5;241;43m=\u001b[39;49m\u001b[43mchunksize\u001b[49m\u001b[43m,\u001b[49m\n\u001b[0;32m    406\u001b[0m \u001b[43m    \u001b[49m\u001b[43mdtype\u001b[49m\u001b[38;5;241;43m=\u001b[39;49m\u001b[43mdtype\u001b[49m\u001b[43m,\u001b[49m\n\u001b[0;32m    407\u001b[0m \u001b[43m\u001b[49m\u001b[43m)\u001b[49m\n",
      "File \u001b[1;32mC:\\Anaconda\\chowd\\anaconda3\\lib\\site-packages\\pandas\\io\\sql.py:1557\u001b[0m, in \u001b[0;36mSQLDatabase.read_query\u001b[1;34m(self, sql, index_col, coerce_float, parse_dates, params, chunksize, dtype)\u001b[0m\n\u001b[0;32m   1509\u001b[0m \u001b[38;5;250m\u001b[39m\u001b[38;5;124;03m\"\"\"\u001b[39;00m\n\u001b[0;32m   1510\u001b[0m \u001b[38;5;124;03mRead SQL query into a DataFrame.\u001b[39;00m\n\u001b[0;32m   1511\u001b[0m \n\u001b[1;32m   (...)\u001b[0m\n\u001b[0;32m   1553\u001b[0m \n\u001b[0;32m   1554\u001b[0m \u001b[38;5;124;03m\"\"\"\u001b[39;00m\n\u001b[0;32m   1555\u001b[0m args \u001b[38;5;241m=\u001b[39m _convert_params(sql, params)\n\u001b[1;32m-> 1557\u001b[0m result \u001b[38;5;241m=\u001b[39m \u001b[38;5;28;43mself\u001b[39;49m\u001b[38;5;241;43m.\u001b[39;49m\u001b[43mexecute\u001b[49m\u001b[43m(\u001b[49m\u001b[38;5;241;43m*\u001b[39;49m\u001b[43margs\u001b[49m\u001b[43m)\u001b[49m\n\u001b[0;32m   1558\u001b[0m columns \u001b[38;5;241m=\u001b[39m result\u001b[38;5;241m.\u001b[39mkeys()\n\u001b[0;32m   1560\u001b[0m \u001b[38;5;28;01mif\u001b[39;00m chunksize \u001b[38;5;129;01mis\u001b[39;00m \u001b[38;5;129;01mnot\u001b[39;00m \u001b[38;5;28;01mNone\u001b[39;00m:\n",
      "File \u001b[1;32mC:\\Anaconda\\chowd\\anaconda3\\lib\\site-packages\\pandas\\io\\sql.py:1402\u001b[0m, in \u001b[0;36mSQLDatabase.execute\u001b[1;34m(self, *args, **kwargs)\u001b[0m\n\u001b[0;32m   1400\u001b[0m \u001b[38;5;28;01mdef\u001b[39;00m \u001b[38;5;21mexecute\u001b[39m(\u001b[38;5;28mself\u001b[39m, \u001b[38;5;241m*\u001b[39margs, \u001b[38;5;241m*\u001b[39m\u001b[38;5;241m*\u001b[39mkwargs):\n\u001b[0;32m   1401\u001b[0m \u001b[38;5;250m    \u001b[39m\u001b[38;5;124;03m\"\"\"Simple passthrough to SQLAlchemy connectable\"\"\"\u001b[39;00m\n\u001b[1;32m-> 1402\u001b[0m     \u001b[38;5;28;01mreturn\u001b[39;00m \u001b[38;5;28;43mself\u001b[39;49m\u001b[38;5;241;43m.\u001b[39;49m\u001b[43mconnectable\u001b[49m\u001b[38;5;241;43m.\u001b[39;49m\u001b[43mexecution_options\u001b[49m\u001b[43m(\u001b[49m\u001b[43m)\u001b[49m\u001b[38;5;241;43m.\u001b[39;49m\u001b[43mexecute\u001b[49m(\u001b[38;5;241m*\u001b[39margs, \u001b[38;5;241m*\u001b[39m\u001b[38;5;241m*\u001b[39mkwargs)\n",
      "\u001b[1;31mAttributeError\u001b[0m: 'OptionEngine' object has no attribute 'execute'"
     ]
    }
   ],
   "source": [
    "engine = create_engine('postgresql://{}:{}@{}:{}/{}'.format(\n",
    "    postgres_user, postgres_pw, postgres_host, postgres_port, postgres_db))\n",
    "houseprices_df = pd.read_sql_query('select * from houseprices',con=engine)\n",
    "\n",
    "\n",
    "# no need for an open connection, as we're only doing a single query\n",
    "engine.dispose()"
   ]
  },
  {
   "cell_type": "code",
   "execution_count": null,
   "id": "e3a05572",
   "metadata": {},
   "outputs": [],
   "source": [
    "house_prices_df.head()"
   ]
  },
  {
   "cell_type": "code",
   "execution_count": null,
   "id": "445f4e77",
   "metadata": {},
   "outputs": [],
   "source": [
    "house_prices_df.shape"
   ]
  },
  {
   "cell_type": "code",
   "execution_count": null,
   "id": "7b85f8d3",
   "metadata": {},
   "outputs": [],
   "source": [
    "house_prices_df.info()"
   ]
  },
  {
   "cell_type": "code",
   "execution_count": null,
   "id": "b6978dd0",
   "metadata": {},
   "outputs": [],
   "source": [
    "house_prices_df.describe()"
   ]
  },
  {
   "cell_type": "code",
   "execution_count": null,
   "id": "81a98a0b",
   "metadata": {},
   "outputs": [],
   "source": [
    "# Some columns are numerical & some are non-numerical\n",
    "non_numeric_columns = house_prices_df.select_dtypes(['object']).columns\n",
    "print(non_numeric_columns)\n",
    "print('The number of non-numeric columns is {}'.format(len(non_numeric_columns)))"
   ]
  },
  {
   "cell_type": "code",
   "execution_count": null,
   "id": "b6666aa4",
   "metadata": {},
   "outputs": [],
   "source": [
    "numeric_columns = house_prices_df.select_dtypes(['int64','float']).columns\n",
    "print(numeric_columns)\n",
    "print('The number of numeric columns is {}'.format(len(numeric_columns)))"
   ]
  },
  {
   "cell_type": "code",
   "execution_count": null,
   "id": "9e5f25b3",
   "metadata": {},
   "outputs": [],
   "source": [
    "# Missing Data\n",
    "\n",
    "total_missing = house_prices_df.isnull().sum().sort_values(ascending = False)\n",
    "percent_missing = (house_prices_df.isnull().sum()/house_prices_df.isnull().count()).sort_values(ascending = False)\n",
    "missing_data = pd.concat([total_missing,percent_missing], axis =1, keys = ['Total','Percent'])\n",
    "missing_data.head(25)"
   ]
  },
  {
   "cell_type": "code",
   "execution_count": null,
   "id": "61800d80",
   "metadata": {},
   "outputs": [],
   "source": [
    "# We see 19 features has missing values"
   ]
  },
  {
   "cell_type": "code",
   "execution_count": null,
   "id": "7e6e106a",
   "metadata": {},
   "outputs": [],
   "source": [
    "# Exploratory data analysis and feature selection\n",
    "plt.hist(house_prices_df.saleprice)\n",
    "plt.title('The distribution of sale prices')\n",
    "plt.xlabel('sale prices')\n",
    "plt.ylabel('number of occurrence')\n",
    "plt.show()"
   ]
  },
  {
   "cell_type": "code",
   "execution_count": null,
   "id": "703454c6",
   "metadata": {},
   "outputs": [],
   "source": [
    "# We derive correlations of the features with our target variable irrespective of their signs by taking absolute values\n",
    "np.abs(house_prices_df[numeric_columns].iloc[:,1:].corr().loc[:,'saleprice']).sort_values(ascending = False)"
   ]
  },
  {
   "cell_type": "code",
   "execution_count": null,
   "id": "53914a48",
   "metadata": {},
   "outputs": [],
   "source": [
    "# To understand the univariate relation between our target variable and non-numerical features\n",
    "plt.figure(figsize = (40,60))\n",
    "for index, column in enumerate(non_numeric_columns):\n",
    "    plt.subplot(11,4,index+1)\n",
    "    plt.bar(house_prices_df.groupby(column)['saleprice'].mean().index,house_prices_df.groupby(column)[\"saleprice\"].mean(),\n",
    "           color=(\"grey\",\"green\"))\n",
    "    plt.title(\"Average saleprice wrt. {}\".format(column))\n",
    "    plt.ylabel(\"Average sale price\")\n",
    "    plt.xlabel(column)\n",
    "    plt.xticks(rotation='vertical')\n",
    "\n",
    "plt.tight_layout()\n",
    "plt.show()"
   ]
  },
  {
   "cell_type": "code",
   "execution_count": null,
   "id": "41bf5121",
   "metadata": {},
   "outputs": [],
   "source": [
    "# As our model, we choose the 5 numerical variables that are most correlated with the saleprice. We also add 2 non-numerical features.\n",
    "\n",
    "house_prices_df = pd.concat([house_prices_df,pd.get_dummies(house_prices_df.mszoning,prefix = 'mszoning',drop_first = True)],axis =1)\n",
    "house_prices_df = pd.concat([house_prices_df,pd.get_dummies(house_prices_df.street,prefix ='street',drop_first = True)],axis =1)\n",
    "dummy_column_names = list(pd.get_dummies(house_prices_df.mszoning,prefix = 'mszoning',drop_first = True).columns)\n",
    "dummy_column_names = dummy_column_names + list(pd.get_dummies(house_prices_df.street, prefix = 'street',drop_first = True).columns)\n"
   ]
  },
  {
   "cell_type": "code",
   "execution_count": null,
   "id": "2e6ad8e7",
   "metadata": {},
   "outputs": [],
   "source": [
    "# Regression Model\n",
    "house_prices_df['totalsf'] = house_prices_df['totalbsmtsf'] + house_prices_df['firstflrsf']+ house_prices_df['secondflrsf']\n",
    "house_prices_df['int_over_sf']= house_prices_df['totalsf']*house_prices_df['overallqual']\n",
    "# Y is the target variable\n",
    "Y = np.log1p(house_prices_df['saleprice'])\n",
    "# X is the feature\n",
    "X = house_prices_df[['overallqual','grlivarea','garagecars','garagearea','totalsf','int_over_sf'] + dummy_column_names]\n",
    "X_train,X_test,y_train,y_test = train_test_split(X,Y,test_size = 0.2,random_state = 465)\n",
    "alphas = [np.power(10.0,p) for p in np.arange(-10,40,1)]"
   ]
  },
  {
   "cell_type": "code",
   "execution_count": null,
   "id": "7a9da4cf",
   "metadata": {},
   "outputs": [],
   "source": [
    "lrm = LinearRegression()\n",
    "lrm.fit(X_train,y_train)\n",
    "y_preds_train = lrm.predict(X_train)\n",
    "y_preds_test = lrm.predict(X_test)\n",
    "print(\"R-squared of the model in training set is: {}\".format(lrm.score(X_train,y_train)))\n",
    "print(\"-----Test set statistics----\")\n",
    "print(\"R-squared of the model in test set is: {}\".format(lrm.score(X_test,y_test)))\n",
    "print(\"Mean absolute error of the prediction is : {}\".format(mean_absolute_error(y_test,y_preds_test)))\n",
    "print(\"Mean squared error of the prediction is : {}\".format(mse(y_test,y_preds_test)))\n",
    "print(\"Root mean squared error of the prediction is: {}\".format(rmse(y_test,y_preds_test)))\n",
    "print(\"Mean absolute percentage error of the prediction is: {}\".format(np.mean(np.abs((y_test-y_preds_test)/y_test))*100))"
   ]
  },
  {
   "cell_type": "code",
   "execution_count": null,
   "id": "0ff4d3a9",
   "metadata": {},
   "outputs": [],
   "source": [
    "lasso_cv = LassoCV(alphas= alphas, cv =5)\n",
    "lasso_cv.fit(X_train,y_train)\n",
    "# We are making predictions\n",
    "y_preds_train = lasso_cv.predict(X_train)\n",
    "y_preds_test = lasso_cv.predict(X_test)\n",
    "print(\"Best alpha value is: {}\".format(lasso_cv.alpha_))\n",
    "print(\"R-squared of the model is : {}\".format(lasso_cv.score(X_train,y_train)))\n",
    "print(\"----Test set statistics----\")\n",
    "print(\"R-squared of the model in test set is : {}\".format(lasso_cv.score(X_test,y_test)))\n",
    "print(\" Mean absolute error of the prediction is: {}\".format(mse(y_test,y_preds_test)))\n",
    "print(\"Root mean  squared error of the prediction is: {}\".format(rmse(y_test,y_preds_test)))\n",
    "print(\"Mean absolute percentage error of the prediction is: {}\".format(np.mean(np.abs((y_test-y_preds_test)/y_test))*100))"
   ]
  },
  {
   "cell_type": "code",
   "execution_count": null,
   "id": "ae5549cd",
   "metadata": {},
   "outputs": [],
   "source": [
    "ridge_cv = RidgeCV(alphas=alphas, cv=5)\n",
    "ridge_cv.fit(X_train,y_train)\n",
    "# We are making predictions\n",
    "y_preds_train = ridge_cv.predict(X_train)\n",
    "y_preds_test = ridge_cv.predict(X_test)\n",
    "print(\"Best alpha value is : {}\".format(ridge_cv.alpha_))\n",
    "print(\"R-squared of the model in training set is : {}\".format(ridge_cv.score(X_train,y_train)))\n",
    "print(\"----Test set statistics----\")\n",
    "print(\"R-squared of the model in test set is: {}\".format(ridge_cv.score(X_test,y_test)))\n",
    "print(\"Mean absolute error of the prediction is: {}\".format(mean_absolute_error(y_test,y_preds_test)))\n",
    "print(\"Mean squared error of the prediction is: {}\".format(mse(y_test,y_preds_test)))\n",
    "print(\"Root mean squared error of the prediction is: {}\".format(rmse(y_test,y_preds_test)))\n",
    "print(\"Mean absolute percentage error of the prediction is: {}\".format(np.mean(np.abs((y_test-y_preds_test)/y_test))*100))"
   ]
  },
  {
   "cell_type": "code",
   "execution_count": null,
   "id": "9e90c460",
   "metadata": {},
   "outputs": [],
   "source": [
    "elasticnet_cv = ElasticNetCV(alphas = alphas, cv =5)\n",
    "elasticnet_cv.fit(X_train,y_train)\n",
    "# We are making predictions here\n",
    "y_preds_train = elasticnet_cv.predict(X_train)\n",
    "y_preds_test = elasticnet_cv.predict(X_test)\n",
    "print(\"Best alpha value is: {}\".format(elasticnet_cv.alpha_))\n",
    "print(\"R-sqaured of the model in training set is: {}\".format(elasticnet_cv.score(X_train,y_train)))\n",
    "print(\"---Test set statistics---\")\n",
    "print(\"R-squared of the model in test set is: {}\".format(elasticnet_cv.score(X_test,y_test)))\n",
    "print(\"Mean absolute error of the prediction is: {}\".format(mean_absolute_error(y_test,y_preds_test)))\n",
    "print(\"Mean squared error of the prediction is: {}\".format(mse(y_test,y_preds_test)))\n",
    "print(\"Root mean squared error of the prediction is: {}\".format(rmse(y_test,y_preds_test)))\n",
    "print(\"Mean absolute percentage error of the prediction is: {}\".format(np.mean(np.abs((y_test-y_preds_test)/y_test))*100))"
   ]
  },
  {
   "cell_type": "code",
   "execution_count": null,
   "id": "b7fb0a23",
   "metadata": {},
   "outputs": [],
   "source": [
    "# From the prediction results we find that the best model is the OLS regression model"
   ]
  },
  {
   "cell_type": "code",
   "execution_count": null,
   "id": "374e955c",
   "metadata": {},
   "outputs": [],
   "source": [
    "# Integrating new factors that affect the target variable but are not there in the dataset "
   ]
  },
  {
   "cell_type": "code",
   "execution_count": null,
   "id": "495f1f72",
   "metadata": {},
   "outputs": [],
   "source": [
    "yr_sold= pd.DataFrame(house_prices_df.yrsold)\n",
    "yr_sold"
   ]
  },
  {
   "cell_type": "code",
   "execution_count": null,
   "id": "04a60b1a",
   "metadata": {},
   "outputs": [],
   "source": [
    "yr_sold.describe()"
   ]
  },
  {
   "cell_type": "code",
   "execution_count": 14,
   "id": "df2c9139",
   "metadata": {},
   "outputs": [],
   "source": [
    "# Economic factors affecting house prices: mortgage rate, unemployment rate,gdp, population growth, federal funds rate, cpi\n",
    "\n",
    "mortgage_rate= pd.read_csv('C:/Users/chowd/OneDrive/Desktop/Thinkful assignments/MORTGAGE30US.csv')\n",
    "unemployment_rate = pd.read_csv('C:/Users/chowd/OneDrive/Desktop/Thinkful assignments/UNEMPLOYMENTRATE.csv')\n",
    "gdp= pd.read_csv('C:/Users/chowd/OneDrive/Desktop/Thinkful assignments/GDP.csv')\n",
    "pop_growth = pd.read_csv('C:/Users/chowd/OneDrive/Desktop/Thinkful assignments/SPPOPGROWUSA.csv')\n",
    "federal_funds_rate = pd.read_csv('C:/Users/chowd/OneDrive/Desktop/Thinkful assignments/Federal_funds_rate.csv')\n",
    "cpi = pd.read_csv('C:/Users/chowd/OneDrive/Desktop/Thinkful assignments/CPI.csv')"
   ]
  },
  {
   "cell_type": "code",
   "execution_count": 15,
   "id": "37508a8d",
   "metadata": {},
   "outputs": [],
   "source": [
    "mortgage_rate['DATE'] = pd.to_datetime(mortgage_rate['DATE'])\n",
    "unemployment_rate['DATE']= pd.to_datetime(unemployment_rate['DATE'])\n",
    "gdp['DATE'] = pd.to_datetime(gdp['DATE'])\n",
    "pop_growth['DATE'] = pd.to_datetime(pop_growth['DATE'])\n",
    "federal_funds_rate['DATE']= pd.to_datetime(federal_funds_rate['DATE'])\n",
    "cpi['DATE'] = pd.to_datetime(cpi['DATE'])"
   ]
  },
  {
   "cell_type": "code",
   "execution_count": 16,
   "id": "44a85d47",
   "metadata": {},
   "outputs": [],
   "source": [
    "mortgage_rate= mortgage_rate[mortgage_rate['DATE'].dt.year >= 2006]\n",
    "unemployment_rate = unemployment_rate[unemployment_rate['DATE'].dt.year >= 2006]\n",
    "gdp = gdp[gdp['DATE'].dt.year >= 2006]\n",
    "federal_funds_rate= federal_funds_rate[federal_funds_rate['DATE'].dt.year >= 2006]\n",
    "cpi = cpi[cpi['DATE'].dt.year >= 2006]"
   ]
  },
  {
   "cell_type": "code",
   "execution_count": null,
   "id": "eed894ed",
   "metadata": {},
   "outputs": [],
   "source": [
    "house_prices_df.yrsold.head(10)"
   ]
  },
  {
   "cell_type": "code",
   "execution_count": null,
   "id": "945cc779",
   "metadata": {},
   "outputs": [],
   "source": [
    "mortgage_rate.head(10)"
   ]
  },
  {
   "cell_type": "code",
   "execution_count": 19,
   "id": "f3a71c74",
   "metadata": {},
   "outputs": [],
   "source": [
    "mortgage_df= mortgage_rate.groupby([mortgage_rate['DATE'].dt.year]).mean()\n",
    "unemployment_df = unemployment_rate.groupby([unemployment_rate['DATE'].dt.year]).mean()\n",
    "gdp_df = gdp.groupby([gdp['DATE'].dt.year]).mean()\n",
    "federal_funds_df = federal_funds_rate.groupby([federal_funds_rate['DATE'].dt.year]).mean()\n",
    "cpi_df = cpi.groupby([cpi['DATE'].dt.year]).mean()"
   ]
  },
  {
   "cell_type": "code",
   "execution_count": null,
   "id": "dc4e0ce9",
   "metadata": {},
   "outputs": [],
   "source": [
    "mortgage_df.index"
   ]
  },
  {
   "cell_type": "code",
   "execution_count": null,
   "id": "a2b677da",
   "metadata": {},
   "outputs": [],
   "source": [
    "merge_df = pd.merge(house_prices_df,mortgage_df,left_on= 'yrsold',right_index= True,how = 'left')\n",
    "house_prices_df['Final_mortgage_rate'] = merge_df['MORTGAGE30US']"
   ]
  },
  {
   "cell_type": "code",
   "execution_count": null,
   "id": "49fb1564",
   "metadata": {},
   "outputs": [],
   "source": [
    "merge_df = pd.merge(house_prices_df,unemployment_df,left_on= 'yrsold',right_index= True,how = 'left')\n",
    "house_prices_df['Unemployment Rate'] = merge_df['UNRATE']"
   ]
  },
  {
   "cell_type": "code",
   "execution_count": null,
   "id": "21bbe970",
   "metadata": {},
   "outputs": [],
   "source": [
    "merge_df = pd.merge(house_prices_df,gdp_df,left_on= 'yrsold',right_index= True,how = 'left')\n",
    "house_prices_df['Gdp'] = merge_df['GDP']"
   ]
  },
  {
   "cell_type": "code",
   "execution_count": null,
   "id": "bbd2e8ff",
   "metadata": {},
   "outputs": [],
   "source": [
    "merge_df = pd.merge(house_prices_df,federal_funds_df,left_on= 'yrsold',right_index = True ,how = 'left')\n",
    "house_prices_df['Federal funds rate'] = merge_df['DFF']"
   ]
  },
  {
   "cell_type": "code",
   "execution_count": null,
   "id": "fec8bd2d",
   "metadata": {},
   "outputs": [],
   "source": [
    "merge_df = pd.merge(house_prices_df,cpi_df,left_on= 'yrsold',right_index= True,how = 'left')\n",
    "house_prices_df['Cpi'] = merge_df['FPCPITOTLZGUSA']\n",
    "house_prices_df"
   ]
  },
  {
   "cell_type": "code",
   "execution_count": null,
   "id": "6eab1495",
   "metadata": {},
   "outputs": [],
   "source": [
    "house_prices_df['Federal funds rate'].head(3)"
   ]
  },
  {
   "cell_type": "code",
   "execution_count": 20,
   "id": "3c6f879f",
   "metadata": {},
   "outputs": [
    {
     "data": {
      "text/html": [
       "<div>\n",
       "<style scoped>\n",
       "    .dataframe tbody tr th:only-of-type {\n",
       "        vertical-align: middle;\n",
       "    }\n",
       "\n",
       "    .dataframe tbody tr th {\n",
       "        vertical-align: top;\n",
       "    }\n",
       "\n",
       "    .dataframe thead th {\n",
       "        text-align: right;\n",
       "    }\n",
       "</style>\n",
       "<table border=\"1\" class=\"dataframe\">\n",
       "  <thead>\n",
       "    <tr style=\"text-align: right;\">\n",
       "      <th></th>\n",
       "      <th>DFF</th>\n",
       "    </tr>\n",
       "    <tr>\n",
       "      <th>DATE</th>\n",
       "      <th></th>\n",
       "    </tr>\n",
       "  </thead>\n",
       "  <tbody>\n",
       "    <tr>\n",
       "      <th>2019</th>\n",
       "      <td>2.129</td>\n",
       "    </tr>\n",
       "    <tr>\n",
       "      <th>2020</th>\n",
       "      <td>0.372</td>\n",
       "    </tr>\n",
       "    <tr>\n",
       "      <th>2021</th>\n",
       "      <td>0.079</td>\n",
       "    </tr>\n",
       "  </tbody>\n",
       "</table>\n",
       "</div>"
      ],
      "text/plain": [
       "       DFF\n",
       "DATE      \n",
       "2019 2.129\n",
       "2020 0.372\n",
       "2021 0.079"
      ]
     },
     "execution_count": 20,
     "metadata": {},
     "output_type": "execute_result"
    }
   ],
   "source": [
    "federal_funds_df.head(3)"
   ]
  },
  {
   "cell_type": "code",
   "execution_count": 21,
   "id": "d857243e",
   "metadata": {},
   "outputs": [
    {
     "data": {
      "text/html": [
       "<div>\n",
       "<style scoped>\n",
       "    .dataframe tbody tr th:only-of-type {\n",
       "        vertical-align: middle;\n",
       "    }\n",
       "\n",
       "    .dataframe tbody tr th {\n",
       "        vertical-align: top;\n",
       "    }\n",
       "\n",
       "    .dataframe thead th {\n",
       "        text-align: right;\n",
       "    }\n",
       "</style>\n",
       "<table border=\"1\" class=\"dataframe\">\n",
       "  <thead>\n",
       "    <tr style=\"text-align: right;\">\n",
       "      <th></th>\n",
       "      <th>GDP</th>\n",
       "    </tr>\n",
       "    <tr>\n",
       "      <th>DATE</th>\n",
       "      <th></th>\n",
       "    </tr>\n",
       "  </thead>\n",
       "  <tbody>\n",
       "    <tr>\n",
       "      <th>2006</th>\n",
       "      <td>13815.583</td>\n",
       "    </tr>\n",
       "    <tr>\n",
       "      <th>2007</th>\n",
       "      <td>14474.227</td>\n",
       "    </tr>\n",
       "    <tr>\n",
       "      <th>2008</th>\n",
       "      <td>14769.862</td>\n",
       "    </tr>\n",
       "  </tbody>\n",
       "</table>\n",
       "</div>"
      ],
      "text/plain": [
       "           GDP\n",
       "DATE          \n",
       "2006 13815.583\n",
       "2007 14474.227\n",
       "2008 14769.862"
      ]
     },
     "execution_count": 21,
     "metadata": {},
     "output_type": "execute_result"
    }
   ],
   "source": [
    "gdp_df.head(3)"
   ]
  },
  {
   "cell_type": "code",
   "execution_count": null,
   "id": "211381f9",
   "metadata": {},
   "outputs": [],
   "source": []
  }
 ],
 "metadata": {
  "kernelspec": {
   "display_name": "Python 3 (ipykernel)",
   "language": "python",
   "name": "python3"
  },
  "language_info": {
   "codemirror_mode": {
    "name": "ipython",
    "version": 3
   },
   "file_extension": ".py",
   "mimetype": "text/x-python",
   "name": "python",
   "nbconvert_exporter": "python",
   "pygments_lexer": "ipython3",
   "version": "3.9.18"
  }
 },
 "nbformat": 4,
 "nbformat_minor": 5
}
