{
 "cells": [
  {
   "cell_type": "raw",
   "id": "09e7ce53",
   "metadata": {},
   "source": [
    "To start this exercise, pick a dataset. It could be one you've worked with before or it could be a new dataset. Then build the best decision tree that you can.\n",
    "\n",
    "Now, try to match that with the simplest random forest that you can. For this exercise, measure simplicity with runtime. Compare that to the runtime of the decision tree. This is imperfect, but just go with it.\n",
    "\n",
    "Hopefully, out of this you'll see the power of random forests, but you'll also see their potential costs. Remember, in the real world, you won't necessarily be dealing with thousands of rows. There may be millions, billions, or even more."
   ]
  },
  {
   "cell_type": "code",
   "execution_count": 1,
   "id": "da6b3e2e",
   "metadata": {},
   "outputs": [],
   "source": [
    "# Importing the necessary libraries and loading the Iris dataset\n",
    "\n",
    "from sklearn.datasets import load_iris\n",
    "from sklearn.model_selection import train_test_split\n",
    "from sklearn.tree import DecisionTreeClassifier\n",
    "from sklearn.ensemble import RandomForestClassifier\n",
    "import time\n"
   ]
  },
  {
   "cell_type": "code",
   "execution_count": 2,
   "id": "97c1db77",
   "metadata": {},
   "outputs": [],
   "source": [
    "# Load the Iris dataset\n",
    "iris = load_iris()\n",
    "X = iris.data\n",
    "y = iris.target\n",
    "\n",
    "# Split the dataset into training and testing sets\n",
    "X_train, X_test, y_train, y_test = train_test_split(X, y, test_size=0.2, random_state=42)\n"
   ]
  },
  {
   "cell_type": "code",
   "execution_count": 3,
   "id": "ed0c360a",
   "metadata": {},
   "outputs": [
    {
     "name": "stdout",
     "output_type": "stream",
     "text": [
      "Decision Tree Runtime: 0.00897073745727539\n"
     ]
    }
   ],
   "source": [
    "# Now building a decison tree classifier and meassuring it's  runtime\n",
    "start_time_dt = time.time()\n",
    "dt_classifier = DecisionTreeClassifier(random_state=42)\n",
    "dt_classifier.fit(X_train,y_train)\n",
    "end_time_dt= time.time()\n",
    "\n",
    "# Measure the runtime of the decision tree\n",
    "dt_runtime = end_time_dt - start_time_dt\n",
    "print('Decision Tree Runtime:', dt_runtime)"
   ]
  },
  {
   "cell_type": "code",
   "execution_count": 4,
   "id": "8da27228",
   "metadata": {},
   "outputs": [
    {
     "name": "stdout",
     "output_type": "stream",
     "text": [
      "Random Forest Runtime: 0.09069418907165527\n"
     ]
    }
   ],
   "source": [
    "# Now building the random forest classifier and measuring it's runtime\n",
    "\n",
    "start_time_rf = time.time()\n",
    "rf_classifier = RandomForestClassifier(n_estimators = 100,random_state=42)\n",
    "rf_classifier.fit(X_train,y_train)\n",
    "end_time_rf = time.time()\n",
    "\n",
    "# Measure the runtime of the random forest\n",
    "rf_runtime = end_time_rf - start_time_rf\n",
    "print('Random Forest Runtime:',rf_runtime)"
   ]
  },
  {
   "cell_type": "code",
   "execution_count": 5,
   "id": "9e4eea9e",
   "metadata": {},
   "outputs": [
    {
     "name": "stdout",
     "output_type": "stream",
     "text": [
      "Decision Tree Runtime: 0.00897073745727539\n",
      "Random Forest Runtime: 0.09069418907165527\n"
     ]
    }
   ],
   "source": [
    "# Finally comparing the runtimes of the decision tree and random forest classifiers\n",
    "print('Decision Tree Runtime:', dt_runtime)\n",
    "print('Random Forest Runtime:',rf_runtime)"
   ]
  }
 ],
 "metadata": {
  "kernelspec": {
   "display_name": "Python 3 (ipykernel)",
   "language": "python",
   "name": "python3"
  },
  "language_info": {
   "codemirror_mode": {
    "name": "ipython",
    "version": 3
   },
   "file_extension": ".py",
   "mimetype": "text/x-python",
   "name": "python",
   "nbconvert_exporter": "python",
   "pygments_lexer": "ipython3",
   "version": "3.9.18"
  }
 },
 "nbformat": 4,
 "nbformat_minor": 5
}
