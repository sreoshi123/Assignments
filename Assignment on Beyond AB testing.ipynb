{
 "cells": [
  {
   "cell_type": "code",
   "execution_count": 1,
   "id": "eb07e531",
   "metadata": {},
   "outputs": [],
   "source": [
    "import pandas as pd\n",
    "import numpy as np\n",
    "import matplotlib.pyplot as plt\n",
    "from scipy import stats\n"
   ]
  },
  {
   "cell_type": "code",
   "execution_count": 2,
   "id": "764658ee",
   "metadata": {},
   "outputs": [],
   "source": [
    "df = pd.read_csv(\"C:/Users/chowd/OneDrive/Desktop/DS_-_ess_combined_2012_2014.csv\")"
   ]
  },
  {
   "cell_type": "code",
   "execution_count": 5,
   "id": "f642bdde",
   "metadata": {},
   "outputs": [
    {
     "data": {
      "text/html": [
       "<div>\n",
       "<style scoped>\n",
       "    .dataframe tbody tr th:only-of-type {\n",
       "        vertical-align: middle;\n",
       "    }\n",
       "\n",
       "    .dataframe tbody tr th {\n",
       "        vertical-align: top;\n",
       "    }\n",
       "\n",
       "    .dataframe thead th {\n",
       "        text-align: right;\n",
       "    }\n",
       "</style>\n",
       "<table border=\"1\" class=\"dataframe\">\n",
       "  <thead>\n",
       "    <tr style=\"text-align: right;\">\n",
       "      <th></th>\n",
       "      <th>cntry</th>\n",
       "      <th>idno</th>\n",
       "      <th>year</th>\n",
       "      <th>tvtot</th>\n",
       "      <th>ppltrst</th>\n",
       "      <th>pplfair</th>\n",
       "      <th>pplhlp</th>\n",
       "      <th>happy</th>\n",
       "      <th>sclmeet</th>\n",
       "      <th>sclact</th>\n",
       "      <th>gndr</th>\n",
       "      <th>agea</th>\n",
       "      <th>partner</th>\n",
       "    </tr>\n",
       "  </thead>\n",
       "  <tbody>\n",
       "    <tr>\n",
       "      <th>0</th>\n",
       "      <td>CH</td>\n",
       "      <td>5</td>\n",
       "      <td>6</td>\n",
       "      <td>3</td>\n",
       "      <td>3</td>\n",
       "      <td>10</td>\n",
       "      <td>5</td>\n",
       "      <td>8</td>\n",
       "      <td>5</td>\n",
       "      <td>4</td>\n",
       "      <td>2</td>\n",
       "      <td>60</td>\n",
       "      <td>1</td>\n",
       "    </tr>\n",
       "    <tr>\n",
       "      <th>1</th>\n",
       "      <td>CH</td>\n",
       "      <td>25</td>\n",
       "      <td>6</td>\n",
       "      <td>6</td>\n",
       "      <td>5</td>\n",
       "      <td>7</td>\n",
       "      <td>5</td>\n",
       "      <td>9</td>\n",
       "      <td>3</td>\n",
       "      <td>2</td>\n",
       "      <td>2</td>\n",
       "      <td>59</td>\n",
       "      <td>1</td>\n",
       "    </tr>\n",
       "    <tr>\n",
       "      <th>2</th>\n",
       "      <td>CH</td>\n",
       "      <td>26</td>\n",
       "      <td>6</td>\n",
       "      <td>1</td>\n",
       "      <td>8</td>\n",
       "      <td>8</td>\n",
       "      <td>8</td>\n",
       "      <td>7</td>\n",
       "      <td>6</td>\n",
       "      <td>3</td>\n",
       "      <td>1</td>\n",
       "      <td>24</td>\n",
       "      <td>2</td>\n",
       "    </tr>\n",
       "    <tr>\n",
       "      <th>3</th>\n",
       "      <td>CH</td>\n",
       "      <td>28</td>\n",
       "      <td>6</td>\n",
       "      <td>4</td>\n",
       "      <td>6</td>\n",
       "      <td>6</td>\n",
       "      <td>7</td>\n",
       "      <td>10</td>\n",
       "      <td>6</td>\n",
       "      <td>2</td>\n",
       "      <td>2</td>\n",
       "      <td>64</td>\n",
       "      <td>1</td>\n",
       "    </tr>\n",
       "    <tr>\n",
       "      <th>4</th>\n",
       "      <td>CH</td>\n",
       "      <td>29</td>\n",
       "      <td>6</td>\n",
       "      <td>5</td>\n",
       "      <td>6</td>\n",
       "      <td>7</td>\n",
       "      <td>5</td>\n",
       "      <td>8</td>\n",
       "      <td>7</td>\n",
       "      <td>2</td>\n",
       "      <td>2</td>\n",
       "      <td>55</td>\n",
       "      <td>1</td>\n",
       "    </tr>\n",
       "  </tbody>\n",
       "</table>\n",
       "</div>"
      ],
      "text/plain": [
       "  cntry  idno  year  tvtot  ppltrst  pplfair  pplhlp  happy  sclmeet  sclact  \\\n",
       "0    CH     5     6      3        3       10       5      8        5       4   \n",
       "1    CH    25     6      6        5        7       5      9        3       2   \n",
       "2    CH    26     6      1        8        8       8      7        6       3   \n",
       "3    CH    28     6      4        6        6       7     10        6       2   \n",
       "4    CH    29     6      5        6        7       5      8        7       2   \n",
       "\n",
       "   gndr  agea  partner  \n",
       "0     2    60        1  \n",
       "1     2    59        1  \n",
       "2     1    24        2  \n",
       "3     2    64        1  \n",
       "4     2    55        1  "
      ]
     },
     "execution_count": 5,
     "metadata": {},
     "output_type": "execute_result"
    }
   ],
   "source": [
    "df.head()"
   ]
  },
  {
   "cell_type": "code",
   "execution_count": 6,
   "id": "9c19fb36",
   "metadata": {},
   "outputs": [
    {
     "name": "stdout",
     "output_type": "stream",
     "text": [
      "<class 'pandas.core.frame.DataFrame'>\n",
      "RangeIndex: 8147 entries, 0 to 8146\n",
      "Data columns (total 13 columns):\n",
      " #   Column   Non-Null Count  Dtype \n",
      "---  ------   --------------  ----- \n",
      " 0   cntry    8147 non-null   object\n",
      " 1   idno     8147 non-null   int64 \n",
      " 2   year     8147 non-null   int64 \n",
      " 3   tvtot    8147 non-null   int64 \n",
      " 4   ppltrst  8147 non-null   int64 \n",
      " 5   pplfair  8147 non-null   int64 \n",
      " 6   pplhlp   8147 non-null   int64 \n",
      " 7   happy    8147 non-null   int64 \n",
      " 8   sclmeet  8147 non-null   int64 \n",
      " 9   sclact   8147 non-null   int64 \n",
      " 10  gndr     8147 non-null   int64 \n",
      " 11  agea     8147 non-null   int64 \n",
      " 12  partner  8147 non-null   int64 \n",
      "dtypes: int64(12), object(1)\n",
      "memory usage: 827.6+ KB\n"
     ]
    }
   ],
   "source": [
    "df.info()"
   ]
  },
  {
   "cell_type": "code",
   "execution_count": 12,
   "id": "d3dd96c4",
   "metadata": {},
   "outputs": [
    {
     "name": "stdout",
     "output_type": "stream",
     "text": [
      "<class 'pandas.core.frame.DataFrame'>\n",
      "Int64Index: 4071 entries, 0 to 7279\n",
      "Data columns (total 13 columns):\n",
      " #   Column   Non-Null Count  Dtype \n",
      "---  ------   --------------  ----- \n",
      " 0   cntry    4071 non-null   object\n",
      " 1   idno     4071 non-null   int64 \n",
      " 2   year     4071 non-null   int64 \n",
      " 3   tvtot    4071 non-null   int64 \n",
      " 4   ppltrst  4071 non-null   int64 \n",
      " 5   pplfair  4071 non-null   int64 \n",
      " 6   pplhlp   4071 non-null   int64 \n",
      " 7   happy    4071 non-null   int64 \n",
      " 8   sclmeet  4071 non-null   int64 \n",
      " 9   sclact   4071 non-null   int64 \n",
      " 10  gndr     4071 non-null   int64 \n",
      " 11  agea     4071 non-null   int64 \n",
      " 12  partner  4071 non-null   int64 \n",
      "dtypes: int64(12), object(1)\n",
      "memory usage: 445.3+ KB\n",
      "<class 'pandas.core.frame.DataFrame'>\n",
      "Int64Index: 4076 entries, 732 to 8146\n",
      "Data columns (total 13 columns):\n",
      " #   Column   Non-Null Count  Dtype \n",
      "---  ------   --------------  ----- \n",
      " 0   cntry    4076 non-null   object\n",
      " 1   idno     4076 non-null   int64 \n",
      " 2   year     4076 non-null   int64 \n",
      " 3   tvtot    4076 non-null   int64 \n",
      " 4   ppltrst  4076 non-null   int64 \n",
      " 5   pplfair  4076 non-null   int64 \n",
      " 6   pplhlp   4076 non-null   int64 \n",
      " 7   happy    4076 non-null   int64 \n",
      " 8   sclmeet  4076 non-null   int64 \n",
      " 9   sclact   4076 non-null   int64 \n",
      " 10  gndr     4076 non-null   int64 \n",
      " 11  agea     4076 non-null   int64 \n",
      " 12  partner  4076 non-null   int64 \n",
      "dtypes: int64(12), object(1)\n",
      "memory usage: 445.8+ KB\n"
     ]
    }
   ],
   "source": [
    "# Q1 Did people become less trusting from 2012 to 2014?\n",
    "# Split up the dataset\n",
    "df_2012= df[df['year']==6]\n",
    "df_2012.info()\n",
    "\n",
    "df_2014= df[df['year']==7]\n",
    "df_2014.info()"
   ]
  },
  {
   "cell_type": "code",
   "execution_count": 13,
   "id": "00450861",
   "metadata": {},
   "outputs": [
    {
     "data": {
      "image/png": "[encoded data removed]",
      "text/plain": [
       "<Figure size 432x288 with 1 Axes>"
      ]
     },
     "metadata": {
      "needs_background": "light"
     },
     "output_type": "display_data"
    }
   ],
   "source": [
    "# Before running the t-test we'll check whether the samples are noramlly distributed\n",
    "plt.hist(df_2012['ppltrst'],alpha=0.5,label=\"2012\")\n",
    "plt.hist(df_2014['ppltrst'],alpha=0.5,label=\"2014\")\n",
    "plt.legend(loc =\"upper right\")\n",
    "plt.title(\"Trust\")\n",
    "plt.show()"
   ]
  },
  {
   "cell_type": "code",
   "execution_count": 14,
   "id": "5b0af0e2",
   "metadata": {},
   "outputs": [
    {
     "name": "stdout",
     "output_type": "stream",
     "text": [
      "DescribeResult(nobs=4071, minmax=(0, 10), mean=5.578481945467944, variance=4.893040545067073, skewness=-0.5431086926347095, kurtosis=-0.1210956960964813)\n",
      "DescribeResult(nobs=4076, minmax=(0, 10), mean=5.5713935230618254, variance=4.927171652708959, skewness=-0.4601859476512641, kurtosis=-0.25006786100787215)\n"
     ]
    }
   ],
   "source": [
    "print(stats.describe(df_2012['ppltrst']))\n",
    "print(stats.describe(df_2014['ppltrst']))"
   ]
  },
  {
   "cell_type": "code",
   "execution_count": 15,
   "id": "21de3534",
   "metadata": {},
   "outputs": [
    {
     "data": {
      "text/plain": [
       "Ttest_indResult(statistic=0.1443685081969842, pvalue=0.8852130548889106)"
      ]
     },
     "execution_count": 15,
     "metadata": {},
     "output_type": "execute_result"
    }
   ],
   "source": [
    "# Hence we can conclude the data is normally distributed and t-test can be applied\n",
    "stats.ttest_ind(df_2012['ppltrst'],df_2014['ppltrst'])"
   ]
  },
  {
   "cell_type": "code",
   "execution_count": 16,
   "id": "1421218d",
   "metadata": {},
   "outputs": [],
   "source": [
    "# Since the test statistic is less than 1.96 and p-value>0.05 we accept the null.\n",
    "# Hence we conclude that people did not become less trusting from 2012 to 2014."
   ]
  },
  {
   "cell_type": "code",
   "execution_count": 17,
   "id": "ceb420cd",
   "metadata": {},
   "outputs": [
    {
     "data": {
      "image/png": "[encoded data removed]",
      "text/plain": [
       "<Figure size 432x288 with 1 Axes>"
      ]
     },
     "metadata": {
      "needs_background": "light"
     },
     "output_type": "display_data"
    }
   ],
   "source": [
    "# Q2 Did people become happier from 2012 to 2014?\n",
    "plt.hist(df_2012['happy'],alpha=0.5,label=\"2012\")\n",
    "plt.hist(df_2014['happy'],alpha=0.5,label=\"2014\")\n",
    "plt.legend(loc =\"upper right\")\n",
    "plt.title(\"Happiness\")\n",
    "plt.show()"
   ]
  },
  {
   "cell_type": "code",
   "execution_count": 18,
   "id": "b54830d0",
   "metadata": {},
   "outputs": [
    {
     "name": "stdout",
     "output_type": "stream",
     "text": [
      "DescribeResult(nobs=4071, minmax=(0, 10), mean=7.731515598133137, variance=3.0819524689826823, skewness=-1.1505518232802756, kurtosis=1.9055890346061979)\n",
      "DescribeResult(nobs=4076, minmax=(0, 10), mean=7.6854759568204125, variance=2.840436853164115, skewness=-1.0296465664009635, kurtosis=1.5218046596567287)\n"
     ]
    }
   ],
   "source": [
    "print(stats.describe(df_2012['happy']))\n",
    "print(stats.describe(df_2014['happy']))"
   ]
  },
  {
   "cell_type": "code",
   "execution_count": 19,
   "id": "352796c0",
   "metadata": {},
   "outputs": [
    {
     "name": "stdout",
     "output_type": "stream",
     "text": [
      "ShapiroResult(statistic=0.8943395018577576, pvalue=0.0)\n",
      "ShapiroResult(statistic=0.9060227870941162, pvalue=1.2611686178923354e-44)\n"
     ]
    }
   ],
   "source": [
    "# The histogram doesn't look normal. But the values of skewness and kurtosis favour a normal distribution.\n",
    "# Doing another normality check:\n",
    "print(stats.shapiro(df_2012['happy']))\n",
    "print(stats.shapiro(df_2014['happy']))"
   ]
  },
  {
   "cell_type": "code",
   "execution_count": 20,
   "id": "3546d9c0",
   "metadata": {},
   "outputs": [],
   "source": [
    "# Each p-value<0.05 and W is not 1 hence the happiness data is not normally distributed."
   ]
  },
  {
   "cell_type": "code",
   "execution_count": 23,
   "id": "9d375e74",
   "metadata": {},
   "outputs": [
    {
     "data": {
      "text/plain": [
       "KruskalResult(statistic=3.725441202182227, pvalue=0.05358946830655459)"
      ]
     },
     "execution_count": 23,
     "metadata": {},
     "output_type": "execute_result"
    }
   ],
   "source": [
    "stats.kruskal(df_2012['happy'],df_2014['happy'])"
   ]
  },
  {
   "cell_type": "code",
   "execution_count": 24,
   "id": "589765ee",
   "metadata": {},
   "outputs": [],
   "source": [
    "# the p-value>0.05 hence we accept the null. Hence we can conclude that people didn't become happier from 2012 to 2014."
   ]
  },
  {
   "cell_type": "code",
   "execution_count": 25,
   "id": "b2191e00",
   "metadata": {},
   "outputs": [
    {
     "data": {
      "text/plain": [
       "array(['CH', 'CZ', 'DE', 'ES', 'NO', 'SE'], dtype=object)"
      ]
     },
     "execution_count": 25,
     "metadata": {},
     "output_type": "execute_result"
    }
   ],
   "source": [
    "# Q3 Pick three or four of the countries in the sample and compare how often people met socially in 2014. Are there differences, and if so, which countries stand out?\n",
    "\n",
    "df['cntry'].unique()"
   ]
  },
  {
   "cell_type": "code",
   "execution_count": 35,
   "id": "92e128a6",
   "metadata": {},
   "outputs": [
    {
     "data": {
      "text/html": [
       "<div>\n",
       "<style scoped>\n",
       "    .dataframe tbody tr th:only-of-type {\n",
       "        vertical-align: middle;\n",
       "    }\n",
       "\n",
       "    .dataframe tbody tr th {\n",
       "        vertical-align: top;\n",
       "    }\n",
       "\n",
       "    .dataframe thead th {\n",
       "        text-align: right;\n",
       "    }\n",
       "</style>\n",
       "<table border=\"1\" class=\"dataframe\">\n",
       "  <thead>\n",
       "    <tr style=\"text-align: right;\">\n",
       "      <th></th>\n",
       "      <th>cntry</th>\n",
       "      <th>idno</th>\n",
       "      <th>year</th>\n",
       "      <th>tvtot</th>\n",
       "      <th>ppltrst</th>\n",
       "      <th>pplfair</th>\n",
       "      <th>pplhlp</th>\n",
       "      <th>happy</th>\n",
       "      <th>sclmeet</th>\n",
       "      <th>sclact</th>\n",
       "      <th>gndr</th>\n",
       "      <th>agea</th>\n",
       "      <th>partner</th>\n",
       "    </tr>\n",
       "  </thead>\n",
       "  <tbody>\n",
       "    <tr>\n",
       "      <th>732</th>\n",
       "      <td>CH</td>\n",
       "      <td>5</td>\n",
       "      <td>7</td>\n",
       "      <td>2</td>\n",
       "      <td>8</td>\n",
       "      <td>9</td>\n",
       "      <td>7</td>\n",
       "      <td>9</td>\n",
       "      <td>6</td>\n",
       "      <td>4</td>\n",
       "      <td>1</td>\n",
       "      <td>69</td>\n",
       "      <td>1</td>\n",
       "    </tr>\n",
       "    <tr>\n",
       "      <th>733</th>\n",
       "      <td>CH</td>\n",
       "      <td>25</td>\n",
       "      <td>7</td>\n",
       "      <td>4</td>\n",
       "      <td>4</td>\n",
       "      <td>2</td>\n",
       "      <td>5</td>\n",
       "      <td>6</td>\n",
       "      <td>5</td>\n",
       "      <td>3</td>\n",
       "      <td>1</td>\n",
       "      <td>30</td>\n",
       "      <td>1</td>\n",
       "    </tr>\n",
       "    <tr>\n",
       "      <th>734</th>\n",
       "      <td>CH</td>\n",
       "      <td>26</td>\n",
       "      <td>7</td>\n",
       "      <td>3</td>\n",
       "      <td>8</td>\n",
       "      <td>8</td>\n",
       "      <td>6</td>\n",
       "      <td>8</td>\n",
       "      <td>7</td>\n",
       "      <td>5</td>\n",
       "      <td>2</td>\n",
       "      <td>49</td>\n",
       "      <td>2</td>\n",
       "    </tr>\n",
       "    <tr>\n",
       "      <th>735</th>\n",
       "      <td>CH</td>\n",
       "      <td>28</td>\n",
       "      <td>7</td>\n",
       "      <td>2</td>\n",
       "      <td>7</td>\n",
       "      <td>7</td>\n",
       "      <td>5</td>\n",
       "      <td>9</td>\n",
       "      <td>6</td>\n",
       "      <td>2</td>\n",
       "      <td>1</td>\n",
       "      <td>51</td>\n",
       "      <td>1</td>\n",
       "    </tr>\n",
       "    <tr>\n",
       "      <th>736</th>\n",
       "      <td>CH</td>\n",
       "      <td>29</td>\n",
       "      <td>7</td>\n",
       "      <td>2</td>\n",
       "      <td>4</td>\n",
       "      <td>7</td>\n",
       "      <td>0</td>\n",
       "      <td>8</td>\n",
       "      <td>6</td>\n",
       "      <td>2</td>\n",
       "      <td>2</td>\n",
       "      <td>32</td>\n",
       "      <td>2</td>\n",
       "    </tr>\n",
       "    <tr>\n",
       "      <th>...</th>\n",
       "      <td>...</td>\n",
       "      <td>...</td>\n",
       "      <td>...</td>\n",
       "      <td>...</td>\n",
       "      <td>...</td>\n",
       "      <td>...</td>\n",
       "      <td>...</td>\n",
       "      <td>...</td>\n",
       "      <td>...</td>\n",
       "      <td>...</td>\n",
       "      <td>...</td>\n",
       "      <td>...</td>\n",
       "      <td>...</td>\n",
       "    </tr>\n",
       "    <tr>\n",
       "      <th>8142</th>\n",
       "      <td>SE</td>\n",
       "      <td>3729</td>\n",
       "      <td>7</td>\n",
       "      <td>3</td>\n",
       "      <td>4</td>\n",
       "      <td>5</td>\n",
       "      <td>3</td>\n",
       "      <td>6</td>\n",
       "      <td>6</td>\n",
       "      <td>2</td>\n",
       "      <td>1</td>\n",
       "      <td>18</td>\n",
       "      <td>2</td>\n",
       "    </tr>\n",
       "    <tr>\n",
       "      <th>8143</th>\n",
       "      <td>SE</td>\n",
       "      <td>3732</td>\n",
       "      <td>7</td>\n",
       "      <td>5</td>\n",
       "      <td>6</td>\n",
       "      <td>4</td>\n",
       "      <td>4</td>\n",
       "      <td>10</td>\n",
       "      <td>6</td>\n",
       "      <td>3</td>\n",
       "      <td>1</td>\n",
       "      <td>15</td>\n",
       "      <td>2</td>\n",
       "    </tr>\n",
       "    <tr>\n",
       "      <th>8144</th>\n",
       "      <td>SE</td>\n",
       "      <td>3743</td>\n",
       "      <td>7</td>\n",
       "      <td>4</td>\n",
       "      <td>5</td>\n",
       "      <td>7</td>\n",
       "      <td>6</td>\n",
       "      <td>8</td>\n",
       "      <td>6</td>\n",
       "      <td>3</td>\n",
       "      <td>1</td>\n",
       "      <td>44</td>\n",
       "      <td>2</td>\n",
       "    </tr>\n",
       "    <tr>\n",
       "      <th>8145</th>\n",
       "      <td>SE</td>\n",
       "      <td>3744</td>\n",
       "      <td>7</td>\n",
       "      <td>5</td>\n",
       "      <td>8</td>\n",
       "      <td>8</td>\n",
       "      <td>6</td>\n",
       "      <td>9</td>\n",
       "      <td>7</td>\n",
       "      <td>3</td>\n",
       "      <td>1</td>\n",
       "      <td>15</td>\n",
       "      <td>2</td>\n",
       "    </tr>\n",
       "    <tr>\n",
       "      <th>8146</th>\n",
       "      <td>SE</td>\n",
       "      <td>3746</td>\n",
       "      <td>7</td>\n",
       "      <td>2</td>\n",
       "      <td>6</td>\n",
       "      <td>7</td>\n",
       "      <td>5</td>\n",
       "      <td>7</td>\n",
       "      <td>7</td>\n",
       "      <td>4</td>\n",
       "      <td>2</td>\n",
       "      <td>15</td>\n",
       "      <td>2</td>\n",
       "    </tr>\n",
       "  </tbody>\n",
       "</table>\n",
       "<p>4076 rows × 13 columns</p>\n",
       "</div>"
      ],
      "text/plain": [
       "     cntry  idno  year  tvtot  ppltrst  pplfair  pplhlp  happy  sclmeet  \\\n",
       "732     CH     5     7      2        8        9       7      9        6   \n",
       "733     CH    25     7      4        4        2       5      6        5   \n",
       "734     CH    26     7      3        8        8       6      8        7   \n",
       "735     CH    28     7      2        7        7       5      9        6   \n",
       "736     CH    29     7      2        4        7       0      8        6   \n",
       "...    ...   ...   ...    ...      ...      ...     ...    ...      ...   \n",
       "8142    SE  3729     7      3        4        5       3      6        6   \n",
       "8143    SE  3732     7      5        6        4       4     10        6   \n",
       "8144    SE  3743     7      4        5        7       6      8        6   \n",
       "8145    SE  3744     7      5        8        8       6      9        7   \n",
       "8146    SE  3746     7      2        6        7       5      7        7   \n",
       "\n",
       "      sclact  gndr  agea  partner  \n",
       "732        4     1    69        1  \n",
       "733        3     1    30        1  \n",
       "734        5     2    49        2  \n",
       "735        2     1    51        1  \n",
       "736        2     2    32        2  \n",
       "...      ...   ...   ...      ...  \n",
       "8142       2     1    18        2  \n",
       "8143       3     1    15        2  \n",
       "8144       3     1    44        2  \n",
       "8145       3     1    15        2  \n",
       "8146       4     2    15        2  \n",
       "\n",
       "[4076 rows x 13 columns]"
      ]
     },
     "execution_count": 35,
     "metadata": {},
     "output_type": "execute_result"
    }
   ],
   "source": [
    "df_2014= df[df['year']==7]\n",
    "df_2014"
   ]
  },
  {
   "cell_type": "code",
   "execution_count": 39,
   "id": "7b396b57",
   "metadata": {},
   "outputs": [
    {
     "name": "stdout",
     "output_type": "stream",
     "text": [
      "<class 'pandas.core.frame.DataFrame'>\n",
      "Int64Index: 743 entries, 732 to 1474\n",
      "Data columns (total 13 columns):\n",
      " #   Column   Non-Null Count  Dtype \n",
      "---  ------   --------------  ----- \n",
      " 0   cntry    743 non-null    object\n",
      " 1   idno     743 non-null    int64 \n",
      " 2   year     743 non-null    int64 \n",
      " 3   tvtot    743 non-null    int64 \n",
      " 4   ppltrst  743 non-null    int64 \n",
      " 5   pplfair  743 non-null    int64 \n",
      " 6   pplhlp   743 non-null    int64 \n",
      " 7   happy    743 non-null    int64 \n",
      " 8   sclmeet  743 non-null    int64 \n",
      " 9   sclact   743 non-null    int64 \n",
      " 10  gndr     743 non-null    int64 \n",
      " 11  agea     743 non-null    int64 \n",
      " 12  partner  743 non-null    int64 \n",
      "dtypes: int64(12), object(1)\n",
      "memory usage: 81.3+ KB\n",
      "<class 'pandas.core.frame.DataFrame'>\n",
      "Int64Index: 867 entries, 7280 to 8146\n",
      "Data columns (total 13 columns):\n",
      " #   Column   Non-Null Count  Dtype \n",
      "---  ------   --------------  ----- \n",
      " 0   cntry    867 non-null    object\n",
      " 1   idno     867 non-null    int64 \n",
      " 2   year     867 non-null    int64 \n",
      " 3   tvtot    867 non-null    int64 \n",
      " 4   ppltrst  867 non-null    int64 \n",
      " 5   pplfair  867 non-null    int64 \n",
      " 6   pplhlp   867 non-null    int64 \n",
      " 7   happy    867 non-null    int64 \n",
      " 8   sclmeet  867 non-null    int64 \n",
      " 9   sclact   867 non-null    int64 \n",
      " 10  gndr     867 non-null    int64 \n",
      " 11  agea     867 non-null    int64 \n",
      " 12  partner  867 non-null    int64 \n",
      "dtypes: int64(12), object(1)\n",
      "memory usage: 94.8+ KB\n",
      "<class 'pandas.core.frame.DataFrame'>\n",
      "Int64Index: 14 entries, 2695 to 2708\n",
      "Data columns (total 13 columns):\n",
      " #   Column   Non-Null Count  Dtype \n",
      "---  ------   --------------  ----- \n",
      " 0   cntry    14 non-null     object\n",
      " 1   idno     14 non-null     int64 \n",
      " 2   year     14 non-null     int64 \n",
      " 3   tvtot    14 non-null     int64 \n",
      " 4   ppltrst  14 non-null     int64 \n",
      " 5   pplfair  14 non-null     int64 \n",
      " 6   pplhlp   14 non-null     int64 \n",
      " 7   happy    14 non-null     int64 \n",
      " 8   sclmeet  14 non-null     int64 \n",
      " 9   sclact   14 non-null     int64 \n",
      " 10  gndr     14 non-null     int64 \n",
      " 11  agea     14 non-null     int64 \n",
      " 12  partner  14 non-null     int64 \n",
      "dtypes: int64(12), object(1)\n",
      "memory usage: 1.5+ KB\n",
      "<class 'pandas.core.frame.DataFrame'>\n",
      "Int64Index: 1134 entries, 3867 to 5000\n",
      "Data columns (total 13 columns):\n",
      " #   Column   Non-Null Count  Dtype \n",
      "---  ------   --------------  ----- \n",
      " 0   cntry    1134 non-null   object\n",
      " 1   idno     1134 non-null   int64 \n",
      " 2   year     1134 non-null   int64 \n",
      " 3   tvtot    1134 non-null   int64 \n",
      " 4   ppltrst  1134 non-null   int64 \n",
      " 5   pplfair  1134 non-null   int64 \n",
      " 6   pplhlp   1134 non-null   int64 \n",
      " 7   happy    1134 non-null   int64 \n",
      " 8   sclmeet  1134 non-null   int64 \n",
      " 9   sclact   1134 non-null   int64 \n",
      " 10  gndr     1134 non-null   int64 \n",
      " 11  agea     1134 non-null   int64 \n",
      " 12  partner  1134 non-null   int64 \n",
      "dtypes: int64(12), object(1)\n",
      "memory usage: 124.0+ KB\n"
     ]
    }
   ],
   "source": [
    "# Splitting the dataset into 4 countries\n",
    "df_2014_CH = df_2014[df_2014['cntry']=='CH']\n",
    "df_2014_CH.info()\n",
    "\n",
    "df_2014_SE= df_2014[df_2014['cntry']=='SE']\n",
    "df_2014_SE.info()\n",
    "\n",
    "df_2014_DE = df_2014[df_2014['cntry']=='DE']\n",
    "df_2014_DE.info()\n",
    "\n",
    "df_2014_ES= df_2014[df_2014['cntry']=='ES']\n",
    "df_2014_ES.info()\n"
   ]
  },
  {
   "cell_type": "code",
   "execution_count": 54,
   "id": "610393d6",
   "metadata": {},
   "outputs": [
    {
     "data": {
      "image/png": "[encoded data removed]",
      "text/plain": [
       "<Figure size 432x288 with 1 Axes>"
      ]
     },
     "metadata": {
      "needs_background": "light"
     },
     "output_type": "display_data"
    }
   ],
   "source": [
    "# checking for normality of the data\n",
    "plt.hist(df_2014_CH['sclmeet'],alpha=0.5,label= 'CH')\n",
    "plt.hist(df_2014_SE['sclmeet'],alpha=0.5,label='SE')\n",
    "plt.hist(df_2014_DE['sclmeet'],alpha=0.5,label='DE')\n",
    "plt.hist(df_2014_ES['sclmeet'],alpha=0.5,label='ES')\n",
    "plt.legend(loc=\"upper right\")\n",
    "plt.title('Social_meet')\n",
    "plt.show()"
   ]
  },
  {
   "cell_type": "code",
   "execution_count": 52,
   "id": "98995497",
   "metadata": {},
   "outputs": [
    {
     "data": {
      "text/plain": [
       "KruskalResult(statistic=28.42746149134131, pvalue=2.9539732521984827e-06)"
      ]
     },
     "execution_count": 52,
     "metadata": {},
     "output_type": "execute_result"
    }
   ],
   "source": [
    "# Looking at the visualization the variable 'sclmeet' doesn't appear to be normally distributed\n",
    "# Applying the Kruskal- Wallis test\n",
    "stats.kruskal(df_2014_CH['sclmeet'],df_2014_SE['sclmeet'],df_2014_DE['sclmeet'],df_2014_ES['sclmeet'])"
   ]
  },
  {
   "cell_type": "code",
   "execution_count": 55,
   "id": "09d7d216",
   "metadata": {},
   "outputs": [],
   "source": [
    "# Based on the p-value we can reject the null and can conclude that there are differences in how often people met socially among these countries for the year 2014.\n",
    "# And countries ES and CH stand out."
   ]
  },
  {
   "cell_type": "code",
   "execution_count": 58,
   "id": "54e17946",
   "metadata": {},
   "outputs": [
    {
     "data": {
      "text/html": [
       "<div>\n",
       "<style scoped>\n",
       "    .dataframe tbody tr th:only-of-type {\n",
       "        vertical-align: middle;\n",
       "    }\n",
       "\n",
       "    .dataframe tbody tr th {\n",
       "        vertical-align: top;\n",
       "    }\n",
       "\n",
       "    .dataframe thead th {\n",
       "        text-align: right;\n",
       "    }\n",
       "</style>\n",
       "<table border=\"1\" class=\"dataframe\">\n",
       "  <thead>\n",
       "    <tr style=\"text-align: right;\">\n",
       "      <th></th>\n",
       "      <th>cntry</th>\n",
       "      <th>idno</th>\n",
       "      <th>year</th>\n",
       "      <th>tvtot</th>\n",
       "      <th>ppltrst</th>\n",
       "      <th>pplfair</th>\n",
       "      <th>pplhlp</th>\n",
       "      <th>happy</th>\n",
       "      <th>sclmeet</th>\n",
       "      <th>sclact</th>\n",
       "      <th>gndr</th>\n",
       "      <th>agea</th>\n",
       "      <th>partner</th>\n",
       "    </tr>\n",
       "  </thead>\n",
       "  <tbody>\n",
       "    <tr>\n",
       "      <th>0</th>\n",
       "      <td>CH</td>\n",
       "      <td>5</td>\n",
       "      <td>6</td>\n",
       "      <td>3</td>\n",
       "      <td>3</td>\n",
       "      <td>10</td>\n",
       "      <td>5</td>\n",
       "      <td>8</td>\n",
       "      <td>5</td>\n",
       "      <td>4</td>\n",
       "      <td>2</td>\n",
       "      <td>60</td>\n",
       "      <td>1</td>\n",
       "    </tr>\n",
       "    <tr>\n",
       "      <th>1</th>\n",
       "      <td>CH</td>\n",
       "      <td>25</td>\n",
       "      <td>6</td>\n",
       "      <td>6</td>\n",
       "      <td>5</td>\n",
       "      <td>7</td>\n",
       "      <td>5</td>\n",
       "      <td>9</td>\n",
       "      <td>3</td>\n",
       "      <td>2</td>\n",
       "      <td>2</td>\n",
       "      <td>59</td>\n",
       "      <td>1</td>\n",
       "    </tr>\n",
       "    <tr>\n",
       "      <th>2</th>\n",
       "      <td>CH</td>\n",
       "      <td>26</td>\n",
       "      <td>6</td>\n",
       "      <td>1</td>\n",
       "      <td>8</td>\n",
       "      <td>8</td>\n",
       "      <td>8</td>\n",
       "      <td>7</td>\n",
       "      <td>6</td>\n",
       "      <td>3</td>\n",
       "      <td>1</td>\n",
       "      <td>24</td>\n",
       "      <td>2</td>\n",
       "    </tr>\n",
       "    <tr>\n",
       "      <th>3</th>\n",
       "      <td>CH</td>\n",
       "      <td>28</td>\n",
       "      <td>6</td>\n",
       "      <td>4</td>\n",
       "      <td>6</td>\n",
       "      <td>6</td>\n",
       "      <td>7</td>\n",
       "      <td>10</td>\n",
       "      <td>6</td>\n",
       "      <td>2</td>\n",
       "      <td>2</td>\n",
       "      <td>64</td>\n",
       "      <td>1</td>\n",
       "    </tr>\n",
       "    <tr>\n",
       "      <th>4</th>\n",
       "      <td>CH</td>\n",
       "      <td>29</td>\n",
       "      <td>6</td>\n",
       "      <td>5</td>\n",
       "      <td>6</td>\n",
       "      <td>7</td>\n",
       "      <td>5</td>\n",
       "      <td>8</td>\n",
       "      <td>7</td>\n",
       "      <td>2</td>\n",
       "      <td>2</td>\n",
       "      <td>55</td>\n",
       "      <td>1</td>\n",
       "    </tr>\n",
       "  </tbody>\n",
       "</table>\n",
       "</div>"
      ],
      "text/plain": [
       "  cntry  idno  year  tvtot  ppltrst  pplfair  pplhlp  happy  sclmeet  sclact  \\\n",
       "0    CH     5     6      3        3       10       5      8        5       4   \n",
       "1    CH    25     6      6        5        7       5      9        3       2   \n",
       "2    CH    26     6      1        8        8       8      7        6       3   \n",
       "3    CH    28     6      4        6        6       7     10        6       2   \n",
       "4    CH    29     6      5        6        7       5      8        7       2   \n",
       "\n",
       "   gndr  agea  partner  \n",
       "0     2    60        1  \n",
       "1     2    59        1  \n",
       "2     1    24        2  \n",
       "3     2    64        1  \n",
       "4     2    55        1  "
      ]
     },
     "execution_count": 58,
     "metadata": {},
     "output_type": "execute_result"
    }
   ],
   "source": [
    "# Q4 Pick three or four of the countries in the sample and compare how often people took part in social activities, relative to others their age, in 2014. Are there differences, and if so, which countries stand out?\n",
    "\n",
    "df.head()"
   ]
  },
  {
   "cell_type": "code",
   "execution_count": 73,
   "id": "acf148f4",
   "metadata": {},
   "outputs": [],
   "source": [
    "dff_CH= df_2014_CH.groupby(['agea']).mean()\n",
    "dff_SE = df_2014_SE.groupby(['agea']).mean()\n",
    "dff_DE= df_2014_DE.groupby(['agea']).mean()\n",
    "dff_ES = df_2014_ES.groupby(['agea']).mean()"
   ]
  },
  {
   "cell_type": "code",
   "execution_count": 74,
   "id": "2ca7852d",
   "metadata": {},
   "outputs": [
    {
     "data": {
      "image/png": "[encoded data removed]",
      "text/plain": [
       "<Figure size 432x288 with 1 Axes>"
      ]
     },
     "metadata": {
      "needs_background": "light"
     },
     "output_type": "display_data"
    }
   ],
   "source": [
    "# checking for normality of the data\n",
    "plt.hist(dff_CH['sclact'],alpha=0.5,label= 'CH')\n",
    "plt.hist(dff_SE['sclact'],alpha=0.5,label='SE')\n",
    "plt.hist(dff_DE['sclact'],alpha=0.5,label='DE')\n",
    "plt.hist(dff_ES['sclact'],alpha=0.5,label='ES')\n",
    "plt.legend(loc=\"upper right\")\n",
    "plt.title('Social_activity')\n",
    "plt.show()"
   ]
  },
  {
   "cell_type": "code",
   "execution_count": 75,
   "id": "dd445706",
   "metadata": {},
   "outputs": [
    {
     "name": "stdout",
     "output_type": "stream",
     "text": [
      "DescribeResult(nobs=73, minmax=(1.8333333333333333, 4.0), mean=2.7842955407859793, variance=0.1418994202763054, skewness=0.5253426988820739, kurtosis=2.0143802718244475)\n",
      "DescribeResult(nobs=76, minmax=(1.6666666666666667, 4.0), mean=2.8441517637781084, variance=0.1306862102673926, skewness=-0.02773870338146867, kurtosis=2.8907395590089227)\n",
      "DescribeResult(nobs=12, minmax=(1.0, 3.0), mean=2.6666666666666665, variance=0.42424242424242425, skewness=-1.6799278063066667, kurtosis=1.5306122448979567)\n",
      "DescribeResult(nobs=74, minmax=(1.0, 3.6923076923076925), mean=2.5556561851764483, variance=0.161145114995972, skewness=-1.1081718534741718, kurtosis=2.958422006926339)\n"
     ]
    }
   ],
   "source": [
    "print(stats.describe(dff_CH['sclact']))\n",
    "print(stats.describe(dff_SE['sclact']))\n",
    "print(stats.describe(dff_DE['sclact']))\n",
    "print(stats.describe(dff_ES['sclact']))"
   ]
  },
  {
   "cell_type": "code",
   "execution_count": 76,
   "id": "0c86ad6e",
   "metadata": {},
   "outputs": [
    {
     "data": {
      "text/plain": [
       "F_onewayResult(statistic=7.390837967558636, pvalue=9.488242989555048e-05)"
      ]
     },
     "execution_count": 76,
     "metadata": {},
     "output_type": "execute_result"
    }
   ],
   "source": [
    "# The visualization and the skewness kurtosis measure show that the data is normally distributed.\n",
    "stats.f_oneway(dff_CH['sclact'],dff_SE['sclact'],dff_DE['sclact'],dff_ES['sclact'])"
   ]
  },
  {
   "cell_type": "code",
   "execution_count": 78,
   "id": "1fa79ce8",
   "metadata": {},
   "outputs": [],
   "source": [
    "# p-value<0.05 hence social activity is likely to differ among the 4 countries relative to their same age group for the year 2014.\n",
    "# Countries ES and SE stand out."
   ]
  },
  {
   "cell_type": "code",
   "execution_count": 80,
   "id": "2b6e7165",
   "metadata": {},
   "outputs": [],
   "source": [
    "# Q2 Ruff figural fluency test\n",
    "\n",
    "af= pd.read_csv(\"C:/Users/chowd/OneDrive/Desktop/DS_-_rfft.csv\")"
   ]
  },
  {
   "cell_type": "code",
   "execution_count": 82,
   "id": "93e839d0",
   "metadata": {},
   "outputs": [
    {
     "data": {
      "text/html": [
       "<div>\n",
       "<style scoped>\n",
       "    .dataframe tbody tr th:only-of-type {\n",
       "        vertical-align: middle;\n",
       "    }\n",
       "\n",
       "    .dataframe tbody tr th {\n",
       "        vertical-align: top;\n",
       "    }\n",
       "\n",
       "    .dataframe thead th {\n",
       "        text-align: right;\n",
       "    }\n",
       "</style>\n",
       "<table border=\"1\" class=\"dataframe\">\n",
       "  <thead>\n",
       "    <tr style=\"text-align: right;\">\n",
       "      <th></th>\n",
       "      <th>Casenr</th>\n",
       "      <th>Age</th>\n",
       "      <th>Gender</th>\n",
       "      <th>Education</th>\n",
       "      <th>Measurement</th>\n",
       "      <th>Unique</th>\n",
       "      <th>Perseverative</th>\n",
       "      <th>Interval</th>\n",
       "    </tr>\n",
       "  </thead>\n",
       "  <tbody>\n",
       "    <tr>\n",
       "      <th>0</th>\n",
       "      <td>1</td>\n",
       "      <td>74</td>\n",
       "      <td>Male</td>\n",
       "      <td>Lower secondary school (ISCED 2)</td>\n",
       "      <td>Measurement 1 (2003-2006)</td>\n",
       "      <td>32.0</td>\n",
       "      <td>1.0</td>\n",
       "      <td>Not applicable</td>\n",
       "    </tr>\n",
       "    <tr>\n",
       "      <th>1</th>\n",
       "      <td>1</td>\n",
       "      <td>74</td>\n",
       "      <td>Male</td>\n",
       "      <td>Lower secondary school (ISCED 2)</td>\n",
       "      <td>Measurement 2 (2006-2008)</td>\n",
       "      <td>35.0</td>\n",
       "      <td>0.0</td>\n",
       "      <td>2.842122556</td>\n",
       "    </tr>\n",
       "    <tr>\n",
       "      <th>2</th>\n",
       "      <td>1</td>\n",
       "      <td>74</td>\n",
       "      <td>Male</td>\n",
       "      <td>Lower secondary school (ISCED 2)</td>\n",
       "      <td>Measurement 3 (2008-2012)</td>\n",
       "      <td>50.5</td>\n",
       "      <td>14.5</td>\n",
       "      <td>2.201232033</td>\n",
       "    </tr>\n",
       "    <tr>\n",
       "      <th>3</th>\n",
       "      <td>2</td>\n",
       "      <td>48</td>\n",
       "      <td>Male</td>\n",
       "      <td>Higher secondary school (ISCED 3-4)</td>\n",
       "      <td>Measurement 1 (2003-2006)</td>\n",
       "      <td>26.0</td>\n",
       "      <td>3.0</td>\n",
       "      <td>Not applicable</td>\n",
       "    </tr>\n",
       "    <tr>\n",
       "      <th>4</th>\n",
       "      <td>2</td>\n",
       "      <td>48</td>\n",
       "      <td>Male</td>\n",
       "      <td>Higher secondary school (ISCED 3-4)</td>\n",
       "      <td>Measurement 2 (2006-2008)</td>\n",
       "      <td>47.0</td>\n",
       "      <td>3.0</td>\n",
       "      <td>2.762718362</td>\n",
       "    </tr>\n",
       "    <tr>\n",
       "      <th>5</th>\n",
       "      <td>2</td>\n",
       "      <td>48</td>\n",
       "      <td>Male</td>\n",
       "      <td>Higher secondary school (ISCED 3-4)</td>\n",
       "      <td>Measurement 3 (2008-2012)</td>\n",
       "      <td>71.0</td>\n",
       "      <td>0.5</td>\n",
       "      <td>2.376454483</td>\n",
       "    </tr>\n",
       "    <tr>\n",
       "      <th>6</th>\n",
       "      <td>3</td>\n",
       "      <td>54</td>\n",
       "      <td>Male</td>\n",
       "      <td>Higher secondary school (ISCED 3-4)</td>\n",
       "      <td>Measurement 1 (2003-2006)</td>\n",
       "      <td>91.0</td>\n",
       "      <td>11.0</td>\n",
       "      <td>Not applicable</td>\n",
       "    </tr>\n",
       "    <tr>\n",
       "      <th>7</th>\n",
       "      <td>3</td>\n",
       "      <td>54</td>\n",
       "      <td>Male</td>\n",
       "      <td>Higher secondary school (ISCED 3-4)</td>\n",
       "      <td>Measurement 2 (2006-2008)</td>\n",
       "      <td>83.5</td>\n",
       "      <td>21.0</td>\n",
       "      <td>2.628552653</td>\n",
       "    </tr>\n",
       "    <tr>\n",
       "      <th>8</th>\n",
       "      <td>3</td>\n",
       "      <td>54</td>\n",
       "      <td>Male</td>\n",
       "      <td>Higher secondary school (ISCED 3-4)</td>\n",
       "      <td>Measurement 3 (2008-2012)</td>\n",
       "      <td>77.0</td>\n",
       "      <td>17.0</td>\n",
       "      <td>3.392197125</td>\n",
       "    </tr>\n",
       "    <tr>\n",
       "      <th>9</th>\n",
       "      <td>4</td>\n",
       "      <td>70</td>\n",
       "      <td>Male</td>\n",
       "      <td>Higher secondary school (ISCED 3-4)</td>\n",
       "      <td>Measurement 1 (2003-2006)</td>\n",
       "      <td>59.0</td>\n",
       "      <td>49.0</td>\n",
       "      <td>Not applicable</td>\n",
       "    </tr>\n",
       "  </tbody>\n",
       "</table>\n",
       "</div>"
      ],
      "text/plain": [
       "   Casenr  Age Gender                            Education  \\\n",
       "0       1   74   Male     Lower secondary school (ISCED 2)   \n",
       "1       1   74   Male     Lower secondary school (ISCED 2)   \n",
       "2       1   74   Male     Lower secondary school (ISCED 2)   \n",
       "3       2   48   Male  Higher secondary school (ISCED 3-4)   \n",
       "4       2   48   Male  Higher secondary school (ISCED 3-4)   \n",
       "5       2   48   Male  Higher secondary school (ISCED 3-4)   \n",
       "6       3   54   Male  Higher secondary school (ISCED 3-4)   \n",
       "7       3   54   Male  Higher secondary school (ISCED 3-4)   \n",
       "8       3   54   Male  Higher secondary school (ISCED 3-4)   \n",
       "9       4   70   Male  Higher secondary school (ISCED 3-4)   \n",
       "\n",
       "                 Measurement  Unique  Perseverative        Interval  \n",
       "0  Measurement 1 (2003-2006)    32.0            1.0  Not applicable  \n",
       "1  Measurement 2 (2006-2008)    35.0            0.0     2.842122556  \n",
       "2  Measurement 3 (2008-2012)    50.5           14.5     2.201232033  \n",
       "3  Measurement 1 (2003-2006)    26.0            3.0  Not applicable  \n",
       "4  Measurement 2 (2006-2008)    47.0            3.0     2.762718362  \n",
       "5  Measurement 3 (2008-2012)    71.0            0.5     2.376454483  \n",
       "6  Measurement 1 (2003-2006)    91.0           11.0  Not applicable  \n",
       "7  Measurement 2 (2006-2008)    83.5           21.0     2.628552653  \n",
       "8  Measurement 3 (2008-2012)    77.0           17.0     3.392197125  \n",
       "9  Measurement 1 (2003-2006)    59.0           49.0  Not applicable  "
      ]
     },
     "execution_count": 82,
     "metadata": {},
     "output_type": "execute_result"
    }
   ],
   "source": [
    "af.head(10)"
   ]
  },
  {
   "cell_type": "code",
   "execution_count": 83,
   "id": "aae52476",
   "metadata": {},
   "outputs": [
    {
     "name": "stdout",
     "output_type": "stream",
     "text": [
      "<class 'pandas.core.frame.DataFrame'>\n",
      "RangeIndex: 7545 entries, 0 to 7544\n",
      "Data columns (total 8 columns):\n",
      " #   Column         Non-Null Count  Dtype  \n",
      "---  ------         --------------  -----  \n",
      " 0   Casenr         7545 non-null   int64  \n",
      " 1   Age            7545 non-null   int64  \n",
      " 2   Gender         7545 non-null   object \n",
      " 3   Education      7545 non-null   object \n",
      " 4   Measurement    7545 non-null   object \n",
      " 5   Unique         7545 non-null   float64\n",
      " 6   Perseverative  7545 non-null   float64\n",
      " 7   Interval       7545 non-null   object \n",
      "dtypes: float64(2), int64(2), object(4)\n",
      "memory usage: 471.7+ KB\n"
     ]
    }
   ],
   "source": [
    "af.info()"
   ]
  },
  {
   "cell_type": "code",
   "execution_count": 95,
   "id": "dcc1e11b",
   "metadata": {},
   "outputs": [
    {
     "data": {
      "text/html": [
       "<div>\n",
       "<style scoped>\n",
       "    .dataframe tbody tr th:only-of-type {\n",
       "        vertical-align: middle;\n",
       "    }\n",
       "\n",
       "    .dataframe tbody tr th {\n",
       "        vertical-align: top;\n",
       "    }\n",
       "\n",
       "    .dataframe thead th {\n",
       "        text-align: right;\n",
       "    }\n",
       "</style>\n",
       "<table border=\"1\" class=\"dataframe\">\n",
       "  <thead>\n",
       "    <tr style=\"text-align: right;\">\n",
       "      <th></th>\n",
       "      <th>Casenr</th>\n",
       "      <th>Age</th>\n",
       "      <th>Gender</th>\n",
       "      <th>Education</th>\n",
       "      <th>Measurement</th>\n",
       "      <th>Unique</th>\n",
       "      <th>Perseverative</th>\n",
       "      <th>Interval</th>\n",
       "    </tr>\n",
       "  </thead>\n",
       "  <tbody>\n",
       "    <tr>\n",
       "      <th>2</th>\n",
       "      <td>1</td>\n",
       "      <td>74</td>\n",
       "      <td>Male</td>\n",
       "      <td>Lower secondary school (ISCED 2)</td>\n",
       "      <td>Measurement 3 (2008-2012)</td>\n",
       "      <td>50.5</td>\n",
       "      <td>14.5</td>\n",
       "      <td>2.201232033</td>\n",
       "    </tr>\n",
       "    <tr>\n",
       "      <th>5</th>\n",
       "      <td>2</td>\n",
       "      <td>48</td>\n",
       "      <td>Male</td>\n",
       "      <td>Higher secondary school (ISCED 3-4)</td>\n",
       "      <td>Measurement 3 (2008-2012)</td>\n",
       "      <td>71.0</td>\n",
       "      <td>0.5</td>\n",
       "      <td>2.376454483</td>\n",
       "    </tr>\n",
       "    <tr>\n",
       "      <th>8</th>\n",
       "      <td>3</td>\n",
       "      <td>54</td>\n",
       "      <td>Male</td>\n",
       "      <td>Higher secondary school (ISCED 3-4)</td>\n",
       "      <td>Measurement 3 (2008-2012)</td>\n",
       "      <td>77.0</td>\n",
       "      <td>17.0</td>\n",
       "      <td>3.392197125</td>\n",
       "    </tr>\n",
       "    <tr>\n",
       "      <th>11</th>\n",
       "      <td>4</td>\n",
       "      <td>70</td>\n",
       "      <td>Male</td>\n",
       "      <td>Higher secondary school (ISCED 3-4)</td>\n",
       "      <td>Measurement 3 (2008-2012)</td>\n",
       "      <td>64.0</td>\n",
       "      <td>11.0</td>\n",
       "      <td>2.650239562</td>\n",
       "    </tr>\n",
       "    <tr>\n",
       "      <th>14</th>\n",
       "      <td>5</td>\n",
       "      <td>52</td>\n",
       "      <td>Male</td>\n",
       "      <td>University (ISCED 5-6)</td>\n",
       "      <td>Measurement 3 (2008-2012)</td>\n",
       "      <td>21.0</td>\n",
       "      <td>0.0</td>\n",
       "      <td>2.247775496</td>\n",
       "    </tr>\n",
       "    <tr>\n",
       "      <th>...</th>\n",
       "      <td>...</td>\n",
       "      <td>...</td>\n",
       "      <td>...</td>\n",
       "      <td>...</td>\n",
       "      <td>...</td>\n",
       "      <td>...</td>\n",
       "      <td>...</td>\n",
       "      <td>...</td>\n",
       "    </tr>\n",
       "    <tr>\n",
       "      <th>7532</th>\n",
       "      <td>2511</td>\n",
       "      <td>52</td>\n",
       "      <td>Male</td>\n",
       "      <td>4</td>\n",
       "      <td>Measurement 3 (2008-2012)</td>\n",
       "      <td>90.5</td>\n",
       "      <td>19.5</td>\n",
       "      <td>2.967830253</td>\n",
       "    </tr>\n",
       "    <tr>\n",
       "      <th>7535</th>\n",
       "      <td>2512</td>\n",
       "      <td>46</td>\n",
       "      <td>Female</td>\n",
       "      <td>4</td>\n",
       "      <td>Measurement 3 (2008-2012)</td>\n",
       "      <td>92.0</td>\n",
       "      <td>6.0</td>\n",
       "      <td>2.390143737</td>\n",
       "    </tr>\n",
       "    <tr>\n",
       "      <th>7538</th>\n",
       "      <td>2513</td>\n",
       "      <td>53</td>\n",
       "      <td>Female</td>\n",
       "      <td>4</td>\n",
       "      <td>Measurement 3 (2008-2012)</td>\n",
       "      <td>54.0</td>\n",
       "      <td>12.0</td>\n",
       "      <td>3.772758385</td>\n",
       "    </tr>\n",
       "    <tr>\n",
       "      <th>7541</th>\n",
       "      <td>2514</td>\n",
       "      <td>47</td>\n",
       "      <td>Male</td>\n",
       "      <td>4</td>\n",
       "      <td>Measurement 3 (2008-2012)</td>\n",
       "      <td>117.0</td>\n",
       "      <td>17.0</td>\n",
       "      <td>2.696783025</td>\n",
       "    </tr>\n",
       "    <tr>\n",
       "      <th>7544</th>\n",
       "      <td>2515</td>\n",
       "      <td>78</td>\n",
       "      <td>Female</td>\n",
       "      <td>4</td>\n",
       "      <td>Measurement 3 (2008-2012)</td>\n",
       "      <td>95.0</td>\n",
       "      <td>22.5</td>\n",
       "      <td>3.75633128</td>\n",
       "    </tr>\n",
       "  </tbody>\n",
       "</table>\n",
       "<p>2515 rows × 8 columns</p>\n",
       "</div>"
      ],
      "text/plain": [
       "      Casenr  Age  Gender                            Education  \\\n",
       "2          1   74    Male     Lower secondary school (ISCED 2)   \n",
       "5          2   48    Male  Higher secondary school (ISCED 3-4)   \n",
       "8          3   54    Male  Higher secondary school (ISCED 3-4)   \n",
       "11         4   70    Male  Higher secondary school (ISCED 3-4)   \n",
       "14         5   52    Male               University (ISCED 5-6)   \n",
       "...      ...  ...     ...                                  ...   \n",
       "7532    2511   52    Male                                    4   \n",
       "7535    2512   46  Female                                    4   \n",
       "7538    2513   53  Female                                    4   \n",
       "7541    2514   47    Male                                    4   \n",
       "7544    2515   78  Female                                    4   \n",
       "\n",
       "                    Measurement  Unique  Perseverative     Interval  \n",
       "2     Measurement 3 (2008-2012)    50.5           14.5  2.201232033  \n",
       "5     Measurement 3 (2008-2012)    71.0            0.5  2.376454483  \n",
       "8     Measurement 3 (2008-2012)    77.0           17.0  3.392197125  \n",
       "11    Measurement 3 (2008-2012)    64.0           11.0  2.650239562  \n",
       "14    Measurement 3 (2008-2012)    21.0            0.0  2.247775496  \n",
       "...                         ...     ...            ...          ...  \n",
       "7532  Measurement 3 (2008-2012)    90.5           19.5  2.967830253  \n",
       "7535  Measurement 3 (2008-2012)    92.0            6.0  2.390143737  \n",
       "7538  Measurement 3 (2008-2012)    54.0           12.0  3.772758385  \n",
       "7541  Measurement 3 (2008-2012)   117.0           17.0  2.696783025  \n",
       "7544  Measurement 3 (2008-2012)    95.0           22.5   3.75633128  \n",
       "\n",
       "[2515 rows x 8 columns]"
      ]
     },
     "execution_count": 95,
     "metadata": {},
     "output_type": "execute_result"
    }
   ],
   "source": [
    "measure_2= af[af['Measurement']=='Measurement 2 (2006-2008)']\n",
    "measure_2\n",
    "measure_3= af[af['Measurement']== 'Measurement 3 (2008-2012)']\n",
    "measure_3"
   ]
  },
  {
   "cell_type": "code",
   "execution_count": 102,
   "id": "5bf3f653",
   "metadata": {},
   "outputs": [
    {
     "data": {
      "text/html": [
       "<div>\n",
       "<style scoped>\n",
       "    .dataframe tbody tr th:only-of-type {\n",
       "        vertical-align: middle;\n",
       "    }\n",
       "\n",
       "    .dataframe tbody tr th {\n",
       "        vertical-align: top;\n",
       "    }\n",
       "\n",
       "    .dataframe thead th {\n",
       "        text-align: right;\n",
       "    }\n",
       "</style>\n",
       "<table border=\"1\" class=\"dataframe\">\n",
       "  <thead>\n",
       "    <tr style=\"text-align: right;\">\n",
       "      <th></th>\n",
       "      <th>Age</th>\n",
       "      <th>Unique</th>\n",
       "      <th>Perseverative</th>\n",
       "    </tr>\n",
       "    <tr>\n",
       "      <th>Casenr</th>\n",
       "      <th></th>\n",
       "      <th></th>\n",
       "      <th></th>\n",
       "    </tr>\n",
       "  </thead>\n",
       "  <tbody>\n",
       "    <tr>\n",
       "      <th>1</th>\n",
       "      <td>74.0</td>\n",
       "      <td>35.0</td>\n",
       "      <td>0.0</td>\n",
       "    </tr>\n",
       "    <tr>\n",
       "      <th>2</th>\n",
       "      <td>48.0</td>\n",
       "      <td>47.0</td>\n",
       "      <td>3.0</td>\n",
       "    </tr>\n",
       "    <tr>\n",
       "      <th>3</th>\n",
       "      <td>54.0</td>\n",
       "      <td>83.5</td>\n",
       "      <td>21.0</td>\n",
       "    </tr>\n",
       "    <tr>\n",
       "      <th>4</th>\n",
       "      <td>70.0</td>\n",
       "      <td>54.0</td>\n",
       "      <td>39.0</td>\n",
       "    </tr>\n",
       "    <tr>\n",
       "      <th>5</th>\n",
       "      <td>52.0</td>\n",
       "      <td>68.0</td>\n",
       "      <td>16.0</td>\n",
       "    </tr>\n",
       "    <tr>\n",
       "      <th>...</th>\n",
       "      <td>...</td>\n",
       "      <td>...</td>\n",
       "      <td>...</td>\n",
       "    </tr>\n",
       "    <tr>\n",
       "      <th>2511</th>\n",
       "      <td>52.0</td>\n",
       "      <td>95.0</td>\n",
       "      <td>11.0</td>\n",
       "    </tr>\n",
       "    <tr>\n",
       "      <th>2512</th>\n",
       "      <td>46.0</td>\n",
       "      <td>50.0</td>\n",
       "      <td>2.0</td>\n",
       "    </tr>\n",
       "    <tr>\n",
       "      <th>2513</th>\n",
       "      <td>53.0</td>\n",
       "      <td>62.0</td>\n",
       "      <td>1.0</td>\n",
       "    </tr>\n",
       "    <tr>\n",
       "      <th>2514</th>\n",
       "      <td>47.0</td>\n",
       "      <td>83.0</td>\n",
       "      <td>9.0</td>\n",
       "    </tr>\n",
       "    <tr>\n",
       "      <th>2515</th>\n",
       "      <td>78.0</td>\n",
       "      <td>80.0</td>\n",
       "      <td>12.0</td>\n",
       "    </tr>\n",
       "  </tbody>\n",
       "</table>\n",
       "<p>2515 rows × 3 columns</p>\n",
       "</div>"
      ],
      "text/plain": [
       "         Age  Unique  Perseverative\n",
       "Casenr                             \n",
       "1       74.0    35.0            0.0\n",
       "2       48.0    47.0            3.0\n",
       "3       54.0    83.5           21.0\n",
       "4       70.0    54.0           39.0\n",
       "5       52.0    68.0           16.0\n",
       "...      ...     ...            ...\n",
       "2511    52.0    95.0           11.0\n",
       "2512    46.0    50.0            2.0\n",
       "2513    53.0    62.0            1.0\n",
       "2514    47.0    83.0            9.0\n",
       "2515    78.0    80.0           12.0\n",
       "\n",
       "[2515 rows x 3 columns]"
      ]
     },
     "execution_count": 102,
     "metadata": {},
     "output_type": "execute_result"
    }
   ],
   "source": [
    "measure_2_new=measure_2.groupby(['Casenr']).mean()\n",
    "measure_2_new"
   ]
  },
  {
   "cell_type": "code",
   "execution_count": 103,
   "id": "5fa404c4",
   "metadata": {},
   "outputs": [
    {
     "data": {
      "text/html": [
       "<div>\n",
       "<style scoped>\n",
       "    .dataframe tbody tr th:only-of-type {\n",
       "        vertical-align: middle;\n",
       "    }\n",
       "\n",
       "    .dataframe tbody tr th {\n",
       "        vertical-align: top;\n",
       "    }\n",
       "\n",
       "    .dataframe thead th {\n",
       "        text-align: right;\n",
       "    }\n",
       "</style>\n",
       "<table border=\"1\" class=\"dataframe\">\n",
       "  <thead>\n",
       "    <tr style=\"text-align: right;\">\n",
       "      <th></th>\n",
       "      <th>Age</th>\n",
       "      <th>Unique</th>\n",
       "      <th>Perseverative</th>\n",
       "    </tr>\n",
       "    <tr>\n",
       "      <th>Casenr</th>\n",
       "      <th></th>\n",
       "      <th></th>\n",
       "      <th></th>\n",
       "    </tr>\n",
       "  </thead>\n",
       "  <tbody>\n",
       "    <tr>\n",
       "      <th>1</th>\n",
       "      <td>74.0</td>\n",
       "      <td>50.5</td>\n",
       "      <td>14.5</td>\n",
       "    </tr>\n",
       "    <tr>\n",
       "      <th>2</th>\n",
       "      <td>48.0</td>\n",
       "      <td>71.0</td>\n",
       "      <td>0.5</td>\n",
       "    </tr>\n",
       "    <tr>\n",
       "      <th>3</th>\n",
       "      <td>54.0</td>\n",
       "      <td>77.0</td>\n",
       "      <td>17.0</td>\n",
       "    </tr>\n",
       "    <tr>\n",
       "      <th>4</th>\n",
       "      <td>70.0</td>\n",
       "      <td>64.0</td>\n",
       "      <td>11.0</td>\n",
       "    </tr>\n",
       "    <tr>\n",
       "      <th>5</th>\n",
       "      <td>52.0</td>\n",
       "      <td>21.0</td>\n",
       "      <td>0.0</td>\n",
       "    </tr>\n",
       "    <tr>\n",
       "      <th>...</th>\n",
       "      <td>...</td>\n",
       "      <td>...</td>\n",
       "      <td>...</td>\n",
       "    </tr>\n",
       "    <tr>\n",
       "      <th>2511</th>\n",
       "      <td>52.0</td>\n",
       "      <td>90.5</td>\n",
       "      <td>19.5</td>\n",
       "    </tr>\n",
       "    <tr>\n",
       "      <th>2512</th>\n",
       "      <td>46.0</td>\n",
       "      <td>92.0</td>\n",
       "      <td>6.0</td>\n",
       "    </tr>\n",
       "    <tr>\n",
       "      <th>2513</th>\n",
       "      <td>53.0</td>\n",
       "      <td>54.0</td>\n",
       "      <td>12.0</td>\n",
       "    </tr>\n",
       "    <tr>\n",
       "      <th>2514</th>\n",
       "      <td>47.0</td>\n",
       "      <td>117.0</td>\n",
       "      <td>17.0</td>\n",
       "    </tr>\n",
       "    <tr>\n",
       "      <th>2515</th>\n",
       "      <td>78.0</td>\n",
       "      <td>95.0</td>\n",
       "      <td>22.5</td>\n",
       "    </tr>\n",
       "  </tbody>\n",
       "</table>\n",
       "<p>2515 rows × 3 columns</p>\n",
       "</div>"
      ],
      "text/plain": [
       "         Age  Unique  Perseverative\n",
       "Casenr                             \n",
       "1       74.0    50.5           14.5\n",
       "2       48.0    71.0            0.5\n",
       "3       54.0    77.0           17.0\n",
       "4       70.0    64.0           11.0\n",
       "5       52.0    21.0            0.0\n",
       "...      ...     ...            ...\n",
       "2511    52.0    90.5           19.5\n",
       "2512    46.0    92.0            6.0\n",
       "2513    53.0    54.0           12.0\n",
       "2514    47.0   117.0           17.0\n",
       "2515    78.0    95.0           22.5\n",
       "\n",
       "[2515 rows x 3 columns]"
      ]
     },
     "execution_count": 103,
     "metadata": {},
     "output_type": "execute_result"
    }
   ],
   "source": [
    "measure_3_new= measure_3.groupby(['Casenr']).mean()\n",
    "measure_3_new"
   ]
  },
  {
   "cell_type": "code",
   "execution_count": 104,
   "id": "42da25ec",
   "metadata": {},
   "outputs": [
    {
     "data": {
      "image/png": "[encoded data removed]",
      "text/plain": [
       "<Figure size 432x288 with 1 Axes>"
      ]
     },
     "metadata": {
      "needs_background": "light"
     },
     "output_type": "display_data"
    }
   ],
   "source": [
    "# checking for normality of the data\n",
    "plt.hist(measure_2_new['Unique'],alpha=0.5,label= 'Measure2')\n",
    "plt.hist(measure_3_new['Unique'],alpha=0.5,label='Measure3')\n",
    "plt.legend(loc=\"upper right\")\n",
    "plt.title('Unique')\n",
    "plt.show()"
   ]
  },
  {
   "cell_type": "code",
   "execution_count": 106,
   "id": "82ce653c",
   "metadata": {},
   "outputs": [
    {
     "name": "stdout",
     "output_type": "stream",
     "text": [
      "DescribeResult(nobs=2515, minmax=(13.0, 155.0), mean=78.69244532803181, variance=707.0341513370058, skewness=0.1471876477093264, kurtosis=-0.5467621966747225)\n",
      "DescribeResult(nobs=2515, minmax=(13.5, 161.5), mean=82.7079522862823, variance=808.8049884464099, skewness=0.020360395669875728, kurtosis=-0.5479245402887649)\n"
     ]
    }
   ],
   "source": [
    "print(stats.describe(measure_2_new['Unique']))\n",
    "print(stats.describe(measure_3_new['Unique']))"
   ]
  },
  {
   "cell_type": "code",
   "execution_count": 107,
   "id": "00669525",
   "metadata": {},
   "outputs": [
    {
     "data": {
      "text/plain": [
       "Ttest_indResult(statistic=-5.172289431795646, pvalue=2.4021740879907784e-07)"
      ]
     },
     "execution_count": 107,
     "metadata": {},
     "output_type": "execute_result"
    }
   ],
   "source": [
    "# Hence the variable Unique is normally distributed\n",
    "# Applying t-test\n",
    "stats.ttest_ind(measure_2_new['Unique'],measure_3_new['Unique'])"
   ]
  },
  {
   "cell_type": "code",
   "execution_count": 108,
   "id": "86759127",
   "metadata": {},
   "outputs": [],
   "source": [
    "# The test statistic is greater than 1.96 or the p-value<0.05 hence we reject the null.\n",
    "# Hence we conclude that there is a significant difference in the number of unique designs drawn by the same participants from measurement 2 to measurement 3"
   ]
  },
  {
   "cell_type": "code",
   "execution_count": 109,
   "id": "e1af8360",
   "metadata": {},
   "outputs": [],
   "source": [
    "# s there a significant difference in the number of perseverative errors drawn by the same participants from measurement 2 to measurement 3?"
   ]
  },
  {
   "cell_type": "code",
   "execution_count": 110,
   "id": "28f45a22",
   "metadata": {},
   "outputs": [
    {
     "data": {
      "image/png": "[encoded data removed]",
      "text/plain": [
       "<Figure size 432x288 with 1 Axes>"
      ]
     },
     "metadata": {
      "needs_background": "light"
     },
     "output_type": "display_data"
    }
   ],
   "source": [
    "# checking for normality of the data\n",
    "plt.hist(measure_2_new['Perseverative'],alpha=0.5,label= 'Measure2')\n",
    "plt.hist(measure_3_new['Perseverative'],alpha=0.5,label='Measure3')\n",
    "plt.legend(loc=\"upper right\")\n",
    "plt.title('perseverative errors ')\n",
    "plt.show()"
   ]
  },
  {
   "cell_type": "code",
   "execution_count": 111,
   "id": "2da9c399",
   "metadata": {},
   "outputs": [
    {
     "name": "stdout",
     "output_type": "stream",
     "text": [
      "DescribeResult(nobs=2515, minmax=(0.0, 133.5), mean=11.769980119284295, variance=203.46626233055127, skewness=3.2001427277175862, kurtosis=13.913985994081123)\n",
      "DescribeResult(nobs=2515, minmax=(0.0, 124.0), mean=12.100198807157058, variance=187.75009940357853, skewness=3.03381078165085, kurtosis=13.347862924837408)\n"
     ]
    }
   ],
   "source": [
    "print(stats.describe(measure_2_new['Perseverative']))\n",
    "print(stats.describe(measure_3_new['Perseverative']))"
   ]
  },
  {
   "cell_type": "code",
   "execution_count": 112,
   "id": "941cb4ff",
   "metadata": {},
   "outputs": [],
   "source": [
    "# From the visualization and skewnwss and kurtosis it is evident the data is not normally distributed."
   ]
  },
  {
   "cell_type": "code",
   "execution_count": 113,
   "id": "ed003c47",
   "metadata": {},
   "outputs": [
    {
     "data": {
      "text/plain": [
       "KruskalResult(statistic=4.888785605096552, pvalue=0.027031693666595576)"
      ]
     },
     "execution_count": 113,
     "metadata": {},
     "output_type": "execute_result"
    }
   ],
   "source": [
    "stats.kruskal(measure_2_new['Perseverative'],measure_3_new['Perseverative'])"
   ]
  },
  {
   "cell_type": "code",
   "execution_count": 114,
   "id": "8d9ab9d3",
   "metadata": {},
   "outputs": [],
   "source": [
    "# p value<0.05 hence we can reject the null.\n",
    "# We can conclude there a significant difference in the number of perseverative errors drawn by the same participants from measurement 2 to measurement 3?"
   ]
  },
  {
   "cell_type": "code",
   "execution_count": null,
   "id": "22fc9f58",
   "metadata": {},
   "outputs": [],
   "source": []
  }
 ],
 "metadata": {
  "kernelspec": {
   "display_name": "Python 3 (ipykernel)",
   "language": "python",
   "name": "python3"
  },
  "language_info": {
   "codemirror_mode": {
    "name": "ipython",
    "version": 3
   },
   "file_extension": ".py",
   "mimetype": "text/x-python",
   "name": "python",
   "nbconvert_exporter": "python",
   "pygments_lexer": "ipython3",
   "version": "3.9.12"
  }
 },
 "nbformat": 4,
 "nbformat_minor": 5
}
