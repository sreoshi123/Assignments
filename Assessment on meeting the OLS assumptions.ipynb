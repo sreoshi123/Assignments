{
 "cells": [
  {
   "cell_type": "code",
   "execution_count": 1,
   "id": "d192e623",
   "metadata": {},
   "outputs": [],
   "source": [
    "import matplotlib.pyplot as plt\n",
    "import numpy as np\n",
    "import pandas as pd\n",
    "from sklearn import linear_model\n",
    "import statsmodels.formula.api as smf\n",
    "from sqlalchemy import create_engine, text\n",
    "\n",
    "# Display preferences\n",
    "%matplotlib inline\n",
    "pd.options.display.float_format = '{:.3f}'.format\n",
    "\n",
    "import warnings\n",
    "warnings.filterwarnings(action=\"ignore\")\n",
    "\n",
    "postgres_user = 'dsbc_student'\n",
    "postgres_pw = '7*.8G9QH21'\n",
    "postgres_host = '142.93.121.174'\n",
    "postgres_port = '5432'\n",
    "postgres_db = 'weatherinszeged'\n",
    "\n",
    "engine = create_engine('postgresql://{}:{}@{}:{}/{}'.format(\n",
    "    postgres_user, postgres_pw, postgres_host, postgres_port, postgres_db))\n",
    "\n",
    "weather_df = pd.read_sql_query(text('SELECT * FROM weatherinszeged'), con=engine.connect())\n",
    "\n",
    "# No need for an open connection, because you're only doing a single query\n",
    "engine.dispose()"
   ]
  },
  {
   "cell_type": "code",
   "execution_count": 2,
   "id": "100ac0d2",
   "metadata": {},
   "outputs": [
    {
     "data": {
      "text/html": [
       "<div>\n",
       "<style scoped>\n",
       "    .dataframe tbody tr th:only-of-type {\n",
       "        vertical-align: middle;\n",
       "    }\n",
       "\n",
       "    .dataframe tbody tr th {\n",
       "        vertical-align: top;\n",
       "    }\n",
       "\n",
       "    .dataframe thead th {\n",
       "        text-align: right;\n",
       "    }\n",
       "</style>\n",
       "<table border=\"1\" class=\"dataframe\">\n",
       "  <thead>\n",
       "    <tr style=\"text-align: right;\">\n",
       "      <th></th>\n",
       "      <th>date</th>\n",
       "      <th>summary</th>\n",
       "      <th>preciptype</th>\n",
       "      <th>temperature</th>\n",
       "      <th>apparenttemperature</th>\n",
       "      <th>humidity</th>\n",
       "      <th>windspeed</th>\n",
       "      <th>windbearing</th>\n",
       "      <th>visibility</th>\n",
       "      <th>loudcover</th>\n",
       "      <th>pressure</th>\n",
       "      <th>dailysummary</th>\n",
       "    </tr>\n",
       "  </thead>\n",
       "  <tbody>\n",
       "    <tr>\n",
       "      <th>0</th>\n",
       "      <td>2006-03-31 22:00:00+00:00</td>\n",
       "      <td>Partly Cloudy</td>\n",
       "      <td>rain</td>\n",
       "      <td>9.472</td>\n",
       "      <td>7.389</td>\n",
       "      <td>0.890</td>\n",
       "      <td>14.120</td>\n",
       "      <td>251.000</td>\n",
       "      <td>15.826</td>\n",
       "      <td>0.000</td>\n",
       "      <td>1015.130</td>\n",
       "      <td>Partly cloudy throughout the day.</td>\n",
       "    </tr>\n",
       "    <tr>\n",
       "      <th>1</th>\n",
       "      <td>2006-03-31 23:00:00+00:00</td>\n",
       "      <td>Partly Cloudy</td>\n",
       "      <td>rain</td>\n",
       "      <td>9.356</td>\n",
       "      <td>7.228</td>\n",
       "      <td>0.860</td>\n",
       "      <td>14.265</td>\n",
       "      <td>259.000</td>\n",
       "      <td>15.826</td>\n",
       "      <td>0.000</td>\n",
       "      <td>1015.630</td>\n",
       "      <td>Partly cloudy throughout the day.</td>\n",
       "    </tr>\n",
       "    <tr>\n",
       "      <th>2</th>\n",
       "      <td>2006-04-01 00:00:00+00:00</td>\n",
       "      <td>Mostly Cloudy</td>\n",
       "      <td>rain</td>\n",
       "      <td>9.378</td>\n",
       "      <td>9.378</td>\n",
       "      <td>0.890</td>\n",
       "      <td>3.928</td>\n",
       "      <td>204.000</td>\n",
       "      <td>14.957</td>\n",
       "      <td>0.000</td>\n",
       "      <td>1015.940</td>\n",
       "      <td>Partly cloudy throughout the day.</td>\n",
       "    </tr>\n",
       "    <tr>\n",
       "      <th>3</th>\n",
       "      <td>2006-04-01 01:00:00+00:00</td>\n",
       "      <td>Partly Cloudy</td>\n",
       "      <td>rain</td>\n",
       "      <td>8.289</td>\n",
       "      <td>5.944</td>\n",
       "      <td>0.830</td>\n",
       "      <td>14.104</td>\n",
       "      <td>269.000</td>\n",
       "      <td>15.826</td>\n",
       "      <td>0.000</td>\n",
       "      <td>1016.410</td>\n",
       "      <td>Partly cloudy throughout the day.</td>\n",
       "    </tr>\n",
       "    <tr>\n",
       "      <th>4</th>\n",
       "      <td>2006-04-01 02:00:00+00:00</td>\n",
       "      <td>Mostly Cloudy</td>\n",
       "      <td>rain</td>\n",
       "      <td>8.756</td>\n",
       "      <td>6.978</td>\n",
       "      <td>0.830</td>\n",
       "      <td>11.045</td>\n",
       "      <td>259.000</td>\n",
       "      <td>15.826</td>\n",
       "      <td>0.000</td>\n",
       "      <td>1016.510</td>\n",
       "      <td>Partly cloudy throughout the day.</td>\n",
       "    </tr>\n",
       "  </tbody>\n",
       "</table>\n",
       "</div>"
      ],
      "text/plain": [
       "                       date        summary preciptype  temperature  \\\n",
       "0 2006-03-31 22:00:00+00:00  Partly Cloudy       rain        9.472   \n",
       "1 2006-03-31 23:00:00+00:00  Partly Cloudy       rain        9.356   \n",
       "2 2006-04-01 00:00:00+00:00  Mostly Cloudy       rain        9.378   \n",
       "3 2006-04-01 01:00:00+00:00  Partly Cloudy       rain        8.289   \n",
       "4 2006-04-01 02:00:00+00:00  Mostly Cloudy       rain        8.756   \n",
       "\n",
       "   apparenttemperature  humidity  windspeed  windbearing  visibility  \\\n",
       "0                7.389     0.890     14.120      251.000      15.826   \n",
       "1                7.228     0.860     14.265      259.000      15.826   \n",
       "2                9.378     0.890      3.928      204.000      14.957   \n",
       "3                5.944     0.830     14.104      269.000      15.826   \n",
       "4                6.978     0.830     11.045      259.000      15.826   \n",
       "\n",
       "   loudcover  pressure                       dailysummary  \n",
       "0      0.000  1015.130  Partly cloudy throughout the day.  \n",
       "1      0.000  1015.630  Partly cloudy throughout the day.  \n",
       "2      0.000  1015.940  Partly cloudy throughout the day.  \n",
       "3      0.000  1016.410  Partly cloudy throughout the day.  \n",
       "4      0.000  1016.510  Partly cloudy throughout the day.  "
      ]
     },
     "execution_count": 2,
     "metadata": {},
     "output_type": "execute_result"
    }
   ],
   "source": [
    "weather_df.head()"
   ]
  },
  {
   "cell_type": "code",
   "execution_count": 3,
   "id": "31d6af19",
   "metadata": {},
   "outputs": [
    {
     "name": "stdout",
     "output_type": "stream",
     "text": [
      "<class 'pandas.core.frame.DataFrame'>\n",
      "RangeIndex: 96453 entries, 0 to 96452\n",
      "Data columns (total 12 columns):\n",
      " #   Column               Non-Null Count  Dtype              \n",
      "---  ------               --------------  -----              \n",
      " 0   date                 96453 non-null  datetime64[ns, UTC]\n",
      " 1   summary              96453 non-null  object             \n",
      " 2   preciptype           96453 non-null  object             \n",
      " 3   temperature          96453 non-null  float64            \n",
      " 4   apparenttemperature  96453 non-null  float64            \n",
      " 5   humidity             96453 non-null  float64            \n",
      " 6   windspeed            96453 non-null  float64            \n",
      " 7   windbearing          96453 non-null  float64            \n",
      " 8   visibility           96453 non-null  float64            \n",
      " 9   loudcover            96453 non-null  float64            \n",
      " 10  pressure             96453 non-null  float64            \n",
      " 11  dailysummary         96453 non-null  object             \n",
      "dtypes: datetime64[ns, UTC](1), float64(8), object(3)\n",
      "memory usage: 8.8+ MB\n"
     ]
    }
   ],
   "source": [
    "weather_df.info()"
   ]
  },
  {
   "cell_type": "code",
   "execution_count": 4,
   "id": "f7ea9086",
   "metadata": {},
   "outputs": [
    {
     "data": {
      "text/html": [
       "<div>\n",
       "<style scoped>\n",
       "    .dataframe tbody tr th:only-of-type {\n",
       "        vertical-align: middle;\n",
       "    }\n",
       "\n",
       "    .dataframe tbody tr th {\n",
       "        vertical-align: top;\n",
       "    }\n",
       "\n",
       "    .dataframe thead th {\n",
       "        text-align: right;\n",
       "    }\n",
       "</style>\n",
       "<table border=\"1\" class=\"dataframe\">\n",
       "  <thead>\n",
       "    <tr style=\"text-align: right;\">\n",
       "      <th></th>\n",
       "      <th>temperature</th>\n",
       "      <th>apparenttemperature</th>\n",
       "      <th>humidity</th>\n",
       "      <th>windspeed</th>\n",
       "      <th>windbearing</th>\n",
       "      <th>visibility</th>\n",
       "      <th>loudcover</th>\n",
       "      <th>pressure</th>\n",
       "    </tr>\n",
       "  </thead>\n",
       "  <tbody>\n",
       "    <tr>\n",
       "      <th>count</th>\n",
       "      <td>96453.000</td>\n",
       "      <td>96453.000</td>\n",
       "      <td>96453.000</td>\n",
       "      <td>96453.000</td>\n",
       "      <td>96453.000</td>\n",
       "      <td>96453.000</td>\n",
       "      <td>96453.000</td>\n",
       "      <td>96453.000</td>\n",
       "    </tr>\n",
       "    <tr>\n",
       "      <th>mean</th>\n",
       "      <td>11.933</td>\n",
       "      <td>10.855</td>\n",
       "      <td>0.735</td>\n",
       "      <td>10.811</td>\n",
       "      <td>187.509</td>\n",
       "      <td>10.347</td>\n",
       "      <td>0.000</td>\n",
       "      <td>1003.236</td>\n",
       "    </tr>\n",
       "    <tr>\n",
       "      <th>std</th>\n",
       "      <td>9.552</td>\n",
       "      <td>10.697</td>\n",
       "      <td>0.195</td>\n",
       "      <td>6.914</td>\n",
       "      <td>107.383</td>\n",
       "      <td>4.192</td>\n",
       "      <td>0.000</td>\n",
       "      <td>116.970</td>\n",
       "    </tr>\n",
       "    <tr>\n",
       "      <th>min</th>\n",
       "      <td>-21.822</td>\n",
       "      <td>-27.717</td>\n",
       "      <td>0.000</td>\n",
       "      <td>0.000</td>\n",
       "      <td>0.000</td>\n",
       "      <td>0.000</td>\n",
       "      <td>0.000</td>\n",
       "      <td>0.000</td>\n",
       "    </tr>\n",
       "    <tr>\n",
       "      <th>25%</th>\n",
       "      <td>4.689</td>\n",
       "      <td>2.311</td>\n",
       "      <td>0.600</td>\n",
       "      <td>5.828</td>\n",
       "      <td>116.000</td>\n",
       "      <td>8.340</td>\n",
       "      <td>0.000</td>\n",
       "      <td>1011.900</td>\n",
       "    </tr>\n",
       "    <tr>\n",
       "      <th>50%</th>\n",
       "      <td>12.000</td>\n",
       "      <td>12.000</td>\n",
       "      <td>0.780</td>\n",
       "      <td>9.966</td>\n",
       "      <td>180.000</td>\n",
       "      <td>10.046</td>\n",
       "      <td>0.000</td>\n",
       "      <td>1016.450</td>\n",
       "    </tr>\n",
       "    <tr>\n",
       "      <th>75%</th>\n",
       "      <td>18.839</td>\n",
       "      <td>18.839</td>\n",
       "      <td>0.890</td>\n",
       "      <td>14.136</td>\n",
       "      <td>290.000</td>\n",
       "      <td>14.812</td>\n",
       "      <td>0.000</td>\n",
       "      <td>1021.090</td>\n",
       "    </tr>\n",
       "    <tr>\n",
       "      <th>max</th>\n",
       "      <td>39.906</td>\n",
       "      <td>39.344</td>\n",
       "      <td>1.000</td>\n",
       "      <td>63.853</td>\n",
       "      <td>359.000</td>\n",
       "      <td>16.100</td>\n",
       "      <td>0.000</td>\n",
       "      <td>1046.380</td>\n",
       "    </tr>\n",
       "  </tbody>\n",
       "</table>\n",
       "</div>"
      ],
      "text/plain": [
       "       temperature  apparenttemperature  humidity  windspeed  windbearing  \\\n",
       "count    96453.000            96453.000 96453.000  96453.000    96453.000   \n",
       "mean        11.933               10.855     0.735     10.811      187.509   \n",
       "std          9.552               10.697     0.195      6.914      107.383   \n",
       "min        -21.822              -27.717     0.000      0.000        0.000   \n",
       "25%          4.689                2.311     0.600      5.828      116.000   \n",
       "50%         12.000               12.000     0.780      9.966      180.000   \n",
       "75%         18.839               18.839     0.890     14.136      290.000   \n",
       "max         39.906               39.344     1.000     63.853      359.000   \n",
       "\n",
       "       visibility  loudcover  pressure  \n",
       "count   96453.000  96453.000 96453.000  \n",
       "mean       10.347      0.000  1003.236  \n",
       "std         4.192      0.000   116.970  \n",
       "min         0.000      0.000     0.000  \n",
       "25%         8.340      0.000  1011.900  \n",
       "50%        10.046      0.000  1016.450  \n",
       "75%        14.812      0.000  1021.090  \n",
       "max        16.100      0.000  1046.380  "
      ]
     },
     "execution_count": 4,
     "metadata": {},
     "output_type": "execute_result"
    }
   ],
   "source": [
    "weather_df.describe()"
   ]
  },
  {
   "cell_type": "code",
   "execution_count": 15,
   "id": "0dd234b1",
   "metadata": {},
   "outputs": [
    {
     "name": "stdout",
     "output_type": "stream",
     "text": [
      "\n",
      "Coefficients: \n",
      " [-3.24962454e+01 -2.01413742e-01  4.04836936e-03 -6.91759209e-04]\n",
      "\n",
      "Intercept: \n",
      " 37.92643818528539\n"
     ]
    }
   ],
   "source": [
    "# target variable\n",
    "Y = weather_df['temperature']\n",
    "\n",
    "# Explanatory variables\n",
    "X = weather_df[['humidity','windspeed','windbearing','pressure']]\n",
    "\n",
    "lrm = linear_model.LinearRegression()\n",
    "lrm.fit(X,Y)\n",
    "predictions = lrm.predict(X)\n",
    "\n",
    "# Print the estimated coefficients\n",
    "print('\\nCoefficients: \\n', lrm.coef_)\n",
    "print('\\nIntercept: \\n', lrm.intercept_)\n"
   ]
  },
  {
   "cell_type": "code",
   "execution_count": 49,
   "id": "23e71a62",
   "metadata": {},
   "outputs": [],
   "source": [
    "# Now checking if the model meets the Gauss Markov conditions"
   ]
  },
  {
   "cell_type": "code",
   "execution_count": 20,
   "id": "3f9b2764",
   "metadata": {},
   "outputs": [
    {
     "name": "stdout",
     "output_type": "stream",
     "text": [
      "Mean of the errors in the weather model is: -1.3931582166782926e-15\n"
     ]
    }
   ],
   "source": [
    "predictions = lrm.predict(X)\n",
    "errors = Y - predictions\n",
    "print('Mean of the errors in the weather model is: {}'.format(np.mean(errors)))"
   ]
  },
  {
   "cell_type": "code",
   "execution_count": 21,
   "id": "d44361dd",
   "metadata": {},
   "outputs": [
    {
     "data": {
      "image/png": "[encoded data removed]",
      "text/plain": [
       "<Figure size 432x288 with 1 Axes>"
      ]
     },
     "metadata": {
      "needs_background": "light"
     },
     "output_type": "display_data"
    }
   ],
   "source": [
    "# Checking for heteroscedasticity of error terms\n",
    "\n",
    "plt.scatter(predictions,errors)\n",
    "plt.xlabel('Predicted')\n",
    "plt.ylabel('Residual')\n",
    "plt.axhline(y=0)\n",
    "plt.title('Residual vs. Predicted')\n",
    "plt.show()"
   ]
  },
  {
   "cell_type": "code",
   "execution_count": 22,
   "id": "5965d0dc",
   "metadata": {},
   "outputs": [
    {
     "name": "stdout",
     "output_type": "stream",
     "text": [
      "Bartlett test statistic value is 2464.84 and p value is 0\n",
      "Levene test statistic value is 2321.24 and p value is 0\n"
     ]
    }
   ],
   "source": [
    "# Tests checking for homoscedasticity of errors\n",
    "\n",
    "from scipy.stats import bartlett\n",
    "from scipy.stats import levene\n",
    "\n",
    "bart_stats = bartlett(predictions,errors)\n",
    "lev_stats = levene(predictions,errors)\n",
    "\n",
    "print(\"Bartlett test statistic value is {0:3g} and p value is {1:.3g}\".format(bart_stats[0], bart_stats[1]))\n",
    "print(\"Levene test statistic value is {0:3g} and p value is {1:.3g}\".format(lev_stats[0], lev_stats[1]))"
   ]
  },
  {
   "cell_type": "code",
   "execution_count": 45,
   "id": "a1d16adf",
   "metadata": {},
   "outputs": [],
   "source": [
    "# Implies that the errors are heteroscedastic\n",
    "# Crucially, OLS will still remain a consistent estimator and produce unbiased parameter estimates in the presence of heteroscedasticity. The primary downside is that hypothesis tests on the parameters may produce biased parameter estimation. They may inaccurately estimate the standard deviation of the sampling distribution of a parameter, which may lead to an erroneous conclusion that a feature is not statistically significant."
   ]
  },
  {
   "cell_type": "code",
   "execution_count": 24,
   "id": "97357125",
   "metadata": {},
   "outputs": [
    {
     "data": {
      "image/png": "[encoded data removed]",
      "text/plain": [
       "<Figure size 432x288 with 1 Axes>"
      ]
     },
     "metadata": {
      "needs_background": "light"
     },
     "output_type": "display_data"
    }
   ],
   "source": [
    "# Checking for uncorrelated error terms\n",
    "plt.plot(errors)\n",
    "plt.show()"
   ]
  },
  {
   "cell_type": "code",
   "execution_count": 28,
   "id": "cd62c7fa",
   "metadata": {},
   "outputs": [],
   "source": [
    "# From the graph we are not sure whether the error terms are autocorrelated or not."
   ]
  },
  {
   "cell_type": "code",
   "execution_count": 26,
   "id": "14fc46d8",
   "metadata": {},
   "outputs": [],
   "source": [
    "# Another way to look at correlations between errors is to use the autocorrelation function. "
   ]
  },
  {
   "cell_type": "code",
   "execution_count": 27,
   "id": "717c3290",
   "metadata": {},
   "outputs": [
    {
     "data": {
      "image/png": "[encoded data removed]",
      "text/plain": [
       "<Figure size 432x288 with 1 Axes>"
      ]
     },
     "metadata": {
      "needs_background": "light"
     },
     "output_type": "display_data"
    }
   ],
   "source": [
    "from statsmodels.tsa.stattools import acf\n",
    "\n",
    "acf_data = acf(errors)\n",
    "\n",
    "plt.plot(acf_data[1:])\n",
    "plt.show()"
   ]
  },
  {
   "cell_type": "code",
   "execution_count": 46,
   "id": "dfca3120",
   "metadata": {},
   "outputs": [],
   "source": [
    "# Hence autocorrelation exists\n",
    "# This type of serial correlation exists if we have omitted a relevant variable from the model.\n",
    "# So, including the variable into the model can solve this issue."
   ]
  },
  {
   "cell_type": "code",
   "execution_count": 30,
   "id": "4a78c748",
   "metadata": {
    "scrolled": true
   },
   "outputs": [
    {
     "data": {
      "image/png": "[encoded data removed]",
      "text/plain": [
       "<Figure size 864x360 with 2 Axes>"
      ]
     },
     "metadata": {
      "needs_background": "light"
     },
     "output_type": "display_data"
    }
   ],
   "source": [
    "# Checking for normality of the errors\n",
    "\n",
    "rand_nums = np.random.normal(np.mean(errors),np.std(errors),len(errors))\n",
    "\n",
    "plt.figure(figsize = (12,5))\n",
    "\n",
    "plt.subplot(1,2,1)\n",
    "plt.scatter(np.sort(rand_nums),np.sort(errors))\n",
    "plt.xlabel('the normally distributed random variable')\n",
    "plt.ylabel('errors of the model')\n",
    "plt.title('QQ plot')\n",
    "\n",
    "plt.subplot(1,2,2)\n",
    "plt.hist(errors)\n",
    "plt.xlabel('errors')\n",
    "plt.title('Histogram of the errors')\n",
    "\n",
    "plt.tight_layout()\n",
    "plt.show()"
   ]
  },
  {
   "cell_type": "code",
   "execution_count": 31,
   "id": "80d28cfd",
   "metadata": {},
   "outputs": [
    {
     "name": "stdout",
     "output_type": "stream",
     "text": [
      "Jarque-Bera test statistic is 3793.2967352523665 and p value is 0.0\n",
      "Normality test statistics is 3375.432307699585 and p-value is 0.0\n"
     ]
    }
   ],
   "source": [
    "# using tests to determine if errors are normally distributed\n",
    "from scipy.stats import jarque_bera\n",
    "from scipy.stats import normaltest\n",
    "jb_stats = jarque_bera(errors)\n",
    "norm_stats = normaltest(errors)\n",
    "\n",
    "print('Jarque-Bera test statistic is {0} and p value is {1}'.format(jb_stats[0], jb_stats[1]))\n",
    "print('Normality test statistics is {0} and p-value is {1}'.format(norm_stats[0],norm_stats[1]))"
   ]
  },
  {
   "cell_type": "code",
   "execution_count": 48,
   "id": "8647c9ce",
   "metadata": {},
   "outputs": [],
   "source": [
    "# Hence we conclude that the errors are not normally distributed\n",
    "# Specifically, normality of errors is not required to apply OLS to a linear regression model. But to measure the statistical significance of your estimated coefficients, error terms must be normally distributed. In the next lesson, you'll learn about t-tests and F-tests, which rest upon the normality of the errors.\n",
    "\n",
    "# More often than not, non-normally distributed errors stem from omitted variables. Including the omitted relevant features to the model may help fix the issue. Sometimes, transforming the dependent variable also helps."
   ]
  },
  {
   "cell_type": "code",
   "execution_count": null,
   "id": "74a3b734",
   "metadata": {},
   "outputs": [],
   "source": []
  }
 ],
 "metadata": {
  "kernelspec": {
   "display_name": "Python 3 (ipykernel)",
   "language": "python",
   "name": "python3"
  },
  "language_info": {
   "codemirror_mode": {
    "name": "ipython",
    "version": 3
   },
   "file_extension": ".py",
   "mimetype": "text/x-python",
   "name": "python",
   "nbconvert_exporter": "python",
   "pygments_lexer": "ipython3",
   "version": "3.9.12"
  }
 },
 "nbformat": 4,
 "nbformat_minor": 5
}
