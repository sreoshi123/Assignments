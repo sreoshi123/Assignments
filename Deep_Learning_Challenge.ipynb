{
  "nbformat": 4,
  "nbformat_minor": 0,
  "metadata": {
    "colab": {
      "provenance": [],
      "authorship_tag": "ABX9TyMuFjhvdwQjOOdhJVtQPyNQ",
      "include_colab_link": true
    },
    "kernelspec": {
      "name": "python3",
      "display_name": "Python 3"
    },
    "language_info": {
      "name": "python"
    }
  },
  "cells": [
    {
      "cell_type": "markdown",
      "metadata": {
        "id": "view-in-github",
        "colab_type": "text"
      },
      "source": [
        "<a href=\"https://colab.research.google.com/github/sreoshi123/Assignments/blob/main/Deep_Learning_Challenge.ipynb\" target=\"_parent\"><img src=\"https://colab.research.google.com/assets/colab-badge.svg\" alt=\"Open In Colab\"/></a>"
      ]
    },
    {
      "cell_type": "markdown",
      "source": [
        "In this module, you learned the basics of deep learning and the fundamental architecture of artificial neural networks. During the examples in the lessons, you used a MNIST dataset. In this challenge, you'll work with another dataset: fashion MNIST. Using this dataset, do the following:"
      ],
      "metadata": {
        "id": "0ln0qOxpXzHz"
      }
    },
    {
      "cell_type": "markdown",
      "source": [
        "\n",
        "\n",
        "    Preprocess your data so that you can feed it into ANN models.\n",
        "\n",
        "    Split your data into training and test sets.\n",
        "\n",
        "    Try different ANN models and train them on your training set. You can play with the following:\n",
        "        Number of layers\n",
        "        Activation functions of the layers\n",
        "        Number of neurons in the layers\n",
        "        Different batch sizes during training\n",
        "\n",
        "    Compare your models' training scores and interpret your results.\n",
        "\n",
        "    Evaluate how your models perform on your test set. Compare the results of your models.\n"
      ],
      "metadata": {
        "id": "UV_sMePlb1MY"
      }
    },
    {
      "cell_type": "code",
      "source": [
        "import warnings\n",
        "warnings.filterwarnings('ignore')\n",
        "from tensorflow.keras.datasets import fashion_mnist\n",
        "from tensorflow.keras.utils import to_categorical\n",
        "from tensorflow.keras.models import Sequential\n",
        "from tensorflow.keras.layers import Dense"
      ],
      "metadata": {
        "id": "tB6ePSaab4tQ"
      },
      "execution_count": 5,
      "outputs": []
    },
    {
      "cell_type": "code",
      "source": [
        " (X_train, y_train), (X_test, y_test) = fashion_mnist.load_data()\n",
        "\n",
        " input_dim = 784 # 28*28\n",
        " output_dim = nb_classes = 10\n",
        " nb_epoch = 20\n",
        "\n",
        " X_train = X_train.reshape(60000, input_dim)\n",
        " X_test = X_test.reshape(10000, input_dim)\n",
        "X_train = X_train.astype('float32')\n",
        "X_test = X_test.astype('float32')\n",
        "X_train /= 255\n",
        "X_test /= 255\n"
      ],
      "metadata": {
        "colab": {
          "base_uri": "https://localhost:8080/"
        },
        "id": "bToydofsc8R4",
        "outputId": "fb3d93f8-192e-45e3-b4b5-8cf4f99ca764"
      },
      "execution_count": 6,
      "outputs": [
        {
          "output_type": "stream",
          "name": "stdout",
          "text": [
            "Downloading data from https://storage.googleapis.com/tensorflow/tf-keras-datasets/train-labels-idx1-ubyte.gz\n",
            "29515/29515 [==============================] - 0s 0us/step\n",
            "Downloading data from https://storage.googleapis.com/tensorflow/tf-keras-datasets/train-images-idx3-ubyte.gz\n",
            "26421880/26421880 [==============================] - 2s 0us/step\n",
            "Downloading data from https://storage.googleapis.com/tensorflow/tf-keras-datasets/t10k-labels-idx1-ubyte.gz\n",
            "5148/5148 [==============================] - 0s 0us/step\n",
            "Downloading data from https://storage.googleapis.com/tensorflow/tf-keras-datasets/t10k-images-idx3-ubyte.gz\n",
            "4422102/4422102 [==============================] - 1s 0us/step\n"
          ]
        }
      ]
    },
    {
      "cell_type": "code",
      "source": [
        "Y_train = to_categorical(y_train, nb_classes)\n",
        "Y_test = to_categorical(y_test, nb_classes)"
      ],
      "metadata": {
        "id": "MInCAGsZfx91"
      },
      "execution_count": 7,
      "outputs": []
    },
    {
      "cell_type": "code",
      "source": [
        "from tensorflow.keras import optimizers\n",
        "sgd_001 = optimizers.SGD(learning_rate=0.01)\n",
        "sgd_00001 = optimizers.SGD(learning_rate=0.00001)"
      ],
      "metadata": {
        "id": "vrBhHtdSkqW_"
      },
      "execution_count": 18,
      "outputs": []
    },
    {
      "cell_type": "code",
      "source": [
        "# Implementing a 3 layer ANN model with 128,64, and 10 neurons in the layers using 8 as the mini batch size and 0.01 as the learning rate.\n",
        "model = Sequential()\n",
        "# our first dense layer\n",
        "model.add(Dense(128, input_shape=(784,), activation = 'relu'))\n",
        "# our second dense layer\n",
        "model.add(Dense(64, activation = 'relu'))\n",
        "# last layer is the output layer\n",
        "model.add(Dense(10, activation=\"softmax\"))\n",
        "\n",
        "model.compile(optimizer=sgd_001, loss='categorical_crossentropy',\n",
        "              metrics=['accuracy'])\n",
        "\n",
        "# setting verbose=1 prints out some results after each epoch\n",
        "model.fit(X_train, Y_train, batch_size=8, epochs=20, verbose=1)"
      ],
      "metadata": {
        "colab": {
          "base_uri": "https://localhost:8080/"
        },
        "id": "bk0RBOCwgR2H",
        "outputId": "7face655-4576-4415-c12e-63c819e2a7bb"
      },
      "execution_count": 20,
      "outputs": [
        {
          "output_type": "stream",
          "name": "stdout",
          "text": [
            "Epoch 1/20\n",
            "7500/7500 [==============================] - 17s 2ms/step - loss: 0.5633 - accuracy: 0.8020\n",
            "Epoch 2/20\n",
            "7500/7500 [==============================] - 17s 2ms/step - loss: 0.4087 - accuracy: 0.8531\n",
            "Epoch 3/20\n",
            "7500/7500 [==============================] - 18s 2ms/step - loss: 0.3686 - accuracy: 0.8671\n",
            "Epoch 4/20\n",
            "7500/7500 [==============================] - 17s 2ms/step - loss: 0.3443 - accuracy: 0.8750\n",
            "Epoch 5/20\n",
            "7500/7500 [==============================] - 17s 2ms/step - loss: 0.3255 - accuracy: 0.8820\n",
            "Epoch 6/20\n",
            "7500/7500 [==============================] - 17s 2ms/step - loss: 0.3113 - accuracy: 0.8860\n",
            "Epoch 7/20\n",
            "7500/7500 [==============================] - 17s 2ms/step - loss: 0.2990 - accuracy: 0.8886\n",
            "Epoch 8/20\n",
            "7500/7500 [==============================] - 17s 2ms/step - loss: 0.2885 - accuracy: 0.8930\n",
            "Epoch 9/20\n",
            "7500/7500 [==============================] - 17s 2ms/step - loss: 0.2790 - accuracy: 0.8963\n",
            "Epoch 10/20\n",
            "7500/7500 [==============================] - 18s 2ms/step - loss: 0.2704 - accuracy: 0.8997\n",
            "Epoch 11/20\n",
            "7500/7500 [==============================] - 17s 2ms/step - loss: 0.2621 - accuracy: 0.9022\n",
            "Epoch 12/20\n",
            "7500/7500 [==============================] - 17s 2ms/step - loss: 0.2550 - accuracy: 0.9055\n",
            "Epoch 13/20\n",
            "7500/7500 [==============================] - 17s 2ms/step - loss: 0.2486 - accuracy: 0.9075\n",
            "Epoch 14/20\n",
            "7500/7500 [==============================] - 18s 2ms/step - loss: 0.2422 - accuracy: 0.9089\n",
            "Epoch 15/20\n",
            "7500/7500 [==============================] - 17s 2ms/step - loss: 0.2367 - accuracy: 0.9114\n",
            "Epoch 16/20\n",
            "7500/7500 [==============================] - 16s 2ms/step - loss: 0.2302 - accuracy: 0.9143\n",
            "Epoch 17/20\n",
            "7500/7500 [==============================] - 17s 2ms/step - loss: 0.2246 - accuracy: 0.9156\n",
            "Epoch 18/20\n",
            "7500/7500 [==============================] - 18s 2ms/step - loss: 0.2195 - accuracy: 0.9175\n",
            "Epoch 19/20\n",
            "7500/7500 [==============================] - 17s 2ms/step - loss: 0.2150 - accuracy: 0.9183\n",
            "Epoch 20/20\n",
            "7500/7500 [==============================] - 17s 2ms/step - loss: 0.2101 - accuracy: 0.9208\n"
          ]
        },
        {
          "output_type": "execute_result",
          "data": {
            "text/plain": [
              "<keras.src.callbacks.History at 0x7ca746ddd990>"
            ]
          },
          "metadata": {},
          "execution_count": 20
        }
      ]
    },
    {
      "cell_type": "code",
      "source": [
        "score = model.evaluate(X_test, Y_test, verbose=0)\n",
        "print('Test score:', score[0])\n",
        "print('Test accuracy:', score[1])"
      ],
      "metadata": {
        "colab": {
          "base_uri": "https://localhost:8080/"
        },
        "id": "zGSBIiJ1gY3_",
        "outputId": "996799f7-524c-49af-d625-0466c2c82b6e"
      },
      "execution_count": 21,
      "outputs": [
        {
          "output_type": "stream",
          "name": "stdout",
          "text": [
            "Test score: 0.331545352935791\n",
            "Test accuracy: 0.8831999897956848\n"
          ]
        }
      ]
    },
    {
      "cell_type": "markdown",
      "source": [
        "Implementing a 3 layer ANN model with 128,64 and 10 neurons in the layers using 8 as the mini batch size and learning rate = 0.00001"
      ],
      "metadata": {
        "id": "2pHQlzrjlOL_"
      }
    },
    {
      "cell_type": "code",
      "source": [
        "model = Sequential()\n",
        "# our first dense layer\n",
        "model.add(Dense(128, input_shape=(784,), activation = 'relu'))\n",
        "# our second dense layer\n",
        "model.add(Dense(64, activation = 'relu'))\n",
        "# last layer is the output layer\n",
        "model.add(Dense(10, activation=\"softmax\"))\n",
        "\n",
        "model.compile(optimizer=sgd_00001, loss='categorical_crossentropy',\n",
        "              metrics=['accuracy'])\n",
        "\n",
        "# setting verbose=1 prints out some results after each epoch\n",
        "model.fit(X_train, Y_train, batch_size=8, epochs=20, verbose=1)"
      ],
      "metadata": {
        "colab": {
          "base_uri": "https://localhost:8080/"
        },
        "id": "jPb807JBlXp8",
        "outputId": "a541169b-3910-45be-d591-19ad95bf1411"
      },
      "execution_count": 22,
      "outputs": [
        {
          "output_type": "stream",
          "name": "stdout",
          "text": [
            "Epoch 1/20\n",
            "7500/7500 [==============================] - 18s 2ms/step - loss: 2.3033 - accuracy: 0.1940\n",
            "Epoch 2/20\n",
            "7500/7500 [==============================] - 17s 2ms/step - loss: 2.1881 - accuracy: 0.2964\n",
            "Epoch 3/20\n",
            "7500/7500 [==============================] - 17s 2ms/step - loss: 2.0984 - accuracy: 0.3535\n",
            "Epoch 4/20\n",
            "7500/7500 [==============================] - 17s 2ms/step - loss: 2.0172 - accuracy: 0.3857\n",
            "Epoch 5/20\n",
            "7500/7500 [==============================] - 18s 2ms/step - loss: 1.9399 - accuracy: 0.4149\n",
            "Epoch 6/20\n",
            "7500/7500 [==============================] - 17s 2ms/step - loss: 1.8645 - accuracy: 0.4459\n",
            "Epoch 7/20\n",
            "7500/7500 [==============================] - 17s 2ms/step - loss: 1.7909 - accuracy: 0.4752\n",
            "Epoch 8/20\n",
            "7500/7500 [==============================] - 16s 2ms/step - loss: 1.7197 - accuracy: 0.5045\n",
            "Epoch 9/20\n",
            "7500/7500 [==============================] - 18s 2ms/step - loss: 1.6512 - accuracy: 0.5358\n",
            "Epoch 10/20\n",
            "7500/7500 [==============================] - 16s 2ms/step - loss: 1.5865 - accuracy: 0.5608\n",
            "Epoch 11/20\n",
            "7500/7500 [==============================] - 17s 2ms/step - loss: 1.5264 - accuracy: 0.5811\n",
            "Epoch 12/20\n",
            "7500/7500 [==============================] - 17s 2ms/step - loss: 1.4711 - accuracy: 0.5955\n",
            "Epoch 13/20\n",
            "7500/7500 [==============================] - 18s 2ms/step - loss: 1.4202 - accuracy: 0.6083\n",
            "Epoch 14/20\n",
            "7500/7500 [==============================] - 17s 2ms/step - loss: 1.3734 - accuracy: 0.6187\n",
            "Epoch 15/20\n",
            "7500/7500 [==============================] - 17s 2ms/step - loss: 1.3303 - accuracy: 0.6274\n",
            "Epoch 16/20\n",
            "7500/7500 [==============================] - 17s 2ms/step - loss: 1.2905 - accuracy: 0.6338\n",
            "Epoch 17/20\n",
            "7500/7500 [==============================] - 18s 2ms/step - loss: 1.2540 - accuracy: 0.6389\n",
            "Epoch 18/20\n",
            "7500/7500 [==============================] - 17s 2ms/step - loss: 1.2203 - accuracy: 0.6438\n",
            "Epoch 19/20\n",
            "7500/7500 [==============================] - 17s 2ms/step - loss: 1.1892 - accuracy: 0.6473\n",
            "Epoch 20/20\n",
            "7500/7500 [==============================] - 17s 2ms/step - loss: 1.1605 - accuracy: 0.6513\n"
          ]
        },
        {
          "output_type": "execute_result",
          "data": {
            "text/plain": [
              "<keras.src.callbacks.History at 0x7ca746dde860>"
            ]
          },
          "metadata": {},
          "execution_count": 22
        }
      ]
    },
    {
      "cell_type": "code",
      "source": [
        "score = model.evaluate(X_test, Y_test, verbose=0)\n",
        "print('Test score:', score[0])\n",
        "print('Test accuracy:', score[1])"
      ],
      "metadata": {
        "colab": {
          "base_uri": "https://localhost:8080/"
        },
        "id": "j5sBA0oQnNcA",
        "outputId": "f9d16b35-a344-4f4c-b96d-37827adb39d1"
      },
      "execution_count": 23,
      "outputs": [
        {
          "output_type": "stream",
          "name": "stdout",
          "text": [
            "Test score: 1.1558347940444946\n",
            "Test accuracy: 0.6442000269889832\n"
          ]
        }
      ]
    },
    {
      "cell_type": "markdown",
      "source": [
        "Implementing a 3 layer ANN model with 128,64 and 10 neurons in the layers using 128 as the mini batch size and learning rate = 0.01"
      ],
      "metadata": {
        "id": "i6PwV-LFgNj1"
      }
    },
    {
      "cell_type": "code",
      "source": [
        "from tensorflow.keras import optimizers\n",
        "sgd_001 = optimizers.SGD(learning_rate=0.01)\n",
        "sgd_00001 = optimizers.SGD(learning_rate=0.00001)"
      ],
      "metadata": {
        "id": "bg_kqPhBgVD-"
      },
      "execution_count": 14,
      "outputs": []
    },
    {
      "cell_type": "code",
      "source": [
        "model = Sequential()\n",
        "# our first dense layer\n",
        "model.add(Dense(128, input_shape=(784,), activation = 'relu'))\n",
        "# our second dense layer\n",
        "model.add(Dense(64, activation = 'relu'))\n",
        "# last layer is the output layer\n",
        "model.add(Dense(10, activation=\"softmax\"))\n",
        "\n",
        "model.compile(optimizer=sgd_001, loss='categorical_crossentropy',\n",
        "              metrics=['accuracy'])\n",
        "\n",
        "# setting verbose=1 prints out some results after each epoch\n",
        "model.fit(X_train, Y_train, batch_size=128, epochs=20, verbose=1)"
      ],
      "metadata": {
        "colab": {
          "base_uri": "https://localhost:8080/"
        },
        "id": "1FMynxX1hBnQ",
        "outputId": "f26ea201-f926-4a6d-e340-73a287905c55"
      },
      "execution_count": 12,
      "outputs": [
        {
          "output_type": "stream",
          "name": "stdout",
          "text": [
            "Epoch 1/20\n",
            "469/469 [==============================] - 2s 4ms/step - loss: 1.1277 - accuracy: 0.6602\n",
            "Epoch 2/20\n",
            "469/469 [==============================] - 2s 4ms/step - loss: 0.6511 - accuracy: 0.7800\n",
            "Epoch 3/20\n",
            "469/469 [==============================] - 3s 6ms/step - loss: 0.5648 - accuracy: 0.8088\n",
            "Epoch 4/20\n",
            "469/469 [==============================] - 3s 5ms/step - loss: 0.5215 - accuracy: 0.8207\n",
            "Epoch 5/20\n",
            "469/469 [==============================] - 2s 4ms/step - loss: 0.4930 - accuracy: 0.8297\n",
            "Epoch 6/20\n",
            "469/469 [==============================] - 2s 4ms/step - loss: 0.4744 - accuracy: 0.8354\n",
            "Epoch 7/20\n",
            "469/469 [==============================] - 2s 4ms/step - loss: 0.4604 - accuracy: 0.8403\n",
            "Epoch 8/20\n",
            "469/469 [==============================] - 2s 4ms/step - loss: 0.4487 - accuracy: 0.8438\n",
            "Epoch 9/20\n",
            "469/469 [==============================] - 2s 4ms/step - loss: 0.4404 - accuracy: 0.8465\n",
            "Epoch 10/20\n",
            "469/469 [==============================] - 3s 7ms/step - loss: 0.4307 - accuracy: 0.8504\n",
            "Epoch 11/20\n",
            "469/469 [==============================] - 2s 4ms/step - loss: 0.4230 - accuracy: 0.8529\n",
            "Epoch 12/20\n",
            "469/469 [==============================] - 2s 4ms/step - loss: 0.4167 - accuracy: 0.8544\n",
            "Epoch 13/20\n",
            "469/469 [==============================] - 2s 4ms/step - loss: 0.4108 - accuracy: 0.8566\n",
            "Epoch 14/20\n",
            "469/469 [==============================] - 2s 4ms/step - loss: 0.4048 - accuracy: 0.8584\n",
            "Epoch 15/20\n",
            "469/469 [==============================] - 2s 4ms/step - loss: 0.4001 - accuracy: 0.8608\n",
            "Epoch 16/20\n",
            "469/469 [==============================] - 2s 5ms/step - loss: 0.3967 - accuracy: 0.8624\n",
            "Epoch 17/20\n",
            "469/469 [==============================] - 3s 6ms/step - loss: 0.3922 - accuracy: 0.8637\n",
            "Epoch 18/20\n",
            "469/469 [==============================] - 2s 4ms/step - loss: 0.3882 - accuracy: 0.8640\n",
            "Epoch 19/20\n",
            "469/469 [==============================] - 2s 4ms/step - loss: 0.3833 - accuracy: 0.8655\n",
            "Epoch 20/20\n",
            "469/469 [==============================] - 2s 4ms/step - loss: 0.3796 - accuracy: 0.8670\n"
          ]
        },
        {
          "output_type": "execute_result",
          "data": {
            "text/plain": [
              "<keras.src.callbacks.History at 0x7ca7b73efc10>"
            ]
          },
          "metadata": {},
          "execution_count": 12
        }
      ]
    },
    {
      "cell_type": "code",
      "source": [
        "score = model.evaluate(X_test, Y_test, verbose=0)\n",
        "print('Test score:', score[0])\n",
        "print('Test accuracy:', score[1])"
      ],
      "metadata": {
        "colab": {
          "base_uri": "https://localhost:8080/"
        },
        "id": "faNIVlHnhxfm",
        "outputId": "58896d1d-c0e8-4da4-9d54-2be1ac11b691"
      },
      "execution_count": 13,
      "outputs": [
        {
          "output_type": "stream",
          "name": "stdout",
          "text": [
            "Test score: 0.4297243058681488\n",
            "Test accuracy: 0.8445000052452087\n"
          ]
        }
      ]
    },
    {
      "cell_type": "markdown",
      "source": [
        "\n",
        "\n",
        "Implementing a 3 layer ANN model with 128,64 and 10 neurons in the layers using 128 as the mini batch size and learning rate = 0.00001\n"
      ],
      "metadata": {
        "id": "ss90gCBOjGt4"
      }
    },
    {
      "cell_type": "code",
      "source": [
        "model = Sequential()\n",
        "# our first dense layer\n",
        "model.add(Dense(128, input_shape=(784,), activation = 'relu'))\n",
        "# our second dense layer\n",
        "model.add(Dense(64, activation = 'relu'))\n",
        "# last layer is the output layer\n",
        "model.add(Dense(10, activation=\"softmax\"))\n",
        "\n",
        "model.compile(optimizer=sgd_00001, loss='categorical_crossentropy',\n",
        "              metrics=['accuracy'])\n",
        "\n",
        "# setting verbose=1 prints out some results after each epoch\n",
        "model.fit(X_train, Y_train, batch_size=128, epochs=20, verbose=1)"
      ],
      "metadata": {
        "colab": {
          "base_uri": "https://localhost:8080/"
        },
        "id": "JMZtaDdYjWTr",
        "outputId": "e0f6107d-c1b0-4886-ac46-4d863b2b2acc"
      },
      "execution_count": 15,
      "outputs": [
        {
          "output_type": "stream",
          "name": "stdout",
          "text": [
            "Epoch 1/20\n",
            "469/469 [==============================] - 2s 4ms/step - loss: 2.4020 - accuracy: 0.0269\n",
            "Epoch 2/20\n",
            "469/469 [==============================] - 2s 4ms/step - loss: 2.3923 - accuracy: 0.0298\n",
            "Epoch 3/20\n",
            "469/469 [==============================] - 2s 4ms/step - loss: 2.3830 - accuracy: 0.0327\n",
            "Epoch 4/20\n",
            "469/469 [==============================] - 2s 4ms/step - loss: 2.3739 - accuracy: 0.0361\n",
            "Epoch 5/20\n",
            "469/469 [==============================] - 2s 5ms/step - loss: 2.3651 - accuracy: 0.0392\n",
            "Epoch 6/20\n",
            "469/469 [==============================] - 3s 6ms/step - loss: 2.3564 - accuracy: 0.0428\n",
            "Epoch 7/20\n",
            "469/469 [==============================] - 2s 4ms/step - loss: 2.3480 - accuracy: 0.0464\n",
            "Epoch 8/20\n",
            "469/469 [==============================] - 2s 4ms/step - loss: 2.3397 - accuracy: 0.0505\n",
            "Epoch 9/20\n",
            "469/469 [==============================] - 2s 4ms/step - loss: 2.3317 - accuracy: 0.0546\n",
            "Epoch 10/20\n",
            "469/469 [==============================] - 2s 4ms/step - loss: 2.3238 - accuracy: 0.0593\n",
            "Epoch 11/20\n",
            "469/469 [==============================] - 2s 4ms/step - loss: 2.3160 - accuracy: 0.0641\n",
            "Epoch 12/20\n",
            "469/469 [==============================] - 3s 7ms/step - loss: 2.3084 - accuracy: 0.0701\n",
            "Epoch 13/20\n",
            "469/469 [==============================] - 2s 5ms/step - loss: 2.3009 - accuracy: 0.0761\n",
            "Epoch 14/20\n",
            "469/469 [==============================] - 2s 4ms/step - loss: 2.2935 - accuracy: 0.0827\n",
            "Epoch 15/20\n",
            "469/469 [==============================] - 2s 4ms/step - loss: 2.2862 - accuracy: 0.0903\n",
            "Epoch 16/20\n",
            "469/469 [==============================] - 2s 4ms/step - loss: 2.2790 - accuracy: 0.0969\n",
            "Epoch 17/20\n",
            "469/469 [==============================] - 2s 4ms/step - loss: 2.2719 - accuracy: 0.1041\n",
            "Epoch 18/20\n",
            "469/469 [==============================] - 2s 5ms/step - loss: 2.2649 - accuracy: 0.1109\n",
            "Epoch 19/20\n",
            "469/469 [==============================] - 3s 6ms/step - loss: 2.2579 - accuracy: 0.1183\n",
            "Epoch 20/20\n",
            "469/469 [==============================] - 2s 4ms/step - loss: 2.2510 - accuracy: 0.1258\n"
          ]
        },
        {
          "output_type": "execute_result",
          "data": {
            "text/plain": [
              "<keras.src.callbacks.History at 0x7ca746e7b0a0>"
            ]
          },
          "metadata": {},
          "execution_count": 15
        }
      ]
    },
    {
      "cell_type": "code",
      "source": [
        "score = model.evaluate(X_test, Y_test, verbose=0)\n",
        "print('Test score:', score[0])\n",
        "print('Test accuracy:', score[1])"
      ],
      "metadata": {
        "colab": {
          "base_uri": "https://localhost:8080/"
        },
        "id": "ArstWiRhj1VF",
        "outputId": "ba006292-4d6a-40f7-8772-9823aba3628f"
      },
      "execution_count": 16,
      "outputs": [
        {
          "output_type": "stream",
          "name": "stdout",
          "text": [
            "Test score: 2.2481319904327393\n",
            "Test accuracy: 0.12630000710487366\n"
          ]
        }
      ]
    },
    {
      "cell_type": "markdown",
      "source": [
        "The best performance both in training and test sets are achieved using 8 as the mini batch size. However, the difference between the scores of the training and test sets are there compared to the scores achieved when using 128 as mini batch size. Little bit of overfitting might be there when using mini batch size 8 but the scores are higher comapred to batch size 128 and hence we should go with 8 as batch size."
      ],
      "metadata": {
        "id": "bd5vERlJo_d6"
      }
    }
  ]
}